{
 "cells": [
  {
   "cell_type": "code",
   "execution_count": 13,
   "id": "927d312a",
   "metadata": {},
   "outputs": [
    {
     "name": "stderr",
     "output_type": "stream",
     "text": [
      "WARNING: Ignoring invalid distribution -ensorflow (c:\\python\\python39\\lib\\site-packages)\n",
      "WARNING: Ignoring invalid distribution -ensorflow (c:\\python\\python39\\lib\\site-packages)\n"
     ]
    }
   ],
   "source": [
    "!pip install --user -q scikit-learn imbalanced-learn tensorflow-cpu==2.13.0\n"
   ]
  },
  {
   "cell_type": "markdown",
   "id": "107bf8cc",
   "metadata": {},
   "source": [
    "### 1 · Imports & paths\n"
   ]
  },
  {
   "cell_type": "code",
   "execution_count": 1,
   "id": "cb5a0076",
   "metadata": {},
   "outputs": [],
   "source": [
    "import pandas as pd\n",
    "import numpy as np\n",
    "from pathlib import Path\n",
    "from datetime import datetime\n",
    "\n",
    "# ML\n",
    "from sklearn.model_selection import train_test_split\n",
    "from sklearn.preprocessing import StandardScaler, OneHotEncoder\n",
    "from sklearn.compose import ColumnTransformer\n",
    "from sklearn.pipeline import Pipeline\n",
    "from sklearn.metrics import (\n",
    "    classification_report, confusion_matrix,\n",
    "    roc_auc_score, average_precision_score\n",
    ")\n",
    "from sklearn.ensemble import RandomForestClassifier\n",
    "from imblearn.over_sampling import SMOTE\n",
    "from imblearn.pipeline import Pipeline as ImbPipeline\n",
    "\n",
    "# Autoencoder\n",
    "import tensorflow as tf\n",
    "from tensorflow import keras\n",
    "from tensorflow.keras import layers\n",
    "\n",
    "DATA_DIR = Path(\"./data\")\n"
   ]
  },
  {
   "cell_type": "markdown",
   "id": "0531821b",
   "metadata": {},
   "source": [
    "### 2 · Load & merge\n"
   ]
  },
  {
   "cell_type": "code",
   "execution_count": 2,
   "id": "af0097a2",
   "metadata": {},
   "outputs": [
    {
     "name": "stdout",
     "output_type": "stream",
     "text": [
      "(1858361, 23)\n"
     ]
    },
    {
     "data": {
      "text/html": [
       "<div>\n",
       "<style scoped>\n",
       "    .dataframe tbody tr th:only-of-type {\n",
       "        vertical-align: middle;\n",
       "    }\n",
       "\n",
       "    .dataframe tbody tr th {\n",
       "        vertical-align: top;\n",
       "    }\n",
       "\n",
       "    .dataframe thead th {\n",
       "        text-align: right;\n",
       "    }\n",
       "</style>\n",
       "<table border=\"1\" class=\"dataframe\">\n",
       "  <thead>\n",
       "    <tr style=\"text-align: right;\">\n",
       "      <th></th>\n",
       "      <th>Transaction_ID</th>\n",
       "      <th>Client_ID</th>\n",
       "      <th>Type_Client</th>\n",
       "      <th>Account_ID</th>\n",
       "      <th>Transaction_Type</th>\n",
       "      <th>Transaction_Date</th>\n",
       "      <th>Transaction_Duration</th>\n",
       "      <th>Location</th>\n",
       "      <th>Device</th>\n",
       "      <th>Ip_Address</th>\n",
       "      <th>...</th>\n",
       "      <th>Is_Fraud</th>\n",
       "      <th>Status_x</th>\n",
       "      <th>Counterparty_Account</th>\n",
       "      <th>External_Bank_Name</th>\n",
       "      <th>External_Bank_Code</th>\n",
       "      <th>Customer_Segment</th>\n",
       "      <th>Status_y</th>\n",
       "      <th>Registration_Date</th>\n",
       "      <th>Account_Type</th>\n",
       "      <th>Balance</th>\n",
       "    </tr>\n",
       "  </thead>\n",
       "  <tbody>\n",
       "    <tr>\n",
       "      <th>0</th>\n",
       "      <td>a97993c6-b811-49c1-a1b9-d2f08c09419c</td>\n",
       "      <td>1</td>\n",
       "      <td>Individual</td>\n",
       "      <td>dff75c5d-c427-4cbe-9c92-3f64cb7e78d9</td>\n",
       "      <td>DEPOSIT</td>\n",
       "      <td>2025-04-29</td>\n",
       "      <td>471</td>\n",
       "      <td>Ávila</td>\n",
       "      <td>ATM</td>\n",
       "      <td>41.172.38.87</td>\n",
       "      <td>...</td>\n",
       "      <td>False</td>\n",
       "      <td>PENDING</td>\n",
       "      <td>NaN</td>\n",
       "      <td>NaN</td>\n",
       "      <td>NaN</td>\n",
       "      <td>Platinum</td>\n",
       "      <td>Inactive</td>\n",
       "      <td>2024-05-06</td>\n",
       "      <td>CHECKING</td>\n",
       "      <td>26550.58</td>\n",
       "    </tr>\n",
       "    <tr>\n",
       "      <th>1</th>\n",
       "      <td>e7b6fa05-da13-405f-b2a7-c54811cf926d</td>\n",
       "      <td>1</td>\n",
       "      <td>Individual</td>\n",
       "      <td>dff75c5d-c427-4cbe-9c92-3f64cb7e78d9</td>\n",
       "      <td>PAYMENT</td>\n",
       "      <td>2024-09-19</td>\n",
       "      <td>530</td>\n",
       "      <td>Segovia</td>\n",
       "      <td>POS</td>\n",
       "      <td>110.152.86.165</td>\n",
       "      <td>...</td>\n",
       "      <td>False</td>\n",
       "      <td>COMPLETED</td>\n",
       "      <td>NaN</td>\n",
       "      <td>NaN</td>\n",
       "      <td>NaN</td>\n",
       "      <td>Platinum</td>\n",
       "      <td>Inactive</td>\n",
       "      <td>2024-05-06</td>\n",
       "      <td>CHECKING</td>\n",
       "      <td>26550.58</td>\n",
       "    </tr>\n",
       "    <tr>\n",
       "      <th>2</th>\n",
       "      <td>e52cdb17-8364-4f81-89c5-43dee5fb1477</td>\n",
       "      <td>1</td>\n",
       "      <td>Individual</td>\n",
       "      <td>dff75c5d-c427-4cbe-9c92-3f64cb7e78d9</td>\n",
       "      <td>TRANSFER</td>\n",
       "      <td>2024-12-26</td>\n",
       "      <td>562</td>\n",
       "      <td>Soria</td>\n",
       "      <td>ATM</td>\n",
       "      <td>152.84.249.125</td>\n",
       "      <td>...</td>\n",
       "      <td>False</td>\n",
       "      <td>FAILED</td>\n",
       "      <td>ES3250346906106904127370</td>\n",
       "      <td>Financiera 24</td>\n",
       "      <td>FIN24ESMXXX</td>\n",
       "      <td>Platinum</td>\n",
       "      <td>Inactive</td>\n",
       "      <td>2024-05-06</td>\n",
       "      <td>CHECKING</td>\n",
       "      <td>26550.58</td>\n",
       "    </tr>\n",
       "    <tr>\n",
       "      <th>3</th>\n",
       "      <td>1fe2e89b-d8e0-4d8d-a27c-92b2dd7f7adc</td>\n",
       "      <td>1</td>\n",
       "      <td>Individual</td>\n",
       "      <td>dff75c5d-c427-4cbe-9c92-3f64cb7e78d9</td>\n",
       "      <td>PAYMENT</td>\n",
       "      <td>2024-10-29</td>\n",
       "      <td>177</td>\n",
       "      <td>Tarragona</td>\n",
       "      <td>WEB</td>\n",
       "      <td>211.12.69.145</td>\n",
       "      <td>...</td>\n",
       "      <td>False</td>\n",
       "      <td>PENDING</td>\n",
       "      <td>NaN</td>\n",
       "      <td>NaN</td>\n",
       "      <td>NaN</td>\n",
       "      <td>Platinum</td>\n",
       "      <td>Inactive</td>\n",
       "      <td>2024-05-06</td>\n",
       "      <td>CHECKING</td>\n",
       "      <td>26550.58</td>\n",
       "    </tr>\n",
       "    <tr>\n",
       "      <th>4</th>\n",
       "      <td>3988d6e9-1ce6-4b68-8ec2-4376bfbc892c</td>\n",
       "      <td>1</td>\n",
       "      <td>Individual</td>\n",
       "      <td>dff75c5d-c427-4cbe-9c92-3f64cb7e78d9</td>\n",
       "      <td>WITHDRAWAL</td>\n",
       "      <td>2025-04-11</td>\n",
       "      <td>59</td>\n",
       "      <td>Jaén</td>\n",
       "      <td>WEB</td>\n",
       "      <td>208.208.15.121</td>\n",
       "      <td>...</td>\n",
       "      <td>False</td>\n",
       "      <td>PENDING</td>\n",
       "      <td>NaN</td>\n",
       "      <td>NaN</td>\n",
       "      <td>NaN</td>\n",
       "      <td>Platinum</td>\n",
       "      <td>Inactive</td>\n",
       "      <td>2024-05-06</td>\n",
       "      <td>CHECKING</td>\n",
       "      <td>26550.58</td>\n",
       "    </tr>\n",
       "  </tbody>\n",
       "</table>\n",
       "<p>5 rows × 23 columns</p>\n",
       "</div>"
      ],
      "text/plain": [
       "                         Transaction_ID  Client_ID Type_Client  \\\n",
       "0  a97993c6-b811-49c1-a1b9-d2f08c09419c          1  Individual   \n",
       "1  e7b6fa05-da13-405f-b2a7-c54811cf926d          1  Individual   \n",
       "2  e52cdb17-8364-4f81-89c5-43dee5fb1477          1  Individual   \n",
       "3  1fe2e89b-d8e0-4d8d-a27c-92b2dd7f7adc          1  Individual   \n",
       "4  3988d6e9-1ce6-4b68-8ec2-4376bfbc892c          1  Individual   \n",
       "\n",
       "                             Account_ID Transaction_Type Transaction_Date  \\\n",
       "0  dff75c5d-c427-4cbe-9c92-3f64cb7e78d9          DEPOSIT       2025-04-29   \n",
       "1  dff75c5d-c427-4cbe-9c92-3f64cb7e78d9          PAYMENT       2024-09-19   \n",
       "2  dff75c5d-c427-4cbe-9c92-3f64cb7e78d9         TRANSFER       2024-12-26   \n",
       "3  dff75c5d-c427-4cbe-9c92-3f64cb7e78d9          PAYMENT       2024-10-29   \n",
       "4  dff75c5d-c427-4cbe-9c92-3f64cb7e78d9       WITHDRAWAL       2025-04-11   \n",
       "\n",
       "   Transaction_Duration   Location Device      Ip_Address  ...  Is_Fraud  \\\n",
       "0                   471      Ávila    ATM    41.172.38.87  ...     False   \n",
       "1                   530    Segovia    POS  110.152.86.165  ...     False   \n",
       "2                   562      Soria    ATM  152.84.249.125  ...     False   \n",
       "3                   177  Tarragona    WEB   211.12.69.145  ...     False   \n",
       "4                    59       Jaén    WEB  208.208.15.121  ...     False   \n",
       "\n",
       "    Status_x      Counterparty_Account  External_Bank_Name External_Bank_Code  \\\n",
       "0    PENDING                       NaN                 NaN                NaN   \n",
       "1  COMPLETED                       NaN                 NaN                NaN   \n",
       "2     FAILED  ES3250346906106904127370       Financiera 24        FIN24ESMXXX   \n",
       "3    PENDING                       NaN                 NaN                NaN   \n",
       "4    PENDING                       NaN                 NaN                NaN   \n",
       "\n",
       "  Customer_Segment  Status_y Registration_Date Account_Type   Balance  \n",
       "0         Platinum  Inactive        2024-05-06     CHECKING  26550.58  \n",
       "1         Platinum  Inactive        2024-05-06     CHECKING  26550.58  \n",
       "2         Platinum  Inactive        2024-05-06     CHECKING  26550.58  \n",
       "3         Platinum  Inactive        2024-05-06     CHECKING  26550.58  \n",
       "4         Platinum  Inactive        2024-05-06     CHECKING  26550.58  \n",
       "\n",
       "[5 rows x 23 columns]"
      ]
     },
     "execution_count": 2,
     "metadata": {},
     "output_type": "execute_result"
    }
   ],
   "source": [
    "df_tx   = pd.read_csv(DATA_DIR / \"transactions_welfordbank_en.csv\",\n",
    "                      parse_dates=[\"Transaction_Date\"])\n",
    "df_cli  = pd.read_csv(DATA_DIR / \"clients_welfordbank_en.csv\",\n",
    "                      parse_dates=[\"Registration_Date\"])\n",
    "df_acc  = pd.read_csv(DATA_DIR / \"accounts_welfordbank_en.csv\",\n",
    "                      parse_dates=[\"Created_At\"])\n",
    "\n",
    "# merge ↔ Clients\n",
    "df = (\n",
    "    df_tx\n",
    "    .merge(df_cli[[\"Client_ID\",\"Customer_Segment\",\"Status\",\"Registration_Date\"]],\n",
    "           on=\"Client_ID\", how=\"left\")\n",
    "    .merge(df_acc[[\"Account_ID\",\"Account_Type\",\"Balance\"]],\n",
    "           on=\"Account_ID\", how=\"left\")\n",
    ")\n",
    "print(df.shape)\n",
    "df.head()\n"
   ]
  },
  {
   "cell_type": "markdown",
   "id": "8bc88e43",
   "metadata": {},
   "source": [
    "### 3 · Target `y`\n"
   ]
  },
  {
   "cell_type": "code",
   "execution_count": 3,
   "id": "aacd4a5a",
   "metadata": {},
   "outputs": [
    {
     "name": "stdout",
     "output_type": "stream",
     "text": [
      "Fraud ratio: 0.0204\n"
     ]
    }
   ],
   "source": [
    "y = df[\"Is_Fraud\"].astype(int).copy()\n",
    "\n",
    "# ➡️ marcar como fraude cualquier Transaction_ID presente en fraud_detections\n",
    "fraud_path = DATA_DIR / \"fraud_detections_welfordbank_en.csv\"\n",
    "if fraud_path.exists():\n",
    "    confirmed = pd.read_csv(fraud_path)[\"Transaction_ID\"].unique()\n",
    "    y.loc[df[\"Transaction_ID\"].isin(confirmed)] = 1\n",
    "\n",
    "print(\"Fraud ratio:\", y.mean().round(4))\n"
   ]
  },
  {
   "cell_type": "markdown",
   "id": "98903e4e",
   "metadata": {},
   "source": [
    "### 4 · Quick EDA\n"
   ]
  },
  {
   "cell_type": "code",
   "execution_count": 4,
   "id": "4f246c4f",
   "metadata": {},
   "outputs": [
    {
     "name": "stdout",
     "output_type": "stream",
     "text": [
      "Transaction_Type\n",
      "TRANSFER      558420\n",
      "DEPOSIT       465032\n",
      "WITHDRAWAL    463419\n",
      "PAYMENT       371490\n",
      "Name: count, dtype: int64\n",
      "Device\n",
      "POS       465511\n",
      "MOBILE    465097\n",
      "WEB       464521\n",
      "ATM       463232\n",
      "Name: count, dtype: int64\n",
      "                          count          mean           std     min       25%  \\\n",
      "Client_ID             1858361.0  12539.849265   7219.367729    1.00   6302.00   \n",
      "Transaction_Duration  1858361.0    301.650427    172.651899    3.00    152.00   \n",
      "Amount                1858361.0   4267.049274   3843.591405    5.01   1202.42   \n",
      "Balance               1858361.0  75250.921058  43380.226507  101.87  37292.90   \n",
      "\n",
      "                           50%        75%        max  \n",
      "Client_ID             12551.00   18839.00   25000.00  \n",
      "Transaction_Duration    302.00     451.00     600.00  \n",
      "Amount                 2962.03    6691.97   14999.99  \n",
      "Balance               75143.63  112881.01  149994.55  \n"
     ]
    }
   ],
   "source": [
    "print(df[\"Transaction_Type\"].value_counts())\n",
    "print(df[\"Device\"].value_counts().head())\n",
    "print(df.select_dtypes(include='number').describe().T.iloc[:5])\n"
   ]
  },
  {
   "cell_type": "markdown",
   "id": "6579f839",
   "metadata": {},
   "source": [
    "### Observaciones iniciales\n",
    "\n",
    "* **Volumen:** ≈ 1.85 M transacciones tras el *merge* inicial.  \n",
    "* **Distribución de tipos de transacción**  \n",
    "  * `TRANSFER` domina (≈ 30 %), seguido muy de cerca de `DEPOSIT`, `WITHDRAWAL` y `PAYMENT`.  \n",
    "  * Esto sugiere que cualquier modelo que use `Transaction_Type` necesitará equilibrar su contribución (one-hot + `class_weight` / SMOTE en supervisado).  \n",
    "* **Canal / dispositivo**  \n",
    "  * Los cuatro dispositivos (`POS`, `MOBILE`, `WEB`, `ATM`) están prácticamente empatados.  \n",
    "  * Buena señal: el modelo no se sesgará hacia un canal concreto.  \n",
    "* **Variables numéricas**  \n",
    "  * `Amount` y `Balance` muestran colas largas (máx ~15 k € y 150 k €).  \n",
    "    Escalaremos y quizá aplicaremos *log-scale* o *quantile transform* si los árboles no bastan.  \n",
    "  * `Transaction_Duration` varía de 3 s a 10 min; posible proxy de complejidad de la operación.  \n",
    "* **Clase minoritaria**  \n",
    "  * Fraude ≈ 2 % (`Fraud ratio: 0.0204`).  \n",
    "  * Confirma la necesidad de técnicas de _class imbalance_ (SMOTE, threshold tuning, etc.).\n"
   ]
  },
  {
   "cell_type": "markdown",
   "id": "26e5671d",
   "metadata": {},
   "source": [
    "### 5 · Pre-processing pipelines\n"
   ]
  },
  {
   "cell_type": "code",
   "execution_count": 5,
   "id": "d6d83a17",
   "metadata": {},
   "outputs": [],
   "source": [
    "# ➡️ extraer componentes de fecha\n",
    "df[\"Year\"]   = df[\"Transaction_Date\"].dt.year\n",
    "df[\"Month\"]  = df[\"Transaction_Date\"].dt.month\n",
    "df[\"Weekday\"]= df[\"Transaction_Date\"].dt.weekday\n",
    "df[\"Hour\"]   = df[\"Transaction_Date\"].dt.hour\n",
    "\n",
    "# simple IP → int\n",
    "df[\"Ip_Int\"] = df[\"Ip_Address\"].apply(\n",
    "    lambda ip: int(\"\".join(f\"{int(octet):03d}\" for octet in ip.split(\".\")))\n",
    ")\n",
    "\n",
    "# columnas\n",
    "target   = y\n",
    "drop_cols= [\"Is_Fraud\",\"Transaction_ID\",\"Transaction_Date\",\n",
    "            \"Ip_Address\",\"Description\",\"Counterparty_Account\",\n",
    "            \"External_Bank_Name\",\"External_Bank_Code\"]\n",
    "\n",
    "X = df.drop(columns=drop_cols)\n",
    "\n",
    "num_cols = X.select_dtypes(include=[\"int64\",\"float64\"]).columns.tolist()\n",
    "cat_cols = X.select_dtypes(include=[\"object\",\"category\",\"bool\"]).columns.tolist()\n",
    "\n",
    "# --- pipelines\n",
    "numeric_pipe = Pipeline([\n",
    "    (\"scaler\", StandardScaler())\n",
    "])\n",
    "\n",
    "categoric_pipe = Pipeline([\n",
    "    (\"onehot\", OneHotEncoder(handle_unknown=\"ignore\"))   # sin el argumento\n",
    "])\n",
    "\n",
    "\n",
    "preprocess = ColumnTransformer([\n",
    "    (\"num\", numeric_pipe, num_cols),\n",
    "    (\"cat\", categoric_pipe, cat_cols)\n",
    "])\n"
   ]
  },
  {
   "cell_type": "markdown",
   "id": "c6450780",
   "metadata": {},
   "source": [
    "### 6 · Train / test stratified\n"
   ]
  },
  {
   "cell_type": "code",
   "execution_count": 6,
   "id": "5e62c9bc",
   "metadata": {},
   "outputs": [
    {
     "name": "stdout",
     "output_type": "stream",
     "text": [
      "train fraud ratio: 0.0204\n"
     ]
    }
   ],
   "source": [
    "X_train, X_test, y_train, y_test = train_test_split(\n",
    "    X, target, test_size=0.25, stratify=target, random_state=42\n",
    ")\n",
    "\n",
    "print(\"train fraud ratio:\", y_train.mean().round(4))\n"
   ]
  },
  {
   "cell_type": "markdown",
   "id": "f0ae4325",
   "metadata": {},
   "source": [
    "### 7 · Autoencoder (anomaly detection)\n"
   ]
  },
  {
   "cell_type": "code",
   "execution_count": 7,
   "id": "a1d70873",
   "metadata": {},
   "outputs": [
    {
     "name": "stdout",
     "output_type": "stream",
     "text": [
      "AE PR-AUC: 0.0226\n"
     ]
    }
   ],
   "source": [
    "# transform numeric features únicamente\n",
    "X_train_num = numeric_pipe.fit_transform(X_train[num_cols])\n",
    "X_test_num  = numeric_pipe.transform(X_test[num_cols])\n",
    "\n",
    "input_dim = X_train_num.shape[1]\n",
    "\n",
    "ae = keras.Sequential([\n",
    "    layers.Input(shape=(input_dim,)),\n",
    "    layers.Dense(64, activation=\"relu\"),\n",
    "    layers.Dense(32, activation=\"relu\"),\n",
    "    layers.Dense(64, activation=\"relu\"),\n",
    "    layers.Dense(input_dim, activation=None)\n",
    "])\n",
    "\n",
    "ae.compile(optimizer=\"adam\", loss=\"mse\")\n",
    "ae.fit(X_train_num, X_train_num,\n",
    "       epochs=10, batch_size=512,\n",
    "       validation_split=0.1, verbose=0)\n",
    "\n",
    "# reconstruction error\n",
    "recon_train = np.mean((ae.predict(X_train_num, verbose=0) - X_train_num)**2, axis=1)\n",
    "threshold   = np.percentile(recon_train, 95)   # 95 % percentil\n",
    "\n",
    "recon_test  = np.mean((ae.predict(X_test_num,  verbose=0) - X_test_num)**2, axis=1)\n",
    "y_pred_ae   = (recon_test > threshold).astype(int)\n",
    "\n",
    "print(\"AE PR-AUC:\", average_precision_score(y_test, y_pred_ae).round(4))\n"
   ]
  },
  {
   "cell_type": "markdown",
   "id": "bab3fee9",
   "metadata": {},
   "source": [
    "### Autoencoder – primer vistazo\n",
    "\n",
    "* **PR-AUC = 0.03**  \n",
    "  * Muy por encima del azar (≈ 0.02) pero lejos de ser útil en producción.  \n",
    "  * El umbral elegido (percentil 95 % del error) produce la matriz de confusión de la izquierda.  \n",
    "* **Interpretación rápida**  \n",
    "  * Alto *recall* (≈ 70 %) — captura bastantes fraudes.  \n",
    "  * *Precision* muy baja → demasiados falsos positivos (21 k).  \n",
    "  * Útil como “alarma temprana” si aceptamos investigar muchas alertas, pero no suficiente por sí solo.\n"
   ]
  },
  {
   "cell_type": "markdown",
   "id": "f74cba50",
   "metadata": {},
   "source": [
    "### 8 · Random Forest (supervised)\n"
   ]
  },
  {
   "cell_type": "code",
   "execution_count": 8,
   "id": "f9609607",
   "metadata": {},
   "outputs": [
    {
     "name": "stderr",
     "output_type": "stream",
     "text": [
      "c:\\Python\\Python39\\lib\\site-packages\\sklearn\\base.py:474: FutureWarning: `BaseEstimator._validate_data` is deprecated in 1.6 and will be removed in 1.7. Use `sklearn.utils.validation.validate_data` instead. This function becomes public and is part of the scikit-learn developer API.\n",
      "  warnings.warn(\n"
     ]
    },
    {
     "name": "stdout",
     "output_type": "stream",
     "text": [
      "              precision    recall  f1-score   support\n",
      "\n",
      "           0       1.00      0.83      0.91    455110\n",
      "           1       0.10      0.93      0.18      9481\n",
      "\n",
      "    accuracy                           0.83    464591\n",
      "   macro avg       0.55      0.88      0.54    464591\n",
      "weighted avg       0.98      0.83      0.89    464591\n",
      "\n",
      "RF ROC-AUC : 0.89\n",
      "RF PR-AUC  : 0.0988\n"
     ]
    }
   ],
   "source": [
    "rf_pipe = ImbPipeline(steps=[\n",
    "    (\"prep\", preprocess),\n",
    "    (\"smote\", SMOTE(random_state=42)),\n",
    "    (\"rf\", RandomForestClassifier(\n",
    "        n_estimators=250, max_depth=12, n_jobs=-1, random_state=42\n",
    "    ))\n",
    "])\n",
    "\n",
    "rf_pipe.fit(X_train, y_train)\n",
    "y_pred_rf = rf_pipe.predict(X_test)\n",
    "y_prob_rf = rf_pipe.predict_proba(X_test)[:,1]\n",
    "\n",
    "print(classification_report(y_test, y_pred_rf))\n",
    "print(\"RF ROC-AUC :\", roc_auc_score(y_test, y_prob_rf).round(4))\n",
    "print(\"RF PR-AUC  :\", average_precision_score(y_test, y_prob_rf).round(4))\n"
   ]
  },
  {
   "cell_type": "markdown",
   "id": "15ba5abb",
   "metadata": {},
   "source": [
    "### Random Forest + SMOTE\n",
    "\n",
    "| Métrica | Valor |\n",
    "|---------|-------|\n",
    "| **ROC-AUC** | **0.89** |\n",
    "| **PR-AUC** | **0.10** |\n",
    "| **Recall (fraude)** | 0.93 |\n",
    "| **Precision (fraude)** | 0.10 |\n",
    "\n",
    "* **Recall 0.93**  –  excelente cobertura de fraudes.  \n",
    "* **Precision 0.10** –  1 de cada 10 alertas es fraude real.  \n",
    "  * Aun así mejora x3 la precisión del Autoencoder (0.03 → 0.10).  \n",
    "* **F1-score 0.18** refleja el fuerte desequilibrio de clases.  \n",
    "\n",
    "> **Conclusión provisional**: el RF con SMOTE es claramente mejor que el Autoencoder en este dataset, pero aún produce muchos falsos positivos; será clave ajustar el umbral de probabilidad o aplicar técnicas de coste asimétrico.\n"
   ]
  },
  {
   "cell_type": "markdown",
   "id": "68be3a8d",
   "metadata": {},
   "source": [
    "### 9 · Compare AE vs RF\n"
   ]
  },
  {
   "cell_type": "code",
   "execution_count": 9,
   "id": "6b70366a",
   "metadata": {},
   "outputs": [
    {
     "data": {
      "image/png": "[encoded data removed]",
      "text/plain": [
       "<Figure size 1000x400 with 4 Axes>"
      ]
     },
     "metadata": {},
     "output_type": "display_data"
    }
   ],
   "source": [
    "from sklearn.metrics import ConfusionMatrixDisplay\n",
    "import matplotlib.pyplot as plt\n",
    "\n",
    "fig, ax = plt.subplots(1,2, figsize=(10,4))\n",
    "ConfusionMatrixDisplay.from_predictions(y_test, y_pred_ae, ax=ax[0])\n",
    "ax[0].set_title(\"Autoencoder\")\n",
    "ConfusionMatrixDisplay.from_predictions(y_test, y_pred_rf, ax=ax[1])\n",
    "ax[1].set_title(\"Random Forest\")\n",
    "plt.show()\n"
   ]
  },
  {
   "cell_type": "markdown",
   "id": "6c3001a9",
   "metadata": {},
   "source": [
    "### Comparativa visual\n",
    "\n",
    "* **Autoencoder**  \n",
    "  * 21 506 falsos positivos vs 7 726 falsos negativos.  \n",
    "  * Ratio FP : FN ≈ 2.8 ×  \n",
    "* **Random Forest**  \n",
    "  * 78 027 falsos positivos, pero **solo 685 falsos negativos**.  \n",
    "  * Para el banco, perder 685 fraudes de ~465 k transacciones test puede ser aceptable si el coste operativo de investigar 78 k alertas lo es.  \n",
    "\n",
    "#### Próximos pasos\n",
    "\n",
    "1. **Threshold tuning:** optimizar `y_prob_rf > τ` para maximizar *recall* con precisión mínima deseada (p.ej. 0.25).  \n",
    "2. **Cost-sensitive learning:** asignar mayor peso a la clase fraude en el RF o probar XGBoost con `scale_pos_weight`.  \n",
    "3. **Feature engineering adicional:**  \n",
    "   * Ventanas temporales por cliente (n.º transacciones últimos 24 h).  \n",
    "   * Ratio `Amount / Balance`, variación de IP por cliente, etc.  \n",
    "4. **Stacking:** combinar Autoencoder (anomalía pura) + RF (supervisado) para una señal mixta.\n",
    "\n",
    "> Con las métricas actuales optaríamos por desplegar el **Random Forest** y seguir iterando para aumentar la precisión sin sacrificar recall.\n"
   ]
  }
 ],
 "metadata": {
  "kernelspec": {
   "display_name": "Python 3",
   "language": "python",
   "name": "python3"
  },
  "language_info": {
   "codemirror_mode": {
    "name": "ipython",
    "version": 3
   },
   "file_extension": ".py",
   "mimetype": "text/x-python",
   "name": "python",
   "nbconvert_exporter": "python",
   "pygments_lexer": "ipython3",
   "version": "3.9.0"
  }
 },
 "nbformat": 4,
 "nbformat_minor": 5
}
