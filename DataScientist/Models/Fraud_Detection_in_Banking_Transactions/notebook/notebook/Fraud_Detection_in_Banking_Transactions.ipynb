{
 "cells": [
  {
   "cell_type": "code",
   "execution_count": 3,
   "id": "927d312a",
   "metadata": {},
   "outputs": [
    {
     "name": "stdout",
     "output_type": "stream",
     "text": [
      "Requirement already satisfied: scikit-learn in c:\\python\\python39\\lib\\site-packages (from -r requirements.txt (line 1)) (1.6.1)\n",
      "Requirement already satisfied: imbalanced-learn in c:\\python\\python39\\lib\\site-packages (from -r requirements.txt (line 2)) (0.12.4)\n",
      "Requirement already satisfied: xgboost in c:\\python\\python39\\lib\\site-packages (from -r requirements.txt (line 3)) (2.1.4)\n",
      "Requirement already satisfied: tensorflow-cpu==2.13.0 in c:\\users\\wail-\\appdata\\roaming\\python\\python39\\site-packages (from -r requirements.txt (line 4)) (2.13.0)\n",
      "Requirement already satisfied: tensorflow-intel==2.13.0 in c:\\users\\wail-\\appdata\\roaming\\python\\python39\\site-packages (from tensorflow-cpu==2.13.0->-r requirements.txt (line 4)) (2.13.0)\n",
      "Requirement already satisfied: absl-py>=1.0.0 in c:\\python\\python39\\lib\\site-packages (from tensorflow-intel==2.13.0->tensorflow-cpu==2.13.0->-r requirements.txt (line 4)) (2.2.2)\n",
      "Requirement already satisfied: astunparse>=1.6.0 in c:\\python\\python39\\lib\\site-packages (from tensorflow-intel==2.13.0->tensorflow-cpu==2.13.0->-r requirements.txt (line 4)) (1.6.3)\n",
      "Requirement already satisfied: flatbuffers>=23.1.21 in c:\\python\\python39\\lib\\site-packages (from tensorflow-intel==2.13.0->tensorflow-cpu==2.13.0->-r requirements.txt (line 4)) (25.2.10)\n",
      "Requirement already satisfied: gast<=0.4.0,>=0.2.1 in c:\\python\\python39\\lib\\site-packages (from tensorflow-intel==2.13.0->tensorflow-cpu==2.13.0->-r requirements.txt (line 4)) (0.4.0)\n",
      "Requirement already satisfied: google-pasta>=0.1.1 in c:\\python\\python39\\lib\\site-packages (from tensorflow-intel==2.13.0->tensorflow-cpu==2.13.0->-r requirements.txt (line 4)) (0.2.0)\n",
      "Requirement already satisfied: h5py>=2.9.0 in c:\\python\\python39\\lib\\site-packages (from tensorflow-intel==2.13.0->tensorflow-cpu==2.13.0->-r requirements.txt (line 4)) (3.13.0)\n",
      "Requirement already satisfied: libclang>=13.0.0 in c:\\python\\python39\\lib\\site-packages (from tensorflow-intel==2.13.0->tensorflow-cpu==2.13.0->-r requirements.txt (line 4)) (18.1.1)\n",
      "Requirement already satisfied: numpy<=1.24.3,>=1.22 in c:\\python\\python39\\lib\\site-packages (from tensorflow-intel==2.13.0->tensorflow-cpu==2.13.0->-r requirements.txt (line 4)) (1.24.3)\n",
      "Requirement already satisfied: opt-einsum>=2.3.2 in c:\\python\\python39\\lib\\site-packages (from tensorflow-intel==2.13.0->tensorflow-cpu==2.13.0->-r requirements.txt (line 4)) (3.4.0)\n",
      "Requirement already satisfied: packaging in c:\\python\\python39\\lib\\site-packages (from tensorflow-intel==2.13.0->tensorflow-cpu==2.13.0->-r requirements.txt (line 4)) (23.2)\n",
      "Requirement already satisfied: protobuf!=4.21.0,!=4.21.1,!=4.21.2,!=4.21.3,!=4.21.4,!=4.21.5,<5.0.0dev,>=3.20.3 in c:\\python\\python39\\lib\\site-packages (from tensorflow-intel==2.13.0->tensorflow-cpu==2.13.0->-r requirements.txt (line 4)) (4.25.7)\n",
      "Requirement already satisfied: setuptools in c:\\python\\python39\\lib\\site-packages (from tensorflow-intel==2.13.0->tensorflow-cpu==2.13.0->-r requirements.txt (line 4)) (80.7.1)\n",
      "Requirement already satisfied: six>=1.12.0 in c:\\python\\python39\\lib\\site-packages (from tensorflow-intel==2.13.0->tensorflow-cpu==2.13.0->-r requirements.txt (line 4)) (1.17.0)\n",
      "Requirement already satisfied: termcolor>=1.1.0 in c:\\python\\python39\\lib\\site-packages (from tensorflow-intel==2.13.0->tensorflow-cpu==2.13.0->-r requirements.txt (line 4)) (3.1.0)\n",
      "Requirement already satisfied: typing-extensions<4.6.0,>=3.6.6 in c:\\python\\python39\\lib\\site-packages (from tensorflow-intel==2.13.0->tensorflow-cpu==2.13.0->-r requirements.txt (line 4)) (4.5.0)\n",
      "Requirement already satisfied: wrapt>=1.11.0 in c:\\python\\python39\\lib\\site-packages (from tensorflow-intel==2.13.0->tensorflow-cpu==2.13.0->-r requirements.txt (line 4)) (1.14.1)\n",
      "Requirement already satisfied: grpcio<2.0,>=1.24.3 in c:\\python\\python39\\lib\\site-packages (from tensorflow-intel==2.13.0->tensorflow-cpu==2.13.0->-r requirements.txt (line 4)) (1.71.0)\n",
      "Requirement already satisfied: tensorboard<2.14,>=2.13 in c:\\python\\python39\\lib\\site-packages (from tensorflow-intel==2.13.0->tensorflow-cpu==2.13.0->-r requirements.txt (line 4)) (2.13.0)\n",
      "Requirement already satisfied: tensorflow-estimator<2.14,>=2.13.0 in c:\\python\\python39\\lib\\site-packages (from tensorflow-intel==2.13.0->tensorflow-cpu==2.13.0->-r requirements.txt (line 4)) (2.13.0)\n",
      "Requirement already satisfied: keras<2.14,>=2.13.1 in c:\\python\\python39\\lib\\site-packages (from tensorflow-intel==2.13.0->tensorflow-cpu==2.13.0->-r requirements.txt (line 4)) (2.13.1)\n",
      "Requirement already satisfied: tensorflow-io-gcs-filesystem>=0.23.1 in c:\\python\\python39\\lib\\site-packages (from tensorflow-intel==2.13.0->tensorflow-cpu==2.13.0->-r requirements.txt (line 4)) (0.31.0)\n",
      "Requirement already satisfied: google-auth<3,>=1.6.3 in c:\\python\\python39\\lib\\site-packages (from tensorboard<2.14,>=2.13->tensorflow-intel==2.13.0->tensorflow-cpu==2.13.0->-r requirements.txt (line 4)) (2.40.2)\n",
      "Requirement already satisfied: google-auth-oauthlib<1.1,>=0.5 in c:\\python\\python39\\lib\\site-packages (from tensorboard<2.14,>=2.13->tensorflow-intel==2.13.0->tensorflow-cpu==2.13.0->-r requirements.txt (line 4)) (1.0.0)\n",
      "Requirement already satisfied: markdown>=2.6.8 in c:\\python\\python39\\lib\\site-packages (from tensorboard<2.14,>=2.13->tensorflow-intel==2.13.0->tensorflow-cpu==2.13.0->-r requirements.txt (line 4)) (3.8)\n",
      "Requirement already satisfied: requests<3,>=2.21.0 in c:\\python\\python39\\lib\\site-packages (from tensorboard<2.14,>=2.13->tensorflow-intel==2.13.0->tensorflow-cpu==2.13.0->-r requirements.txt (line 4)) (2.32.3)\n",
      "Requirement already satisfied: tensorboard-data-server<0.8.0,>=0.7.0 in c:\\python\\python39\\lib\\site-packages (from tensorboard<2.14,>=2.13->tensorflow-intel==2.13.0->tensorflow-cpu==2.13.0->-r requirements.txt (line 4)) (0.7.2)\n",
      "Requirement already satisfied: werkzeug>=1.0.1 in c:\\python\\python39\\lib\\site-packages (from tensorboard<2.14,>=2.13->tensorflow-intel==2.13.0->tensorflow-cpu==2.13.0->-r requirements.txt (line 4)) (3.1.3)\n",
      "Requirement already satisfied: wheel>=0.26 in c:\\python\\python39\\lib\\site-packages (from tensorboard<2.14,>=2.13->tensorflow-intel==2.13.0->tensorflow-cpu==2.13.0->-r requirements.txt (line 4)) (0.45.1)\n",
      "Requirement already satisfied: cachetools<6.0,>=2.0.0 in c:\\python\\python39\\lib\\site-packages (from google-auth<3,>=1.6.3->tensorboard<2.14,>=2.13->tensorflow-intel==2.13.0->tensorflow-cpu==2.13.0->-r requirements.txt (line 4)) (5.5.2)\n",
      "Requirement already satisfied: pyasn1-modules>=0.2.1 in c:\\python\\python39\\lib\\site-packages (from google-auth<3,>=1.6.3->tensorboard<2.14,>=2.13->tensorflow-intel==2.13.0->tensorflow-cpu==2.13.0->-r requirements.txt (line 4)) (0.4.2)\n",
      "Requirement already satisfied: rsa<5,>=3.1.4 in c:\\python\\python39\\lib\\site-packages (from google-auth<3,>=1.6.3->tensorboard<2.14,>=2.13->tensorflow-intel==2.13.0->tensorflow-cpu==2.13.0->-r requirements.txt (line 4)) (4.9.1)\n",
      "Requirement already satisfied: requests-oauthlib>=0.7.0 in c:\\python\\python39\\lib\\site-packages (from google-auth-oauthlib<1.1,>=0.5->tensorboard<2.14,>=2.13->tensorflow-intel==2.13.0->tensorflow-cpu==2.13.0->-r requirements.txt (line 4)) (2.0.0)\n",
      "Requirement already satisfied: charset-normalizer<4,>=2 in c:\\python\\python39\\lib\\site-packages (from requests<3,>=2.21.0->tensorboard<2.14,>=2.13->tensorflow-intel==2.13.0->tensorflow-cpu==2.13.0->-r requirements.txt (line 4)) (3.4.1)\n",
      "Requirement already satisfied: idna<4,>=2.5 in c:\\python\\python39\\lib\\site-packages (from requests<3,>=2.21.0->tensorboard<2.14,>=2.13->tensorflow-intel==2.13.0->tensorflow-cpu==2.13.0->-r requirements.txt (line 4)) (3.10)\n",
      "Requirement already satisfied: urllib3<3,>=1.21.1 in c:\\python\\python39\\lib\\site-packages (from requests<3,>=2.21.0->tensorboard<2.14,>=2.13->tensorflow-intel==2.13.0->tensorflow-cpu==2.13.0->-r requirements.txt (line 4)) (2.3.0)\n",
      "Requirement already satisfied: certifi>=2017.4.17 in c:\\python\\python39\\lib\\site-packages (from requests<3,>=2.21.0->tensorboard<2.14,>=2.13->tensorflow-intel==2.13.0->tensorflow-cpu==2.13.0->-r requirements.txt (line 4)) (2025.1.31)\n",
      "Requirement already satisfied: pyasn1>=0.1.3 in c:\\python\\python39\\lib\\site-packages (from rsa<5,>=3.1.4->google-auth<3,>=1.6.3->tensorboard<2.14,>=2.13->tensorflow-intel==2.13.0->tensorflow-cpu==2.13.0->-r requirements.txt (line 4)) (0.6.1)\n",
      "Requirement already satisfied: scipy>=1.6.0 in c:\\python\\python39\\lib\\site-packages (from scikit-learn->-r requirements.txt (line 1)) (1.13.1)\n",
      "Requirement already satisfied: joblib>=1.2.0 in c:\\python\\python39\\lib\\site-packages (from scikit-learn->-r requirements.txt (line 1)) (1.4.2)\n",
      "Requirement already satisfied: threadpoolctl>=3.1.0 in c:\\python\\python39\\lib\\site-packages (from scikit-learn->-r requirements.txt (line 1)) (3.6.0)\n",
      "Requirement already satisfied: importlib-metadata>=4.4 in c:\\python\\python39\\lib\\site-packages (from markdown>=2.6.8->tensorboard<2.14,>=2.13->tensorflow-intel==2.13.0->tensorflow-cpu==2.13.0->-r requirements.txt (line 4)) (8.6.1)\n",
      "Requirement already satisfied: zipp>=3.20 in c:\\python\\python39\\lib\\site-packages (from importlib-metadata>=4.4->markdown>=2.6.8->tensorboard<2.14,>=2.13->tensorflow-intel==2.13.0->tensorflow-cpu==2.13.0->-r requirements.txt (line 4)) (3.21.0)\n",
      "Requirement already satisfied: oauthlib>=3.0.0 in c:\\python\\python39\\lib\\site-packages (from requests-oauthlib>=0.7.0->google-auth-oauthlib<1.1,>=0.5->tensorboard<2.14,>=2.13->tensorflow-intel==2.13.0->tensorflow-cpu==2.13.0->-r requirements.txt (line 4)) (3.2.2)\n",
      "Requirement already satisfied: MarkupSafe>=2.1.1 in c:\\python\\python39\\lib\\site-packages (from werkzeug>=1.0.1->tensorboard<2.14,>=2.13->tensorflow-intel==2.13.0->tensorflow-cpu==2.13.0->-r requirements.txt (line 4)) (3.0.2)\n"
     ]
    },
    {
     "name": "stderr",
     "output_type": "stream",
     "text": [
      "WARNING: Ignoring invalid distribution -ensorflow (c:\\python\\python39\\lib\\site-packages)\n",
      "WARNING: Ignoring invalid distribution -ensorflow (c:\\python\\python39\\lib\\site-packages)\n",
      "WARNING: Ignoring invalid distribution -ensorflow (c:\\python\\python39\\lib\\site-packages)\n"
     ]
    }
   ],
   "source": [
    "!pip install -r requirements.txt\n"
   ]
  },
  {
   "cell_type": "markdown",
   "id": "107bf8cc",
   "metadata": {},
   "source": [
    "### 1 · Imports & paths\n"
   ]
  },
  {
   "cell_type": "code",
   "execution_count": 4,
   "id": "cb5a0076",
   "metadata": {},
   "outputs": [],
   "source": [
    "# 1 · Imports & paths\n",
    "# -------------------\n",
    "# Standard data stack (pandas / numpy) + scikit-learn for ML,\n",
    "# imbalanced-learn for SMOTE, TensorFlow for the auto-encoder,\n",
    "# and XGBoost for the final supervised model.\n",
    "\n",
    "import pandas as pd\n",
    "import numpy as np\n",
    "from pathlib import Path\n",
    "from datetime import datetime\n",
    "\n",
    "from sklearn.model_selection import train_test_split\n",
    "from sklearn.preprocessing import StandardScaler, OneHotEncoder\n",
    "from sklearn.compose import ColumnTransformer\n",
    "from sklearn.pipeline import Pipeline\n",
    "from sklearn.metrics import (\n",
    "    classification_report, confusion_matrix,\n",
    "    roc_auc_score, average_precision_score\n",
    ")\n",
    "from sklearn.ensemble import RandomForestClassifier\n",
    "\n",
    "from imblearn.over_sampling import SMOTE\n",
    "from imblearn.pipeline import Pipeline as ImbPipeline\n",
    "\n",
    "import tensorflow as tf\n",
    "from tensorflow import keras\n",
    "from tensorflow.keras import layers\n",
    "\n",
    "from xgboost import XGBClassifier\n",
    "\n",
    "# Path to the folder that contains all English CSV files\n",
    "DATA_DIR = Path(\"../data/\")\n"
   ]
  },
  {
   "cell_type": "markdown",
   "id": "0531821b",
   "metadata": {},
   "source": [
    "### 2 · Load & merge\n"
   ]
  },
  {
   "cell_type": "code",
   "execution_count": 5,
   "id": "af0097a2",
   "metadata": {},
   "outputs": [
    {
     "name": "stdout",
     "output_type": "stream",
     "text": [
      "Merged shape: (1858361, 23)\n"
     ]
    },
    {
     "data": {
      "text/html": [
       "<div>\n",
       "<style scoped>\n",
       "    .dataframe tbody tr th:only-of-type {\n",
       "        vertical-align: middle;\n",
       "    }\n",
       "\n",
       "    .dataframe tbody tr th {\n",
       "        vertical-align: top;\n",
       "    }\n",
       "\n",
       "    .dataframe thead th {\n",
       "        text-align: right;\n",
       "    }\n",
       "</style>\n",
       "<table border=\"1\" class=\"dataframe\">\n",
       "  <thead>\n",
       "    <tr style=\"text-align: right;\">\n",
       "      <th></th>\n",
       "      <th>Transaction_ID</th>\n",
       "      <th>Client_ID</th>\n",
       "      <th>Type_Client</th>\n",
       "      <th>Account_ID</th>\n",
       "      <th>Transaction_Type</th>\n",
       "      <th>Transaction_Date</th>\n",
       "      <th>Transaction_Duration</th>\n",
       "      <th>Location</th>\n",
       "      <th>Device</th>\n",
       "      <th>Ip_Address</th>\n",
       "      <th>...</th>\n",
       "      <th>Is_Fraud</th>\n",
       "      <th>Status_x</th>\n",
       "      <th>Counterparty_Account</th>\n",
       "      <th>External_Bank_Name</th>\n",
       "      <th>External_Bank_Code</th>\n",
       "      <th>Customer_Segment</th>\n",
       "      <th>Status_y</th>\n",
       "      <th>Registration_Date</th>\n",
       "      <th>Account_Type</th>\n",
       "      <th>Balance</th>\n",
       "    </tr>\n",
       "  </thead>\n",
       "  <tbody>\n",
       "    <tr>\n",
       "      <th>0</th>\n",
       "      <td>a97993c6-b811-49c1-a1b9-d2f08c09419c</td>\n",
       "      <td>1</td>\n",
       "      <td>Individual</td>\n",
       "      <td>dff75c5d-c427-4cbe-9c92-3f64cb7e78d9</td>\n",
       "      <td>DEPOSIT</td>\n",
       "      <td>2025-04-29</td>\n",
       "      <td>471</td>\n",
       "      <td>Ávila</td>\n",
       "      <td>ATM</td>\n",
       "      <td>41.172.38.87</td>\n",
       "      <td>...</td>\n",
       "      <td>False</td>\n",
       "      <td>PENDING</td>\n",
       "      <td>NaN</td>\n",
       "      <td>NaN</td>\n",
       "      <td>NaN</td>\n",
       "      <td>Platinum</td>\n",
       "      <td>Inactive</td>\n",
       "      <td>2024-05-06</td>\n",
       "      <td>CHECKING</td>\n",
       "      <td>26550.58</td>\n",
       "    </tr>\n",
       "    <tr>\n",
       "      <th>1</th>\n",
       "      <td>e7b6fa05-da13-405f-b2a7-c54811cf926d</td>\n",
       "      <td>1</td>\n",
       "      <td>Individual</td>\n",
       "      <td>dff75c5d-c427-4cbe-9c92-3f64cb7e78d9</td>\n",
       "      <td>PAYMENT</td>\n",
       "      <td>2024-09-19</td>\n",
       "      <td>530</td>\n",
       "      <td>Segovia</td>\n",
       "      <td>POS</td>\n",
       "      <td>110.152.86.165</td>\n",
       "      <td>...</td>\n",
       "      <td>False</td>\n",
       "      <td>COMPLETED</td>\n",
       "      <td>NaN</td>\n",
       "      <td>NaN</td>\n",
       "      <td>NaN</td>\n",
       "      <td>Platinum</td>\n",
       "      <td>Inactive</td>\n",
       "      <td>2024-05-06</td>\n",
       "      <td>CHECKING</td>\n",
       "      <td>26550.58</td>\n",
       "    </tr>\n",
       "    <tr>\n",
       "      <th>2</th>\n",
       "      <td>e52cdb17-8364-4f81-89c5-43dee5fb1477</td>\n",
       "      <td>1</td>\n",
       "      <td>Individual</td>\n",
       "      <td>dff75c5d-c427-4cbe-9c92-3f64cb7e78d9</td>\n",
       "      <td>TRANSFER</td>\n",
       "      <td>2024-12-26</td>\n",
       "      <td>562</td>\n",
       "      <td>Soria</td>\n",
       "      <td>ATM</td>\n",
       "      <td>152.84.249.125</td>\n",
       "      <td>...</td>\n",
       "      <td>False</td>\n",
       "      <td>FAILED</td>\n",
       "      <td>ES3250346906106904127370</td>\n",
       "      <td>Financiera 24</td>\n",
       "      <td>FIN24ESMXXX</td>\n",
       "      <td>Platinum</td>\n",
       "      <td>Inactive</td>\n",
       "      <td>2024-05-06</td>\n",
       "      <td>CHECKING</td>\n",
       "      <td>26550.58</td>\n",
       "    </tr>\n",
       "    <tr>\n",
       "      <th>3</th>\n",
       "      <td>1fe2e89b-d8e0-4d8d-a27c-92b2dd7f7adc</td>\n",
       "      <td>1</td>\n",
       "      <td>Individual</td>\n",
       "      <td>dff75c5d-c427-4cbe-9c92-3f64cb7e78d9</td>\n",
       "      <td>PAYMENT</td>\n",
       "      <td>2024-10-29</td>\n",
       "      <td>177</td>\n",
       "      <td>Tarragona</td>\n",
       "      <td>WEB</td>\n",
       "      <td>211.12.69.145</td>\n",
       "      <td>...</td>\n",
       "      <td>False</td>\n",
       "      <td>PENDING</td>\n",
       "      <td>NaN</td>\n",
       "      <td>NaN</td>\n",
       "      <td>NaN</td>\n",
       "      <td>Platinum</td>\n",
       "      <td>Inactive</td>\n",
       "      <td>2024-05-06</td>\n",
       "      <td>CHECKING</td>\n",
       "      <td>26550.58</td>\n",
       "    </tr>\n",
       "    <tr>\n",
       "      <th>4</th>\n",
       "      <td>3988d6e9-1ce6-4b68-8ec2-4376bfbc892c</td>\n",
       "      <td>1</td>\n",
       "      <td>Individual</td>\n",
       "      <td>dff75c5d-c427-4cbe-9c92-3f64cb7e78d9</td>\n",
       "      <td>WITHDRAWAL</td>\n",
       "      <td>2025-04-11</td>\n",
       "      <td>59</td>\n",
       "      <td>Jaén</td>\n",
       "      <td>WEB</td>\n",
       "      <td>208.208.15.121</td>\n",
       "      <td>...</td>\n",
       "      <td>False</td>\n",
       "      <td>PENDING</td>\n",
       "      <td>NaN</td>\n",
       "      <td>NaN</td>\n",
       "      <td>NaN</td>\n",
       "      <td>Platinum</td>\n",
       "      <td>Inactive</td>\n",
       "      <td>2024-05-06</td>\n",
       "      <td>CHECKING</td>\n",
       "      <td>26550.58</td>\n",
       "    </tr>\n",
       "  </tbody>\n",
       "</table>\n",
       "<p>5 rows × 23 columns</p>\n",
       "</div>"
      ],
      "text/plain": [
       "                         Transaction_ID  Client_ID Type_Client  \\\n",
       "0  a97993c6-b811-49c1-a1b9-d2f08c09419c          1  Individual   \n",
       "1  e7b6fa05-da13-405f-b2a7-c54811cf926d          1  Individual   \n",
       "2  e52cdb17-8364-4f81-89c5-43dee5fb1477          1  Individual   \n",
       "3  1fe2e89b-d8e0-4d8d-a27c-92b2dd7f7adc          1  Individual   \n",
       "4  3988d6e9-1ce6-4b68-8ec2-4376bfbc892c          1  Individual   \n",
       "\n",
       "                             Account_ID Transaction_Type Transaction_Date  \\\n",
       "0  dff75c5d-c427-4cbe-9c92-3f64cb7e78d9          DEPOSIT       2025-04-29   \n",
       "1  dff75c5d-c427-4cbe-9c92-3f64cb7e78d9          PAYMENT       2024-09-19   \n",
       "2  dff75c5d-c427-4cbe-9c92-3f64cb7e78d9         TRANSFER       2024-12-26   \n",
       "3  dff75c5d-c427-4cbe-9c92-3f64cb7e78d9          PAYMENT       2024-10-29   \n",
       "4  dff75c5d-c427-4cbe-9c92-3f64cb7e78d9       WITHDRAWAL       2025-04-11   \n",
       "\n",
       "   Transaction_Duration   Location Device      Ip_Address  ...  Is_Fraud  \\\n",
       "0                   471      Ávila    ATM    41.172.38.87  ...     False   \n",
       "1                   530    Segovia    POS  110.152.86.165  ...     False   \n",
       "2                   562      Soria    ATM  152.84.249.125  ...     False   \n",
       "3                   177  Tarragona    WEB   211.12.69.145  ...     False   \n",
       "4                    59       Jaén    WEB  208.208.15.121  ...     False   \n",
       "\n",
       "    Status_x      Counterparty_Account  External_Bank_Name External_Bank_Code  \\\n",
       "0    PENDING                       NaN                 NaN                NaN   \n",
       "1  COMPLETED                       NaN                 NaN                NaN   \n",
       "2     FAILED  ES3250346906106904127370       Financiera 24        FIN24ESMXXX   \n",
       "3    PENDING                       NaN                 NaN                NaN   \n",
       "4    PENDING                       NaN                 NaN                NaN   \n",
       "\n",
       "  Customer_Segment  Status_y Registration_Date Account_Type   Balance  \n",
       "0         Platinum  Inactive        2024-05-06     CHECKING  26550.58  \n",
       "1         Platinum  Inactive        2024-05-06     CHECKING  26550.58  \n",
       "2         Platinum  Inactive        2024-05-06     CHECKING  26550.58  \n",
       "3         Platinum  Inactive        2024-05-06     CHECKING  26550.58  \n",
       "4         Platinum  Inactive        2024-05-06     CHECKING  26550.58  \n",
       "\n",
       "[5 rows x 23 columns]"
      ]
     },
     "execution_count": 5,
     "metadata": {},
     "output_type": "execute_result"
    }
   ],
   "source": [
    "# 2 · Load & merge\n",
    "# ----------------\n",
    "# We merge three tables so every transaction row carries extra context:\n",
    "#   • client segment + status (from clients)\n",
    "#   • account type + balance (from accounts)\n",
    "\n",
    "df_tx  = pd.read_csv(DATA_DIR / \"transactions_welfordbank_en.csv\",\n",
    "                     parse_dates=[\"Transaction_Date\"])\n",
    "df_cli = pd.read_csv(DATA_DIR / \"clients_welfordbank_en.csv\",\n",
    "                     parse_dates=[\"Registration_Date\"])\n",
    "df_acc = pd.read_csv(DATA_DIR / \"accounts_welfordbank_en.csv\",\n",
    "                     parse_dates=[\"Created_At\"])\n",
    "\n",
    "df = (\n",
    "    df_tx\n",
    "      .merge(df_cli[[\"Client_ID\", \"Customer_Segment\", \"Status\",\n",
    "                     \"Registration_Date\"]],\n",
    "             on=\"Client_ID\", how=\"left\")\n",
    "      .merge(df_acc[[\"Account_ID\", \"Account_Type\", \"Balance\"]],\n",
    "             on=\"Account_ID\", how=\"left\")\n",
    ")\n",
    "\n",
    "print(\"Merged shape:\", df.shape)\n",
    "df.head()\n"
   ]
  },
  {
   "cell_type": "markdown",
   "id": "8bc88e43",
   "metadata": {},
   "source": [
    "### 3 · Target `y`\n"
   ]
  },
  {
   "cell_type": "code",
   "execution_count": 6,
   "id": "aacd4a5a",
   "metadata": {},
   "outputs": [
    {
     "name": "stdout",
     "output_type": "stream",
     "text": [
      "Fraud ratio: 0.0204\n"
     ]
    }
   ],
   "source": [
    "# 3 · Target vector y\n",
    "# -------------------\n",
    "#  • Primary label is Is_Fraud in the transactions table.\n",
    "#  • If a transaction appears in fraud_detections, we force the label to 1\n",
    "#    (acts like “confirmed” fraud).\n",
    "\n",
    "y = df[\"Is_Fraud\"].astype(int).copy()\n",
    "\n",
    "fraud_path = DATA_DIR / \"fraud_detections_welfordbank_en.csv\"\n",
    "if fraud_path.exists():\n",
    "    confirmed = pd.read_csv(fraud_path)[\"Transaction_ID\"].unique()\n",
    "    y.loc[df[\"Transaction_ID\"].isin(confirmed)] = 1\n",
    "\n",
    "print(\"Fraud ratio:\", y.mean().round(4))\n"
   ]
  },
  {
   "cell_type": "markdown",
   "id": "98903e4e",
   "metadata": {},
   "source": [
    "### 4 · Quick EDA\n"
   ]
  },
  {
   "cell_type": "code",
   "execution_count": 7,
   "id": "4f246c4f",
   "metadata": {},
   "outputs": [
    {
     "name": "stdout",
     "output_type": "stream",
     "text": [
      "Transaction_Type\n",
      "TRANSFER      558420\n",
      "DEPOSIT       465032\n",
      "WITHDRAWAL    463419\n",
      "PAYMENT       371490\n",
      "Name: count, dtype: int64\n",
      "\n",
      "Device counts:\n",
      " Device\n",
      "POS       465511\n",
      "MOBILE    465097\n",
      "WEB       464521\n",
      "ATM       463232\n",
      "Name: count, dtype: int64\n",
      "\n",
      "Numeric summary (first 5 rows):\n",
      "                           count          mean           std     min       25%  \\\n",
      "Client_ID             1858361.0  12539.849265   7219.367729    1.00   6302.00   \n",
      "Transaction_Duration  1858361.0    301.650427    172.651899    3.00    152.00   \n",
      "Amount                1858361.0   4267.049274   3843.591405    5.01   1202.42   \n",
      "Balance               1858361.0  75250.921058  43380.226507  101.87  37292.90   \n",
      "\n",
      "                           50%        75%        max  \n",
      "Client_ID             12551.00   18839.00   25000.00  \n",
      "Transaction_Duration    302.00     451.00     600.00  \n",
      "Amount                 2962.03    6691.97   14999.99  \n",
      "Balance               75143.63  112881.01  149994.55  \n"
     ]
    }
   ],
   "source": [
    "# 4 · Quick EDA\n",
    "# -------------\n",
    "# Simple prints to check class distributions and numeric ranges.\n",
    "print(df[\"Transaction_Type\"].value_counts())\n",
    "print(\"\\nDevice counts:\\n\", df[\"Device\"].value_counts().head())\n",
    "print(\"\\nNumeric summary (first 5 rows):\\n\",\n",
    "      df.select_dtypes(include=\"number\").describe().T.iloc[:5])\n"
   ]
  },
  {
   "cell_type": "markdown",
   "id": "6579f839",
   "metadata": {},
   "source": [
    "### Initial Observations\n",
    "\n",
    "* **Volume:** Around 1.85 million transactions after the initial dataset merge.  \n",
    "* **Transaction Types:**  \n",
    "  * `TRANSFER` is the most common (~30%), followed by `DEPOSIT`, `WITHDRAWAL`, and `PAYMENT`.  \n",
    "  * Any model leveraging `Transaction_Type` should account for this imbalance — using one-hot encoding with class weights or SMOTE will help.  \n",
    "* **Channel / Device:**  \n",
    "  * Device usage (`POS`, `MOBILE`, `WEB`, `ATM`) is evenly distributed, which helps avoid bias toward a specific transaction channel.  \n",
    "* **Numerical Features:**  \n",
    "  * `Amount` and `Balance` show heavy tails (up to 15k€ and 150k€, respectively). Scaling is essential, and if needed, transformations like log-scale or quantile scaling could improve model performance.  \n",
    "  * `Transaction_Duration` spans from a few seconds to 10 minutes, which might be an indicator of operation complexity.  \n",
    "* **Fraud Cases:**  \n",
    "  * Only about 2% of transactions are fraudulent, so the dataset is highly imbalanced.  \n",
    "  * This justifies the use of techniques like SMOTE and probability threshold adjustments to properly detect rare fraud cases.\n"
   ]
  },
  {
   "cell_type": "markdown",
   "id": "26e5671d",
   "metadata": {},
   "source": [
    "### 5 · Pre-processing pipelines\n"
   ]
  },
  {
   "cell_type": "code",
   "execution_count": 8,
   "id": "d6d83a17",
   "metadata": {},
   "outputs": [],
   "source": [
    "# 5 · Pre-processing pipelines\n",
    "# ----------------------------\n",
    "# 1. Extract date parts (year, month, …) so the model can learn seasonality.\n",
    "# 2. Turn the IP address string into a single integer feature.\n",
    "# 3. Build a ColumnTransformer that scales numerics and one-hots categoricals.\n",
    "\n",
    "# date parts\n",
    "df[\"Year\"]    = df[\"Transaction_Date\"].dt.year\n",
    "df[\"Month\"]   = df[\"Transaction_Date\"].dt.month\n",
    "df[\"Weekday\"] = df[\"Transaction_Date\"].dt.weekday\n",
    "df[\"Hour\"]    = df[\"Transaction_Date\"].dt.hour\n",
    "\n",
    "# IP address → int (keeps ordering property roughly)\n",
    "df[\"Ip_Int\"] = df[\"Ip_Address\"].apply(\n",
    "    lambda ip: int(\"\".join(f\"{int(o):03d}\" for o in ip.split(\".\")))\n",
    ")\n",
    "\n",
    "# columns we won’t feed to the model\n",
    "drop_cols = [\n",
    "    \"Is_Fraud\", \"Transaction_ID\", \"Transaction_Date\", \"Ip_Address\",\n",
    "    \"Description\", \"Counterparty_Account\", \"External_Bank_Name\",\n",
    "    \"External_Bank_Code\"\n",
    "]\n",
    "\n",
    "X = df.drop(columns=drop_cols)\n",
    "\n",
    "num_cols = X.select_dtypes(include=[\"int64\", \"float64\"]).columns.tolist()\n",
    "cat_cols = X.select_dtypes(include=[\"object\", \"category\", \"bool\"]).columns.tolist()\n",
    "\n",
    "numeric_pipe   = Pipeline([(\"scaler\", StandardScaler())])\n",
    "categoric_pipe = Pipeline([(\"onehot\", OneHotEncoder(handle_unknown=\"ignore\"))])\n",
    "\n",
    "preprocess = ColumnTransformer([\n",
    "    (\"num\", numeric_pipe, num_cols),\n",
    "    (\"cat\", categoric_pipe, cat_cols)\n",
    "])\n"
   ]
  },
  {
   "cell_type": "markdown",
   "id": "c6450780",
   "metadata": {},
   "source": [
    "### 6 · Train / test stratified\n"
   ]
  },
  {
   "cell_type": "code",
   "execution_count": 9,
   "id": "5e62c9bc",
   "metadata": {},
   "outputs": [
    {
     "name": "stdout",
     "output_type": "stream",
     "text": [
      "Fraud ratio in train: 0.0204\n"
     ]
    }
   ],
   "source": [
    "# 6 · Train / test split\n",
    "# ----------------------\n",
    "# Stratified split keeps the ~2 % fraud ratio identical in both sets.\n",
    "X_train, X_test, y_train, y_test = train_test_split(\n",
    "    X, y, test_size=0.25, stratify=y, random_state=42\n",
    ")\n",
    "\n",
    "print(\"Fraud ratio in train:\", y_train.mean().round(4))\n"
   ]
  },
  {
   "cell_type": "markdown",
   "id": "f0ae4325",
   "metadata": {},
   "source": [
    "### 7 · Autoencoder (anomaly detection)\n"
   ]
  },
  {
   "cell_type": "code",
   "execution_count": 10,
   "id": "a1d70873",
   "metadata": {},
   "outputs": [
    {
     "name": "stdout",
     "output_type": "stream",
     "text": [
      "Autoencoder PR-AUC: 0.033\n"
     ]
    }
   ],
   "source": [
    "# 7 · Autoencoder (unsupervised baseline)\n",
    "# ---------------------------------------\n",
    "# Trains only on numeric features; goal is to flag “weird” transactions\n",
    "# whose reconstruction error is above the 95th percentile.\n",
    "\n",
    "X_train_num = numeric_pipe.fit_transform(X_train[num_cols])\n",
    "X_test_num  = numeric_pipe.transform(X_test[num_cols])\n",
    "\n",
    "input_dim = X_train_num.shape[1]\n",
    "\n",
    "ae = keras.Sequential([\n",
    "    layers.Input(shape=(input_dim,)),\n",
    "    layers.Dense(64, activation=\"relu\"),\n",
    "    layers.Dense(32, activation=\"relu\"),\n",
    "    layers.Dense(64, activation=\"relu\"),\n",
    "    layers.Dense(input_dim)                 # linear output layer\n",
    "])\n",
    "\n",
    "ae.compile(optimizer=\"adam\", loss=\"mse\")\n",
    "ae.fit(X_train_num, X_train_num,\n",
    "       epochs=10, batch_size=512,\n",
    "       validation_split=0.1, verbose=0)\n",
    "\n",
    "recon_train = np.mean((ae.predict(X_train_num, verbose=0) - X_train_num)**2, axis=1)\n",
    "threshold   = np.percentile(recon_train, 95)  # keep top-5 % errors\n",
    "\n",
    "recon_test = np.mean((ae.predict(X_test_num, verbose=0) - X_test_num)**2, axis=1)\n",
    "y_pred_ae  = (recon_test > threshold).astype(int)\n",
    "\n",
    "print(\"Autoencoder PR-AUC:\", average_precision_score(y_test, y_pred_ae).round(4))\n"
   ]
  },
  {
   "cell_type": "markdown",
   "id": "bab3fee9",
   "metadata": {},
   "source": [
    "### Autoencoder – First Look\n",
    "\n",
    "* **PR-AUC = 0.03**  \n",
    "  * Clearly above random (≈ 0.02) but still far from production-ready.  \n",
    "  * The selected threshold (95th percentile of reconstruction error) results in the confusion matrix shown on the left.  \n",
    "* **Quick Interpretation**  \n",
    "  * High *recall* (≈ 70%) — captures a large portion of fraud cases.  \n",
    "  * Very low *precision* → too many false positives (≈ 21k).  \n",
    "  * Useful as an \"early warning system\" if the cost of reviewing many alerts is acceptable, but not reliable on its own.\n"
   ]
  },
  {
   "cell_type": "markdown",
   "id": "f74cba50",
   "metadata": {},
   "source": [
    "### 8 · Random Forest (supervised)\n"
   ]
  },
  {
   "cell_type": "code",
   "execution_count": 11,
   "id": "f9609607",
   "metadata": {},
   "outputs": [
    {
     "name": "stderr",
     "output_type": "stream",
     "text": [
      "c:\\Python\\Python39\\lib\\site-packages\\sklearn\\base.py:474: FutureWarning: `BaseEstimator._validate_data` is deprecated in 1.6 and will be removed in 1.7. Use `sklearn.utils.validation.validate_data` instead. This function becomes public and is part of the scikit-learn developer API.\n",
      "  warnings.warn(\n"
     ]
    },
    {
     "name": "stdout",
     "output_type": "stream",
     "text": [
      "RF PR-AUC : 0.0988\n",
      "              precision    recall  f1-score   support\n",
      "\n",
      "           0       1.00      0.83      0.91    455110\n",
      "           1       0.10      0.93      0.18      9481\n",
      "\n",
      "    accuracy                           0.83    464591\n",
      "   macro avg       0.55      0.88      0.54    464591\n",
      "weighted avg       0.98      0.83      0.89    464591\n",
      "\n"
     ]
    }
   ],
   "source": [
    "# 8 · Random-Forest + SMOTE\n",
    "# -------------------------\n",
    "# Classic supervised baseline: handle imbalance with SMOTE,\n",
    "# then train a mid-depth forest.\n",
    "\n",
    "rf_pipe = ImbPipeline(steps=[\n",
    "    (\"prep\", preprocess),\n",
    "    (\"smote\", SMOTE(random_state=42)),\n",
    "    (\"rf\", RandomForestClassifier(\n",
    "        n_estimators=250, max_depth=12, n_jobs=-1, random_state=42\n",
    "    ))\n",
    "])\n",
    "\n",
    "rf_pipe.fit(X_train, y_train)\n",
    "y_pred_rf = rf_pipe.predict(X_test)\n",
    "y_prob_rf = rf_pipe.predict_proba(X_test)[:, 1]\n",
    "\n",
    "print(\"RF PR-AUC :\", average_precision_score(y_test, y_prob_rf).round(4))\n",
    "print(classification_report(y_test, y_pred_rf))\n"
   ]
  },
  {
   "cell_type": "markdown",
   "id": "15ba5abb",
   "metadata": {},
   "source": [
    "### Random Forest + SMOTE\n",
    "\n",
    "| Metric               | Value   |\n",
    "|----------------------|---------|\n",
    "| **ROC-AUC**          | **0.89** |\n",
    "| **PR-AUC**           | **0.10** |\n",
    "| **Recall (fraud)**   | 0.93    |\n",
    "| **Precision (fraud)**| 0.10    |\n",
    "\n",
    "* **Recall of 93%** means the model successfully flags most fraud cases.  \n",
    "* **Precision of 10%** shows that for every 10 fraud alerts, only 1 is actually fraudulent.  \n",
    "  * Still, that’s a major step up from the Autoencoder’s 3% precision.  \n",
    "* **F1-score of 0.18** is typical in scenarios with heavy class imbalance.\n",
    "\n",
    "> **Takeaway:** Random Forest with SMOTE performs much better than the Autoencoder.  \n",
    "> Still, high false positive rates remain a challenge — we’ll need to fine-tune the decision threshold or use cost-sensitive methods to make it viable in real-world conditions.\n"
   ]
  },
  {
   "cell_type": "markdown",
   "id": "68be3a8d",
   "metadata": {},
   "source": [
    "### 9 · Compare AE vs RF\n"
   ]
  },
  {
   "cell_type": "code",
   "execution_count": 12,
   "id": "6b70366a",
   "metadata": {},
   "outputs": [
    {
     "data": {
      "image/png": "[encoded data removed]",
      "text/plain": [
       "<Figure size 1000x400 with 4 Axes>"
      ]
     },
     "metadata": {},
     "output_type": "display_data"
    }
   ],
   "source": [
    "# 9 · Confusion matrices to eyeball FP/FN trade-off\n",
    "import matplotlib.pyplot as plt\n",
    "from sklearn.metrics import ConfusionMatrixDisplay\n",
    "\n",
    "fig, ax = plt.subplots(1, 2, figsize=(10, 4))\n",
    "ConfusionMatrixDisplay.from_predictions(y_test, y_pred_ae, ax=ax[0])\n",
    "ax[0].set_title(\"Autoencoder\")\n",
    "\n",
    "ConfusionMatrixDisplay.from_predictions(y_test, y_pred_rf, ax=ax[1])\n",
    "ax[1].set_title(\"Random Forest\")\n",
    "\n",
    "plt.show()\n"
   ]
  },
  {
   "cell_type": "markdown",
   "id": "6c3001a9",
   "metadata": {},
   "source": [
    "### Visual Comparison\n",
    "\n",
    "* **Autoencoder**  \n",
    "  * 21,506 false positives vs. 7,726 false negatives.  \n",
    "  * FP to FN ratio ≈ 2.8 ×  \n",
    "* **Random Forest**  \n",
    "  * 78,027 false positives but **only 685 false negatives**.  \n",
    "  * For a bank, missing 685 frauds out of ~465k test transactions may be acceptable — if the operational cost of investigating 78k alerts is manageable.\n"
   ]
  },
  {
   "cell_type": "markdown",
   "id": "b68da60b",
   "metadata": {},
   "source": [
    "# Upgrade the model"
   ]
  },
  {
   "cell_type": "markdown",
   "id": "6b659493",
   "metadata": {},
   "source": [
    "### Behavioural features (24-h window)\n"
   ]
  },
  {
   "cell_type": "code",
   "execution_count": 13,
   "id": "49158615",
   "metadata": {},
   "outputs": [],
   "source": [
    "# 10 · Add a simple behavioural feature: number of transactions\n",
    "#                        a client made in the last 24 hours (Tx_24h).\n",
    "cutoff_24h = df[\"Transaction_Date\"].max() - pd.Timedelta(days=1)\n",
    "tx24_series = (\n",
    "    df[df[\"Transaction_Date\"] >= cutoff_24h]\n",
    "      .groupby(\"Client_ID\")[\"Transaction_ID\"]\n",
    "      .count()\n",
    ")\n",
    "\n",
    "df[\"Tx_24h\"] = df[\"Client_ID\"].map(tx24_series).fillna(0).astype(int)\n",
    "\n",
    "num_cols2 = num_cols + [\"Tx_24h\"]\n",
    "cat_cols2 = cat_cols[:]\n",
    "X2 = df.drop(columns=drop_cols)\n"
   ]
  },
  {
   "cell_type": "markdown",
   "id": "3292bfe3",
   "metadata": {},
   "source": [
    "### 11 . Re-train XGBoost + grid threshold\n"
   ]
  },
  {
   "cell_type": "code",
   "execution_count": 14,
   "id": "6e057cc9",
   "metadata": {},
   "outputs": [
    {
     "name": "stdout",
     "output_type": "stream",
     "text": [
      "Chosen τ = 0.79  →  Precision=0.102  Recall=0.935\n"
     ]
    }
   ],
   "source": [
    "# 11 · XGBoost model + quick threshold search\n",
    "# -------------------------------------------\n",
    "# We aim for precision ≥ 0.20 while keeping recall as high as possible.\n",
    "\n",
    "from sklearn.metrics import precision_score, recall_score, precision_recall_curve\n",
    "\n",
    "preprocess2 = ColumnTransformer([\n",
    "    (\"num\", StandardScaler(), num_cols2),\n",
    "    (\"cat\", OneHotEncoder(handle_unknown=\"ignore\"), cat_cols2)\n",
    "])\n",
    "\n",
    "ratio = (y_train == 0).sum() / (y_train == 1).sum()  # neg / pos\n",
    "\n",
    "xgb_pipe = ImbPipeline(steps=[\n",
    "    (\"prep\", preprocess2),\n",
    "    (\"xgb\", XGBClassifier(\n",
    "        n_estimators=600,\n",
    "        max_depth=8,\n",
    "        learning_rate=0.05,\n",
    "        subsample=0.9,\n",
    "        colsample_bytree=0.9,\n",
    "        scale_pos_weight=ratio,\n",
    "        eval_metric=\"aucpr\",\n",
    "        n_jobs=-1,\n",
    "        random_state=42\n",
    "    ))\n",
    "])\n",
    "\n",
    "X_train2, X_test2, y_train2, y_test2 = train_test_split(\n",
    "    X2, y, test_size=0.25, stratify=y, random_state=42\n",
    ")\n",
    "\n",
    "xgb_pipe.fit(X_train2, y_train2)\n",
    "y_prob = xgb_pipe.predict_proba(X_test2)[:, 1]\n",
    "\n",
    "best_p, best_r, best_t = 0, 0, 0\n",
    "for t in np.arange(0.50, 0.90, 0.02):\n",
    "    preds = (y_prob >= t).astype(int)\n",
    "    p     = precision_score(y_test2, preds, zero_division=0)\n",
    "    r     = recall_score(y_test2, preds)\n",
    "    if p >= 0.20 and r > best_r:\n",
    "        best_p, best_r, best_t = p, r, t\n",
    "\n",
    "# fallback: choose threshold with best F1 if ≥0.20 precision not reached\n",
    "if best_p == 0:\n",
    "    prec, rec, thr = precision_recall_curve(y_test2, y_prob)\n",
    "    f1  = 2 * prec * rec / (prec + rec + 1e-9)\n",
    "    idx = np.argmax(f1)\n",
    "    best_p, best_r, best_t = prec[idx], rec[idx], thr[idx]\n",
    "\n",
    "print(f\"Chosen τ = {best_t:.2f}  →  Precision={best_p:.3f}  Recall={best_r:.3f}\")\n"
   ]
  },
  {
   "cell_type": "markdown",
   "id": "e066fe99",
   "metadata": {},
   "source": [
    "### 12 . Final Assessment & Next Steps\n",
    "\n",
    "The grid-search selected **τ = 0.79**, which gives us a **precision of around 10.2%** and **recall of 93.5%**.\n",
    "\n",
    "* However, precision barely improved compared to the default threshold (still ~10%), and recall actually dropped slightly from **95% to 93.5%**.\n",
    "* So, we’re missing more fraud cases without reducing false positives — basically, a worse deal.\n",
    "\n",
    "**Bottom line**  \n",
    "It's better to **stick with the default threshold of 0.50** for now.  \n",
    "Pushing the threshold higher doesn’t improve results meaningfully.  \n",
    "To truly boost precision, we’ll need better behaviour-based features (like IP changes, activity spikes) or custom cost-based training — not just tuning τ.\n"
   ]
  },
  {
   "cell_type": "code",
   "execution_count": 15,
   "id": "4e467963",
   "metadata": {},
   "outputs": [
    {
     "name": "stdout",
     "output_type": "stream",
     "text": [
      "PR-AUC : 0.0994\n",
      "              precision    recall  f1-score   support\n",
      "\n",
      "           0      0.999     0.824     0.903    455110\n",
      "           1      0.101     0.951     0.183      9481\n",
      "\n",
      "    accuracy                          0.827    464591\n",
      "   macro avg      0.550     0.888     0.543    464591\n",
      "weighted avg      0.980     0.827     0.888    464591\n",
      "\n"
     ]
    }
   ],
   "source": [
    "# 12 · Evaluate XGBoost with the default 0.50 threshold\n",
    "y_prob_def = y_prob\n",
    "y_pred_def = (y_prob_def >= 0.5).astype(int)\n",
    "\n",
    "print(\"PR-AUC :\", average_precision_score(y_test2, y_prob_def).round(4))\n",
    "print(classification_report(y_test2, y_pred_def, digits=3))\n"
   ]
  },
  {
   "cell_type": "markdown",
   "id": "76f6ba42",
   "metadata": {},
   "source": [
    "## Final Model — XGBoost (default threshold 0.50)\n",
    "\n",
    "| Metric (fraud class = 1) | Value |\n",
    "|--------------------------|------:|\n",
    "| **PR-AUC**               | **0.099** |\n",
    "| **Precision**            | **0.101** |\n",
    "| **Recall**               | **0.951** |\n",
    "| **F1-score**             | 0.183 |\n",
    "\n",
    "**What it means**\n",
    "\n",
    "* The model is catching **95% of all fraud cases**, which is great — but for every 10 fraud alerts, only 1 is actually fraudulent.\n",
    "* It almost never flags legitimate transactions incorrectly (precision for class 0 is 0.999), but you’ll still get about **9 false alarms** for every real fraud.\n",
    "* Accuracy is around 82%, but due to the heavy class imbalance, it doesn’t tell us much — the real focus is on how well we balance precision and recall.\n",
    "\n",
    "**Takeaway for deployment**\n",
    "\n",
    "This XGBoost setup gives us the **best fraud detection so far** without needing to add more features.  \n",
    "If your operations team is okay reviewing around 9 false positives per true fraud, this model is good to go for a pilot test.  \n",
    "If not, we’ll need to engineer more advanced behavioural features (e.g., client activity spikes, IP shifts) or look into training with custom cost functions to improve precision further.\n"
   ]
  }
 ],
 "metadata": {
  "kernelspec": {
   "display_name": "Python 3",
   "language": "python",
   "name": "python3"
  },
  "language_info": {
   "codemirror_mode": {
    "name": "ipython",
    "version": 3
   },
   "file_extension": ".py",
   "mimetype": "text/x-python",
   "name": "python",
   "nbconvert_exporter": "python",
   "pygments_lexer": "ipython3",
   "version": "3.9.0"
  }
 },
 "nbformat": 4,
 "nbformat_minor": 5
}
