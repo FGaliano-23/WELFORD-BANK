{
 "cells": [
  {
   "cell_type": "code",
   "execution_count": 1,
   "id": "2dc8b97a",
   "metadata": {},
   "outputs": [
    {
     "name": "stdout",
     "output_type": "stream",
     "text": [
      "Installing packages from requirements.txt …\n",
      "Requirement already satisfied: pandas>=2.0.0 in /opt/anaconda3/lib/python3.12/site-packages (from -r requirements.txt (line 1)) (2.2.2)\n",
      "Requirement already satisfied: numpy>=1.24.0 in /opt/anaconda3/lib/python3.12/site-packages (from -r requirements.txt (line 2)) (1.26.4)\n",
      "Requirement already satisfied: scikit-learn>=1.3.0 in /opt/anaconda3/lib/python3.12/site-packages (from -r requirements.txt (line 3)) (1.5.1)\n",
      "Requirement already satisfied: imbalanced-learn>=0.11.0 in /opt/anaconda3/lib/python3.12/site-packages (from -r requirements.txt (line 4)) (0.12.3)\n",
      "Requirement already satisfied: plotly>=5.18.0 in /opt/anaconda3/lib/python3.12/site-packages (from -r requirements.txt (line 5)) (5.24.1)\n",
      "Requirement already satisfied: python-dateutil>=2.8.2 in /opt/anaconda3/lib/python3.12/site-packages (from pandas>=2.0.0->-r requirements.txt (line 1)) (2.9.0.post0)\n",
      "Requirement already satisfied: pytz>=2020.1 in /opt/anaconda3/lib/python3.12/site-packages (from pandas>=2.0.0->-r requirements.txt (line 1)) (2024.1)\n",
      "Requirement already satisfied: tzdata>=2022.7 in /opt/anaconda3/lib/python3.12/site-packages (from pandas>=2.0.0->-r requirements.txt (line 1)) (2023.3)\n",
      "Requirement already satisfied: scipy>=1.6.0 in /opt/anaconda3/lib/python3.12/site-packages (from scikit-learn>=1.3.0->-r requirements.txt (line 3)) (1.13.1)\n",
      "Requirement already satisfied: joblib>=1.2.0 in /opt/anaconda3/lib/python3.12/site-packages (from scikit-learn>=1.3.0->-r requirements.txt (line 3)) (1.4.2)\n",
      "Requirement already satisfied: threadpoolctl>=3.1.0 in /opt/anaconda3/lib/python3.12/site-packages (from scikit-learn>=1.3.0->-r requirements.txt (line 3)) (3.5.0)\n",
      "Requirement already satisfied: tenacity>=6.2.0 in /opt/anaconda3/lib/python3.12/site-packages (from plotly>=5.18.0->-r requirements.txt (line 5)) (8.2.3)\n",
      "Requirement already satisfied: packaging in /opt/anaconda3/lib/python3.12/site-packages (from plotly>=5.18.0->-r requirements.txt (line 5)) (24.1)\n",
      "Requirement already satisfied: six>=1.5 in /opt/anaconda3/lib/python3.12/site-packages (from python-dateutil>=2.8.2->pandas>=2.0.0->-r requirements.txt (line 1)) (1.16.0)\n",
      " Environment ready\n"
     ]
    }
   ],
   "source": [
    "# Install dependencies declared in requirements.txt\n",
    "import subprocess, sys, pathlib\n",
    "\n",
    "req_path = pathlib.Path(\"requirements.txt\")\n",
    "\n",
    "if not req_path.exists():\n",
    "    raise FileNotFoundError(\"requirements.txt not found in the current directory\")\n",
    "\n",
    "command = [sys.executable, \"-m\", \"pip\", \"install\", \"-r\", str(req_path)]\n",
    "\n",
    "print(\"Installing packages from requirements.txt …\")\n",
    "subprocess.check_call(command)\n",
    "print(\" Environment ready\")"
   ]
  },
  {
   "cell_type": "code",
   "execution_count": 2,
   "id": "b70bc643",
   "metadata": {},
   "outputs": [],
   "source": [
    "# Imports\n",
    "import pandas as pd\n",
    "from sklearn.model_selection import train_test_split\n",
    "from sklearn.linear_model import LogisticRegression\n",
    "from sklearn.preprocessing import OneHotEncoder, StandardScaler\n",
    "from sklearn.compose import ColumnTransformer\n",
    "from imblearn.over_sampling import SMOTE\n",
    "import plotly.figure_factory as ff\n",
    "import plotly.express as px\n",
    "from sklearn.metrics import classification_report, confusion_matrix\n",
    "import numpy as np"
   ]
  },
  {
   "cell_type": "markdown",
   "id": "5a70ad35",
   "metadata": {},
   "source": [
    "# Explanation"
   ]
  },
  {
   "cell_type": "markdown",
   "id": "06edc3f3",
   "metadata": {},
   "source": [
    "### Dataset Snapshot – `loans_welfordbank_en.csv`\n",
    "\n",
    "| Metric | Value |\n",
    "|--------|-------|\n",
    "| **Loans** | 87 135 |\n",
    "| **Time span** | Jan 2020 – May 2025 |\n",
    "| **Key fields** | `Loan_ID`, `Client_ID`, `Loan_Type`, `Principal_Amount`, `Interest_Rate`, `Loan_Term_Months`, `Start_Date`, `End_Date`, `Outstanding_Balance`, `Loan_Status`, **`Default_Status`** |\n",
    "| **Imbalance** | ≈ 2 % of records are `Default_Status = Yes` |\n",
    "\n",
    "### What Counts as **Default**\n",
    "\n",
    "`Default_Status = Yes` is flagged when a loan hits **any** of these internal triggers:\n",
    "\n",
    "1. **≥ 90 days past-due** on contractual payments.  \n",
    "2. **Charge-off / write-off**: deemed uncollectible and removed from the performing book.  \n",
    "3. **Legal recovery**: referred to collections or litigation.\n",
    "\n",
    "If none occur, the loan stays `Default_Status = No`.  \n",
    "Thus, *default* signals a **material credit loss expectation**, not just early closure.\n",
    "\n",
    "### Modelling Goal\n",
    "\n",
    "**Predict the probability that an active loan will default before maturity.**\n",
    "\n",
    "Why it matters:\n",
    "\n",
    "* **Pricing & underwriting** – adjust margin or collateral to risk.  \n",
    "* **IFRS 9 / Basel** – expected-loss provisioning needs accurate PD.  \n",
    "* **Early action** – flag high-risk borrowers for proactive outreach.\n",
    "\n",
    "### Approach in the Notebook\n",
    "\n",
    "1. **Baseline** logistic regression for interpretability.  \n",
    "2. **Rebalancing** (class weights, SMOTE) to counter 2 % minority.  \n",
    "3. **Feature enrichment** with credit history, loan-level metrics, client demographics.   "
   ]
  },
  {
   "cell_type": "markdown",
   "id": "053aad95",
   "metadata": {},
   "source": [
    "# Firts view of the main data"
   ]
  },
  {
   "cell_type": "code",
   "execution_count": 285,
   "id": "ce2f52ef",
   "metadata": {},
   "outputs": [
    {
     "data": {
      "text/html": [
       "<div>\n",
       "<style scoped>\n",
       "    .dataframe tbody tr th:only-of-type {\n",
       "        vertical-align: middle;\n",
       "    }\n",
       "\n",
       "    .dataframe tbody tr th {\n",
       "        vertical-align: top;\n",
       "    }\n",
       "\n",
       "    .dataframe thead th {\n",
       "        text-align: right;\n",
       "    }\n",
       "</style>\n",
       "<table border=\"1\" class=\"dataframe\">\n",
       "  <thead>\n",
       "    <tr style=\"text-align: right;\">\n",
       "      <th></th>\n",
       "      <th>Loan_ID</th>\n",
       "      <th>Client_ID</th>\n",
       "      <th>Loan_Type</th>\n",
       "      <th>Principal_Amount</th>\n",
       "      <th>Interest_Rate</th>\n",
       "      <th>Loan_Term_Months</th>\n",
       "      <th>Start_Date</th>\n",
       "      <th>End_Date</th>\n",
       "      <th>Outstanding_Balance</th>\n",
       "      <th>Loan_Status</th>\n",
       "      <th>Default_Status</th>\n",
       "    </tr>\n",
       "  </thead>\n",
       "  <tbody>\n",
       "    <tr>\n",
       "      <th>0</th>\n",
       "      <td>1</td>\n",
       "      <td>1</td>\n",
       "      <td>Small Business Loan</td>\n",
       "      <td>246627.57</td>\n",
       "      <td>5.5</td>\n",
       "      <td>84</td>\n",
       "      <td>2022-02-05</td>\n",
       "      <td>2029-02-05</td>\n",
       "      <td>0.00</td>\n",
       "      <td>Closed</td>\n",
       "      <td>No</td>\n",
       "    </tr>\n",
       "    <tr>\n",
       "      <th>1</th>\n",
       "      <td>2</td>\n",
       "      <td>1</td>\n",
       "      <td>Personal Loan</td>\n",
       "      <td>29977.00</td>\n",
       "      <td>4.2</td>\n",
       "      <td>60</td>\n",
       "      <td>2020-03-28</td>\n",
       "      <td>2025-03-28</td>\n",
       "      <td>0.00</td>\n",
       "      <td>Closed</td>\n",
       "      <td>No</td>\n",
       "    </tr>\n",
       "    <tr>\n",
       "      <th>2</th>\n",
       "      <td>3</td>\n",
       "      <td>2</td>\n",
       "      <td>Personal Loan</td>\n",
       "      <td>5985.50</td>\n",
       "      <td>4.2</td>\n",
       "      <td>60</td>\n",
       "      <td>2023-10-24</td>\n",
       "      <td>2028-10-24</td>\n",
       "      <td>5985.50</td>\n",
       "      <td>Active</td>\n",
       "      <td>No</td>\n",
       "    </tr>\n",
       "    <tr>\n",
       "      <th>3</th>\n",
       "      <td>4</td>\n",
       "      <td>2</td>\n",
       "      <td>Mortgage</td>\n",
       "      <td>484756.77</td>\n",
       "      <td>1.5</td>\n",
       "      <td>240</td>\n",
       "      <td>2023-09-09</td>\n",
       "      <td>2043-09-09</td>\n",
       "      <td>0.00</td>\n",
       "      <td>Closed</td>\n",
       "      <td>No</td>\n",
       "    </tr>\n",
       "    <tr>\n",
       "      <th>4</th>\n",
       "      <td>5</td>\n",
       "      <td>3</td>\n",
       "      <td>Mortgage</td>\n",
       "      <td>223920.76</td>\n",
       "      <td>1.5</td>\n",
       "      <td>240</td>\n",
       "      <td>2024-09-02</td>\n",
       "      <td>2044-09-02</td>\n",
       "      <td>223920.76</td>\n",
       "      <td>Active</td>\n",
       "      <td>No</td>\n",
       "    </tr>\n",
       "  </tbody>\n",
       "</table>\n",
       "</div>"
      ],
      "text/plain": [
       "   Loan_ID  Client_ID            Loan_Type  Principal_Amount  Interest_Rate  \\\n",
       "0        1          1  Small Business Loan         246627.57            5.5   \n",
       "1        2          1        Personal Loan          29977.00            4.2   \n",
       "2        3          2        Personal Loan           5985.50            4.2   \n",
       "3        4          2             Mortgage         484756.77            1.5   \n",
       "4        5          3             Mortgage         223920.76            1.5   \n",
       "\n",
       "   Loan_Term_Months  Start_Date    End_Date  Outstanding_Balance Loan_Status  \\\n",
       "0                84  2022-02-05  2029-02-05                 0.00      Closed   \n",
       "1                60  2020-03-28  2025-03-28                 0.00      Closed   \n",
       "2                60  2023-10-24  2028-10-24              5985.50      Active   \n",
       "3               240  2023-09-09  2043-09-09                 0.00      Closed   \n",
       "4               240  2024-09-02  2044-09-02            223920.76      Active   \n",
       "\n",
       "  Default_Status  \n",
       "0             No  \n",
       "1             No  \n",
       "2             No  \n",
       "3             No  \n",
       "4             No  "
      ]
     },
     "execution_count": 285,
     "metadata": {},
     "output_type": "execute_result"
    }
   ],
   "source": [
    "# Load the dataset and display the first 5 rows\n",
    "loans = pd.read_csv(\"data/loans_welfordbank_en.csv\")\n",
    "loans.head(5)"
   ]
  },
  {
   "cell_type": "code",
   "execution_count": 286,
   "id": "4d9c1f6c",
   "metadata": {},
   "outputs": [
    {
     "name": "stdout",
     "output_type": "stream",
     "text": [
      "<class 'pandas.core.frame.DataFrame'>\n",
      "RangeIndex: 87135 entries, 0 to 87134\n",
      "Data columns (total 11 columns):\n",
      " #   Column               Non-Null Count  Dtype  \n",
      "---  ------               --------------  -----  \n",
      " 0   Loan_ID              87135 non-null  int64  \n",
      " 1   Client_ID            87135 non-null  int64  \n",
      " 2   Loan_Type            87135 non-null  object \n",
      " 3   Principal_Amount     87135 non-null  float64\n",
      " 4   Interest_Rate        87135 non-null  float64\n",
      " 5   Loan_Term_Months     87135 non-null  int64  \n",
      " 6   Start_Date           87135 non-null  object \n",
      " 7   End_Date             87135 non-null  object \n",
      " 8   Outstanding_Balance  87135 non-null  float64\n",
      " 9   Loan_Status          87135 non-null  object \n",
      " 10  Default_Status       87135 non-null  object \n",
      "dtypes: float64(3), int64(3), object(5)\n",
      "memory usage: 7.3+ MB\n"
     ]
    },
    {
     "data": {
      "text/html": [
       "<div>\n",
       "<style scoped>\n",
       "    .dataframe tbody tr th:only-of-type {\n",
       "        vertical-align: middle;\n",
       "    }\n",
       "\n",
       "    .dataframe tbody tr th {\n",
       "        vertical-align: top;\n",
       "    }\n",
       "\n",
       "    .dataframe thead th {\n",
       "        text-align: right;\n",
       "    }\n",
       "</style>\n",
       "<table border=\"1\" class=\"dataframe\">\n",
       "  <thead>\n",
       "    <tr style=\"text-align: right;\">\n",
       "      <th></th>\n",
       "      <th>Loan_ID</th>\n",
       "      <th>Client_ID</th>\n",
       "      <th>Principal_Amount</th>\n",
       "      <th>Interest_Rate</th>\n",
       "      <th>Loan_Term_Months</th>\n",
       "      <th>Outstanding_Balance</th>\n",
       "    </tr>\n",
       "  </thead>\n",
       "  <tbody>\n",
       "    <tr>\n",
       "      <th>count</th>\n",
       "      <td>87135.00000</td>\n",
       "      <td>87135.000000</td>\n",
       "      <td>87135.000000</td>\n",
       "      <td>87135.000000</td>\n",
       "      <td>87135.000000</td>\n",
       "      <td>87135.000000</td>\n",
       "    </tr>\n",
       "    <tr>\n",
       "      <th>mean</th>\n",
       "      <td>43568.00000</td>\n",
       "      <td>12487.058151</td>\n",
       "      <td>87207.121652</td>\n",
       "      <td>3.983711</td>\n",
       "      <td>94.068928</td>\n",
       "      <td>26338.052160</td>\n",
       "    </tr>\n",
       "    <tr>\n",
       "      <th>std</th>\n",
       "      <td>25153.85219</td>\n",
       "      <td>7205.571671</td>\n",
       "      <td>110706.712120</td>\n",
       "      <td>1.516560</td>\n",
       "      <td>73.117993</td>\n",
       "      <td>72933.177124</td>\n",
       "    </tr>\n",
       "    <tr>\n",
       "      <th>min</th>\n",
       "      <td>1.00000</td>\n",
       "      <td>1.000000</td>\n",
       "      <td>500.970000</td>\n",
       "      <td>1.500000</td>\n",
       "      <td>12.000000</td>\n",
       "      <td>0.000000</td>\n",
       "    </tr>\n",
       "    <tr>\n",
       "      <th>25%</th>\n",
       "      <td>21784.50000</td>\n",
       "      <td>6291.000000</td>\n",
       "      <td>16231.950000</td>\n",
       "      <td>2.900000</td>\n",
       "      <td>48.000000</td>\n",
       "      <td>0.000000</td>\n",
       "    </tr>\n",
       "    <tr>\n",
       "      <th>50%</th>\n",
       "      <td>43568.00000</td>\n",
       "      <td>12455.000000</td>\n",
       "      <td>41098.080000</td>\n",
       "      <td>4.200000</td>\n",
       "      <td>84.000000</td>\n",
       "      <td>0.000000</td>\n",
       "    </tr>\n",
       "    <tr>\n",
       "      <th>75%</th>\n",
       "      <td>65351.50000</td>\n",
       "      <td>18717.000000</td>\n",
       "      <td>101813.275000</td>\n",
       "      <td>5.500000</td>\n",
       "      <td>120.000000</td>\n",
       "      <td>11621.980000</td>\n",
       "    </tr>\n",
       "    <tr>\n",
       "      <th>max</th>\n",
       "      <td>87135.00000</td>\n",
       "      <td>25000.000000</td>\n",
       "      <td>499982.410000</td>\n",
       "      <td>6.000000</td>\n",
       "      <td>240.000000</td>\n",
       "      <td>499982.410000</td>\n",
       "    </tr>\n",
       "  </tbody>\n",
       "</table>\n",
       "</div>"
      ],
      "text/plain": [
       "           Loan_ID     Client_ID  Principal_Amount  Interest_Rate  \\\n",
       "count  87135.00000  87135.000000      87135.000000   87135.000000   \n",
       "mean   43568.00000  12487.058151      87207.121652       3.983711   \n",
       "std    25153.85219   7205.571671     110706.712120       1.516560   \n",
       "min        1.00000      1.000000        500.970000       1.500000   \n",
       "25%    21784.50000   6291.000000      16231.950000       2.900000   \n",
       "50%    43568.00000  12455.000000      41098.080000       4.200000   \n",
       "75%    65351.50000  18717.000000     101813.275000       5.500000   \n",
       "max    87135.00000  25000.000000     499982.410000       6.000000   \n",
       "\n",
       "       Loan_Term_Months  Outstanding_Balance  \n",
       "count      87135.000000         87135.000000  \n",
       "mean          94.068928         26338.052160  \n",
       "std           73.117993         72933.177124  \n",
       "min           12.000000             0.000000  \n",
       "25%           48.000000             0.000000  \n",
       "50%           84.000000             0.000000  \n",
       "75%          120.000000         11621.980000  \n",
       "max          240.000000        499982.410000  "
      ]
     },
     "execution_count": 286,
     "metadata": {},
     "output_type": "execute_result"
    }
   ],
   "source": [
    "# Display basic information about the dataset\n",
    "loans.info()\n",
    "loans.describe()"
   ]
  },
  {
   "cell_type": "markdown",
   "id": "28eed900",
   "metadata": {},
   "source": [
    "# Prepare the data for the model"
   ]
  },
  {
   "cell_type": "code",
   "execution_count": 287,
   "id": "60831f3d",
   "metadata": {},
   "outputs": [],
   "source": [
    "# Encode target variable: 'Sí' -> 1, 'No' -> 0\n",
    "y = loans['Default_Status'].map({'Yes': 1, 'No': 0})\n",
    "\n",
    "# Select predictor variables\n",
    "X = loans[['Principal_Amount', 'Interest_Rate', 'Loan_Term_Months', 'Loan_Type']]"
   ]
  },
  {
   "cell_type": "code",
   "execution_count": 288,
   "id": "524edfd6",
   "metadata": {},
   "outputs": [
    {
     "data": {
      "application/vnd.plotly.v1+json": {
       "config": {
        "plotlyServerURL": "https://plot.ly"
       },
       "data": [
        {
         "alignmentgroup": "True",
         "hovertemplate": "Class=%{marker.color}<br>Count=%{text}<extra></extra>",
         "legendgroup": "",
         "marker": {
          "color": [
           0,
           1
          ],
          "coloraxis": "coloraxis",
          "pattern": {
           "shape": ""
          }
         },
         "name": "",
         "offsetgroup": "",
         "orientation": "v",
         "showlegend": false,
         "text": [
          82777,
          4358
         ],
         "textposition": "outside",
         "type": "bar",
         "x": [
          0,
          1
         ],
         "xaxis": "x",
         "y": [
          82777,
          4358
         ],
         "yaxis": "y"
        }
       ],
       "layout": {
        "barmode": "relative",
        "coloraxis": {
         "colorbar": {
          "title": {
           "text": "Class"
          }
         },
         "colorscale": [
          [
           0,
           "#0d0887"
          ],
          [
           0.1111111111111111,
           "#46039f"
          ],
          [
           0.2222222222222222,
           "#7201a8"
          ],
          [
           0.3333333333333333,
           "#9c179e"
          ],
          [
           0.4444444444444444,
           "#bd3786"
          ],
          [
           0.5555555555555556,
           "#d8576b"
          ],
          [
           0.6666666666666666,
           "#ed7953"
          ],
          [
           0.7777777777777778,
           "#fb9f3a"
          ],
          [
           0.8888888888888888,
           "#fdca26"
          ],
          [
           1,
           "#f0f921"
          ]
         ]
        },
        "legend": {
         "tracegroupgap": 0
        },
        "template": {
         "data": {
          "bar": [
           {
            "error_x": {
             "color": "#2a3f5f"
            },
            "error_y": {
             "color": "#2a3f5f"
            },
            "marker": {
             "line": {
              "color": "#E5ECF6",
              "width": 0.5
             },
             "pattern": {
              "fillmode": "overlay",
              "size": 10,
              "solidity": 0.2
             }
            },
            "type": "bar"
           }
          ],
          "barpolar": [
           {
            "marker": {
             "line": {
              "color": "#E5ECF6",
              "width": 0.5
             },
             "pattern": {
              "fillmode": "overlay",
              "size": 10,
              "solidity": 0.2
             }
            },
            "type": "barpolar"
           }
          ],
          "carpet": [
           {
            "aaxis": {
             "endlinecolor": "#2a3f5f",
             "gridcolor": "white",
             "linecolor": "white",
             "minorgridcolor": "white",
             "startlinecolor": "#2a3f5f"
            },
            "baxis": {
             "endlinecolor": "#2a3f5f",
             "gridcolor": "white",
             "linecolor": "white",
             "minorgridcolor": "white",
             "startlinecolor": "#2a3f5f"
            },
            "type": "carpet"
           }
          ],
          "choropleth": [
           {
            "colorbar": {
             "outlinewidth": 0,
             "ticks": ""
            },
            "type": "choropleth"
           }
          ],
          "contour": [
           {
            "colorbar": {
             "outlinewidth": 0,
             "ticks": ""
            },
            "colorscale": [
             [
              0,
              "#0d0887"
             ],
             [
              0.1111111111111111,
              "#46039f"
             ],
             [
              0.2222222222222222,
              "#7201a8"
             ],
             [
              0.3333333333333333,
              "#9c179e"
             ],
             [
              0.4444444444444444,
              "#bd3786"
             ],
             [
              0.5555555555555556,
              "#d8576b"
             ],
             [
              0.6666666666666666,
              "#ed7953"
             ],
             [
              0.7777777777777778,
              "#fb9f3a"
             ],
             [
              0.8888888888888888,
              "#fdca26"
             ],
             [
              1,
              "#f0f921"
             ]
            ],
            "type": "contour"
           }
          ],
          "contourcarpet": [
           {
            "colorbar": {
             "outlinewidth": 0,
             "ticks": ""
            },
            "type": "contourcarpet"
           }
          ],
          "heatmap": [
           {
            "colorbar": {
             "outlinewidth": 0,
             "ticks": ""
            },
            "colorscale": [
             [
              0,
              "#0d0887"
             ],
             [
              0.1111111111111111,
              "#46039f"
             ],
             [
              0.2222222222222222,
              "#7201a8"
             ],
             [
              0.3333333333333333,
              "#9c179e"
             ],
             [
              0.4444444444444444,
              "#bd3786"
             ],
             [
              0.5555555555555556,
              "#d8576b"
             ],
             [
              0.6666666666666666,
              "#ed7953"
             ],
             [
              0.7777777777777778,
              "#fb9f3a"
             ],
             [
              0.8888888888888888,
              "#fdca26"
             ],
             [
              1,
              "#f0f921"
             ]
            ],
            "type": "heatmap"
           }
          ],
          "heatmapgl": [
           {
            "colorbar": {
             "outlinewidth": 0,
             "ticks": ""
            },
            "colorscale": [
             [
              0,
              "#0d0887"
             ],
             [
              0.1111111111111111,
              "#46039f"
             ],
             [
              0.2222222222222222,
              "#7201a8"
             ],
             [
              0.3333333333333333,
              "#9c179e"
             ],
             [
              0.4444444444444444,
              "#bd3786"
             ],
             [
              0.5555555555555556,
              "#d8576b"
             ],
             [
              0.6666666666666666,
              "#ed7953"
             ],
             [
              0.7777777777777778,
              "#fb9f3a"
             ],
             [
              0.8888888888888888,
              "#fdca26"
             ],
             [
              1,
              "#f0f921"
             ]
            ],
            "type": "heatmapgl"
           }
          ],
          "histogram": [
           {
            "marker": {
             "pattern": {
              "fillmode": "overlay",
              "size": 10,
              "solidity": 0.2
             }
            },
            "type": "histogram"
           }
          ],
          "histogram2d": [
           {
            "colorbar": {
             "outlinewidth": 0,
             "ticks": ""
            },
            "colorscale": [
             [
              0,
              "#0d0887"
             ],
             [
              0.1111111111111111,
              "#46039f"
             ],
             [
              0.2222222222222222,
              "#7201a8"
             ],
             [
              0.3333333333333333,
              "#9c179e"
             ],
             [
              0.4444444444444444,
              "#bd3786"
             ],
             [
              0.5555555555555556,
              "#d8576b"
             ],
             [
              0.6666666666666666,
              "#ed7953"
             ],
             [
              0.7777777777777778,
              "#fb9f3a"
             ],
             [
              0.8888888888888888,
              "#fdca26"
             ],
             [
              1,
              "#f0f921"
             ]
            ],
            "type": "histogram2d"
           }
          ],
          "histogram2dcontour": [
           {
            "colorbar": {
             "outlinewidth": 0,
             "ticks": ""
            },
            "colorscale": [
             [
              0,
              "#0d0887"
             ],
             [
              0.1111111111111111,
              "#46039f"
             ],
             [
              0.2222222222222222,
              "#7201a8"
             ],
             [
              0.3333333333333333,
              "#9c179e"
             ],
             [
              0.4444444444444444,
              "#bd3786"
             ],
             [
              0.5555555555555556,
              "#d8576b"
             ],
             [
              0.6666666666666666,
              "#ed7953"
             ],
             [
              0.7777777777777778,
              "#fb9f3a"
             ],
             [
              0.8888888888888888,
              "#fdca26"
             ],
             [
              1,
              "#f0f921"
             ]
            ],
            "type": "histogram2dcontour"
           }
          ],
          "mesh3d": [
           {
            "colorbar": {
             "outlinewidth": 0,
             "ticks": ""
            },
            "type": "mesh3d"
           }
          ],
          "parcoords": [
           {
            "line": {
             "colorbar": {
              "outlinewidth": 0,
              "ticks": ""
             }
            },
            "type": "parcoords"
           }
          ],
          "pie": [
           {
            "automargin": true,
            "type": "pie"
           }
          ],
          "scatter": [
           {
            "fillpattern": {
             "fillmode": "overlay",
             "size": 10,
             "solidity": 0.2
            },
            "type": "scatter"
           }
          ],
          "scatter3d": [
           {
            "line": {
             "colorbar": {
              "outlinewidth": 0,
              "ticks": ""
             }
            },
            "marker": {
             "colorbar": {
              "outlinewidth": 0,
              "ticks": ""
             }
            },
            "type": "scatter3d"
           }
          ],
          "scattercarpet": [
           {
            "marker": {
             "colorbar": {
              "outlinewidth": 0,
              "ticks": ""
             }
            },
            "type": "scattercarpet"
           }
          ],
          "scattergeo": [
           {
            "marker": {
             "colorbar": {
              "outlinewidth": 0,
              "ticks": ""
             }
            },
            "type": "scattergeo"
           }
          ],
          "scattergl": [
           {
            "marker": {
             "colorbar": {
              "outlinewidth": 0,
              "ticks": ""
             }
            },
            "type": "scattergl"
           }
          ],
          "scattermapbox": [
           {
            "marker": {
             "colorbar": {
              "outlinewidth": 0,
              "ticks": ""
             }
            },
            "type": "scattermapbox"
           }
          ],
          "scatterpolar": [
           {
            "marker": {
             "colorbar": {
              "outlinewidth": 0,
              "ticks": ""
             }
            },
            "type": "scatterpolar"
           }
          ],
          "scatterpolargl": [
           {
            "marker": {
             "colorbar": {
              "outlinewidth": 0,
              "ticks": ""
             }
            },
            "type": "scatterpolargl"
           }
          ],
          "scatterternary": [
           {
            "marker": {
             "colorbar": {
              "outlinewidth": 0,
              "ticks": ""
             }
            },
            "type": "scatterternary"
           }
          ],
          "surface": [
           {
            "colorbar": {
             "outlinewidth": 0,
             "ticks": ""
            },
            "colorscale": [
             [
              0,
              "#0d0887"
             ],
             [
              0.1111111111111111,
              "#46039f"
             ],
             [
              0.2222222222222222,
              "#7201a8"
             ],
             [
              0.3333333333333333,
              "#9c179e"
             ],
             [
              0.4444444444444444,
              "#bd3786"
             ],
             [
              0.5555555555555556,
              "#d8576b"
             ],
             [
              0.6666666666666666,
              "#ed7953"
             ],
             [
              0.7777777777777778,
              "#fb9f3a"
             ],
             [
              0.8888888888888888,
              "#fdca26"
             ],
             [
              1,
              "#f0f921"
             ]
            ],
            "type": "surface"
           }
          ],
          "table": [
           {
            "cells": {
             "fill": {
              "color": "#EBF0F8"
             },
             "line": {
              "color": "white"
             }
            },
            "header": {
             "fill": {
              "color": "#C8D4E3"
             },
             "line": {
              "color": "white"
             }
            },
            "type": "table"
           }
          ]
         },
         "layout": {
          "annotationdefaults": {
           "arrowcolor": "#2a3f5f",
           "arrowhead": 0,
           "arrowwidth": 1
          },
          "autotypenumbers": "strict",
          "coloraxis": {
           "colorbar": {
            "outlinewidth": 0,
            "ticks": ""
           }
          },
          "colorscale": {
           "diverging": [
            [
             0,
             "#8e0152"
            ],
            [
             0.1,
             "#c51b7d"
            ],
            [
             0.2,
             "#de77ae"
            ],
            [
             0.3,
             "#f1b6da"
            ],
            [
             0.4,
             "#fde0ef"
            ],
            [
             0.5,
             "#f7f7f7"
            ],
            [
             0.6,
             "#e6f5d0"
            ],
            [
             0.7,
             "#b8e186"
            ],
            [
             0.8,
             "#7fbc41"
            ],
            [
             0.9,
             "#4d9221"
            ],
            [
             1,
             "#276419"
            ]
           ],
           "sequential": [
            [
             0,
             "#0d0887"
            ],
            [
             0.1111111111111111,
             "#46039f"
            ],
            [
             0.2222222222222222,
             "#7201a8"
            ],
            [
             0.3333333333333333,
             "#9c179e"
            ],
            [
             0.4444444444444444,
             "#bd3786"
            ],
            [
             0.5555555555555556,
             "#d8576b"
            ],
            [
             0.6666666666666666,
             "#ed7953"
            ],
            [
             0.7777777777777778,
             "#fb9f3a"
            ],
            [
             0.8888888888888888,
             "#fdca26"
            ],
            [
             1,
             "#f0f921"
            ]
           ],
           "sequentialminus": [
            [
             0,
             "#0d0887"
            ],
            [
             0.1111111111111111,
             "#46039f"
            ],
            [
             0.2222222222222222,
             "#7201a8"
            ],
            [
             0.3333333333333333,
             "#9c179e"
            ],
            [
             0.4444444444444444,
             "#bd3786"
            ],
            [
             0.5555555555555556,
             "#d8576b"
            ],
            [
             0.6666666666666666,
             "#ed7953"
            ],
            [
             0.7777777777777778,
             "#fb9f3a"
            ],
            [
             0.8888888888888888,
             "#fdca26"
            ],
            [
             1,
             "#f0f921"
            ]
           ]
          },
          "colorway": [
           "#636efa",
           "#EF553B",
           "#00cc96",
           "#ab63fa",
           "#FFA15A",
           "#19d3f3",
           "#FF6692",
           "#B6E880",
           "#FF97FF",
           "#FECB52"
          ],
          "font": {
           "color": "#2a3f5f"
          },
          "geo": {
           "bgcolor": "white",
           "lakecolor": "white",
           "landcolor": "#E5ECF6",
           "showlakes": true,
           "showland": true,
           "subunitcolor": "white"
          },
          "hoverlabel": {
           "align": "left"
          },
          "hovermode": "closest",
          "mapbox": {
           "style": "light"
          },
          "paper_bgcolor": "white",
          "plot_bgcolor": "#E5ECF6",
          "polar": {
           "angularaxis": {
            "gridcolor": "white",
            "linecolor": "white",
            "ticks": ""
           },
           "bgcolor": "#E5ECF6",
           "radialaxis": {
            "gridcolor": "white",
            "linecolor": "white",
            "ticks": ""
           }
          },
          "scene": {
           "xaxis": {
            "backgroundcolor": "#E5ECF6",
            "gridcolor": "white",
            "gridwidth": 2,
            "linecolor": "white",
            "showbackground": true,
            "ticks": "",
            "zerolinecolor": "white"
           },
           "yaxis": {
            "backgroundcolor": "#E5ECF6",
            "gridcolor": "white",
            "gridwidth": 2,
            "linecolor": "white",
            "showbackground": true,
            "ticks": "",
            "zerolinecolor": "white"
           },
           "zaxis": {
            "backgroundcolor": "#E5ECF6",
            "gridcolor": "white",
            "gridwidth": 2,
            "linecolor": "white",
            "showbackground": true,
            "ticks": "",
            "zerolinecolor": "white"
           }
          },
          "shapedefaults": {
           "line": {
            "color": "#2a3f5f"
           }
          },
          "ternary": {
           "aaxis": {
            "gridcolor": "white",
            "linecolor": "white",
            "ticks": ""
           },
           "baxis": {
            "gridcolor": "white",
            "linecolor": "white",
            "ticks": ""
           },
           "bgcolor": "#E5ECF6",
           "caxis": {
            "gridcolor": "white",
            "linecolor": "white",
            "ticks": ""
           }
          },
          "title": {
           "x": 0.05
          },
          "xaxis": {
           "automargin": true,
           "gridcolor": "white",
           "linecolor": "white",
           "ticks": "",
           "title": {
            "standoff": 15
           },
           "zerolinecolor": "white",
           "zerolinewidth": 2
          },
          "yaxis": {
           "automargin": true,
           "gridcolor": "white",
           "linecolor": "white",
           "ticks": "",
           "title": {
            "standoff": 15
           },
           "zerolinecolor": "white",
           "zerolinewidth": 2
          }
         }
        },
        "title": {
         "text": "Class Distribution in Default_Status"
        },
        "uniformtext": {
         "minsize": 8,
         "mode": "hide"
        },
        "xaxis": {
         "anchor": "y",
         "domain": [
          0,
          1
         ],
         "title": {
          "text": "Class"
         }
        },
        "yaxis": {
         "anchor": "x",
         "domain": [
          0,
          1
         ],
         "title": {
          "text": "Count"
         }
        }
       }
      }
     },
     "metadata": {},
     "output_type": "display_data"
    }
   ],
   "source": [
    "# Create a DataFrame from the target variable\n",
    "class_counts = y.value_counts().reset_index()\n",
    "class_counts.columns = ['Class', 'Count']\n",
    "\n",
    "# Plot using Plotly Express\n",
    "fig = px.bar(\n",
    "    class_counts,\n",
    "    x='Class',\n",
    "    y='Count',\n",
    "    text='Count',\n",
    "    title='Class Distribution in Default_Status',\n",
    "    color='Class',\n",
    "    color_discrete_sequence=['#1f77b4', '#ff7f0e']\n",
    ")\n",
    "\n",
    "fig.update_traces(textposition='outside')\n",
    "fig.update_layout(uniformtext_minsize=8, uniformtext_mode='hide')\n",
    "\n",
    "fig.show()"
   ]
  },
  {
   "cell_type": "markdown",
   "id": "21b90265",
   "metadata": {},
   "source": [
    "We see that the objective class is desbalanced, we have 82777 values for Default and 4358 values for Not default. We will try to fix these later."
   ]
  },
  {
   "cell_type": "code",
   "execution_count": 289,
   "id": "e8b77850",
   "metadata": {},
   "outputs": [],
   "source": [
    "# Define preprocessing for numeric and categorical features\n",
    "numeric_features = ['Principal_Amount', 'Interest_Rate', 'Loan_Term_Months']\n",
    "numeric_transformer = StandardScaler()\n",
    "\n",
    "categorical_features = ['Loan_Type']\n",
    "categorical_transformer = OneHotEncoder(handle_unknown='ignore')\n",
    "\n",
    "preprocessor = ColumnTransformer([\n",
    "    ('num', numeric_transformer, numeric_features),\n",
    "    ('cat', categorical_transformer, categorical_features)\n",
    "])\n"
   ]
  },
  {
   "cell_type": "code",
   "execution_count": 290,
   "id": "4e8e3cda",
   "metadata": {},
   "outputs": [],
   "source": [
    "# Apply preprocessing\n",
    "X_preprocessed = preprocessor.fit_transform(X)"
   ]
  },
  {
   "cell_type": "code",
   "execution_count": 291,
   "id": "b603c02f",
   "metadata": {},
   "outputs": [],
   "source": [
    "# Train/test split\n",
    "X_train, X_test, y_train, y_test = train_test_split(\n",
    "    X_preprocessed, y, test_size=0.3, random_state=15, stratify=y\n",
    ")"
   ]
  },
  {
   "cell_type": "markdown",
   "id": "e185935d",
   "metadata": {},
   "source": [
    "# Models"
   ]
  },
  {
   "cell_type": "markdown",
   "id": "a0162e5a",
   "metadata": {},
   "source": [
    "## Firts try of model using only loans_welfordbank_es.csv and balancing the objective class with smote"
   ]
  },
  {
   "cell_type": "markdown",
   "id": "4acab166",
   "metadata": {},
   "source": [
    "###  Why we apply SMOTE\n",
    "\n",
    "The original dataset is highly imbalanced, with very few cases of loan defaults (`Default_Status = \"Yes\"`). This can cause the logistic regression model to become biased toward the majority class (`\"No\"`), ignoring defaults entirely.\n",
    "\n",
    "To address this, we use **SMOTE** (Synthetic Minority Over-sampling Technique), which generates new synthetic examples of the minority class. This balances the training data and helps the model better learn to identify defaults, improving recall at the cost of some precision.\n",
    "\n",
    "SMOTE is applied **only to the training set** to prevent introducing synthetic bias into the test evaluation."
   ]
  },
  {
   "cell_type": "code",
   "execution_count": 292,
   "id": "5b4d39dc",
   "metadata": {},
   "outputs": [],
   "source": [
    "# Apply SMOTE to training set\n",
    "smote = SMOTE(random_state = 15)\n",
    "X_train_resampled, y_train_resampled = smote.fit_resample(X_train, y_train)\n"
   ]
  },
  {
   "cell_type": "code",
   "execution_count": 293,
   "id": "32de3211",
   "metadata": {},
   "outputs": [
    {
     "data": {
      "text/html": [
       "<style>#sk-container-id-21 {\n",
       "  /* Definition of color scheme common for light and dark mode */\n",
       "  --sklearn-color-text: black;\n",
       "  --sklearn-color-line: gray;\n",
       "  /* Definition of color scheme for unfitted estimators */\n",
       "  --sklearn-color-unfitted-level-0: #fff5e6;\n",
       "  --sklearn-color-unfitted-level-1: #f6e4d2;\n",
       "  --sklearn-color-unfitted-level-2: #ffe0b3;\n",
       "  --sklearn-color-unfitted-level-3: chocolate;\n",
       "  /* Definition of color scheme for fitted estimators */\n",
       "  --sklearn-color-fitted-level-0: #f0f8ff;\n",
       "  --sklearn-color-fitted-level-1: #d4ebff;\n",
       "  --sklearn-color-fitted-level-2: #b3dbfd;\n",
       "  --sklearn-color-fitted-level-3: cornflowerblue;\n",
       "\n",
       "  /* Specific color for light theme */\n",
       "  --sklearn-color-text-on-default-background: var(--sg-text-color, var(--theme-code-foreground, var(--jp-content-font-color1, black)));\n",
       "  --sklearn-color-background: var(--sg-background-color, var(--theme-background, var(--jp-layout-color0, white)));\n",
       "  --sklearn-color-border-box: var(--sg-text-color, var(--theme-code-foreground, var(--jp-content-font-color1, black)));\n",
       "  --sklearn-color-icon: #696969;\n",
       "\n",
       "  @media (prefers-color-scheme: dark) {\n",
       "    /* Redefinition of color scheme for dark theme */\n",
       "    --sklearn-color-text-on-default-background: var(--sg-text-color, var(--theme-code-foreground, var(--jp-content-font-color1, white)));\n",
       "    --sklearn-color-background: var(--sg-background-color, var(--theme-background, var(--jp-layout-color0, #111)));\n",
       "    --sklearn-color-border-box: var(--sg-text-color, var(--theme-code-foreground, var(--jp-content-font-color1, white)));\n",
       "    --sklearn-color-icon: #878787;\n",
       "  }\n",
       "}\n",
       "\n",
       "#sk-container-id-21 {\n",
       "  color: var(--sklearn-color-text);\n",
       "}\n",
       "\n",
       "#sk-container-id-21 pre {\n",
       "  padding: 0;\n",
       "}\n",
       "\n",
       "#sk-container-id-21 input.sk-hidden--visually {\n",
       "  border: 0;\n",
       "  clip: rect(1px 1px 1px 1px);\n",
       "  clip: rect(1px, 1px, 1px, 1px);\n",
       "  height: 1px;\n",
       "  margin: -1px;\n",
       "  overflow: hidden;\n",
       "  padding: 0;\n",
       "  position: absolute;\n",
       "  width: 1px;\n",
       "}\n",
       "\n",
       "#sk-container-id-21 div.sk-dashed-wrapped {\n",
       "  border: 1px dashed var(--sklearn-color-line);\n",
       "  margin: 0 0.4em 0.5em 0.4em;\n",
       "  box-sizing: border-box;\n",
       "  padding-bottom: 0.4em;\n",
       "  background-color: var(--sklearn-color-background);\n",
       "}\n",
       "\n",
       "#sk-container-id-21 div.sk-container {\n",
       "  /* jupyter's `normalize.less` sets `[hidden] { display: none; }`\n",
       "     but bootstrap.min.css set `[hidden] { display: none !important; }`\n",
       "     so we also need the `!important` here to be able to override the\n",
       "     default hidden behavior on the sphinx rendered scikit-learn.org.\n",
       "     See: https://github.com/scikit-learn/scikit-learn/issues/21755 */\n",
       "  display: inline-block !important;\n",
       "  position: relative;\n",
       "}\n",
       "\n",
       "#sk-container-id-21 div.sk-text-repr-fallback {\n",
       "  display: none;\n",
       "}\n",
       "\n",
       "div.sk-parallel-item,\n",
       "div.sk-serial,\n",
       "div.sk-item {\n",
       "  /* draw centered vertical line to link estimators */\n",
       "  background-image: linear-gradient(var(--sklearn-color-text-on-default-background), var(--sklearn-color-text-on-default-background));\n",
       "  background-size: 2px 100%;\n",
       "  background-repeat: no-repeat;\n",
       "  background-position: center center;\n",
       "}\n",
       "\n",
       "/* Parallel-specific style estimator block */\n",
       "\n",
       "#sk-container-id-21 div.sk-parallel-item::after {\n",
       "  content: \"\";\n",
       "  width: 100%;\n",
       "  border-bottom: 2px solid var(--sklearn-color-text-on-default-background);\n",
       "  flex-grow: 1;\n",
       "}\n",
       "\n",
       "#sk-container-id-21 div.sk-parallel {\n",
       "  display: flex;\n",
       "  align-items: stretch;\n",
       "  justify-content: center;\n",
       "  background-color: var(--sklearn-color-background);\n",
       "  position: relative;\n",
       "}\n",
       "\n",
       "#sk-container-id-21 div.sk-parallel-item {\n",
       "  display: flex;\n",
       "  flex-direction: column;\n",
       "}\n",
       "\n",
       "#sk-container-id-21 div.sk-parallel-item:first-child::after {\n",
       "  align-self: flex-end;\n",
       "  width: 50%;\n",
       "}\n",
       "\n",
       "#sk-container-id-21 div.sk-parallel-item:last-child::after {\n",
       "  align-self: flex-start;\n",
       "  width: 50%;\n",
       "}\n",
       "\n",
       "#sk-container-id-21 div.sk-parallel-item:only-child::after {\n",
       "  width: 0;\n",
       "}\n",
       "\n",
       "/* Serial-specific style estimator block */\n",
       "\n",
       "#sk-container-id-21 div.sk-serial {\n",
       "  display: flex;\n",
       "  flex-direction: column;\n",
       "  align-items: center;\n",
       "  background-color: var(--sklearn-color-background);\n",
       "  padding-right: 1em;\n",
       "  padding-left: 1em;\n",
       "}\n",
       "\n",
       "\n",
       "/* Toggleable style: style used for estimator/Pipeline/ColumnTransformer box that is\n",
       "clickable and can be expanded/collapsed.\n",
       "- Pipeline and ColumnTransformer use this feature and define the default style\n",
       "- Estimators will overwrite some part of the style using the `sk-estimator` class\n",
       "*/\n",
       "\n",
       "/* Pipeline and ColumnTransformer style (default) */\n",
       "\n",
       "#sk-container-id-21 div.sk-toggleable {\n",
       "  /* Default theme specific background. It is overwritten whether we have a\n",
       "  specific estimator or a Pipeline/ColumnTransformer */\n",
       "  background-color: var(--sklearn-color-background);\n",
       "}\n",
       "\n",
       "/* Toggleable label */\n",
       "#sk-container-id-21 label.sk-toggleable__label {\n",
       "  cursor: pointer;\n",
       "  display: block;\n",
       "  width: 100%;\n",
       "  margin-bottom: 0;\n",
       "  padding: 0.5em;\n",
       "  box-sizing: border-box;\n",
       "  text-align: center;\n",
       "}\n",
       "\n",
       "#sk-container-id-21 label.sk-toggleable__label-arrow:before {\n",
       "  /* Arrow on the left of the label */\n",
       "  content: \"▸\";\n",
       "  float: left;\n",
       "  margin-right: 0.25em;\n",
       "  color: var(--sklearn-color-icon);\n",
       "}\n",
       "\n",
       "#sk-container-id-21 label.sk-toggleable__label-arrow:hover:before {\n",
       "  color: var(--sklearn-color-text);\n",
       "}\n",
       "\n",
       "/* Toggleable content - dropdown */\n",
       "\n",
       "#sk-container-id-21 div.sk-toggleable__content {\n",
       "  max-height: 0;\n",
       "  max-width: 0;\n",
       "  overflow: hidden;\n",
       "  text-align: left;\n",
       "  /* unfitted */\n",
       "  background-color: var(--sklearn-color-unfitted-level-0);\n",
       "}\n",
       "\n",
       "#sk-container-id-21 div.sk-toggleable__content.fitted {\n",
       "  /* fitted */\n",
       "  background-color: var(--sklearn-color-fitted-level-0);\n",
       "}\n",
       "\n",
       "#sk-container-id-21 div.sk-toggleable__content pre {\n",
       "  margin: 0.2em;\n",
       "  border-radius: 0.25em;\n",
       "  color: var(--sklearn-color-text);\n",
       "  /* unfitted */\n",
       "  background-color: var(--sklearn-color-unfitted-level-0);\n",
       "}\n",
       "\n",
       "#sk-container-id-21 div.sk-toggleable__content.fitted pre {\n",
       "  /* unfitted */\n",
       "  background-color: var(--sklearn-color-fitted-level-0);\n",
       "}\n",
       "\n",
       "#sk-container-id-21 input.sk-toggleable__control:checked~div.sk-toggleable__content {\n",
       "  /* Expand drop-down */\n",
       "  max-height: 200px;\n",
       "  max-width: 100%;\n",
       "  overflow: auto;\n",
       "}\n",
       "\n",
       "#sk-container-id-21 input.sk-toggleable__control:checked~label.sk-toggleable__label-arrow:before {\n",
       "  content: \"▾\";\n",
       "}\n",
       "\n",
       "/* Pipeline/ColumnTransformer-specific style */\n",
       "\n",
       "#sk-container-id-21 div.sk-label input.sk-toggleable__control:checked~label.sk-toggleable__label {\n",
       "  color: var(--sklearn-color-text);\n",
       "  background-color: var(--sklearn-color-unfitted-level-2);\n",
       "}\n",
       "\n",
       "#sk-container-id-21 div.sk-label.fitted input.sk-toggleable__control:checked~label.sk-toggleable__label {\n",
       "  background-color: var(--sklearn-color-fitted-level-2);\n",
       "}\n",
       "\n",
       "/* Estimator-specific style */\n",
       "\n",
       "/* Colorize estimator box */\n",
       "#sk-container-id-21 div.sk-estimator input.sk-toggleable__control:checked~label.sk-toggleable__label {\n",
       "  /* unfitted */\n",
       "  background-color: var(--sklearn-color-unfitted-level-2);\n",
       "}\n",
       "\n",
       "#sk-container-id-21 div.sk-estimator.fitted input.sk-toggleable__control:checked~label.sk-toggleable__label {\n",
       "  /* fitted */\n",
       "  background-color: var(--sklearn-color-fitted-level-2);\n",
       "}\n",
       "\n",
       "#sk-container-id-21 div.sk-label label.sk-toggleable__label,\n",
       "#sk-container-id-21 div.sk-label label {\n",
       "  /* The background is the default theme color */\n",
       "  color: var(--sklearn-color-text-on-default-background);\n",
       "}\n",
       "\n",
       "/* On hover, darken the color of the background */\n",
       "#sk-container-id-21 div.sk-label:hover label.sk-toggleable__label {\n",
       "  color: var(--sklearn-color-text);\n",
       "  background-color: var(--sklearn-color-unfitted-level-2);\n",
       "}\n",
       "\n",
       "/* Label box, darken color on hover, fitted */\n",
       "#sk-container-id-21 div.sk-label.fitted:hover label.sk-toggleable__label.fitted {\n",
       "  color: var(--sklearn-color-text);\n",
       "  background-color: var(--sklearn-color-fitted-level-2);\n",
       "}\n",
       "\n",
       "/* Estimator label */\n",
       "\n",
       "#sk-container-id-21 div.sk-label label {\n",
       "  font-family: monospace;\n",
       "  font-weight: bold;\n",
       "  display: inline-block;\n",
       "  line-height: 1.2em;\n",
       "}\n",
       "\n",
       "#sk-container-id-21 div.sk-label-container {\n",
       "  text-align: center;\n",
       "}\n",
       "\n",
       "/* Estimator-specific */\n",
       "#sk-container-id-21 div.sk-estimator {\n",
       "  font-family: monospace;\n",
       "  border: 1px dotted var(--sklearn-color-border-box);\n",
       "  border-radius: 0.25em;\n",
       "  box-sizing: border-box;\n",
       "  margin-bottom: 0.5em;\n",
       "  /* unfitted */\n",
       "  background-color: var(--sklearn-color-unfitted-level-0);\n",
       "}\n",
       "\n",
       "#sk-container-id-21 div.sk-estimator.fitted {\n",
       "  /* fitted */\n",
       "  background-color: var(--sklearn-color-fitted-level-0);\n",
       "}\n",
       "\n",
       "/* on hover */\n",
       "#sk-container-id-21 div.sk-estimator:hover {\n",
       "  /* unfitted */\n",
       "  background-color: var(--sklearn-color-unfitted-level-2);\n",
       "}\n",
       "\n",
       "#sk-container-id-21 div.sk-estimator.fitted:hover {\n",
       "  /* fitted */\n",
       "  background-color: var(--sklearn-color-fitted-level-2);\n",
       "}\n",
       "\n",
       "/* Specification for estimator info (e.g. \"i\" and \"?\") */\n",
       "\n",
       "/* Common style for \"i\" and \"?\" */\n",
       "\n",
       ".sk-estimator-doc-link,\n",
       "a:link.sk-estimator-doc-link,\n",
       "a:visited.sk-estimator-doc-link {\n",
       "  float: right;\n",
       "  font-size: smaller;\n",
       "  line-height: 1em;\n",
       "  font-family: monospace;\n",
       "  background-color: var(--sklearn-color-background);\n",
       "  border-radius: 1em;\n",
       "  height: 1em;\n",
       "  width: 1em;\n",
       "  text-decoration: none !important;\n",
       "  margin-left: 1ex;\n",
       "  /* unfitted */\n",
       "  border: var(--sklearn-color-unfitted-level-1) 1pt solid;\n",
       "  color: var(--sklearn-color-unfitted-level-1);\n",
       "}\n",
       "\n",
       ".sk-estimator-doc-link.fitted,\n",
       "a:link.sk-estimator-doc-link.fitted,\n",
       "a:visited.sk-estimator-doc-link.fitted {\n",
       "  /* fitted */\n",
       "  border: var(--sklearn-color-fitted-level-1) 1pt solid;\n",
       "  color: var(--sklearn-color-fitted-level-1);\n",
       "}\n",
       "\n",
       "/* On hover */\n",
       "div.sk-estimator:hover .sk-estimator-doc-link:hover,\n",
       ".sk-estimator-doc-link:hover,\n",
       "div.sk-label-container:hover .sk-estimator-doc-link:hover,\n",
       ".sk-estimator-doc-link:hover {\n",
       "  /* unfitted */\n",
       "  background-color: var(--sklearn-color-unfitted-level-3);\n",
       "  color: var(--sklearn-color-background);\n",
       "  text-decoration: none;\n",
       "}\n",
       "\n",
       "div.sk-estimator.fitted:hover .sk-estimator-doc-link.fitted:hover,\n",
       ".sk-estimator-doc-link.fitted:hover,\n",
       "div.sk-label-container:hover .sk-estimator-doc-link.fitted:hover,\n",
       ".sk-estimator-doc-link.fitted:hover {\n",
       "  /* fitted */\n",
       "  background-color: var(--sklearn-color-fitted-level-3);\n",
       "  color: var(--sklearn-color-background);\n",
       "  text-decoration: none;\n",
       "}\n",
       "\n",
       "/* Span, style for the box shown on hovering the info icon */\n",
       ".sk-estimator-doc-link span {\n",
       "  display: none;\n",
       "  z-index: 9999;\n",
       "  position: relative;\n",
       "  font-weight: normal;\n",
       "  right: .2ex;\n",
       "  padding: .5ex;\n",
       "  margin: .5ex;\n",
       "  width: min-content;\n",
       "  min-width: 20ex;\n",
       "  max-width: 50ex;\n",
       "  color: var(--sklearn-color-text);\n",
       "  box-shadow: 2pt 2pt 4pt #999;\n",
       "  /* unfitted */\n",
       "  background: var(--sklearn-color-unfitted-level-0);\n",
       "  border: .5pt solid var(--sklearn-color-unfitted-level-3);\n",
       "}\n",
       "\n",
       ".sk-estimator-doc-link.fitted span {\n",
       "  /* fitted */\n",
       "  background: var(--sklearn-color-fitted-level-0);\n",
       "  border: var(--sklearn-color-fitted-level-3);\n",
       "}\n",
       "\n",
       ".sk-estimator-doc-link:hover span {\n",
       "  display: block;\n",
       "}\n",
       "\n",
       "/* \"?\"-specific style due to the `<a>` HTML tag */\n",
       "\n",
       "#sk-container-id-21 a.estimator_doc_link {\n",
       "  float: right;\n",
       "  font-size: 1rem;\n",
       "  line-height: 1em;\n",
       "  font-family: monospace;\n",
       "  background-color: var(--sklearn-color-background);\n",
       "  border-radius: 1rem;\n",
       "  height: 1rem;\n",
       "  width: 1rem;\n",
       "  text-decoration: none;\n",
       "  /* unfitted */\n",
       "  color: var(--sklearn-color-unfitted-level-1);\n",
       "  border: var(--sklearn-color-unfitted-level-1) 1pt solid;\n",
       "}\n",
       "\n",
       "#sk-container-id-21 a.estimator_doc_link.fitted {\n",
       "  /* fitted */\n",
       "  border: var(--sklearn-color-fitted-level-1) 1pt solid;\n",
       "  color: var(--sklearn-color-fitted-level-1);\n",
       "}\n",
       "\n",
       "/* On hover */\n",
       "#sk-container-id-21 a.estimator_doc_link:hover {\n",
       "  /* unfitted */\n",
       "  background-color: var(--sklearn-color-unfitted-level-3);\n",
       "  color: var(--sklearn-color-background);\n",
       "  text-decoration: none;\n",
       "}\n",
       "\n",
       "#sk-container-id-21 a.estimator_doc_link.fitted:hover {\n",
       "  /* fitted */\n",
       "  background-color: var(--sklearn-color-fitted-level-3);\n",
       "}\n",
       "</style><div id=\"sk-container-id-21\" class=\"sk-top-container\"><div class=\"sk-text-repr-fallback\"><pre>LogisticRegression(max_iter=1000)</pre><b>In a Jupyter environment, please rerun this cell to show the HTML representation or trust the notebook. <br />On GitHub, the HTML representation is unable to render, please try loading this page with nbviewer.org.</b></div><div class=\"sk-container\" hidden><div class=\"sk-item\"><div class=\"sk-estimator fitted sk-toggleable\"><input class=\"sk-toggleable__control sk-hidden--visually\" id=\"sk-estimator-id-21\" type=\"checkbox\" checked><label for=\"sk-estimator-id-21\" class=\"sk-toggleable__label fitted sk-toggleable__label-arrow fitted\">&nbsp;&nbsp;LogisticRegression<a class=\"sk-estimator-doc-link fitted\" rel=\"noreferrer\" target=\"_blank\" href=\"https://scikit-learn.org/1.5/modules/generated/sklearn.linear_model.LogisticRegression.html\">?<span>Documentation for LogisticRegression</span></a><span class=\"sk-estimator-doc-link fitted\">i<span>Fitted</span></span></label><div class=\"sk-toggleable__content fitted\"><pre>LogisticRegression(max_iter=1000)</pre></div> </div></div></div></div>"
      ],
      "text/plain": [
       "LogisticRegression(max_iter=1000)"
      ]
     },
     "execution_count": 293,
     "metadata": {},
     "output_type": "execute_result"
    }
   ],
   "source": [
    "# Train logistic regression on resampled data\n",
    "model = LogisticRegression(max_iter=1000)\n",
    "model.fit(X_train_resampled, y_train_resampled)"
   ]
  },
  {
   "cell_type": "code",
   "execution_count": 294,
   "id": "e53f9010",
   "metadata": {},
   "outputs": [
    {
     "name": "stdout",
     "output_type": "stream",
     "text": [
      "              precision    recall  f1-score   support\n",
      "\n",
      "           0       0.95      0.40      0.56     24834\n",
      "           1       0.05      0.59      0.09      1307\n",
      "\n",
      "    accuracy                           0.41     26141\n",
      "   macro avg       0.50      0.49      0.33     26141\n",
      "weighted avg       0.90      0.41      0.54     26141\n",
      "\n"
     ]
    }
   ],
   "source": [
    "# Predict and evaluate on original test set\n",
    "y_pred = model.predict(X_test)\n",
    "print(classification_report(y_test, y_pred))"
   ]
  },
  {
   "cell_type": "code",
   "execution_count": 295,
   "id": "72b8d8fe",
   "metadata": {},
   "outputs": [
    {
     "data": {
      "application/vnd.plotly.v1+json": {
       "config": {
        "plotlyServerURL": "https://plot.ly"
       },
       "data": [
        {
         "colorscale": [
          [
           0,
           "rgb(247,251,255)"
          ],
          [
           0.125,
           "rgb(222,235,247)"
          ],
          [
           0.25,
           "rgb(198,219,239)"
          ],
          [
           0.375,
           "rgb(158,202,225)"
          ],
          [
           0.5,
           "rgb(107,174,214)"
          ],
          [
           0.625,
           "rgb(66,146,198)"
          ],
          [
           0.75,
           "rgb(33,113,181)"
          ],
          [
           0.875,
           "rgb(8,81,156)"
          ],
          [
           1,
           "rgb(8,48,107)"
          ]
         ],
         "hoverinfo": "z",
         "reversescale": false,
         "showscale": true,
         "type": "heatmap",
         "x": [
          "No Default",
          "Default"
         ],
         "y": [
          "No Default",
          "Default"
         ],
         "z": [
          [
           9930,
           14904
          ],
          [
           536,
           771
          ]
         ]
        }
       ],
       "layout": {
        "annotations": [
         {
          "font": {
           "color": "#FFFFFF"
          },
          "showarrow": false,
          "text": "9930",
          "x": "No Default",
          "xref": "x",
          "y": "No Default",
          "yref": "y"
         },
         {
          "font": {
           "color": "#FFFFFF"
          },
          "showarrow": false,
          "text": "14904",
          "x": "Default",
          "xref": "x",
          "y": "No Default",
          "yref": "y"
         },
         {
          "font": {
           "color": "#000000"
          },
          "showarrow": false,
          "text": "536",
          "x": "No Default",
          "xref": "x",
          "y": "Default",
          "yref": "y"
         },
         {
          "font": {
           "color": "#000000"
          },
          "showarrow": false,
          "text": "771",
          "x": "Default",
          "xref": "x",
          "y": "Default",
          "yref": "y"
         }
        ],
        "template": {
         "data": {
          "bar": [
           {
            "error_x": {
             "color": "#2a3f5f"
            },
            "error_y": {
             "color": "#2a3f5f"
            },
            "marker": {
             "line": {
              "color": "#E5ECF6",
              "width": 0.5
             },
             "pattern": {
              "fillmode": "overlay",
              "size": 10,
              "solidity": 0.2
             }
            },
            "type": "bar"
           }
          ],
          "barpolar": [
           {
            "marker": {
             "line": {
              "color": "#E5ECF6",
              "width": 0.5
             },
             "pattern": {
              "fillmode": "overlay",
              "size": 10,
              "solidity": 0.2
             }
            },
            "type": "barpolar"
           }
          ],
          "carpet": [
           {
            "aaxis": {
             "endlinecolor": "#2a3f5f",
             "gridcolor": "white",
             "linecolor": "white",
             "minorgridcolor": "white",
             "startlinecolor": "#2a3f5f"
            },
            "baxis": {
             "endlinecolor": "#2a3f5f",
             "gridcolor": "white",
             "linecolor": "white",
             "minorgridcolor": "white",
             "startlinecolor": "#2a3f5f"
            },
            "type": "carpet"
           }
          ],
          "choropleth": [
           {
            "colorbar": {
             "outlinewidth": 0,
             "ticks": ""
            },
            "type": "choropleth"
           }
          ],
          "contour": [
           {
            "colorbar": {
             "outlinewidth": 0,
             "ticks": ""
            },
            "colorscale": [
             [
              0,
              "#0d0887"
             ],
             [
              0.1111111111111111,
              "#46039f"
             ],
             [
              0.2222222222222222,
              "#7201a8"
             ],
             [
              0.3333333333333333,
              "#9c179e"
             ],
             [
              0.4444444444444444,
              "#bd3786"
             ],
             [
              0.5555555555555556,
              "#d8576b"
             ],
             [
              0.6666666666666666,
              "#ed7953"
             ],
             [
              0.7777777777777778,
              "#fb9f3a"
             ],
             [
              0.8888888888888888,
              "#fdca26"
             ],
             [
              1,
              "#f0f921"
             ]
            ],
            "type": "contour"
           }
          ],
          "contourcarpet": [
           {
            "colorbar": {
             "outlinewidth": 0,
             "ticks": ""
            },
            "type": "contourcarpet"
           }
          ],
          "heatmap": [
           {
            "colorbar": {
             "outlinewidth": 0,
             "ticks": ""
            },
            "colorscale": [
             [
              0,
              "#0d0887"
             ],
             [
              0.1111111111111111,
              "#46039f"
             ],
             [
              0.2222222222222222,
              "#7201a8"
             ],
             [
              0.3333333333333333,
              "#9c179e"
             ],
             [
              0.4444444444444444,
              "#bd3786"
             ],
             [
              0.5555555555555556,
              "#d8576b"
             ],
             [
              0.6666666666666666,
              "#ed7953"
             ],
             [
              0.7777777777777778,
              "#fb9f3a"
             ],
             [
              0.8888888888888888,
              "#fdca26"
             ],
             [
              1,
              "#f0f921"
             ]
            ],
            "type": "heatmap"
           }
          ],
          "heatmapgl": [
           {
            "colorbar": {
             "outlinewidth": 0,
             "ticks": ""
            },
            "colorscale": [
             [
              0,
              "#0d0887"
             ],
             [
              0.1111111111111111,
              "#46039f"
             ],
             [
              0.2222222222222222,
              "#7201a8"
             ],
             [
              0.3333333333333333,
              "#9c179e"
             ],
             [
              0.4444444444444444,
              "#bd3786"
             ],
             [
              0.5555555555555556,
              "#d8576b"
             ],
             [
              0.6666666666666666,
              "#ed7953"
             ],
             [
              0.7777777777777778,
              "#fb9f3a"
             ],
             [
              0.8888888888888888,
              "#fdca26"
             ],
             [
              1,
              "#f0f921"
             ]
            ],
            "type": "heatmapgl"
           }
          ],
          "histogram": [
           {
            "marker": {
             "pattern": {
              "fillmode": "overlay",
              "size": 10,
              "solidity": 0.2
             }
            },
            "type": "histogram"
           }
          ],
          "histogram2d": [
           {
            "colorbar": {
             "outlinewidth": 0,
             "ticks": ""
            },
            "colorscale": [
             [
              0,
              "#0d0887"
             ],
             [
              0.1111111111111111,
              "#46039f"
             ],
             [
              0.2222222222222222,
              "#7201a8"
             ],
             [
              0.3333333333333333,
              "#9c179e"
             ],
             [
              0.4444444444444444,
              "#bd3786"
             ],
             [
              0.5555555555555556,
              "#d8576b"
             ],
             [
              0.6666666666666666,
              "#ed7953"
             ],
             [
              0.7777777777777778,
              "#fb9f3a"
             ],
             [
              0.8888888888888888,
              "#fdca26"
             ],
             [
              1,
              "#f0f921"
             ]
            ],
            "type": "histogram2d"
           }
          ],
          "histogram2dcontour": [
           {
            "colorbar": {
             "outlinewidth": 0,
             "ticks": ""
            },
            "colorscale": [
             [
              0,
              "#0d0887"
             ],
             [
              0.1111111111111111,
              "#46039f"
             ],
             [
              0.2222222222222222,
              "#7201a8"
             ],
             [
              0.3333333333333333,
              "#9c179e"
             ],
             [
              0.4444444444444444,
              "#bd3786"
             ],
             [
              0.5555555555555556,
              "#d8576b"
             ],
             [
              0.6666666666666666,
              "#ed7953"
             ],
             [
              0.7777777777777778,
              "#fb9f3a"
             ],
             [
              0.8888888888888888,
              "#fdca26"
             ],
             [
              1,
              "#f0f921"
             ]
            ],
            "type": "histogram2dcontour"
           }
          ],
          "mesh3d": [
           {
            "colorbar": {
             "outlinewidth": 0,
             "ticks": ""
            },
            "type": "mesh3d"
           }
          ],
          "parcoords": [
           {
            "line": {
             "colorbar": {
              "outlinewidth": 0,
              "ticks": ""
             }
            },
            "type": "parcoords"
           }
          ],
          "pie": [
           {
            "automargin": true,
            "type": "pie"
           }
          ],
          "scatter": [
           {
            "fillpattern": {
             "fillmode": "overlay",
             "size": 10,
             "solidity": 0.2
            },
            "type": "scatter"
           }
          ],
          "scatter3d": [
           {
            "line": {
             "colorbar": {
              "outlinewidth": 0,
              "ticks": ""
             }
            },
            "marker": {
             "colorbar": {
              "outlinewidth": 0,
              "ticks": ""
             }
            },
            "type": "scatter3d"
           }
          ],
          "scattercarpet": [
           {
            "marker": {
             "colorbar": {
              "outlinewidth": 0,
              "ticks": ""
             }
            },
            "type": "scattercarpet"
           }
          ],
          "scattergeo": [
           {
            "marker": {
             "colorbar": {
              "outlinewidth": 0,
              "ticks": ""
             }
            },
            "type": "scattergeo"
           }
          ],
          "scattergl": [
           {
            "marker": {
             "colorbar": {
              "outlinewidth": 0,
              "ticks": ""
             }
            },
            "type": "scattergl"
           }
          ],
          "scattermapbox": [
           {
            "marker": {
             "colorbar": {
              "outlinewidth": 0,
              "ticks": ""
             }
            },
            "type": "scattermapbox"
           }
          ],
          "scatterpolar": [
           {
            "marker": {
             "colorbar": {
              "outlinewidth": 0,
              "ticks": ""
             }
            },
            "type": "scatterpolar"
           }
          ],
          "scatterpolargl": [
           {
            "marker": {
             "colorbar": {
              "outlinewidth": 0,
              "ticks": ""
             }
            },
            "type": "scatterpolargl"
           }
          ],
          "scatterternary": [
           {
            "marker": {
             "colorbar": {
              "outlinewidth": 0,
              "ticks": ""
             }
            },
            "type": "scatterternary"
           }
          ],
          "surface": [
           {
            "colorbar": {
             "outlinewidth": 0,
             "ticks": ""
            },
            "colorscale": [
             [
              0,
              "#0d0887"
             ],
             [
              0.1111111111111111,
              "#46039f"
             ],
             [
              0.2222222222222222,
              "#7201a8"
             ],
             [
              0.3333333333333333,
              "#9c179e"
             ],
             [
              0.4444444444444444,
              "#bd3786"
             ],
             [
              0.5555555555555556,
              "#d8576b"
             ],
             [
              0.6666666666666666,
              "#ed7953"
             ],
             [
              0.7777777777777778,
              "#fb9f3a"
             ],
             [
              0.8888888888888888,
              "#fdca26"
             ],
             [
              1,
              "#f0f921"
             ]
            ],
            "type": "surface"
           }
          ],
          "table": [
           {
            "cells": {
             "fill": {
              "color": "#EBF0F8"
             },
             "line": {
              "color": "white"
             }
            },
            "header": {
             "fill": {
              "color": "#C8D4E3"
             },
             "line": {
              "color": "white"
             }
            },
            "type": "table"
           }
          ]
         },
         "layout": {
          "annotationdefaults": {
           "arrowcolor": "#2a3f5f",
           "arrowhead": 0,
           "arrowwidth": 1
          },
          "autotypenumbers": "strict",
          "coloraxis": {
           "colorbar": {
            "outlinewidth": 0,
            "ticks": ""
           }
          },
          "colorscale": {
           "diverging": [
            [
             0,
             "#8e0152"
            ],
            [
             0.1,
             "#c51b7d"
            ],
            [
             0.2,
             "#de77ae"
            ],
            [
             0.3,
             "#f1b6da"
            ],
            [
             0.4,
             "#fde0ef"
            ],
            [
             0.5,
             "#f7f7f7"
            ],
            [
             0.6,
             "#e6f5d0"
            ],
            [
             0.7,
             "#b8e186"
            ],
            [
             0.8,
             "#7fbc41"
            ],
            [
             0.9,
             "#4d9221"
            ],
            [
             1,
             "#276419"
            ]
           ],
           "sequential": [
            [
             0,
             "#0d0887"
            ],
            [
             0.1111111111111111,
             "#46039f"
            ],
            [
             0.2222222222222222,
             "#7201a8"
            ],
            [
             0.3333333333333333,
             "#9c179e"
            ],
            [
             0.4444444444444444,
             "#bd3786"
            ],
            [
             0.5555555555555556,
             "#d8576b"
            ],
            [
             0.6666666666666666,
             "#ed7953"
            ],
            [
             0.7777777777777778,
             "#fb9f3a"
            ],
            [
             0.8888888888888888,
             "#fdca26"
            ],
            [
             1,
             "#f0f921"
            ]
           ],
           "sequentialminus": [
            [
             0,
             "#0d0887"
            ],
            [
             0.1111111111111111,
             "#46039f"
            ],
            [
             0.2222222222222222,
             "#7201a8"
            ],
            [
             0.3333333333333333,
             "#9c179e"
            ],
            [
             0.4444444444444444,
             "#bd3786"
            ],
            [
             0.5555555555555556,
             "#d8576b"
            ],
            [
             0.6666666666666666,
             "#ed7953"
            ],
            [
             0.7777777777777778,
             "#fb9f3a"
            ],
            [
             0.8888888888888888,
             "#fdca26"
            ],
            [
             1,
             "#f0f921"
            ]
           ]
          },
          "colorway": [
           "#636efa",
           "#EF553B",
           "#00cc96",
           "#ab63fa",
           "#FFA15A",
           "#19d3f3",
           "#FF6692",
           "#B6E880",
           "#FF97FF",
           "#FECB52"
          ],
          "font": {
           "color": "#2a3f5f"
          },
          "geo": {
           "bgcolor": "white",
           "lakecolor": "white",
           "landcolor": "#E5ECF6",
           "showlakes": true,
           "showland": true,
           "subunitcolor": "white"
          },
          "hoverlabel": {
           "align": "left"
          },
          "hovermode": "closest",
          "mapbox": {
           "style": "light"
          },
          "paper_bgcolor": "white",
          "plot_bgcolor": "#E5ECF6",
          "polar": {
           "angularaxis": {
            "gridcolor": "white",
            "linecolor": "white",
            "ticks": ""
           },
           "bgcolor": "#E5ECF6",
           "radialaxis": {
            "gridcolor": "white",
            "linecolor": "white",
            "ticks": ""
           }
          },
          "scene": {
           "xaxis": {
            "backgroundcolor": "#E5ECF6",
            "gridcolor": "white",
            "gridwidth": 2,
            "linecolor": "white",
            "showbackground": true,
            "ticks": "",
            "zerolinecolor": "white"
           },
           "yaxis": {
            "backgroundcolor": "#E5ECF6",
            "gridcolor": "white",
            "gridwidth": 2,
            "linecolor": "white",
            "showbackground": true,
            "ticks": "",
            "zerolinecolor": "white"
           },
           "zaxis": {
            "backgroundcolor": "#E5ECF6",
            "gridcolor": "white",
            "gridwidth": 2,
            "linecolor": "white",
            "showbackground": true,
            "ticks": "",
            "zerolinecolor": "white"
           }
          },
          "shapedefaults": {
           "line": {
            "color": "#2a3f5f"
           }
          },
          "ternary": {
           "aaxis": {
            "gridcolor": "white",
            "linecolor": "white",
            "ticks": ""
           },
           "baxis": {
            "gridcolor": "white",
            "linecolor": "white",
            "ticks": ""
           },
           "bgcolor": "#E5ECF6",
           "caxis": {
            "gridcolor": "white",
            "linecolor": "white",
            "ticks": ""
           }
          },
          "title": {
           "x": 0.05
          },
          "xaxis": {
           "automargin": true,
           "gridcolor": "white",
           "linecolor": "white",
           "ticks": "",
           "title": {
            "standoff": 15
           },
           "zerolinecolor": "white",
           "zerolinewidth": 2
          },
          "yaxis": {
           "automargin": true,
           "gridcolor": "white",
           "linecolor": "white",
           "ticks": "",
           "title": {
            "standoff": 15
           },
           "zerolinecolor": "white",
           "zerolinewidth": 2
          }
         }
        },
        "title": {
         "text": "Confusion Matrix"
        },
        "xaxis": {
         "dtick": 1,
         "gridcolor": "rgb(0, 0, 0)",
         "side": "top",
         "ticks": "",
         "title": {
          "text": "Predicted Label"
         }
        },
        "yaxis": {
         "dtick": 1,
         "ticks": "",
         "ticksuffix": "  ",
         "title": {
          "text": "True Label"
         }
        }
       }
      }
     },
     "metadata": {},
     "output_type": "display_data"
    }
   ],
   "source": [
    "# Compute confusion matrix\n",
    "cm = confusion_matrix(y_test, y_pred, labels=[0, 1])\n",
    "\n",
    "# Define axis labels\n",
    "labels = [\"No Default\", \"Default\"]\n",
    "\n",
    "# Create heatmap with Plotly\n",
    "fig = ff.create_annotated_heatmap(\n",
    "    z=cm,\n",
    "    x=labels,  # Predicted\n",
    "    y=labels,  # Actual\n",
    "    colorscale='Blues',\n",
    "    showscale=True,\n",
    "    annotation_text=[[str(cell) for cell in row] for row in cm],\n",
    "    hoverinfo=\"z\"\n",
    ")\n",
    "\n",
    "fig.update_layout(\n",
    "    title=\"Confusion Matrix\",\n",
    "    xaxis_title=\"Predicted Label\",\n",
    "    yaxis_title=\"True Label\"\n",
    ")\n",
    "\n",
    "fig.show()"
   ]
  },
  {
   "cell_type": "markdown",
   "id": "1f80f39e",
   "metadata": {},
   "source": [
    "### Conclusion\n",
    "\n",
    "The logistic regression model trained on SMOTE-resampled data achieved the following results:\n",
    "\n",
    "- **Precision for class 1 (defaults)** is **0.05**, meaning that only 5% of predicted defaults were correct.  \n",
    "- **Recall for class 1** is **0.59**, indicating that the model successfully identified 59% of actual defaults.  \n",
    "- **Precision for class 0 (non-defaults)** remains high at **0.95**, while recall drops to **0.40**, meaning many non-defaults were incorrectly flagged as defaults.  \n",
    "- **Overall accuracy** is **41%**, reflecting a significant trade-off after balancing the classes.  \n",
    "\n",
    "According to the confusion matrix:  \n",
    "- **771 true defaults** were correctly classified (True Positives).  \n",
    "- **536 true defaults** were missed and labeled as non-defaults (False Negatives).  \n",
    "- **9,930 non-defaults** were correctly classified (True Negatives).  \n",
    "- **14,904 non-defaults** were incorrectly predicted as defaults (False Positives).  \n",
    "\n",
    "This result illustrates the classic SMOTE trade-off: recall on the minority class improves substantially, but at the cost of precision and a surge in false positives, leading to a drop in overall accuracy.  \n",
    "\n"
   ]
  },
  {
   "cell_type": "markdown",
   "id": "0034db97",
   "metadata": {},
   "source": [
    "## Model Performance Interpretation (Logistic Regression with Inverse Class Frequency Weights)"
   ]
  },
  {
   "cell_type": "markdown",
   "id": "fa72f224",
   "metadata": {},
   "source": [
    "### Try to balance the class with the inversal propotion to class frecuency"
   ]
  },
  {
   "cell_type": "code",
   "execution_count": 296,
   "id": "dfd91f3b",
   "metadata": {},
   "outputs": [
    {
     "name": "stdout",
     "output_type": "stream",
     "text": [
      "Class weights: {0: 1.052655195623285, 1: 19.991478203867583}\n"
     ]
    }
   ],
   "source": [
    "# Calculate total number of observations in y_train\n",
    "total_obs = len(y_train)\n",
    "\n",
    "# Count number of samples per class\n",
    "class_counts = y_train.value_counts().to_dict()\n",
    "\n",
    "# Define class weights: inversely proportional to class frequency\n",
    "weights_dynamic = {cls: total_obs / count for cls, count in class_counts.items()}\n",
    "print(\"Class weights:\", weights_dynamic)\n"
   ]
  },
  {
   "cell_type": "code",
   "execution_count": 297,
   "id": "91e73a9c",
   "metadata": {},
   "outputs": [
    {
     "name": "stdout",
     "output_type": "stream",
     "text": [
      "              precision    recall  f1-score   support\n",
      "\n",
      "           0       0.95      0.43      0.59     24834\n",
      "           1       0.05      0.56      0.09      1307\n",
      "\n",
      "    accuracy                           0.44     26141\n",
      "   macro avg       0.50      0.50      0.34     26141\n",
      "weighted avg       0.90      0.44      0.57     26141\n",
      "\n"
     ]
    }
   ],
   "source": [
    "# Train logistic regression using calculated weights\n",
    "model_dynamic_weighted = LogisticRegression(max_iter=1000, class_weight=weights_dynamic)\n",
    "model_dynamic_weighted.fit(X_train, y_train)\n",
    "\n",
    "# Predict and evaluate on the test set\n",
    "y_pred_dynamic = model_dynamic_weighted.predict(X_test)\n",
    "print(classification_report(y_test, y_pred_dynamic))"
   ]
  },
  {
   "cell_type": "code",
   "execution_count": 298,
   "id": "a4c49d54",
   "metadata": {},
   "outputs": [
    {
     "data": {
      "application/vnd.plotly.v1+json": {
       "config": {
        "plotlyServerURL": "https://plot.ly"
       },
       "data": [
        {
         "colorscale": [
          [
           0,
           "rgb(247,251,255)"
          ],
          [
           0.125,
           "rgb(222,235,247)"
          ],
          [
           0.25,
           "rgb(198,219,239)"
          ],
          [
           0.375,
           "rgb(158,202,225)"
          ],
          [
           0.5,
           "rgb(107,174,214)"
          ],
          [
           0.625,
           "rgb(66,146,198)"
          ],
          [
           0.75,
           "rgb(33,113,181)"
          ],
          [
           0.875,
           "rgb(8,81,156)"
          ],
          [
           1,
           "rgb(8,48,107)"
          ]
         ],
         "hoverinfo": "z",
         "reversescale": false,
         "showscale": true,
         "type": "heatmap",
         "x": [
          "No Default",
          "Default"
         ],
         "y": [
          "No Default",
          "Default"
         ],
         "z": [
          [
           10723,
           14111
          ],
          [
           576,
           731
          ]
         ]
        }
       ],
       "layout": {
        "annotations": [
         {
          "font": {
           "color": "#FFFFFF"
          },
          "showarrow": false,
          "text": "10723",
          "x": "No Default",
          "xref": "x",
          "y": "No Default",
          "yref": "y"
         },
         {
          "font": {
           "color": "#FFFFFF"
          },
          "showarrow": false,
          "text": "14111",
          "x": "Default",
          "xref": "x",
          "y": "No Default",
          "yref": "y"
         },
         {
          "font": {
           "color": "#000000"
          },
          "showarrow": false,
          "text": "576",
          "x": "No Default",
          "xref": "x",
          "y": "Default",
          "yref": "y"
         },
         {
          "font": {
           "color": "#000000"
          },
          "showarrow": false,
          "text": "731",
          "x": "Default",
          "xref": "x",
          "y": "Default",
          "yref": "y"
         }
        ],
        "template": {
         "data": {
          "bar": [
           {
            "error_x": {
             "color": "#2a3f5f"
            },
            "error_y": {
             "color": "#2a3f5f"
            },
            "marker": {
             "line": {
              "color": "#E5ECF6",
              "width": 0.5
             },
             "pattern": {
              "fillmode": "overlay",
              "size": 10,
              "solidity": 0.2
             }
            },
            "type": "bar"
           }
          ],
          "barpolar": [
           {
            "marker": {
             "line": {
              "color": "#E5ECF6",
              "width": 0.5
             },
             "pattern": {
              "fillmode": "overlay",
              "size": 10,
              "solidity": 0.2
             }
            },
            "type": "barpolar"
           }
          ],
          "carpet": [
           {
            "aaxis": {
             "endlinecolor": "#2a3f5f",
             "gridcolor": "white",
             "linecolor": "white",
             "minorgridcolor": "white",
             "startlinecolor": "#2a3f5f"
            },
            "baxis": {
             "endlinecolor": "#2a3f5f",
             "gridcolor": "white",
             "linecolor": "white",
             "minorgridcolor": "white",
             "startlinecolor": "#2a3f5f"
            },
            "type": "carpet"
           }
          ],
          "choropleth": [
           {
            "colorbar": {
             "outlinewidth": 0,
             "ticks": ""
            },
            "type": "choropleth"
           }
          ],
          "contour": [
           {
            "colorbar": {
             "outlinewidth": 0,
             "ticks": ""
            },
            "colorscale": [
             [
              0,
              "#0d0887"
             ],
             [
              0.1111111111111111,
              "#46039f"
             ],
             [
              0.2222222222222222,
              "#7201a8"
             ],
             [
              0.3333333333333333,
              "#9c179e"
             ],
             [
              0.4444444444444444,
              "#bd3786"
             ],
             [
              0.5555555555555556,
              "#d8576b"
             ],
             [
              0.6666666666666666,
              "#ed7953"
             ],
             [
              0.7777777777777778,
              "#fb9f3a"
             ],
             [
              0.8888888888888888,
              "#fdca26"
             ],
             [
              1,
              "#f0f921"
             ]
            ],
            "type": "contour"
           }
          ],
          "contourcarpet": [
           {
            "colorbar": {
             "outlinewidth": 0,
             "ticks": ""
            },
            "type": "contourcarpet"
           }
          ],
          "heatmap": [
           {
            "colorbar": {
             "outlinewidth": 0,
             "ticks": ""
            },
            "colorscale": [
             [
              0,
              "#0d0887"
             ],
             [
              0.1111111111111111,
              "#46039f"
             ],
             [
              0.2222222222222222,
              "#7201a8"
             ],
             [
              0.3333333333333333,
              "#9c179e"
             ],
             [
              0.4444444444444444,
              "#bd3786"
             ],
             [
              0.5555555555555556,
              "#d8576b"
             ],
             [
              0.6666666666666666,
              "#ed7953"
             ],
             [
              0.7777777777777778,
              "#fb9f3a"
             ],
             [
              0.8888888888888888,
              "#fdca26"
             ],
             [
              1,
              "#f0f921"
             ]
            ],
            "type": "heatmap"
           }
          ],
          "heatmapgl": [
           {
            "colorbar": {
             "outlinewidth": 0,
             "ticks": ""
            },
            "colorscale": [
             [
              0,
              "#0d0887"
             ],
             [
              0.1111111111111111,
              "#46039f"
             ],
             [
              0.2222222222222222,
              "#7201a8"
             ],
             [
              0.3333333333333333,
              "#9c179e"
             ],
             [
              0.4444444444444444,
              "#bd3786"
             ],
             [
              0.5555555555555556,
              "#d8576b"
             ],
             [
              0.6666666666666666,
              "#ed7953"
             ],
             [
              0.7777777777777778,
              "#fb9f3a"
             ],
             [
              0.8888888888888888,
              "#fdca26"
             ],
             [
              1,
              "#f0f921"
             ]
            ],
            "type": "heatmapgl"
           }
          ],
          "histogram": [
           {
            "marker": {
             "pattern": {
              "fillmode": "overlay",
              "size": 10,
              "solidity": 0.2
             }
            },
            "type": "histogram"
           }
          ],
          "histogram2d": [
           {
            "colorbar": {
             "outlinewidth": 0,
             "ticks": ""
            },
            "colorscale": [
             [
              0,
              "#0d0887"
             ],
             [
              0.1111111111111111,
              "#46039f"
             ],
             [
              0.2222222222222222,
              "#7201a8"
             ],
             [
              0.3333333333333333,
              "#9c179e"
             ],
             [
              0.4444444444444444,
              "#bd3786"
             ],
             [
              0.5555555555555556,
              "#d8576b"
             ],
             [
              0.6666666666666666,
              "#ed7953"
             ],
             [
              0.7777777777777778,
              "#fb9f3a"
             ],
             [
              0.8888888888888888,
              "#fdca26"
             ],
             [
              1,
              "#f0f921"
             ]
            ],
            "type": "histogram2d"
           }
          ],
          "histogram2dcontour": [
           {
            "colorbar": {
             "outlinewidth": 0,
             "ticks": ""
            },
            "colorscale": [
             [
              0,
              "#0d0887"
             ],
             [
              0.1111111111111111,
              "#46039f"
             ],
             [
              0.2222222222222222,
              "#7201a8"
             ],
             [
              0.3333333333333333,
              "#9c179e"
             ],
             [
              0.4444444444444444,
              "#bd3786"
             ],
             [
              0.5555555555555556,
              "#d8576b"
             ],
             [
              0.6666666666666666,
              "#ed7953"
             ],
             [
              0.7777777777777778,
              "#fb9f3a"
             ],
             [
              0.8888888888888888,
              "#fdca26"
             ],
             [
              1,
              "#f0f921"
             ]
            ],
            "type": "histogram2dcontour"
           }
          ],
          "mesh3d": [
           {
            "colorbar": {
             "outlinewidth": 0,
             "ticks": ""
            },
            "type": "mesh3d"
           }
          ],
          "parcoords": [
           {
            "line": {
             "colorbar": {
              "outlinewidth": 0,
              "ticks": ""
             }
            },
            "type": "parcoords"
           }
          ],
          "pie": [
           {
            "automargin": true,
            "type": "pie"
           }
          ],
          "scatter": [
           {
            "fillpattern": {
             "fillmode": "overlay",
             "size": 10,
             "solidity": 0.2
            },
            "type": "scatter"
           }
          ],
          "scatter3d": [
           {
            "line": {
             "colorbar": {
              "outlinewidth": 0,
              "ticks": ""
             }
            },
            "marker": {
             "colorbar": {
              "outlinewidth": 0,
              "ticks": ""
             }
            },
            "type": "scatter3d"
           }
          ],
          "scattercarpet": [
           {
            "marker": {
             "colorbar": {
              "outlinewidth": 0,
              "ticks": ""
             }
            },
            "type": "scattercarpet"
           }
          ],
          "scattergeo": [
           {
            "marker": {
             "colorbar": {
              "outlinewidth": 0,
              "ticks": ""
             }
            },
            "type": "scattergeo"
           }
          ],
          "scattergl": [
           {
            "marker": {
             "colorbar": {
              "outlinewidth": 0,
              "ticks": ""
             }
            },
            "type": "scattergl"
           }
          ],
          "scattermapbox": [
           {
            "marker": {
             "colorbar": {
              "outlinewidth": 0,
              "ticks": ""
             }
            },
            "type": "scattermapbox"
           }
          ],
          "scatterpolar": [
           {
            "marker": {
             "colorbar": {
              "outlinewidth": 0,
              "ticks": ""
             }
            },
            "type": "scatterpolar"
           }
          ],
          "scatterpolargl": [
           {
            "marker": {
             "colorbar": {
              "outlinewidth": 0,
              "ticks": ""
             }
            },
            "type": "scatterpolargl"
           }
          ],
          "scatterternary": [
           {
            "marker": {
             "colorbar": {
              "outlinewidth": 0,
              "ticks": ""
             }
            },
            "type": "scatterternary"
           }
          ],
          "surface": [
           {
            "colorbar": {
             "outlinewidth": 0,
             "ticks": ""
            },
            "colorscale": [
             [
              0,
              "#0d0887"
             ],
             [
              0.1111111111111111,
              "#46039f"
             ],
             [
              0.2222222222222222,
              "#7201a8"
             ],
             [
              0.3333333333333333,
              "#9c179e"
             ],
             [
              0.4444444444444444,
              "#bd3786"
             ],
             [
              0.5555555555555556,
              "#d8576b"
             ],
             [
              0.6666666666666666,
              "#ed7953"
             ],
             [
              0.7777777777777778,
              "#fb9f3a"
             ],
             [
              0.8888888888888888,
              "#fdca26"
             ],
             [
              1,
              "#f0f921"
             ]
            ],
            "type": "surface"
           }
          ],
          "table": [
           {
            "cells": {
             "fill": {
              "color": "#EBF0F8"
             },
             "line": {
              "color": "white"
             }
            },
            "header": {
             "fill": {
              "color": "#C8D4E3"
             },
             "line": {
              "color": "white"
             }
            },
            "type": "table"
           }
          ]
         },
         "layout": {
          "annotationdefaults": {
           "arrowcolor": "#2a3f5f",
           "arrowhead": 0,
           "arrowwidth": 1
          },
          "autotypenumbers": "strict",
          "coloraxis": {
           "colorbar": {
            "outlinewidth": 0,
            "ticks": ""
           }
          },
          "colorscale": {
           "diverging": [
            [
             0,
             "#8e0152"
            ],
            [
             0.1,
             "#c51b7d"
            ],
            [
             0.2,
             "#de77ae"
            ],
            [
             0.3,
             "#f1b6da"
            ],
            [
             0.4,
             "#fde0ef"
            ],
            [
             0.5,
             "#f7f7f7"
            ],
            [
             0.6,
             "#e6f5d0"
            ],
            [
             0.7,
             "#b8e186"
            ],
            [
             0.8,
             "#7fbc41"
            ],
            [
             0.9,
             "#4d9221"
            ],
            [
             1,
             "#276419"
            ]
           ],
           "sequential": [
            [
             0,
             "#0d0887"
            ],
            [
             0.1111111111111111,
             "#46039f"
            ],
            [
             0.2222222222222222,
             "#7201a8"
            ],
            [
             0.3333333333333333,
             "#9c179e"
            ],
            [
             0.4444444444444444,
             "#bd3786"
            ],
            [
             0.5555555555555556,
             "#d8576b"
            ],
            [
             0.6666666666666666,
             "#ed7953"
            ],
            [
             0.7777777777777778,
             "#fb9f3a"
            ],
            [
             0.8888888888888888,
             "#fdca26"
            ],
            [
             1,
             "#f0f921"
            ]
           ],
           "sequentialminus": [
            [
             0,
             "#0d0887"
            ],
            [
             0.1111111111111111,
             "#46039f"
            ],
            [
             0.2222222222222222,
             "#7201a8"
            ],
            [
             0.3333333333333333,
             "#9c179e"
            ],
            [
             0.4444444444444444,
             "#bd3786"
            ],
            [
             0.5555555555555556,
             "#d8576b"
            ],
            [
             0.6666666666666666,
             "#ed7953"
            ],
            [
             0.7777777777777778,
             "#fb9f3a"
            ],
            [
             0.8888888888888888,
             "#fdca26"
            ],
            [
             1,
             "#f0f921"
            ]
           ]
          },
          "colorway": [
           "#636efa",
           "#EF553B",
           "#00cc96",
           "#ab63fa",
           "#FFA15A",
           "#19d3f3",
           "#FF6692",
           "#B6E880",
           "#FF97FF",
           "#FECB52"
          ],
          "font": {
           "color": "#2a3f5f"
          },
          "geo": {
           "bgcolor": "white",
           "lakecolor": "white",
           "landcolor": "#E5ECF6",
           "showlakes": true,
           "showland": true,
           "subunitcolor": "white"
          },
          "hoverlabel": {
           "align": "left"
          },
          "hovermode": "closest",
          "mapbox": {
           "style": "light"
          },
          "paper_bgcolor": "white",
          "plot_bgcolor": "#E5ECF6",
          "polar": {
           "angularaxis": {
            "gridcolor": "white",
            "linecolor": "white",
            "ticks": ""
           },
           "bgcolor": "#E5ECF6",
           "radialaxis": {
            "gridcolor": "white",
            "linecolor": "white",
            "ticks": ""
           }
          },
          "scene": {
           "xaxis": {
            "backgroundcolor": "#E5ECF6",
            "gridcolor": "white",
            "gridwidth": 2,
            "linecolor": "white",
            "showbackground": true,
            "ticks": "",
            "zerolinecolor": "white"
           },
           "yaxis": {
            "backgroundcolor": "#E5ECF6",
            "gridcolor": "white",
            "gridwidth": 2,
            "linecolor": "white",
            "showbackground": true,
            "ticks": "",
            "zerolinecolor": "white"
           },
           "zaxis": {
            "backgroundcolor": "#E5ECF6",
            "gridcolor": "white",
            "gridwidth": 2,
            "linecolor": "white",
            "showbackground": true,
            "ticks": "",
            "zerolinecolor": "white"
           }
          },
          "shapedefaults": {
           "line": {
            "color": "#2a3f5f"
           }
          },
          "ternary": {
           "aaxis": {
            "gridcolor": "white",
            "linecolor": "white",
            "ticks": ""
           },
           "baxis": {
            "gridcolor": "white",
            "linecolor": "white",
            "ticks": ""
           },
           "bgcolor": "#E5ECF6",
           "caxis": {
            "gridcolor": "white",
            "linecolor": "white",
            "ticks": ""
           }
          },
          "title": {
           "x": 0.05
          },
          "xaxis": {
           "automargin": true,
           "gridcolor": "white",
           "linecolor": "white",
           "ticks": "",
           "title": {
            "standoff": 15
           },
           "zerolinecolor": "white",
           "zerolinewidth": 2
          },
          "yaxis": {
           "automargin": true,
           "gridcolor": "white",
           "linecolor": "white",
           "ticks": "",
           "title": {
            "standoff": 15
           },
           "zerolinecolor": "white",
           "zerolinewidth": 2
          }
         }
        },
        "title": {
         "text": "Confusion Matrix"
        },
        "xaxis": {
         "dtick": 1,
         "gridcolor": "rgb(0, 0, 0)",
         "side": "top",
         "ticks": "",
         "title": {
          "text": "Predicted Label"
         }
        },
        "yaxis": {
         "dtick": 1,
         "ticks": "",
         "ticksuffix": "  ",
         "title": {
          "text": "True Label"
         }
        }
       }
      }
     },
     "metadata": {},
     "output_type": "display_data"
    }
   ],
   "source": [
    "# Compute confusion matrix\n",
    "cm = confusion_matrix(y_test, y_pred_dynamic, labels=[0, 1])\n",
    "\n",
    "# Define axis labels\n",
    "labels = [\"No Default\", \"Default\"]\n",
    "\n",
    "# Create heatmap with Plotly\n",
    "fig = ff.create_annotated_heatmap(\n",
    "    z=cm,\n",
    "    x=labels,  # Predicted\n",
    "    y=labels,  # Actual\n",
    "    colorscale='Blues',\n",
    "    showscale=True,\n",
    "    annotation_text=[[str(cell) for cell in row] for row in cm],\n",
    "    hoverinfo=\"z\"\n",
    ")\n",
    "\n",
    "fig.update_layout(\n",
    "    title=\"Confusion Matrix\",\n",
    "    xaxis_title=\"Predicted Label\",\n",
    "    yaxis_title=\"True Label\"\n",
    ")\n",
    "\n",
    "fig.show()"
   ]
  },
  {
   "cell_type": "markdown",
   "id": "56542252",
   "metadata": {},
   "source": [
    "### Conclusion\n",
    "\n",
    "The logistic regression model trained with dynamically computed class weights achieved the following results:\n",
    "\n",
    "- **Precision for class 1 (defaults)** is **0.05**, meaning only 5% of predicted defaults were correct—unchanged from the SMOTE model.  \n",
    "- **Recall for class 1** is **0.56**, indicating the model now identifies 56% of actual defaults (slightly lower than the 59% recall under SMOTE).  \n",
    "- **Precision for class 0 (non-defaults)** remains high at **0.95**, while recall is **0.43**, meaning many non-defaults are still flagged as defaults.  \n",
    "- **Overall accuracy** is **44%**, a modest improvement over the 41% achieved with SMOTE.  \n",
    "\n",
    "According to the confusion matrix:  \n",
    "- **731 true defaults** were correctly classified (True Positives).  \n",
    "- **576 true defaults** were missed and labeled as non-defaults (False Negatives).  \n",
    "- **10,723 non-defaults** were correctly classified (True Negatives).  \n",
    "- **14,111 non-defaults** were incorrectly predicted as defaults (False Positives).  \n",
    "\n",
    "This demonstrates that inverse-frequency weighting yields a small gain in overall accuracy but still suffers from low precision and a high false-positive rate, reflecting the persistent class imbalance challenge.  "
   ]
  },
  {
   "cell_type": "markdown",
   "id": "d4af815e",
   "metadata": {},
   "source": [
    "## Model Performance Interpretation (Logistic Regression with Dynamic Weights + Credit History Features)"
   ]
  },
  {
   "cell_type": "code",
   "execution_count": 299,
   "id": "26017881",
   "metadata": {},
   "outputs": [
    {
     "data": {
      "text/html": [
       "<div>\n",
       "<style scoped>\n",
       "    .dataframe tbody tr th:only-of-type {\n",
       "        vertical-align: middle;\n",
       "    }\n",
       "\n",
       "    .dataframe tbody tr th {\n",
       "        vertical-align: top;\n",
       "    }\n",
       "\n",
       "    .dataframe thead th {\n",
       "        text-align: right;\n",
       "    }\n",
       "</style>\n",
       "<table border=\"1\" class=\"dataframe\">\n",
       "  <thead>\n",
       "    <tr style=\"text-align: right;\">\n",
       "      <th></th>\n",
       "      <th>History_ID</th>\n",
       "      <th>Client_ID</th>\n",
       "      <th>Type_Client</th>\n",
       "      <th>Transaction_ID</th>\n",
       "      <th>Credit_Amount</th>\n",
       "      <th>Payment_Amount</th>\n",
       "      <th>Outstanding_Balance</th>\n",
       "      <th>Interest_Rate</th>\n",
       "      <th>Payment_Status</th>\n",
       "      <th>Late_Payment_Fees</th>\n",
       "      <th>Transaction_Date</th>\n",
       "      <th>Payment_Due_Date</th>\n",
       "      <th>Last_Payment_Date</th>\n",
       "      <th>Credit_Score</th>\n",
       "    </tr>\n",
       "  </thead>\n",
       "  <tbody>\n",
       "    <tr>\n",
       "      <th>0</th>\n",
       "      <td>3d5f20ca-fa6a-47f8-bc1c-5f36d0cb6dc6</td>\n",
       "      <td>2</td>\n",
       "      <td>Individual</td>\n",
       "      <td>5847a84c-a42a-49b7-bd21-e1c785db0001</td>\n",
       "      <td>32670.99</td>\n",
       "      <td>2983.41</td>\n",
       "      <td>0.00</td>\n",
       "      <td>9.58</td>\n",
       "      <td>PAID</td>\n",
       "      <td>0.00</td>\n",
       "      <td>2024-11-09</td>\n",
       "      <td>2024-12-09</td>\n",
       "      <td>2024-12-21</td>\n",
       "      <td>848</td>\n",
       "    </tr>\n",
       "    <tr>\n",
       "      <th>1</th>\n",
       "      <td>dbb8ca8c-c927-4bef-8cd0-29480260fdb9</td>\n",
       "      <td>3</td>\n",
       "      <td>Individual</td>\n",
       "      <td>fa4bc151-2efb-431c-a103-6c0705a603b6</td>\n",
       "      <td>33204.35</td>\n",
       "      <td>3017.72</td>\n",
       "      <td>12080.31</td>\n",
       "      <td>9.06</td>\n",
       "      <td>OVERDUE</td>\n",
       "      <td>241.61</td>\n",
       "      <td>2025-01-24</td>\n",
       "      <td>2025-02-23</td>\n",
       "      <td>2025-02-28</td>\n",
       "      <td>751</td>\n",
       "    </tr>\n",
       "    <tr>\n",
       "      <th>2</th>\n",
       "      <td>657f33b1-fe1c-450a-97e5-37d67f43c1c2</td>\n",
       "      <td>3</td>\n",
       "      <td>Individual</td>\n",
       "      <td>0cb605c5-0713-4355-baf1-bfd95b1102d4</td>\n",
       "      <td>45311.77</td>\n",
       "      <td>4205.31</td>\n",
       "      <td>11669.29</td>\n",
       "      <td>11.37</td>\n",
       "      <td>OVERDUE</td>\n",
       "      <td>233.39</td>\n",
       "      <td>2024-08-29</td>\n",
       "      <td>2024-09-28</td>\n",
       "      <td>2024-09-25</td>\n",
       "      <td>561</td>\n",
       "    </tr>\n",
       "    <tr>\n",
       "      <th>3</th>\n",
       "      <td>74810ab7-f336-4d71-b743-0793fb7c4fb3</td>\n",
       "      <td>4</td>\n",
       "      <td>Individual</td>\n",
       "      <td>23869b70-3310-497f-a9a1-1908a45635ba</td>\n",
       "      <td>38074.92</td>\n",
       "      <td>3551.12</td>\n",
       "      <td>0.00</td>\n",
       "      <td>11.92</td>\n",
       "      <td>PAID</td>\n",
       "      <td>0.00</td>\n",
       "      <td>2022-06-10</td>\n",
       "      <td>2022-07-10</td>\n",
       "      <td>2022-07-17</td>\n",
       "      <td>517</td>\n",
       "    </tr>\n",
       "    <tr>\n",
       "      <th>4</th>\n",
       "      <td>b11153c6-0850-495f-8733-c304da239744</td>\n",
       "      <td>5</td>\n",
       "      <td>Individual</td>\n",
       "      <td>bc97347c-fc95-4120-a43d-af685e9750cb</td>\n",
       "      <td>48152.88</td>\n",
       "      <td>4151.98</td>\n",
       "      <td>35696.94</td>\n",
       "      <td>3.47</td>\n",
       "      <td>OVERDUE</td>\n",
       "      <td>713.94</td>\n",
       "      <td>2022-11-10</td>\n",
       "      <td>2022-12-10</td>\n",
       "      <td>2023-01-19</td>\n",
       "      <td>408</td>\n",
       "    </tr>\n",
       "  </tbody>\n",
       "</table>\n",
       "</div>"
      ],
      "text/plain": [
       "                             History_ID  Client_ID Type_Client  \\\n",
       "0  3d5f20ca-fa6a-47f8-bc1c-5f36d0cb6dc6          2  Individual   \n",
       "1  dbb8ca8c-c927-4bef-8cd0-29480260fdb9          3  Individual   \n",
       "2  657f33b1-fe1c-450a-97e5-37d67f43c1c2          3  Individual   \n",
       "3  74810ab7-f336-4d71-b743-0793fb7c4fb3          4  Individual   \n",
       "4  b11153c6-0850-495f-8733-c304da239744          5  Individual   \n",
       "\n",
       "                         Transaction_ID  Credit_Amount  Payment_Amount  \\\n",
       "0  5847a84c-a42a-49b7-bd21-e1c785db0001       32670.99         2983.41   \n",
       "1  fa4bc151-2efb-431c-a103-6c0705a603b6       33204.35         3017.72   \n",
       "2  0cb605c5-0713-4355-baf1-bfd95b1102d4       45311.77         4205.31   \n",
       "3  23869b70-3310-497f-a9a1-1908a45635ba       38074.92         3551.12   \n",
       "4  bc97347c-fc95-4120-a43d-af685e9750cb       48152.88         4151.98   \n",
       "\n",
       "   Outstanding_Balance  Interest_Rate Payment_Status  Late_Payment_Fees  \\\n",
       "0                 0.00           9.58           PAID               0.00   \n",
       "1             12080.31           9.06        OVERDUE             241.61   \n",
       "2             11669.29          11.37        OVERDUE             233.39   \n",
       "3                 0.00          11.92           PAID               0.00   \n",
       "4             35696.94           3.47        OVERDUE             713.94   \n",
       "\n",
       "  Transaction_Date Payment_Due_Date Last_Payment_Date  Credit_Score  \n",
       "0       2024-11-09       2024-12-09        2024-12-21           848  \n",
       "1       2025-01-24       2025-02-23        2025-02-28           751  \n",
       "2       2024-08-29       2024-09-28        2024-09-25           561  \n",
       "3       2022-06-10       2022-07-10        2022-07-17           517  \n",
       "4       2022-11-10       2022-12-10        2023-01-19           408  "
      ]
     },
     "execution_count": 299,
     "metadata": {},
     "output_type": "execute_result"
    }
   ],
   "source": [
    "# Load credit history and create aggregated features per client\n",
    "history = pd.read_csv(\"data/credit_history_welfordbank_en.csv\")\n",
    "history.head(5)"
   ]
  },
  {
   "cell_type": "code",
   "execution_count": 300,
   "id": "a9cf8556",
   "metadata": {},
   "outputs": [
    {
     "name": "stdout",
     "output_type": "stream",
     "text": [
      "<class 'pandas.core.frame.DataFrame'>\n",
      "RangeIndex: 29894 entries, 0 to 29893\n",
      "Data columns (total 14 columns):\n",
      " #   Column               Non-Null Count  Dtype  \n",
      "---  ------               --------------  -----  \n",
      " 0   History_ID           29894 non-null  object \n",
      " 1   Client_ID            29894 non-null  int64  \n",
      " 2   Type_Client          29894 non-null  object \n",
      " 3   Transaction_ID       29894 non-null  object \n",
      " 4   Credit_Amount        29894 non-null  float64\n",
      " 5   Payment_Amount       29894 non-null  float64\n",
      " 6   Outstanding_Balance  29894 non-null  float64\n",
      " 7   Interest_Rate        29894 non-null  float64\n",
      " 8   Payment_Status       29894 non-null  object \n",
      " 9   Late_Payment_Fees    29894 non-null  float64\n",
      " 10  Transaction_Date     29894 non-null  object \n",
      " 11  Payment_Due_Date     29894 non-null  object \n",
      " 12  Last_Payment_Date    29894 non-null  object \n",
      " 13  Credit_Score         29894 non-null  int64  \n",
      "dtypes: float64(5), int64(2), object(7)\n",
      "memory usage: 3.2+ MB\n"
     ]
    },
    {
     "data": {
      "text/html": [
       "<div>\n",
       "<style scoped>\n",
       "    .dataframe tbody tr th:only-of-type {\n",
       "        vertical-align: middle;\n",
       "    }\n",
       "\n",
       "    .dataframe tbody tr th {\n",
       "        vertical-align: top;\n",
       "    }\n",
       "\n",
       "    .dataframe thead th {\n",
       "        text-align: right;\n",
       "    }\n",
       "</style>\n",
       "<table border=\"1\" class=\"dataframe\">\n",
       "  <thead>\n",
       "    <tr style=\"text-align: right;\">\n",
       "      <th></th>\n",
       "      <th>Client_ID</th>\n",
       "      <th>Credit_Amount</th>\n",
       "      <th>Payment_Amount</th>\n",
       "      <th>Outstanding_Balance</th>\n",
       "      <th>Interest_Rate</th>\n",
       "      <th>Late_Payment_Fees</th>\n",
       "      <th>Credit_Score</th>\n",
       "    </tr>\n",
       "  </thead>\n",
       "  <tbody>\n",
       "    <tr>\n",
       "      <th>count</th>\n",
       "      <td>29894.000000</td>\n",
       "      <td>29894.000000</td>\n",
       "      <td>29894.000000</td>\n",
       "      <td>29894.000000</td>\n",
       "      <td>29894.000000</td>\n",
       "      <td>29894.000000</td>\n",
       "      <td>29894.000000</td>\n",
       "    </tr>\n",
       "    <tr>\n",
       "      <th>mean</th>\n",
       "      <td>12474.688968</td>\n",
       "      <td>25585.794256</td>\n",
       "      <td>2281.321963</td>\n",
       "      <td>11976.717683</td>\n",
       "      <td>7.002437</td>\n",
       "      <td>235.670689</td>\n",
       "      <td>575.807821</td>\n",
       "    </tr>\n",
       "    <tr>\n",
       "      <th>std</th>\n",
       "      <td>7214.410102</td>\n",
       "      <td>14130.297989</td>\n",
       "      <td>1261.793402</td>\n",
       "      <td>11527.407512</td>\n",
       "      <td>2.884687</td>\n",
       "      <td>230.600961</td>\n",
       "      <td>159.476284</td>\n",
       "    </tr>\n",
       "    <tr>\n",
       "      <th>min</th>\n",
       "      <td>2.000000</td>\n",
       "      <td>1001.690000</td>\n",
       "      <td>86.220000</td>\n",
       "      <td>0.000000</td>\n",
       "      <td>2.000000</td>\n",
       "      <td>0.000000</td>\n",
       "      <td>300.000000</td>\n",
       "    </tr>\n",
       "    <tr>\n",
       "      <th>25%</th>\n",
       "      <td>6231.750000</td>\n",
       "      <td>13322.070000</td>\n",
       "      <td>1186.215000</td>\n",
       "      <td>2403.035000</td>\n",
       "      <td>4.500000</td>\n",
       "      <td>43.682500</td>\n",
       "      <td>438.000000</td>\n",
       "    </tr>\n",
       "    <tr>\n",
       "      <th>50%</th>\n",
       "      <td>12464.000000</td>\n",
       "      <td>25648.620000</td>\n",
       "      <td>2283.995000</td>\n",
       "      <td>8479.220000</td>\n",
       "      <td>7.010000</td>\n",
       "      <td>164.000000</td>\n",
       "      <td>576.000000</td>\n",
       "    </tr>\n",
       "    <tr>\n",
       "      <th>75%</th>\n",
       "      <td>18714.750000</td>\n",
       "      <td>37918.692500</td>\n",
       "      <td>3377.687500</td>\n",
       "      <td>18810.897500</td>\n",
       "      <td>9.500000</td>\n",
       "      <td>371.697500</td>\n",
       "      <td>714.000000</td>\n",
       "    </tr>\n",
       "    <tr>\n",
       "      <th>max</th>\n",
       "      <td>24999.000000</td>\n",
       "      <td>49997.770000</td>\n",
       "      <td>4648.720000</td>\n",
       "      <td>49972.720000</td>\n",
       "      <td>12.000000</td>\n",
       "      <td>999.450000</td>\n",
       "      <td>850.000000</td>\n",
       "    </tr>\n",
       "  </tbody>\n",
       "</table>\n",
       "</div>"
      ],
      "text/plain": [
       "          Client_ID  Credit_Amount  Payment_Amount  Outstanding_Balance  \\\n",
       "count  29894.000000   29894.000000    29894.000000         29894.000000   \n",
       "mean   12474.688968   25585.794256     2281.321963         11976.717683   \n",
       "std     7214.410102   14130.297989     1261.793402         11527.407512   \n",
       "min        2.000000    1001.690000       86.220000             0.000000   \n",
       "25%     6231.750000   13322.070000     1186.215000          2403.035000   \n",
       "50%    12464.000000   25648.620000     2283.995000          8479.220000   \n",
       "75%    18714.750000   37918.692500     3377.687500         18810.897500   \n",
       "max    24999.000000   49997.770000     4648.720000         49972.720000   \n",
       "\n",
       "       Interest_Rate  Late_Payment_Fees  Credit_Score  \n",
       "count   29894.000000       29894.000000  29894.000000  \n",
       "mean        7.002437         235.670689    575.807821  \n",
       "std         2.884687         230.600961    159.476284  \n",
       "min         2.000000           0.000000    300.000000  \n",
       "25%         4.500000          43.682500    438.000000  \n",
       "50%         7.010000         164.000000    576.000000  \n",
       "75%         9.500000         371.697500    714.000000  \n",
       "max        12.000000         999.450000    850.000000  "
      ]
     },
     "execution_count": 300,
     "metadata": {},
     "output_type": "execute_result"
    }
   ],
   "source": [
    "# Display basic information about the dataset\n",
    "history.info()\n",
    "history.describe()"
   ]
  },
  {
   "cell_type": "code",
   "execution_count": 301,
   "id": "9778c7df",
   "metadata": {},
   "outputs": [],
   "source": [
    "# Convert relevant columns to datetime\n",
    "date_cols = [\"Transaction_Date\", \"Payment_Due_Date\", \"Last_Payment_Date\"]\n",
    "history[date_cols] = history[date_cols].apply(pd.to_datetime)"
   ]
  },
  {
   "cell_type": "code",
   "execution_count": 302,
   "id": "00bc6661",
   "metadata": {},
   "outputs": [],
   "source": [
    "# Days each payment was late (clip negatives to zero)\n",
    "history[\"days_late\"] = (\n",
    "    history[\"Last_Payment_Date\"] - history[\"Payment_Due_Date\"]\n",
    ").dt.days.clip(lower=0)\n",
    "\n",
    "# Flag recent overdue payments (last 6 months)\n",
    "cutoff = history[\"Transaction_Date\"].max() - pd.Timedelta(days=180)\n",
    "history[\"recent_overdue\"] = (\n",
    "    (history[\"Payment_Status\"] == \"OVERDUE\") & (history[\"Transaction_Date\"] >= cutoff)\n",
    ").astype(int)\n"
   ]
  },
  {
   "cell_type": "code",
   "execution_count": 303,
   "id": "74233042",
   "metadata": {},
   "outputs": [
    {
     "name": "stdout",
     "output_type": "stream",
     "text": [
      "<class 'pandas.core.frame.DataFrame'>\n",
      "RangeIndex: 87135 entries, 0 to 87134\n",
      "Data columns (total 16 columns):\n",
      " #   Column               Non-Null Count  Dtype  \n",
      "---  ------               --------------  -----  \n",
      " 0   Loan_ID              87135 non-null  int64  \n",
      " 1   Client_ID            87135 non-null  int64  \n",
      " 2   Loan_Type            87135 non-null  object \n",
      " 3   Principal_Amount     87135 non-null  float64\n",
      " 4   Interest_Rate        87135 non-null  float64\n",
      " 5   Loan_Term_Months     87135 non-null  int64  \n",
      " 6   Start_Date           87135 non-null  object \n",
      " 7   End_Date             87135 non-null  object \n",
      " 8   Outstanding_Balance  87135 non-null  float64\n",
      " 9   Loan_Status          87135 non-null  object \n",
      " 10  Default_Status       87135 non-null  object \n",
      " 11  credit_score         87135 non-null  float64\n",
      " 12  n_overdue_payments   87135 non-null  float64\n",
      " 13  avg_late_fee         87135 non-null  float64\n",
      " 14  max_days_late        87135 non-null  float64\n",
      " 15  has_recent_overdue   87135 non-null  float64\n",
      "dtypes: float64(8), int64(3), object(5)\n",
      "memory usage: 10.6+ MB\n"
     ]
    }
   ],
   "source": [
    "# Flag overdue for each row (1 = overdue, 0 = otherwise)\n",
    "history[\"is_overdue\"] = (history[\"Payment_Status\"] == \"OVERDUE\").astype(int)\n",
    "\n",
    "# Aggregate by Client_ID with only standard functions\n",
    "agg = (\n",
    "    history.groupby(\"Client_ID\")\n",
    "    .agg(\n",
    "        credit_score         = (\"Credit_Score\", \"last\"),\n",
    "        n_overdue_payments   = (\"is_overdue\", \"sum\"),\n",
    "        avg_late_fee         = (\"Late_Payment_Fees\", \"mean\"),\n",
    "        max_days_late        = (\"days_late\", \"max\"),\n",
    "        has_recent_overdue   = (\"recent_overdue\", \"max\"),\n",
    "    )\n",
    "    .fillna(0)\n",
    "    .reset_index()\n",
    ")\n",
    "#  Merge aggregated history with existing loans data\n",
    "loans_history = loans.merge(agg, on=\"Client_ID\", how=\"left\").fillna(0)\n",
    "loans_history.info()"
   ]
  },
  {
   "cell_type": "code",
   "execution_count": 304,
   "id": "6d3a07d8",
   "metadata": {},
   "outputs": [],
   "source": [
    "# Define the list of new numerical features\n",
    "new_num = [\n",
    "    \"credit_score\",\n",
    "    \"n_overdue_payments\",\n",
    "    \"avg_late_fee\",\n",
    "    \"max_days_late\",\n",
    "    \"has_recent_overdue\",\n",
    "]\n",
    "\n",
    "# Update feature lists for preprocessing\n",
    "num_cols = [\"Principal_Amount\", \"Interest_Rate\", \"Loan_Term_Months\"] + new_num\n",
    "cat_cols = [\"Loan_Type\"]"
   ]
  },
  {
   "cell_type": "code",
   "execution_count": 305,
   "id": "2329d2ee",
   "metadata": {},
   "outputs": [],
   "source": [
    "# Build X and y\n",
    "X = loans_history[num_cols + cat_cols]\n",
    "y = loans_history[\"Default_Status\"].map({\"Yes\": 1, \"No\": 0})\n",
    "\n",
    "# Split into train and test sets\n",
    "X_train, X_test, y_train, y_test = train_test_split(\n",
    "    X, y, test_size=0.30, random_state=15, stratify=y\n",
    ")\n"
   ]
  },
  {
   "cell_type": "code",
   "execution_count": 306,
   "id": "a20668a0",
   "metadata": {},
   "outputs": [],
   "source": [
    "# Preprocess features\n",
    "preprocessor = ColumnTransformer(\n",
    "    [\n",
    "        (\"num\", StandardScaler(), num_cols),\n",
    "        (\"cat\", OneHotEncoder(handle_unknown=\"ignore\"), cat_cols),\n",
    "    ],\n",
    "    sparse_threshold=0.0,\n",
    ")\n",
    "\n",
    "X_train_prep = preprocessor.fit_transform(X_train)\n",
    "X_test_prep  = preprocessor.transform(X_test)"
   ]
  },
  {
   "cell_type": "code",
   "execution_count": 307,
   "id": "07005549",
   "metadata": {},
   "outputs": [
    {
     "name": "stdout",
     "output_type": "stream",
     "text": [
      "Class weights: {0: 1.052655195623285, 1: 19.991478203867583}\n"
     ]
    }
   ],
   "source": [
    "# Calculate dynamic class weights\n",
    "total_obs    = len(y_train)\n",
    "class_counts = y_train.value_counts().to_dict()\n",
    "weights_dynamic = {cls: total_obs / cnt for cls, cnt in class_counts.items()}\n",
    "print(\"Class weights:\", weights_dynamic)\n"
   ]
  },
  {
   "cell_type": "code",
   "execution_count": 308,
   "id": "55342202",
   "metadata": {},
   "outputs": [
    {
     "data": {
      "text/html": [
       "<style>#sk-container-id-22 {\n",
       "  /* Definition of color scheme common for light and dark mode */\n",
       "  --sklearn-color-text: black;\n",
       "  --sklearn-color-line: gray;\n",
       "  /* Definition of color scheme for unfitted estimators */\n",
       "  --sklearn-color-unfitted-level-0: #fff5e6;\n",
       "  --sklearn-color-unfitted-level-1: #f6e4d2;\n",
       "  --sklearn-color-unfitted-level-2: #ffe0b3;\n",
       "  --sklearn-color-unfitted-level-3: chocolate;\n",
       "  /* Definition of color scheme for fitted estimators */\n",
       "  --sklearn-color-fitted-level-0: #f0f8ff;\n",
       "  --sklearn-color-fitted-level-1: #d4ebff;\n",
       "  --sklearn-color-fitted-level-2: #b3dbfd;\n",
       "  --sklearn-color-fitted-level-3: cornflowerblue;\n",
       "\n",
       "  /* Specific color for light theme */\n",
       "  --sklearn-color-text-on-default-background: var(--sg-text-color, var(--theme-code-foreground, var(--jp-content-font-color1, black)));\n",
       "  --sklearn-color-background: var(--sg-background-color, var(--theme-background, var(--jp-layout-color0, white)));\n",
       "  --sklearn-color-border-box: var(--sg-text-color, var(--theme-code-foreground, var(--jp-content-font-color1, black)));\n",
       "  --sklearn-color-icon: #696969;\n",
       "\n",
       "  @media (prefers-color-scheme: dark) {\n",
       "    /* Redefinition of color scheme for dark theme */\n",
       "    --sklearn-color-text-on-default-background: var(--sg-text-color, var(--theme-code-foreground, var(--jp-content-font-color1, white)));\n",
       "    --sklearn-color-background: var(--sg-background-color, var(--theme-background, var(--jp-layout-color0, #111)));\n",
       "    --sklearn-color-border-box: var(--sg-text-color, var(--theme-code-foreground, var(--jp-content-font-color1, white)));\n",
       "    --sklearn-color-icon: #878787;\n",
       "  }\n",
       "}\n",
       "\n",
       "#sk-container-id-22 {\n",
       "  color: var(--sklearn-color-text);\n",
       "}\n",
       "\n",
       "#sk-container-id-22 pre {\n",
       "  padding: 0;\n",
       "}\n",
       "\n",
       "#sk-container-id-22 input.sk-hidden--visually {\n",
       "  border: 0;\n",
       "  clip: rect(1px 1px 1px 1px);\n",
       "  clip: rect(1px, 1px, 1px, 1px);\n",
       "  height: 1px;\n",
       "  margin: -1px;\n",
       "  overflow: hidden;\n",
       "  padding: 0;\n",
       "  position: absolute;\n",
       "  width: 1px;\n",
       "}\n",
       "\n",
       "#sk-container-id-22 div.sk-dashed-wrapped {\n",
       "  border: 1px dashed var(--sklearn-color-line);\n",
       "  margin: 0 0.4em 0.5em 0.4em;\n",
       "  box-sizing: border-box;\n",
       "  padding-bottom: 0.4em;\n",
       "  background-color: var(--sklearn-color-background);\n",
       "}\n",
       "\n",
       "#sk-container-id-22 div.sk-container {\n",
       "  /* jupyter's `normalize.less` sets `[hidden] { display: none; }`\n",
       "     but bootstrap.min.css set `[hidden] { display: none !important; }`\n",
       "     so we also need the `!important` here to be able to override the\n",
       "     default hidden behavior on the sphinx rendered scikit-learn.org.\n",
       "     See: https://github.com/scikit-learn/scikit-learn/issues/21755 */\n",
       "  display: inline-block !important;\n",
       "  position: relative;\n",
       "}\n",
       "\n",
       "#sk-container-id-22 div.sk-text-repr-fallback {\n",
       "  display: none;\n",
       "}\n",
       "\n",
       "div.sk-parallel-item,\n",
       "div.sk-serial,\n",
       "div.sk-item {\n",
       "  /* draw centered vertical line to link estimators */\n",
       "  background-image: linear-gradient(var(--sklearn-color-text-on-default-background), var(--sklearn-color-text-on-default-background));\n",
       "  background-size: 2px 100%;\n",
       "  background-repeat: no-repeat;\n",
       "  background-position: center center;\n",
       "}\n",
       "\n",
       "/* Parallel-specific style estimator block */\n",
       "\n",
       "#sk-container-id-22 div.sk-parallel-item::after {\n",
       "  content: \"\";\n",
       "  width: 100%;\n",
       "  border-bottom: 2px solid var(--sklearn-color-text-on-default-background);\n",
       "  flex-grow: 1;\n",
       "}\n",
       "\n",
       "#sk-container-id-22 div.sk-parallel {\n",
       "  display: flex;\n",
       "  align-items: stretch;\n",
       "  justify-content: center;\n",
       "  background-color: var(--sklearn-color-background);\n",
       "  position: relative;\n",
       "}\n",
       "\n",
       "#sk-container-id-22 div.sk-parallel-item {\n",
       "  display: flex;\n",
       "  flex-direction: column;\n",
       "}\n",
       "\n",
       "#sk-container-id-22 div.sk-parallel-item:first-child::after {\n",
       "  align-self: flex-end;\n",
       "  width: 50%;\n",
       "}\n",
       "\n",
       "#sk-container-id-22 div.sk-parallel-item:last-child::after {\n",
       "  align-self: flex-start;\n",
       "  width: 50%;\n",
       "}\n",
       "\n",
       "#sk-container-id-22 div.sk-parallel-item:only-child::after {\n",
       "  width: 0;\n",
       "}\n",
       "\n",
       "/* Serial-specific style estimator block */\n",
       "\n",
       "#sk-container-id-22 div.sk-serial {\n",
       "  display: flex;\n",
       "  flex-direction: column;\n",
       "  align-items: center;\n",
       "  background-color: var(--sklearn-color-background);\n",
       "  padding-right: 1em;\n",
       "  padding-left: 1em;\n",
       "}\n",
       "\n",
       "\n",
       "/* Toggleable style: style used for estimator/Pipeline/ColumnTransformer box that is\n",
       "clickable and can be expanded/collapsed.\n",
       "- Pipeline and ColumnTransformer use this feature and define the default style\n",
       "- Estimators will overwrite some part of the style using the `sk-estimator` class\n",
       "*/\n",
       "\n",
       "/* Pipeline and ColumnTransformer style (default) */\n",
       "\n",
       "#sk-container-id-22 div.sk-toggleable {\n",
       "  /* Default theme specific background. It is overwritten whether we have a\n",
       "  specific estimator or a Pipeline/ColumnTransformer */\n",
       "  background-color: var(--sklearn-color-background);\n",
       "}\n",
       "\n",
       "/* Toggleable label */\n",
       "#sk-container-id-22 label.sk-toggleable__label {\n",
       "  cursor: pointer;\n",
       "  display: block;\n",
       "  width: 100%;\n",
       "  margin-bottom: 0;\n",
       "  padding: 0.5em;\n",
       "  box-sizing: border-box;\n",
       "  text-align: center;\n",
       "}\n",
       "\n",
       "#sk-container-id-22 label.sk-toggleable__label-arrow:before {\n",
       "  /* Arrow on the left of the label */\n",
       "  content: \"▸\";\n",
       "  float: left;\n",
       "  margin-right: 0.25em;\n",
       "  color: var(--sklearn-color-icon);\n",
       "}\n",
       "\n",
       "#sk-container-id-22 label.sk-toggleable__label-arrow:hover:before {\n",
       "  color: var(--sklearn-color-text);\n",
       "}\n",
       "\n",
       "/* Toggleable content - dropdown */\n",
       "\n",
       "#sk-container-id-22 div.sk-toggleable__content {\n",
       "  max-height: 0;\n",
       "  max-width: 0;\n",
       "  overflow: hidden;\n",
       "  text-align: left;\n",
       "  /* unfitted */\n",
       "  background-color: var(--sklearn-color-unfitted-level-0);\n",
       "}\n",
       "\n",
       "#sk-container-id-22 div.sk-toggleable__content.fitted {\n",
       "  /* fitted */\n",
       "  background-color: var(--sklearn-color-fitted-level-0);\n",
       "}\n",
       "\n",
       "#sk-container-id-22 div.sk-toggleable__content pre {\n",
       "  margin: 0.2em;\n",
       "  border-radius: 0.25em;\n",
       "  color: var(--sklearn-color-text);\n",
       "  /* unfitted */\n",
       "  background-color: var(--sklearn-color-unfitted-level-0);\n",
       "}\n",
       "\n",
       "#sk-container-id-22 div.sk-toggleable__content.fitted pre {\n",
       "  /* unfitted */\n",
       "  background-color: var(--sklearn-color-fitted-level-0);\n",
       "}\n",
       "\n",
       "#sk-container-id-22 input.sk-toggleable__control:checked~div.sk-toggleable__content {\n",
       "  /* Expand drop-down */\n",
       "  max-height: 200px;\n",
       "  max-width: 100%;\n",
       "  overflow: auto;\n",
       "}\n",
       "\n",
       "#sk-container-id-22 input.sk-toggleable__control:checked~label.sk-toggleable__label-arrow:before {\n",
       "  content: \"▾\";\n",
       "}\n",
       "\n",
       "/* Pipeline/ColumnTransformer-specific style */\n",
       "\n",
       "#sk-container-id-22 div.sk-label input.sk-toggleable__control:checked~label.sk-toggleable__label {\n",
       "  color: var(--sklearn-color-text);\n",
       "  background-color: var(--sklearn-color-unfitted-level-2);\n",
       "}\n",
       "\n",
       "#sk-container-id-22 div.sk-label.fitted input.sk-toggleable__control:checked~label.sk-toggleable__label {\n",
       "  background-color: var(--sklearn-color-fitted-level-2);\n",
       "}\n",
       "\n",
       "/* Estimator-specific style */\n",
       "\n",
       "/* Colorize estimator box */\n",
       "#sk-container-id-22 div.sk-estimator input.sk-toggleable__control:checked~label.sk-toggleable__label {\n",
       "  /* unfitted */\n",
       "  background-color: var(--sklearn-color-unfitted-level-2);\n",
       "}\n",
       "\n",
       "#sk-container-id-22 div.sk-estimator.fitted input.sk-toggleable__control:checked~label.sk-toggleable__label {\n",
       "  /* fitted */\n",
       "  background-color: var(--sklearn-color-fitted-level-2);\n",
       "}\n",
       "\n",
       "#sk-container-id-22 div.sk-label label.sk-toggleable__label,\n",
       "#sk-container-id-22 div.sk-label label {\n",
       "  /* The background is the default theme color */\n",
       "  color: var(--sklearn-color-text-on-default-background);\n",
       "}\n",
       "\n",
       "/* On hover, darken the color of the background */\n",
       "#sk-container-id-22 div.sk-label:hover label.sk-toggleable__label {\n",
       "  color: var(--sklearn-color-text);\n",
       "  background-color: var(--sklearn-color-unfitted-level-2);\n",
       "}\n",
       "\n",
       "/* Label box, darken color on hover, fitted */\n",
       "#sk-container-id-22 div.sk-label.fitted:hover label.sk-toggleable__label.fitted {\n",
       "  color: var(--sklearn-color-text);\n",
       "  background-color: var(--sklearn-color-fitted-level-2);\n",
       "}\n",
       "\n",
       "/* Estimator label */\n",
       "\n",
       "#sk-container-id-22 div.sk-label label {\n",
       "  font-family: monospace;\n",
       "  font-weight: bold;\n",
       "  display: inline-block;\n",
       "  line-height: 1.2em;\n",
       "}\n",
       "\n",
       "#sk-container-id-22 div.sk-label-container {\n",
       "  text-align: center;\n",
       "}\n",
       "\n",
       "/* Estimator-specific */\n",
       "#sk-container-id-22 div.sk-estimator {\n",
       "  font-family: monospace;\n",
       "  border: 1px dotted var(--sklearn-color-border-box);\n",
       "  border-radius: 0.25em;\n",
       "  box-sizing: border-box;\n",
       "  margin-bottom: 0.5em;\n",
       "  /* unfitted */\n",
       "  background-color: var(--sklearn-color-unfitted-level-0);\n",
       "}\n",
       "\n",
       "#sk-container-id-22 div.sk-estimator.fitted {\n",
       "  /* fitted */\n",
       "  background-color: var(--sklearn-color-fitted-level-0);\n",
       "}\n",
       "\n",
       "/* on hover */\n",
       "#sk-container-id-22 div.sk-estimator:hover {\n",
       "  /* unfitted */\n",
       "  background-color: var(--sklearn-color-unfitted-level-2);\n",
       "}\n",
       "\n",
       "#sk-container-id-22 div.sk-estimator.fitted:hover {\n",
       "  /* fitted */\n",
       "  background-color: var(--sklearn-color-fitted-level-2);\n",
       "}\n",
       "\n",
       "/* Specification for estimator info (e.g. \"i\" and \"?\") */\n",
       "\n",
       "/* Common style for \"i\" and \"?\" */\n",
       "\n",
       ".sk-estimator-doc-link,\n",
       "a:link.sk-estimator-doc-link,\n",
       "a:visited.sk-estimator-doc-link {\n",
       "  float: right;\n",
       "  font-size: smaller;\n",
       "  line-height: 1em;\n",
       "  font-family: monospace;\n",
       "  background-color: var(--sklearn-color-background);\n",
       "  border-radius: 1em;\n",
       "  height: 1em;\n",
       "  width: 1em;\n",
       "  text-decoration: none !important;\n",
       "  margin-left: 1ex;\n",
       "  /* unfitted */\n",
       "  border: var(--sklearn-color-unfitted-level-1) 1pt solid;\n",
       "  color: var(--sklearn-color-unfitted-level-1);\n",
       "}\n",
       "\n",
       ".sk-estimator-doc-link.fitted,\n",
       "a:link.sk-estimator-doc-link.fitted,\n",
       "a:visited.sk-estimator-doc-link.fitted {\n",
       "  /* fitted */\n",
       "  border: var(--sklearn-color-fitted-level-1) 1pt solid;\n",
       "  color: var(--sklearn-color-fitted-level-1);\n",
       "}\n",
       "\n",
       "/* On hover */\n",
       "div.sk-estimator:hover .sk-estimator-doc-link:hover,\n",
       ".sk-estimator-doc-link:hover,\n",
       "div.sk-label-container:hover .sk-estimator-doc-link:hover,\n",
       ".sk-estimator-doc-link:hover {\n",
       "  /* unfitted */\n",
       "  background-color: var(--sklearn-color-unfitted-level-3);\n",
       "  color: var(--sklearn-color-background);\n",
       "  text-decoration: none;\n",
       "}\n",
       "\n",
       "div.sk-estimator.fitted:hover .sk-estimator-doc-link.fitted:hover,\n",
       ".sk-estimator-doc-link.fitted:hover,\n",
       "div.sk-label-container:hover .sk-estimator-doc-link.fitted:hover,\n",
       ".sk-estimator-doc-link.fitted:hover {\n",
       "  /* fitted */\n",
       "  background-color: var(--sklearn-color-fitted-level-3);\n",
       "  color: var(--sklearn-color-background);\n",
       "  text-decoration: none;\n",
       "}\n",
       "\n",
       "/* Span, style for the box shown on hovering the info icon */\n",
       ".sk-estimator-doc-link span {\n",
       "  display: none;\n",
       "  z-index: 9999;\n",
       "  position: relative;\n",
       "  font-weight: normal;\n",
       "  right: .2ex;\n",
       "  padding: .5ex;\n",
       "  margin: .5ex;\n",
       "  width: min-content;\n",
       "  min-width: 20ex;\n",
       "  max-width: 50ex;\n",
       "  color: var(--sklearn-color-text);\n",
       "  box-shadow: 2pt 2pt 4pt #999;\n",
       "  /* unfitted */\n",
       "  background: var(--sklearn-color-unfitted-level-0);\n",
       "  border: .5pt solid var(--sklearn-color-unfitted-level-3);\n",
       "}\n",
       "\n",
       ".sk-estimator-doc-link.fitted span {\n",
       "  /* fitted */\n",
       "  background: var(--sklearn-color-fitted-level-0);\n",
       "  border: var(--sklearn-color-fitted-level-3);\n",
       "}\n",
       "\n",
       ".sk-estimator-doc-link:hover span {\n",
       "  display: block;\n",
       "}\n",
       "\n",
       "/* \"?\"-specific style due to the `<a>` HTML tag */\n",
       "\n",
       "#sk-container-id-22 a.estimator_doc_link {\n",
       "  float: right;\n",
       "  font-size: 1rem;\n",
       "  line-height: 1em;\n",
       "  font-family: monospace;\n",
       "  background-color: var(--sklearn-color-background);\n",
       "  border-radius: 1rem;\n",
       "  height: 1rem;\n",
       "  width: 1rem;\n",
       "  text-decoration: none;\n",
       "  /* unfitted */\n",
       "  color: var(--sklearn-color-unfitted-level-1);\n",
       "  border: var(--sklearn-color-unfitted-level-1) 1pt solid;\n",
       "}\n",
       "\n",
       "#sk-container-id-22 a.estimator_doc_link.fitted {\n",
       "  /* fitted */\n",
       "  border: var(--sklearn-color-fitted-level-1) 1pt solid;\n",
       "  color: var(--sklearn-color-fitted-level-1);\n",
       "}\n",
       "\n",
       "/* On hover */\n",
       "#sk-container-id-22 a.estimator_doc_link:hover {\n",
       "  /* unfitted */\n",
       "  background-color: var(--sklearn-color-unfitted-level-3);\n",
       "  color: var(--sklearn-color-background);\n",
       "  text-decoration: none;\n",
       "}\n",
       "\n",
       "#sk-container-id-22 a.estimator_doc_link.fitted:hover {\n",
       "  /* fitted */\n",
       "  background-color: var(--sklearn-color-fitted-level-3);\n",
       "}\n",
       "</style><div id=\"sk-container-id-22\" class=\"sk-top-container\"><div class=\"sk-text-repr-fallback\"><pre>LogisticRegression(class_weight={0: 1.052655195623285, 1: 19.991478203867583},\n",
       "                   max_iter=1000)</pre><b>In a Jupyter environment, please rerun this cell to show the HTML representation or trust the notebook. <br />On GitHub, the HTML representation is unable to render, please try loading this page with nbviewer.org.</b></div><div class=\"sk-container\" hidden><div class=\"sk-item\"><div class=\"sk-estimator fitted sk-toggleable\"><input class=\"sk-toggleable__control sk-hidden--visually\" id=\"sk-estimator-id-22\" type=\"checkbox\" checked><label for=\"sk-estimator-id-22\" class=\"sk-toggleable__label fitted sk-toggleable__label-arrow fitted\">&nbsp;&nbsp;LogisticRegression<a class=\"sk-estimator-doc-link fitted\" rel=\"noreferrer\" target=\"_blank\" href=\"https://scikit-learn.org/1.5/modules/generated/sklearn.linear_model.LogisticRegression.html\">?<span>Documentation for LogisticRegression</span></a><span class=\"sk-estimator-doc-link fitted\">i<span>Fitted</span></span></label><div class=\"sk-toggleable__content fitted\"><pre>LogisticRegression(class_weight={0: 1.052655195623285, 1: 19.991478203867583},\n",
       "                   max_iter=1000)</pre></div> </div></div></div></div>"
      ],
      "text/plain": [
       "LogisticRegression(class_weight={0: 1.052655195623285, 1: 19.991478203867583},\n",
       "                   max_iter=1000)"
      ]
     },
     "execution_count": 308,
     "metadata": {},
     "output_type": "execute_result"
    }
   ],
   "source": [
    "# Train logistic regression with these weights\n",
    "model = LogisticRegression(max_iter=1000, class_weight=weights_dynamic)\n",
    "model.fit(X_train_prep, y_train)"
   ]
  },
  {
   "cell_type": "code",
   "execution_count": 309,
   "id": "aa2f3e21",
   "metadata": {},
   "outputs": [
    {
     "name": "stdout",
     "output_type": "stream",
     "text": [
      "              precision    recall  f1-score   support\n",
      "\n",
      "           0      0.950     0.491     0.647     24834\n",
      "           1      0.050     0.513     0.092      1307\n",
      "\n",
      "    accuracy                          0.492     26141\n",
      "   macro avg      0.500     0.502     0.369     26141\n",
      "weighted avg      0.905     0.492     0.619     26141\n",
      "\n"
     ]
    }
   ],
   "source": [
    "# Evaluate the model\n",
    "y_pred_hist = model.predict(X_test_prep)\n",
    "y_prob = model.predict_proba(X_test_prep)[:, 1]\n",
    "\n",
    "print(classification_report(y_test, y_pred_hist, digits=3))"
   ]
  },
  {
   "cell_type": "code",
   "execution_count": 310,
   "id": "3b20d20a",
   "metadata": {},
   "outputs": [
    {
     "data": {
      "application/vnd.plotly.v1+json": {
       "config": {
        "plotlyServerURL": "https://plot.ly"
       },
       "data": [
        {
         "colorscale": [
          [
           0,
           "rgb(247,251,255)"
          ],
          [
           0.125,
           "rgb(222,235,247)"
          ],
          [
           0.25,
           "rgb(198,219,239)"
          ],
          [
           0.375,
           "rgb(158,202,225)"
          ],
          [
           0.5,
           "rgb(107,174,214)"
          ],
          [
           0.625,
           "rgb(66,146,198)"
          ],
          [
           0.75,
           "rgb(33,113,181)"
          ],
          [
           0.875,
           "rgb(8,81,156)"
          ],
          [
           1,
           "rgb(8,48,107)"
          ]
         ],
         "hoverinfo": "z",
         "reversescale": false,
         "showscale": true,
         "type": "heatmap",
         "x": [
          "No Default",
          "Default"
         ],
         "y": [
          "No Default",
          "Default"
         ],
         "z": [
          [
           12182,
           12652
          ],
          [
           637,
           670
          ]
         ]
        }
       ],
       "layout": {
        "annotations": [
         {
          "font": {
           "color": "#FFFFFF"
          },
          "showarrow": false,
          "text": "12182",
          "x": "No Default",
          "xref": "x",
          "y": "No Default",
          "yref": "y"
         },
         {
          "font": {
           "color": "#FFFFFF"
          },
          "showarrow": false,
          "text": "12652",
          "x": "Default",
          "xref": "x",
          "y": "No Default",
          "yref": "y"
         },
         {
          "font": {
           "color": "#000000"
          },
          "showarrow": false,
          "text": "637",
          "x": "No Default",
          "xref": "x",
          "y": "Default",
          "yref": "y"
         },
         {
          "font": {
           "color": "#000000"
          },
          "showarrow": false,
          "text": "670",
          "x": "Default",
          "xref": "x",
          "y": "Default",
          "yref": "y"
         }
        ],
        "template": {
         "data": {
          "bar": [
           {
            "error_x": {
             "color": "#2a3f5f"
            },
            "error_y": {
             "color": "#2a3f5f"
            },
            "marker": {
             "line": {
              "color": "#E5ECF6",
              "width": 0.5
             },
             "pattern": {
              "fillmode": "overlay",
              "size": 10,
              "solidity": 0.2
             }
            },
            "type": "bar"
           }
          ],
          "barpolar": [
           {
            "marker": {
             "line": {
              "color": "#E5ECF6",
              "width": 0.5
             },
             "pattern": {
              "fillmode": "overlay",
              "size": 10,
              "solidity": 0.2
             }
            },
            "type": "barpolar"
           }
          ],
          "carpet": [
           {
            "aaxis": {
             "endlinecolor": "#2a3f5f",
             "gridcolor": "white",
             "linecolor": "white",
             "minorgridcolor": "white",
             "startlinecolor": "#2a3f5f"
            },
            "baxis": {
             "endlinecolor": "#2a3f5f",
             "gridcolor": "white",
             "linecolor": "white",
             "minorgridcolor": "white",
             "startlinecolor": "#2a3f5f"
            },
            "type": "carpet"
           }
          ],
          "choropleth": [
           {
            "colorbar": {
             "outlinewidth": 0,
             "ticks": ""
            },
            "type": "choropleth"
           }
          ],
          "contour": [
           {
            "colorbar": {
             "outlinewidth": 0,
             "ticks": ""
            },
            "colorscale": [
             [
              0,
              "#0d0887"
             ],
             [
              0.1111111111111111,
              "#46039f"
             ],
             [
              0.2222222222222222,
              "#7201a8"
             ],
             [
              0.3333333333333333,
              "#9c179e"
             ],
             [
              0.4444444444444444,
              "#bd3786"
             ],
             [
              0.5555555555555556,
              "#d8576b"
             ],
             [
              0.6666666666666666,
              "#ed7953"
             ],
             [
              0.7777777777777778,
              "#fb9f3a"
             ],
             [
              0.8888888888888888,
              "#fdca26"
             ],
             [
              1,
              "#f0f921"
             ]
            ],
            "type": "contour"
           }
          ],
          "contourcarpet": [
           {
            "colorbar": {
             "outlinewidth": 0,
             "ticks": ""
            },
            "type": "contourcarpet"
           }
          ],
          "heatmap": [
           {
            "colorbar": {
             "outlinewidth": 0,
             "ticks": ""
            },
            "colorscale": [
             [
              0,
              "#0d0887"
             ],
             [
              0.1111111111111111,
              "#46039f"
             ],
             [
              0.2222222222222222,
              "#7201a8"
             ],
             [
              0.3333333333333333,
              "#9c179e"
             ],
             [
              0.4444444444444444,
              "#bd3786"
             ],
             [
              0.5555555555555556,
              "#d8576b"
             ],
             [
              0.6666666666666666,
              "#ed7953"
             ],
             [
              0.7777777777777778,
              "#fb9f3a"
             ],
             [
              0.8888888888888888,
              "#fdca26"
             ],
             [
              1,
              "#f0f921"
             ]
            ],
            "type": "heatmap"
           }
          ],
          "heatmapgl": [
           {
            "colorbar": {
             "outlinewidth": 0,
             "ticks": ""
            },
            "colorscale": [
             [
              0,
              "#0d0887"
             ],
             [
              0.1111111111111111,
              "#46039f"
             ],
             [
              0.2222222222222222,
              "#7201a8"
             ],
             [
              0.3333333333333333,
              "#9c179e"
             ],
             [
              0.4444444444444444,
              "#bd3786"
             ],
             [
              0.5555555555555556,
              "#d8576b"
             ],
             [
              0.6666666666666666,
              "#ed7953"
             ],
             [
              0.7777777777777778,
              "#fb9f3a"
             ],
             [
              0.8888888888888888,
              "#fdca26"
             ],
             [
              1,
              "#f0f921"
             ]
            ],
            "type": "heatmapgl"
           }
          ],
          "histogram": [
           {
            "marker": {
             "pattern": {
              "fillmode": "overlay",
              "size": 10,
              "solidity": 0.2
             }
            },
            "type": "histogram"
           }
          ],
          "histogram2d": [
           {
            "colorbar": {
             "outlinewidth": 0,
             "ticks": ""
            },
            "colorscale": [
             [
              0,
              "#0d0887"
             ],
             [
              0.1111111111111111,
              "#46039f"
             ],
             [
              0.2222222222222222,
              "#7201a8"
             ],
             [
              0.3333333333333333,
              "#9c179e"
             ],
             [
              0.4444444444444444,
              "#bd3786"
             ],
             [
              0.5555555555555556,
              "#d8576b"
             ],
             [
              0.6666666666666666,
              "#ed7953"
             ],
             [
              0.7777777777777778,
              "#fb9f3a"
             ],
             [
              0.8888888888888888,
              "#fdca26"
             ],
             [
              1,
              "#f0f921"
             ]
            ],
            "type": "histogram2d"
           }
          ],
          "histogram2dcontour": [
           {
            "colorbar": {
             "outlinewidth": 0,
             "ticks": ""
            },
            "colorscale": [
             [
              0,
              "#0d0887"
             ],
             [
              0.1111111111111111,
              "#46039f"
             ],
             [
              0.2222222222222222,
              "#7201a8"
             ],
             [
              0.3333333333333333,
              "#9c179e"
             ],
             [
              0.4444444444444444,
              "#bd3786"
             ],
             [
              0.5555555555555556,
              "#d8576b"
             ],
             [
              0.6666666666666666,
              "#ed7953"
             ],
             [
              0.7777777777777778,
              "#fb9f3a"
             ],
             [
              0.8888888888888888,
              "#fdca26"
             ],
             [
              1,
              "#f0f921"
             ]
            ],
            "type": "histogram2dcontour"
           }
          ],
          "mesh3d": [
           {
            "colorbar": {
             "outlinewidth": 0,
             "ticks": ""
            },
            "type": "mesh3d"
           }
          ],
          "parcoords": [
           {
            "line": {
             "colorbar": {
              "outlinewidth": 0,
              "ticks": ""
             }
            },
            "type": "parcoords"
           }
          ],
          "pie": [
           {
            "automargin": true,
            "type": "pie"
           }
          ],
          "scatter": [
           {
            "fillpattern": {
             "fillmode": "overlay",
             "size": 10,
             "solidity": 0.2
            },
            "type": "scatter"
           }
          ],
          "scatter3d": [
           {
            "line": {
             "colorbar": {
              "outlinewidth": 0,
              "ticks": ""
             }
            },
            "marker": {
             "colorbar": {
              "outlinewidth": 0,
              "ticks": ""
             }
            },
            "type": "scatter3d"
           }
          ],
          "scattercarpet": [
           {
            "marker": {
             "colorbar": {
              "outlinewidth": 0,
              "ticks": ""
             }
            },
            "type": "scattercarpet"
           }
          ],
          "scattergeo": [
           {
            "marker": {
             "colorbar": {
              "outlinewidth": 0,
              "ticks": ""
             }
            },
            "type": "scattergeo"
           }
          ],
          "scattergl": [
           {
            "marker": {
             "colorbar": {
              "outlinewidth": 0,
              "ticks": ""
             }
            },
            "type": "scattergl"
           }
          ],
          "scattermapbox": [
           {
            "marker": {
             "colorbar": {
              "outlinewidth": 0,
              "ticks": ""
             }
            },
            "type": "scattermapbox"
           }
          ],
          "scatterpolar": [
           {
            "marker": {
             "colorbar": {
              "outlinewidth": 0,
              "ticks": ""
             }
            },
            "type": "scatterpolar"
           }
          ],
          "scatterpolargl": [
           {
            "marker": {
             "colorbar": {
              "outlinewidth": 0,
              "ticks": ""
             }
            },
            "type": "scatterpolargl"
           }
          ],
          "scatterternary": [
           {
            "marker": {
             "colorbar": {
              "outlinewidth": 0,
              "ticks": ""
             }
            },
            "type": "scatterternary"
           }
          ],
          "surface": [
           {
            "colorbar": {
             "outlinewidth": 0,
             "ticks": ""
            },
            "colorscale": [
             [
              0,
              "#0d0887"
             ],
             [
              0.1111111111111111,
              "#46039f"
             ],
             [
              0.2222222222222222,
              "#7201a8"
             ],
             [
              0.3333333333333333,
              "#9c179e"
             ],
             [
              0.4444444444444444,
              "#bd3786"
             ],
             [
              0.5555555555555556,
              "#d8576b"
             ],
             [
              0.6666666666666666,
              "#ed7953"
             ],
             [
              0.7777777777777778,
              "#fb9f3a"
             ],
             [
              0.8888888888888888,
              "#fdca26"
             ],
             [
              1,
              "#f0f921"
             ]
            ],
            "type": "surface"
           }
          ],
          "table": [
           {
            "cells": {
             "fill": {
              "color": "#EBF0F8"
             },
             "line": {
              "color": "white"
             }
            },
            "header": {
             "fill": {
              "color": "#C8D4E3"
             },
             "line": {
              "color": "white"
             }
            },
            "type": "table"
           }
          ]
         },
         "layout": {
          "annotationdefaults": {
           "arrowcolor": "#2a3f5f",
           "arrowhead": 0,
           "arrowwidth": 1
          },
          "autotypenumbers": "strict",
          "coloraxis": {
           "colorbar": {
            "outlinewidth": 0,
            "ticks": ""
           }
          },
          "colorscale": {
           "diverging": [
            [
             0,
             "#8e0152"
            ],
            [
             0.1,
             "#c51b7d"
            ],
            [
             0.2,
             "#de77ae"
            ],
            [
             0.3,
             "#f1b6da"
            ],
            [
             0.4,
             "#fde0ef"
            ],
            [
             0.5,
             "#f7f7f7"
            ],
            [
             0.6,
             "#e6f5d0"
            ],
            [
             0.7,
             "#b8e186"
            ],
            [
             0.8,
             "#7fbc41"
            ],
            [
             0.9,
             "#4d9221"
            ],
            [
             1,
             "#276419"
            ]
           ],
           "sequential": [
            [
             0,
             "#0d0887"
            ],
            [
             0.1111111111111111,
             "#46039f"
            ],
            [
             0.2222222222222222,
             "#7201a8"
            ],
            [
             0.3333333333333333,
             "#9c179e"
            ],
            [
             0.4444444444444444,
             "#bd3786"
            ],
            [
             0.5555555555555556,
             "#d8576b"
            ],
            [
             0.6666666666666666,
             "#ed7953"
            ],
            [
             0.7777777777777778,
             "#fb9f3a"
            ],
            [
             0.8888888888888888,
             "#fdca26"
            ],
            [
             1,
             "#f0f921"
            ]
           ],
           "sequentialminus": [
            [
             0,
             "#0d0887"
            ],
            [
             0.1111111111111111,
             "#46039f"
            ],
            [
             0.2222222222222222,
             "#7201a8"
            ],
            [
             0.3333333333333333,
             "#9c179e"
            ],
            [
             0.4444444444444444,
             "#bd3786"
            ],
            [
             0.5555555555555556,
             "#d8576b"
            ],
            [
             0.6666666666666666,
             "#ed7953"
            ],
            [
             0.7777777777777778,
             "#fb9f3a"
            ],
            [
             0.8888888888888888,
             "#fdca26"
            ],
            [
             1,
             "#f0f921"
            ]
           ]
          },
          "colorway": [
           "#636efa",
           "#EF553B",
           "#00cc96",
           "#ab63fa",
           "#FFA15A",
           "#19d3f3",
           "#FF6692",
           "#B6E880",
           "#FF97FF",
           "#FECB52"
          ],
          "font": {
           "color": "#2a3f5f"
          },
          "geo": {
           "bgcolor": "white",
           "lakecolor": "white",
           "landcolor": "#E5ECF6",
           "showlakes": true,
           "showland": true,
           "subunitcolor": "white"
          },
          "hoverlabel": {
           "align": "left"
          },
          "hovermode": "closest",
          "mapbox": {
           "style": "light"
          },
          "paper_bgcolor": "white",
          "plot_bgcolor": "#E5ECF6",
          "polar": {
           "angularaxis": {
            "gridcolor": "white",
            "linecolor": "white",
            "ticks": ""
           },
           "bgcolor": "#E5ECF6",
           "radialaxis": {
            "gridcolor": "white",
            "linecolor": "white",
            "ticks": ""
           }
          },
          "scene": {
           "xaxis": {
            "backgroundcolor": "#E5ECF6",
            "gridcolor": "white",
            "gridwidth": 2,
            "linecolor": "white",
            "showbackground": true,
            "ticks": "",
            "zerolinecolor": "white"
           },
           "yaxis": {
            "backgroundcolor": "#E5ECF6",
            "gridcolor": "white",
            "gridwidth": 2,
            "linecolor": "white",
            "showbackground": true,
            "ticks": "",
            "zerolinecolor": "white"
           },
           "zaxis": {
            "backgroundcolor": "#E5ECF6",
            "gridcolor": "white",
            "gridwidth": 2,
            "linecolor": "white",
            "showbackground": true,
            "ticks": "",
            "zerolinecolor": "white"
           }
          },
          "shapedefaults": {
           "line": {
            "color": "#2a3f5f"
           }
          },
          "ternary": {
           "aaxis": {
            "gridcolor": "white",
            "linecolor": "white",
            "ticks": ""
           },
           "baxis": {
            "gridcolor": "white",
            "linecolor": "white",
            "ticks": ""
           },
           "bgcolor": "#E5ECF6",
           "caxis": {
            "gridcolor": "white",
            "linecolor": "white",
            "ticks": ""
           }
          },
          "title": {
           "x": 0.05
          },
          "xaxis": {
           "automargin": true,
           "gridcolor": "white",
           "linecolor": "white",
           "ticks": "",
           "title": {
            "standoff": 15
           },
           "zerolinecolor": "white",
           "zerolinewidth": 2
          },
          "yaxis": {
           "automargin": true,
           "gridcolor": "white",
           "linecolor": "white",
           "ticks": "",
           "title": {
            "standoff": 15
           },
           "zerolinecolor": "white",
           "zerolinewidth": 2
          }
         }
        },
        "title": {
         "text": "Confusion Matrix"
        },
        "xaxis": {
         "dtick": 1,
         "gridcolor": "rgb(0, 0, 0)",
         "side": "top",
         "ticks": "",
         "title": {
          "text": "Predicted Label"
         }
        },
        "yaxis": {
         "dtick": 1,
         "ticks": "",
         "ticksuffix": "  ",
         "title": {
          "text": "True Label"
         }
        }
       }
      }
     },
     "metadata": {},
     "output_type": "display_data"
    }
   ],
   "source": [
    "# Compute confusion matrix\n",
    "cm = confusion_matrix(y_test, y_pred_hist, labels=[0, 1])\n",
    "\n",
    "# Define axis labels\n",
    "labels = [\"No Default\", \"Default\"]\n",
    "\n",
    "# Create heatmap with Plotly\n",
    "fig = ff.create_annotated_heatmap(\n",
    "    z=cm,\n",
    "    x=labels,      # Predicted\n",
    "    y=labels,      # Actual\n",
    "    colorscale='Blues',\n",
    "    showscale=True,\n",
    "    annotation_text=[[str(cell) for cell in row] for row in cm],\n",
    "    hoverinfo=\"z\"\n",
    ")\n",
    "\n",
    "fig.update_layout(\n",
    "    title=\"Confusion Matrix\",\n",
    "    xaxis_title=\"Predicted Label\",\n",
    "    yaxis_title=\"True Label\"\n",
    ")\n",
    "\n",
    "fig.show()"
   ]
  },
  {
   "cell_type": "markdown",
   "id": "b1e7229c",
   "metadata": {},
   "source": [
    "### Conclusion\n",
    "The logistic regression model trained with dynamic class weights and enriched by credit history features achieved the following results:\n",
    "\n",
    "- **Precision for class 1 (defaults)** is **0.05**, meaning only 5% of predicted defaults were correct.  \n",
    "- **Recall for class 1** is **0.51**, indicating the model correctly identified 51% of actual defaults.  \n",
    "- **Precision for class 0 (non-defaults)** remains high at **0.95**, while recall is **0.49**, meaning many non-defaults are still flagged as defaults.  \n",
    "- **Overall accuracy** is **49%**, a modest gain over the previous weighted model.\n",
    "\n",
    "According to the confusion matrix:  \n",
    "- **670 true defaults** were correctly classified (True Positives).  \n",
    "- **637 true defaults** were missed and labeled as non-defaults (False Negatives).  \n",
    "- **12 182 non-defaults** were correctly classified (True Negatives).  \n",
    "- **12 652 non-defaults** were incorrectly predicted as defaults (False Positives).  \n",
    "\n",
    "This result shows that adding credit history features yields a slight improvement in recall for defaults (from 0.56 to 0.51, relative to the weighted model) and a small overall accuracy lift, but precision and false positives remain a challenge under severe class imbalance.  "
   ]
  },
  {
   "cell_type": "markdown",
   "id": "dbc80226",
   "metadata": {},
   "source": [
    "## Model Performance Interpretation (Logistic Regression with Dynamic Weights + Credit History + Loan Metrics)"
   ]
  },
  {
   "cell_type": "code",
   "execution_count": 311,
   "id": "0b244f7c",
   "metadata": {},
   "outputs": [
    {
     "data": {
      "text/html": [
       "<div>\n",
       "<style scoped>\n",
       "    .dataframe tbody tr th:only-of-type {\n",
       "        vertical-align: middle;\n",
       "    }\n",
       "\n",
       "    .dataframe tbody tr th {\n",
       "        vertical-align: top;\n",
       "    }\n",
       "\n",
       "    .dataframe thead th {\n",
       "        text-align: right;\n",
       "    }\n",
       "</style>\n",
       "<table border=\"1\" class=\"dataframe\">\n",
       "  <thead>\n",
       "    <tr style=\"text-align: right;\">\n",
       "      <th></th>\n",
       "      <th>Loan_Metrics_ID</th>\n",
       "      <th>Date</th>\n",
       "      <th>Non_Performing_Loans</th>\n",
       "      <th>Total_Loans</th>\n",
       "      <th>Created_At</th>\n",
       "    </tr>\n",
       "  </thead>\n",
       "  <tbody>\n",
       "    <tr>\n",
       "      <th>0</th>\n",
       "      <td>1</td>\n",
       "      <td>2020-01-01</td>\n",
       "      <td>0</td>\n",
       "      <td>11</td>\n",
       "      <td>2025-05-25 21:55:48.596474</td>\n",
       "    </tr>\n",
       "    <tr>\n",
       "      <th>1</th>\n",
       "      <td>2</td>\n",
       "      <td>2020-01-02</td>\n",
       "      <td>0</td>\n",
       "      <td>28</td>\n",
       "      <td>2025-05-25 21:55:48.597732</td>\n",
       "    </tr>\n",
       "    <tr>\n",
       "      <th>2</th>\n",
       "      <td>3</td>\n",
       "      <td>2020-01-03</td>\n",
       "      <td>0</td>\n",
       "      <td>39</td>\n",
       "      <td>2025-05-25 21:55:48.598256</td>\n",
       "    </tr>\n",
       "    <tr>\n",
       "      <th>3</th>\n",
       "      <td>4</td>\n",
       "      <td>2020-01-04</td>\n",
       "      <td>0</td>\n",
       "      <td>52</td>\n",
       "      <td>2025-05-25 21:55:48.599291</td>\n",
       "    </tr>\n",
       "    <tr>\n",
       "      <th>4</th>\n",
       "      <td>5</td>\n",
       "      <td>2020-01-05</td>\n",
       "      <td>0</td>\n",
       "      <td>63</td>\n",
       "      <td>2025-05-25 21:55:48.601440</td>\n",
       "    </tr>\n",
       "  </tbody>\n",
       "</table>\n",
       "</div>"
      ],
      "text/plain": [
       "   Loan_Metrics_ID        Date  Non_Performing_Loans  Total_Loans  \\\n",
       "0                1  2020-01-01                     0           11   \n",
       "1                2  2020-01-02                     0           28   \n",
       "2                3  2020-01-03                     0           39   \n",
       "3                4  2020-01-04                     0           52   \n",
       "4                5  2020-01-05                     0           63   \n",
       "\n",
       "                   Created_At  \n",
       "0  2025-05-25 21:55:48.596474  \n",
       "1  2025-05-25 21:55:48.597732  \n",
       "2  2025-05-25 21:55:48.598256  \n",
       "3  2025-05-25 21:55:48.599291  \n",
       "4  2025-05-25 21:55:48.601440  "
      ]
     },
     "execution_count": 311,
     "metadata": {},
     "output_type": "execute_result"
    }
   ],
   "source": [
    "# Load loan_metrics \n",
    "metrics = pd.read_csv(\"data/loan_metrics_welfordbank_en.csv\")\n",
    "metrics.head(5)\n"
   ]
  },
  {
   "cell_type": "code",
   "execution_count": 312,
   "id": "c65b12b2",
   "metadata": {},
   "outputs": [
    {
     "name": "stdout",
     "output_type": "stream",
     "text": [
      "<class 'pandas.core.frame.DataFrame'>\n",
      "RangeIndex: 29894 entries, 0 to 29893\n",
      "Data columns (total 17 columns):\n",
      " #   Column               Non-Null Count  Dtype         \n",
      "---  ------               --------------  -----         \n",
      " 0   History_ID           29894 non-null  object        \n",
      " 1   Client_ID            29894 non-null  int64         \n",
      " 2   Type_Client          29894 non-null  object        \n",
      " 3   Transaction_ID       29894 non-null  object        \n",
      " 4   Credit_Amount        29894 non-null  float64       \n",
      " 5   Payment_Amount       29894 non-null  float64       \n",
      " 6   Outstanding_Balance  29894 non-null  float64       \n",
      " 7   Interest_Rate        29894 non-null  float64       \n",
      " 8   Payment_Status       29894 non-null  object        \n",
      " 9   Late_Payment_Fees    29894 non-null  float64       \n",
      " 10  Transaction_Date     29894 non-null  datetime64[ns]\n",
      " 11  Payment_Due_Date     29894 non-null  datetime64[ns]\n",
      " 12  Last_Payment_Date    29894 non-null  datetime64[ns]\n",
      " 13  Credit_Score         29894 non-null  int64         \n",
      " 14  days_late            29894 non-null  int64         \n",
      " 15  recent_overdue       29894 non-null  int64         \n",
      " 16  is_overdue           29894 non-null  int64         \n",
      "dtypes: datetime64[ns](3), float64(5), int64(5), object(4)\n",
      "memory usage: 3.9+ MB\n"
     ]
    },
    {
     "data": {
      "text/html": [
       "<div>\n",
       "<style scoped>\n",
       "    .dataframe tbody tr th:only-of-type {\n",
       "        vertical-align: middle;\n",
       "    }\n",
       "\n",
       "    .dataframe tbody tr th {\n",
       "        vertical-align: top;\n",
       "    }\n",
       "\n",
       "    .dataframe thead th {\n",
       "        text-align: right;\n",
       "    }\n",
       "</style>\n",
       "<table border=\"1\" class=\"dataframe\">\n",
       "  <thead>\n",
       "    <tr style=\"text-align: right;\">\n",
       "      <th></th>\n",
       "      <th>Client_ID</th>\n",
       "      <th>Credit_Amount</th>\n",
       "      <th>Payment_Amount</th>\n",
       "      <th>Outstanding_Balance</th>\n",
       "      <th>Interest_Rate</th>\n",
       "      <th>Late_Payment_Fees</th>\n",
       "      <th>Transaction_Date</th>\n",
       "      <th>Payment_Due_Date</th>\n",
       "      <th>Last_Payment_Date</th>\n",
       "      <th>Credit_Score</th>\n",
       "      <th>days_late</th>\n",
       "      <th>recent_overdue</th>\n",
       "      <th>is_overdue</th>\n",
       "    </tr>\n",
       "  </thead>\n",
       "  <tbody>\n",
       "    <tr>\n",
       "      <th>count</th>\n",
       "      <td>29894.000000</td>\n",
       "      <td>29894.000000</td>\n",
       "      <td>29894.000000</td>\n",
       "      <td>29894.000000</td>\n",
       "      <td>29894.000000</td>\n",
       "      <td>29894.000000</td>\n",
       "      <td>29894</td>\n",
       "      <td>29894</td>\n",
       "      <td>29894</td>\n",
       "      <td>29894.000000</td>\n",
       "      <td>29894.000000</td>\n",
       "      <td>29894.000000</td>\n",
       "      <td>29894.000000</td>\n",
       "    </tr>\n",
       "    <tr>\n",
       "      <th>mean</th>\n",
       "      <td>12474.688968</td>\n",
       "      <td>25585.794256</td>\n",
       "      <td>2281.321963</td>\n",
       "      <td>11976.717683</td>\n",
       "      <td>7.002437</td>\n",
       "      <td>235.670689</td>\n",
       "      <td>2023-12-24 19:51:58.297986560</td>\n",
       "      <td>2024-01-23 19:51:58.297986560</td>\n",
       "      <td>2024-02-10 06:26:33.951963904</td>\n",
       "      <td>575.807821</td>\n",
       "      <td>17.766709</td>\n",
       "      <td>0.225564</td>\n",
       "      <td>0.886265</td>\n",
       "    </tr>\n",
       "    <tr>\n",
       "      <th>min</th>\n",
       "      <td>2.000000</td>\n",
       "      <td>1001.690000</td>\n",
       "      <td>86.220000</td>\n",
       "      <td>0.000000</td>\n",
       "      <td>2.000000</td>\n",
       "      <td>0.000000</td>\n",
       "      <td>2020-01-20 00:00:00</td>\n",
       "      <td>2020-02-19 00:00:00</td>\n",
       "      <td>2020-03-02 00:00:00</td>\n",
       "      <td>300.000000</td>\n",
       "      <td>0.000000</td>\n",
       "      <td>0.000000</td>\n",
       "      <td>0.000000</td>\n",
       "    </tr>\n",
       "    <tr>\n",
       "      <th>25%</th>\n",
       "      <td>6231.750000</td>\n",
       "      <td>13322.070000</td>\n",
       "      <td>1186.215000</td>\n",
       "      <td>2403.035000</td>\n",
       "      <td>4.500000</td>\n",
       "      <td>43.682500</td>\n",
       "      <td>2023-04-17 00:00:00</td>\n",
       "      <td>2023-05-17 00:00:00</td>\n",
       "      <td>2023-06-05 00:00:00</td>\n",
       "      <td>438.000000</td>\n",
       "      <td>6.000000</td>\n",
       "      <td>0.000000</td>\n",
       "      <td>1.000000</td>\n",
       "    </tr>\n",
       "    <tr>\n",
       "      <th>50%</th>\n",
       "      <td>12464.000000</td>\n",
       "      <td>25648.620000</td>\n",
       "      <td>2283.995000</td>\n",
       "      <td>8479.220000</td>\n",
       "      <td>7.010000</td>\n",
       "      <td>164.000000</td>\n",
       "      <td>2024-04-28 00:00:00</td>\n",
       "      <td>2024-05-28 00:00:00</td>\n",
       "      <td>2024-06-13 00:00:00</td>\n",
       "      <td>576.000000</td>\n",
       "      <td>17.000000</td>\n",
       "      <td>0.000000</td>\n",
       "      <td>1.000000</td>\n",
       "    </tr>\n",
       "    <tr>\n",
       "      <th>75%</th>\n",
       "      <td>18714.750000</td>\n",
       "      <td>37918.692500</td>\n",
       "      <td>3377.687500</td>\n",
       "      <td>18810.897500</td>\n",
       "      <td>9.500000</td>\n",
       "      <td>371.697500</td>\n",
       "      <td>2024-12-05 00:00:00</td>\n",
       "      <td>2025-01-04 00:00:00</td>\n",
       "      <td>2025-01-22 00:00:00</td>\n",
       "      <td>714.000000</td>\n",
       "      <td>29.000000</td>\n",
       "      <td>0.000000</td>\n",
       "      <td>1.000000</td>\n",
       "    </tr>\n",
       "    <tr>\n",
       "      <th>max</th>\n",
       "      <td>24999.000000</td>\n",
       "      <td>49997.770000</td>\n",
       "      <td>4648.720000</td>\n",
       "      <td>49972.720000</td>\n",
       "      <td>12.000000</td>\n",
       "      <td>999.450000</td>\n",
       "      <td>2025-05-25 00:00:00</td>\n",
       "      <td>2025-06-24 00:00:00</td>\n",
       "      <td>2025-08-02 00:00:00</td>\n",
       "      <td>850.000000</td>\n",
       "      <td>40.000000</td>\n",
       "      <td>1.000000</td>\n",
       "      <td>1.000000</td>\n",
       "    </tr>\n",
       "    <tr>\n",
       "      <th>std</th>\n",
       "      <td>7214.410102</td>\n",
       "      <td>14130.297989</td>\n",
       "      <td>1261.793402</td>\n",
       "      <td>11527.407512</td>\n",
       "      <td>2.884687</td>\n",
       "      <td>230.600961</td>\n",
       "      <td>NaN</td>\n",
       "      <td>NaN</td>\n",
       "      <td>NaN</td>\n",
       "      <td>159.476284</td>\n",
       "      <td>12.783802</td>\n",
       "      <td>0.417960</td>\n",
       "      <td>0.317495</td>\n",
       "    </tr>\n",
       "  </tbody>\n",
       "</table>\n",
       "</div>"
      ],
      "text/plain": [
       "          Client_ID  Credit_Amount  Payment_Amount  Outstanding_Balance  \\\n",
       "count  29894.000000   29894.000000    29894.000000         29894.000000   \n",
       "mean   12474.688968   25585.794256     2281.321963         11976.717683   \n",
       "min        2.000000    1001.690000       86.220000             0.000000   \n",
       "25%     6231.750000   13322.070000     1186.215000          2403.035000   \n",
       "50%    12464.000000   25648.620000     2283.995000          8479.220000   \n",
       "75%    18714.750000   37918.692500     3377.687500         18810.897500   \n",
       "max    24999.000000   49997.770000     4648.720000         49972.720000   \n",
       "std     7214.410102   14130.297989     1261.793402         11527.407512   \n",
       "\n",
       "       Interest_Rate  Late_Payment_Fees               Transaction_Date  \\\n",
       "count   29894.000000       29894.000000                          29894   \n",
       "mean        7.002437         235.670689  2023-12-24 19:51:58.297986560   \n",
       "min         2.000000           0.000000            2020-01-20 00:00:00   \n",
       "25%         4.500000          43.682500            2023-04-17 00:00:00   \n",
       "50%         7.010000         164.000000            2024-04-28 00:00:00   \n",
       "75%         9.500000         371.697500            2024-12-05 00:00:00   \n",
       "max        12.000000         999.450000            2025-05-25 00:00:00   \n",
       "std         2.884687         230.600961                            NaN   \n",
       "\n",
       "                    Payment_Due_Date              Last_Payment_Date  \\\n",
       "count                          29894                          29894   \n",
       "mean   2024-01-23 19:51:58.297986560  2024-02-10 06:26:33.951963904   \n",
       "min              2020-02-19 00:00:00            2020-03-02 00:00:00   \n",
       "25%              2023-05-17 00:00:00            2023-06-05 00:00:00   \n",
       "50%              2024-05-28 00:00:00            2024-06-13 00:00:00   \n",
       "75%              2025-01-04 00:00:00            2025-01-22 00:00:00   \n",
       "max              2025-06-24 00:00:00            2025-08-02 00:00:00   \n",
       "std                              NaN                            NaN   \n",
       "\n",
       "       Credit_Score     days_late  recent_overdue    is_overdue  \n",
       "count  29894.000000  29894.000000    29894.000000  29894.000000  \n",
       "mean     575.807821     17.766709        0.225564      0.886265  \n",
       "min      300.000000      0.000000        0.000000      0.000000  \n",
       "25%      438.000000      6.000000        0.000000      1.000000  \n",
       "50%      576.000000     17.000000        0.000000      1.000000  \n",
       "75%      714.000000     29.000000        0.000000      1.000000  \n",
       "max      850.000000     40.000000        1.000000      1.000000  \n",
       "std      159.476284     12.783802        0.417960      0.317495  "
      ]
     },
     "execution_count": 312,
     "metadata": {},
     "output_type": "execute_result"
    }
   ],
   "source": [
    "# Display basic information about the dataset\n",
    "history.info()\n",
    "history.describe()"
   ]
  },
  {
   "cell_type": "code",
   "execution_count": 313,
   "id": "5d2f4353",
   "metadata": {},
   "outputs": [],
   "source": [
    "# Tranform 'Date' column to datetime and extract date part\n",
    "metrics[\"Date\"] = pd.to_datetime(metrics[\"Date\"]).dt.date"
   ]
  },
  {
   "cell_type": "code",
   "execution_count": 314,
   "id": "e68e4999",
   "metadata": {},
   "outputs": [],
   "source": [
    "# avoid division by zero\n",
    "metrics[\"npl_ratio\"] = metrics[\"Non_Performing_Loans\"] / metrics[\"Total_Loans\"].replace(0, np.nan)\n",
    "metrics[\"npl_ratio\"] = metrics[\"npl_ratio\"].fillna(0)"
   ]
  },
  {
   "cell_type": "code",
   "execution_count": 315,
   "id": "d10af48e",
   "metadata": {},
   "outputs": [],
   "source": [
    "# Merge with loans_history on loan start date\n",
    "loans_history[\"Start_Date\"] = pd.to_datetime(loans_history[\"Start_Date\"]).dt.date\n",
    "loans_history_metrics = loans_history.merge(\n",
    "    metrics[[\"Date\", \"Non_Performing_Loans\", \"Total_Loans\", \"npl_ratio\"]],\n",
    "    left_on=\"Start_Date\", right_on=\"Date\", how=\"left\"\n",
    ").fillna(0)"
   ]
  },
  {
   "cell_type": "code",
   "execution_count": 316,
   "id": "859ba69e",
   "metadata": {},
   "outputs": [],
   "source": [
    "# Define the additional metric features\n",
    "new_metrics = [\"Non_Performing_Loans\", \"Total_Loans\", \"npl_ratio\"]\n",
    "\n",
    "# Extend numeric columns list\n",
    "num_cols.extend(new_metrics)"
   ]
  },
  {
   "cell_type": "code",
   "execution_count": 317,
   "id": "cf5b516b",
   "metadata": {},
   "outputs": [],
   "source": [
    "# Build feature matrix X and target y\n",
    "X = loans_history_metrics[num_cols + cat_cols]\n",
    "y = loans_history_metrics[\"Default_Status\"].map({\"Yes\": 1, \"No\": 0})\n",
    "\n",
    "# Split into train and test sets\n",
    "from sklearn.model_selection import train_test_split\n",
    "X_train, X_test, y_train, y_test = train_test_split(\n",
    "    X, y, test_size=0.30, random_state=42, stratify=y\n",
    ")"
   ]
  },
  {
   "cell_type": "code",
   "execution_count": 318,
   "id": "94920815",
   "metadata": {},
   "outputs": [],
   "source": [
    "# Preprocess features\n",
    "X_train_prep = preprocessor.fit_transform(X_train)\n",
    "X_test_prep  = preprocessor.transform(X_test)"
   ]
  },
  {
   "cell_type": "code",
   "execution_count": 319,
   "id": "edf42415",
   "metadata": {},
   "outputs": [
    {
     "name": "stdout",
     "output_type": "stream",
     "text": [
      "Class weights: {0: 1.052655195623285, 1: 19.991478203867583}\n"
     ]
    }
   ],
   "source": [
    "# Compute dynamic class weights\n",
    "total_obs    = len(y_train)\n",
    "class_counts = y_train.value_counts().to_dict()\n",
    "weights_dynamic = {cls: total_obs / cnt for cls, cnt in class_counts.items()}\n",
    "print(\"Class weights:\", weights_dynamic)\n"
   ]
  },
  {
   "cell_type": "code",
   "execution_count": 320,
   "id": "d9edf70b",
   "metadata": {},
   "outputs": [
    {
     "data": {
      "text/html": [
       "<style>#sk-container-id-23 {\n",
       "  /* Definition of color scheme common for light and dark mode */\n",
       "  --sklearn-color-text: black;\n",
       "  --sklearn-color-line: gray;\n",
       "  /* Definition of color scheme for unfitted estimators */\n",
       "  --sklearn-color-unfitted-level-0: #fff5e6;\n",
       "  --sklearn-color-unfitted-level-1: #f6e4d2;\n",
       "  --sklearn-color-unfitted-level-2: #ffe0b3;\n",
       "  --sklearn-color-unfitted-level-3: chocolate;\n",
       "  /* Definition of color scheme for fitted estimators */\n",
       "  --sklearn-color-fitted-level-0: #f0f8ff;\n",
       "  --sklearn-color-fitted-level-1: #d4ebff;\n",
       "  --sklearn-color-fitted-level-2: #b3dbfd;\n",
       "  --sklearn-color-fitted-level-3: cornflowerblue;\n",
       "\n",
       "  /* Specific color for light theme */\n",
       "  --sklearn-color-text-on-default-background: var(--sg-text-color, var(--theme-code-foreground, var(--jp-content-font-color1, black)));\n",
       "  --sklearn-color-background: var(--sg-background-color, var(--theme-background, var(--jp-layout-color0, white)));\n",
       "  --sklearn-color-border-box: var(--sg-text-color, var(--theme-code-foreground, var(--jp-content-font-color1, black)));\n",
       "  --sklearn-color-icon: #696969;\n",
       "\n",
       "  @media (prefers-color-scheme: dark) {\n",
       "    /* Redefinition of color scheme for dark theme */\n",
       "    --sklearn-color-text-on-default-background: var(--sg-text-color, var(--theme-code-foreground, var(--jp-content-font-color1, white)));\n",
       "    --sklearn-color-background: var(--sg-background-color, var(--theme-background, var(--jp-layout-color0, #111)));\n",
       "    --sklearn-color-border-box: var(--sg-text-color, var(--theme-code-foreground, var(--jp-content-font-color1, white)));\n",
       "    --sklearn-color-icon: #878787;\n",
       "  }\n",
       "}\n",
       "\n",
       "#sk-container-id-23 {\n",
       "  color: var(--sklearn-color-text);\n",
       "}\n",
       "\n",
       "#sk-container-id-23 pre {\n",
       "  padding: 0;\n",
       "}\n",
       "\n",
       "#sk-container-id-23 input.sk-hidden--visually {\n",
       "  border: 0;\n",
       "  clip: rect(1px 1px 1px 1px);\n",
       "  clip: rect(1px, 1px, 1px, 1px);\n",
       "  height: 1px;\n",
       "  margin: -1px;\n",
       "  overflow: hidden;\n",
       "  padding: 0;\n",
       "  position: absolute;\n",
       "  width: 1px;\n",
       "}\n",
       "\n",
       "#sk-container-id-23 div.sk-dashed-wrapped {\n",
       "  border: 1px dashed var(--sklearn-color-line);\n",
       "  margin: 0 0.4em 0.5em 0.4em;\n",
       "  box-sizing: border-box;\n",
       "  padding-bottom: 0.4em;\n",
       "  background-color: var(--sklearn-color-background);\n",
       "}\n",
       "\n",
       "#sk-container-id-23 div.sk-container {\n",
       "  /* jupyter's `normalize.less` sets `[hidden] { display: none; }`\n",
       "     but bootstrap.min.css set `[hidden] { display: none !important; }`\n",
       "     so we also need the `!important` here to be able to override the\n",
       "     default hidden behavior on the sphinx rendered scikit-learn.org.\n",
       "     See: https://github.com/scikit-learn/scikit-learn/issues/21755 */\n",
       "  display: inline-block !important;\n",
       "  position: relative;\n",
       "}\n",
       "\n",
       "#sk-container-id-23 div.sk-text-repr-fallback {\n",
       "  display: none;\n",
       "}\n",
       "\n",
       "div.sk-parallel-item,\n",
       "div.sk-serial,\n",
       "div.sk-item {\n",
       "  /* draw centered vertical line to link estimators */\n",
       "  background-image: linear-gradient(var(--sklearn-color-text-on-default-background), var(--sklearn-color-text-on-default-background));\n",
       "  background-size: 2px 100%;\n",
       "  background-repeat: no-repeat;\n",
       "  background-position: center center;\n",
       "}\n",
       "\n",
       "/* Parallel-specific style estimator block */\n",
       "\n",
       "#sk-container-id-23 div.sk-parallel-item::after {\n",
       "  content: \"\";\n",
       "  width: 100%;\n",
       "  border-bottom: 2px solid var(--sklearn-color-text-on-default-background);\n",
       "  flex-grow: 1;\n",
       "}\n",
       "\n",
       "#sk-container-id-23 div.sk-parallel {\n",
       "  display: flex;\n",
       "  align-items: stretch;\n",
       "  justify-content: center;\n",
       "  background-color: var(--sklearn-color-background);\n",
       "  position: relative;\n",
       "}\n",
       "\n",
       "#sk-container-id-23 div.sk-parallel-item {\n",
       "  display: flex;\n",
       "  flex-direction: column;\n",
       "}\n",
       "\n",
       "#sk-container-id-23 div.sk-parallel-item:first-child::after {\n",
       "  align-self: flex-end;\n",
       "  width: 50%;\n",
       "}\n",
       "\n",
       "#sk-container-id-23 div.sk-parallel-item:last-child::after {\n",
       "  align-self: flex-start;\n",
       "  width: 50%;\n",
       "}\n",
       "\n",
       "#sk-container-id-23 div.sk-parallel-item:only-child::after {\n",
       "  width: 0;\n",
       "}\n",
       "\n",
       "/* Serial-specific style estimator block */\n",
       "\n",
       "#sk-container-id-23 div.sk-serial {\n",
       "  display: flex;\n",
       "  flex-direction: column;\n",
       "  align-items: center;\n",
       "  background-color: var(--sklearn-color-background);\n",
       "  padding-right: 1em;\n",
       "  padding-left: 1em;\n",
       "}\n",
       "\n",
       "\n",
       "/* Toggleable style: style used for estimator/Pipeline/ColumnTransformer box that is\n",
       "clickable and can be expanded/collapsed.\n",
       "- Pipeline and ColumnTransformer use this feature and define the default style\n",
       "- Estimators will overwrite some part of the style using the `sk-estimator` class\n",
       "*/\n",
       "\n",
       "/* Pipeline and ColumnTransformer style (default) */\n",
       "\n",
       "#sk-container-id-23 div.sk-toggleable {\n",
       "  /* Default theme specific background. It is overwritten whether we have a\n",
       "  specific estimator or a Pipeline/ColumnTransformer */\n",
       "  background-color: var(--sklearn-color-background);\n",
       "}\n",
       "\n",
       "/* Toggleable label */\n",
       "#sk-container-id-23 label.sk-toggleable__label {\n",
       "  cursor: pointer;\n",
       "  display: block;\n",
       "  width: 100%;\n",
       "  margin-bottom: 0;\n",
       "  padding: 0.5em;\n",
       "  box-sizing: border-box;\n",
       "  text-align: center;\n",
       "}\n",
       "\n",
       "#sk-container-id-23 label.sk-toggleable__label-arrow:before {\n",
       "  /* Arrow on the left of the label */\n",
       "  content: \"▸\";\n",
       "  float: left;\n",
       "  margin-right: 0.25em;\n",
       "  color: var(--sklearn-color-icon);\n",
       "}\n",
       "\n",
       "#sk-container-id-23 label.sk-toggleable__label-arrow:hover:before {\n",
       "  color: var(--sklearn-color-text);\n",
       "}\n",
       "\n",
       "/* Toggleable content - dropdown */\n",
       "\n",
       "#sk-container-id-23 div.sk-toggleable__content {\n",
       "  max-height: 0;\n",
       "  max-width: 0;\n",
       "  overflow: hidden;\n",
       "  text-align: left;\n",
       "  /* unfitted */\n",
       "  background-color: var(--sklearn-color-unfitted-level-0);\n",
       "}\n",
       "\n",
       "#sk-container-id-23 div.sk-toggleable__content.fitted {\n",
       "  /* fitted */\n",
       "  background-color: var(--sklearn-color-fitted-level-0);\n",
       "}\n",
       "\n",
       "#sk-container-id-23 div.sk-toggleable__content pre {\n",
       "  margin: 0.2em;\n",
       "  border-radius: 0.25em;\n",
       "  color: var(--sklearn-color-text);\n",
       "  /* unfitted */\n",
       "  background-color: var(--sklearn-color-unfitted-level-0);\n",
       "}\n",
       "\n",
       "#sk-container-id-23 div.sk-toggleable__content.fitted pre {\n",
       "  /* unfitted */\n",
       "  background-color: var(--sklearn-color-fitted-level-0);\n",
       "}\n",
       "\n",
       "#sk-container-id-23 input.sk-toggleable__control:checked~div.sk-toggleable__content {\n",
       "  /* Expand drop-down */\n",
       "  max-height: 200px;\n",
       "  max-width: 100%;\n",
       "  overflow: auto;\n",
       "}\n",
       "\n",
       "#sk-container-id-23 input.sk-toggleable__control:checked~label.sk-toggleable__label-arrow:before {\n",
       "  content: \"▾\";\n",
       "}\n",
       "\n",
       "/* Pipeline/ColumnTransformer-specific style */\n",
       "\n",
       "#sk-container-id-23 div.sk-label input.sk-toggleable__control:checked~label.sk-toggleable__label {\n",
       "  color: var(--sklearn-color-text);\n",
       "  background-color: var(--sklearn-color-unfitted-level-2);\n",
       "}\n",
       "\n",
       "#sk-container-id-23 div.sk-label.fitted input.sk-toggleable__control:checked~label.sk-toggleable__label {\n",
       "  background-color: var(--sklearn-color-fitted-level-2);\n",
       "}\n",
       "\n",
       "/* Estimator-specific style */\n",
       "\n",
       "/* Colorize estimator box */\n",
       "#sk-container-id-23 div.sk-estimator input.sk-toggleable__control:checked~label.sk-toggleable__label {\n",
       "  /* unfitted */\n",
       "  background-color: var(--sklearn-color-unfitted-level-2);\n",
       "}\n",
       "\n",
       "#sk-container-id-23 div.sk-estimator.fitted input.sk-toggleable__control:checked~label.sk-toggleable__label {\n",
       "  /* fitted */\n",
       "  background-color: var(--sklearn-color-fitted-level-2);\n",
       "}\n",
       "\n",
       "#sk-container-id-23 div.sk-label label.sk-toggleable__label,\n",
       "#sk-container-id-23 div.sk-label label {\n",
       "  /* The background is the default theme color */\n",
       "  color: var(--sklearn-color-text-on-default-background);\n",
       "}\n",
       "\n",
       "/* On hover, darken the color of the background */\n",
       "#sk-container-id-23 div.sk-label:hover label.sk-toggleable__label {\n",
       "  color: var(--sklearn-color-text);\n",
       "  background-color: var(--sklearn-color-unfitted-level-2);\n",
       "}\n",
       "\n",
       "/* Label box, darken color on hover, fitted */\n",
       "#sk-container-id-23 div.sk-label.fitted:hover label.sk-toggleable__label.fitted {\n",
       "  color: var(--sklearn-color-text);\n",
       "  background-color: var(--sklearn-color-fitted-level-2);\n",
       "}\n",
       "\n",
       "/* Estimator label */\n",
       "\n",
       "#sk-container-id-23 div.sk-label label {\n",
       "  font-family: monospace;\n",
       "  font-weight: bold;\n",
       "  display: inline-block;\n",
       "  line-height: 1.2em;\n",
       "}\n",
       "\n",
       "#sk-container-id-23 div.sk-label-container {\n",
       "  text-align: center;\n",
       "}\n",
       "\n",
       "/* Estimator-specific */\n",
       "#sk-container-id-23 div.sk-estimator {\n",
       "  font-family: monospace;\n",
       "  border: 1px dotted var(--sklearn-color-border-box);\n",
       "  border-radius: 0.25em;\n",
       "  box-sizing: border-box;\n",
       "  margin-bottom: 0.5em;\n",
       "  /* unfitted */\n",
       "  background-color: var(--sklearn-color-unfitted-level-0);\n",
       "}\n",
       "\n",
       "#sk-container-id-23 div.sk-estimator.fitted {\n",
       "  /* fitted */\n",
       "  background-color: var(--sklearn-color-fitted-level-0);\n",
       "}\n",
       "\n",
       "/* on hover */\n",
       "#sk-container-id-23 div.sk-estimator:hover {\n",
       "  /* unfitted */\n",
       "  background-color: var(--sklearn-color-unfitted-level-2);\n",
       "}\n",
       "\n",
       "#sk-container-id-23 div.sk-estimator.fitted:hover {\n",
       "  /* fitted */\n",
       "  background-color: var(--sklearn-color-fitted-level-2);\n",
       "}\n",
       "\n",
       "/* Specification for estimator info (e.g. \"i\" and \"?\") */\n",
       "\n",
       "/* Common style for \"i\" and \"?\" */\n",
       "\n",
       ".sk-estimator-doc-link,\n",
       "a:link.sk-estimator-doc-link,\n",
       "a:visited.sk-estimator-doc-link {\n",
       "  float: right;\n",
       "  font-size: smaller;\n",
       "  line-height: 1em;\n",
       "  font-family: monospace;\n",
       "  background-color: var(--sklearn-color-background);\n",
       "  border-radius: 1em;\n",
       "  height: 1em;\n",
       "  width: 1em;\n",
       "  text-decoration: none !important;\n",
       "  margin-left: 1ex;\n",
       "  /* unfitted */\n",
       "  border: var(--sklearn-color-unfitted-level-1) 1pt solid;\n",
       "  color: var(--sklearn-color-unfitted-level-1);\n",
       "}\n",
       "\n",
       ".sk-estimator-doc-link.fitted,\n",
       "a:link.sk-estimator-doc-link.fitted,\n",
       "a:visited.sk-estimator-doc-link.fitted {\n",
       "  /* fitted */\n",
       "  border: var(--sklearn-color-fitted-level-1) 1pt solid;\n",
       "  color: var(--sklearn-color-fitted-level-1);\n",
       "}\n",
       "\n",
       "/* On hover */\n",
       "div.sk-estimator:hover .sk-estimator-doc-link:hover,\n",
       ".sk-estimator-doc-link:hover,\n",
       "div.sk-label-container:hover .sk-estimator-doc-link:hover,\n",
       ".sk-estimator-doc-link:hover {\n",
       "  /* unfitted */\n",
       "  background-color: var(--sklearn-color-unfitted-level-3);\n",
       "  color: var(--sklearn-color-background);\n",
       "  text-decoration: none;\n",
       "}\n",
       "\n",
       "div.sk-estimator.fitted:hover .sk-estimator-doc-link.fitted:hover,\n",
       ".sk-estimator-doc-link.fitted:hover,\n",
       "div.sk-label-container:hover .sk-estimator-doc-link.fitted:hover,\n",
       ".sk-estimator-doc-link.fitted:hover {\n",
       "  /* fitted */\n",
       "  background-color: var(--sklearn-color-fitted-level-3);\n",
       "  color: var(--sklearn-color-background);\n",
       "  text-decoration: none;\n",
       "}\n",
       "\n",
       "/* Span, style for the box shown on hovering the info icon */\n",
       ".sk-estimator-doc-link span {\n",
       "  display: none;\n",
       "  z-index: 9999;\n",
       "  position: relative;\n",
       "  font-weight: normal;\n",
       "  right: .2ex;\n",
       "  padding: .5ex;\n",
       "  margin: .5ex;\n",
       "  width: min-content;\n",
       "  min-width: 20ex;\n",
       "  max-width: 50ex;\n",
       "  color: var(--sklearn-color-text);\n",
       "  box-shadow: 2pt 2pt 4pt #999;\n",
       "  /* unfitted */\n",
       "  background: var(--sklearn-color-unfitted-level-0);\n",
       "  border: .5pt solid var(--sklearn-color-unfitted-level-3);\n",
       "}\n",
       "\n",
       ".sk-estimator-doc-link.fitted span {\n",
       "  /* fitted */\n",
       "  background: var(--sklearn-color-fitted-level-0);\n",
       "  border: var(--sklearn-color-fitted-level-3);\n",
       "}\n",
       "\n",
       ".sk-estimator-doc-link:hover span {\n",
       "  display: block;\n",
       "}\n",
       "\n",
       "/* \"?\"-specific style due to the `<a>` HTML tag */\n",
       "\n",
       "#sk-container-id-23 a.estimator_doc_link {\n",
       "  float: right;\n",
       "  font-size: 1rem;\n",
       "  line-height: 1em;\n",
       "  font-family: monospace;\n",
       "  background-color: var(--sklearn-color-background);\n",
       "  border-radius: 1rem;\n",
       "  height: 1rem;\n",
       "  width: 1rem;\n",
       "  text-decoration: none;\n",
       "  /* unfitted */\n",
       "  color: var(--sklearn-color-unfitted-level-1);\n",
       "  border: var(--sklearn-color-unfitted-level-1) 1pt solid;\n",
       "}\n",
       "\n",
       "#sk-container-id-23 a.estimator_doc_link.fitted {\n",
       "  /* fitted */\n",
       "  border: var(--sklearn-color-fitted-level-1) 1pt solid;\n",
       "  color: var(--sklearn-color-fitted-level-1);\n",
       "}\n",
       "\n",
       "/* On hover */\n",
       "#sk-container-id-23 a.estimator_doc_link:hover {\n",
       "  /* unfitted */\n",
       "  background-color: var(--sklearn-color-unfitted-level-3);\n",
       "  color: var(--sklearn-color-background);\n",
       "  text-decoration: none;\n",
       "}\n",
       "\n",
       "#sk-container-id-23 a.estimator_doc_link.fitted:hover {\n",
       "  /* fitted */\n",
       "  background-color: var(--sklearn-color-fitted-level-3);\n",
       "}\n",
       "</style><div id=\"sk-container-id-23\" class=\"sk-top-container\"><div class=\"sk-text-repr-fallback\"><pre>LogisticRegression(class_weight={0: 1.052655195623285, 1: 19.991478203867583},\n",
       "                   max_iter=1000)</pre><b>In a Jupyter environment, please rerun this cell to show the HTML representation or trust the notebook. <br />On GitHub, the HTML representation is unable to render, please try loading this page with nbviewer.org.</b></div><div class=\"sk-container\" hidden><div class=\"sk-item\"><div class=\"sk-estimator fitted sk-toggleable\"><input class=\"sk-toggleable__control sk-hidden--visually\" id=\"sk-estimator-id-23\" type=\"checkbox\" checked><label for=\"sk-estimator-id-23\" class=\"sk-toggleable__label fitted sk-toggleable__label-arrow fitted\">&nbsp;&nbsp;LogisticRegression<a class=\"sk-estimator-doc-link fitted\" rel=\"noreferrer\" target=\"_blank\" href=\"https://scikit-learn.org/1.5/modules/generated/sklearn.linear_model.LogisticRegression.html\">?<span>Documentation for LogisticRegression</span></a><span class=\"sk-estimator-doc-link fitted\">i<span>Fitted</span></span></label><div class=\"sk-toggleable__content fitted\"><pre>LogisticRegression(class_weight={0: 1.052655195623285, 1: 19.991478203867583},\n",
       "                   max_iter=1000)</pre></div> </div></div></div></div>"
      ],
      "text/plain": [
       "LogisticRegression(class_weight={0: 1.052655195623285, 1: 19.991478203867583},\n",
       "                   max_iter=1000)"
      ]
     },
     "execution_count": 320,
     "metadata": {},
     "output_type": "execute_result"
    }
   ],
   "source": [
    "# Train the logistic regression model with dynamic weights\n",
    "model = LogisticRegression(max_iter=1000, class_weight=weights_dynamic)\n",
    "model.fit(X_train_prep, y_train)\n"
   ]
  },
  {
   "cell_type": "code",
   "execution_count": 321,
   "id": "25dc3dc2",
   "metadata": {},
   "outputs": [
    {
     "name": "stdout",
     "output_type": "stream",
     "text": [
      "              precision    recall  f1-score   support\n",
      "\n",
      "           0      0.948     0.500     0.655     24834\n",
      "           1      0.048     0.477     0.087      1307\n",
      "\n",
      "    accuracy                          0.499     26141\n",
      "   macro avg      0.498     0.488     0.371     26141\n",
      "weighted avg      0.903     0.499     0.626     26141\n",
      "\n"
     ]
    }
   ],
   "source": [
    "# Evaluate the updated model\n",
    "y_pred = model.predict(X_test_prep)\n",
    "y_prob = model.predict_proba(X_test_prep)[:, 1]\n",
    "\n",
    "print(classification_report(y_test, y_pred, digits=3))"
   ]
  },
  {
   "cell_type": "code",
   "execution_count": 322,
   "id": "c106e28a",
   "metadata": {},
   "outputs": [
    {
     "data": {
      "application/vnd.plotly.v1+json": {
       "config": {
        "plotlyServerURL": "https://plot.ly"
       },
       "data": [
        {
         "colorscale": [
          [
           0,
           "rgb(247,251,255)"
          ],
          [
           0.125,
           "rgb(222,235,247)"
          ],
          [
           0.25,
           "rgb(198,219,239)"
          ],
          [
           0.375,
           "rgb(158,202,225)"
          ],
          [
           0.5,
           "rgb(107,174,214)"
          ],
          [
           0.625,
           "rgb(66,146,198)"
          ],
          [
           0.75,
           "rgb(33,113,181)"
          ],
          [
           0.875,
           "rgb(8,81,156)"
          ],
          [
           1,
           "rgb(8,48,107)"
          ]
         ],
         "hoverinfo": "z",
         "reversescale": false,
         "showscale": true,
         "type": "heatmap",
         "x": [
          "No Default",
          "Default"
         ],
         "y": [
          "No Default",
          "Default"
         ],
         "z": [
          [
           12417,
           12417
          ],
          [
           684,
           623
          ]
         ]
        }
       ],
       "layout": {
        "annotations": [
         {
          "font": {
           "color": "#FFFFFF"
          },
          "showarrow": false,
          "text": "12417",
          "x": "No Default",
          "xref": "x",
          "y": "No Default",
          "yref": "y"
         },
         {
          "font": {
           "color": "#FFFFFF"
          },
          "showarrow": false,
          "text": "12417",
          "x": "Default",
          "xref": "x",
          "y": "No Default",
          "yref": "y"
         },
         {
          "font": {
           "color": "#000000"
          },
          "showarrow": false,
          "text": "684",
          "x": "No Default",
          "xref": "x",
          "y": "Default",
          "yref": "y"
         },
         {
          "font": {
           "color": "#000000"
          },
          "showarrow": false,
          "text": "623",
          "x": "Default",
          "xref": "x",
          "y": "Default",
          "yref": "y"
         }
        ],
        "template": {
         "data": {
          "bar": [
           {
            "error_x": {
             "color": "#2a3f5f"
            },
            "error_y": {
             "color": "#2a3f5f"
            },
            "marker": {
             "line": {
              "color": "#E5ECF6",
              "width": 0.5
             },
             "pattern": {
              "fillmode": "overlay",
              "size": 10,
              "solidity": 0.2
             }
            },
            "type": "bar"
           }
          ],
          "barpolar": [
           {
            "marker": {
             "line": {
              "color": "#E5ECF6",
              "width": 0.5
             },
             "pattern": {
              "fillmode": "overlay",
              "size": 10,
              "solidity": 0.2
             }
            },
            "type": "barpolar"
           }
          ],
          "carpet": [
           {
            "aaxis": {
             "endlinecolor": "#2a3f5f",
             "gridcolor": "white",
             "linecolor": "white",
             "minorgridcolor": "white",
             "startlinecolor": "#2a3f5f"
            },
            "baxis": {
             "endlinecolor": "#2a3f5f",
             "gridcolor": "white",
             "linecolor": "white",
             "minorgridcolor": "white",
             "startlinecolor": "#2a3f5f"
            },
            "type": "carpet"
           }
          ],
          "choropleth": [
           {
            "colorbar": {
             "outlinewidth": 0,
             "ticks": ""
            },
            "type": "choropleth"
           }
          ],
          "contour": [
           {
            "colorbar": {
             "outlinewidth": 0,
             "ticks": ""
            },
            "colorscale": [
             [
              0,
              "#0d0887"
             ],
             [
              0.1111111111111111,
              "#46039f"
             ],
             [
              0.2222222222222222,
              "#7201a8"
             ],
             [
              0.3333333333333333,
              "#9c179e"
             ],
             [
              0.4444444444444444,
              "#bd3786"
             ],
             [
              0.5555555555555556,
              "#d8576b"
             ],
             [
              0.6666666666666666,
              "#ed7953"
             ],
             [
              0.7777777777777778,
              "#fb9f3a"
             ],
             [
              0.8888888888888888,
              "#fdca26"
             ],
             [
              1,
              "#f0f921"
             ]
            ],
            "type": "contour"
           }
          ],
          "contourcarpet": [
           {
            "colorbar": {
             "outlinewidth": 0,
             "ticks": ""
            },
            "type": "contourcarpet"
           }
          ],
          "heatmap": [
           {
            "colorbar": {
             "outlinewidth": 0,
             "ticks": ""
            },
            "colorscale": [
             [
              0,
              "#0d0887"
             ],
             [
              0.1111111111111111,
              "#46039f"
             ],
             [
              0.2222222222222222,
              "#7201a8"
             ],
             [
              0.3333333333333333,
              "#9c179e"
             ],
             [
              0.4444444444444444,
              "#bd3786"
             ],
             [
              0.5555555555555556,
              "#d8576b"
             ],
             [
              0.6666666666666666,
              "#ed7953"
             ],
             [
              0.7777777777777778,
              "#fb9f3a"
             ],
             [
              0.8888888888888888,
              "#fdca26"
             ],
             [
              1,
              "#f0f921"
             ]
            ],
            "type": "heatmap"
           }
          ],
          "heatmapgl": [
           {
            "colorbar": {
             "outlinewidth": 0,
             "ticks": ""
            },
            "colorscale": [
             [
              0,
              "#0d0887"
             ],
             [
              0.1111111111111111,
              "#46039f"
             ],
             [
              0.2222222222222222,
              "#7201a8"
             ],
             [
              0.3333333333333333,
              "#9c179e"
             ],
             [
              0.4444444444444444,
              "#bd3786"
             ],
             [
              0.5555555555555556,
              "#d8576b"
             ],
             [
              0.6666666666666666,
              "#ed7953"
             ],
             [
              0.7777777777777778,
              "#fb9f3a"
             ],
             [
              0.8888888888888888,
              "#fdca26"
             ],
             [
              1,
              "#f0f921"
             ]
            ],
            "type": "heatmapgl"
           }
          ],
          "histogram": [
           {
            "marker": {
             "pattern": {
              "fillmode": "overlay",
              "size": 10,
              "solidity": 0.2
             }
            },
            "type": "histogram"
           }
          ],
          "histogram2d": [
           {
            "colorbar": {
             "outlinewidth": 0,
             "ticks": ""
            },
            "colorscale": [
             [
              0,
              "#0d0887"
             ],
             [
              0.1111111111111111,
              "#46039f"
             ],
             [
              0.2222222222222222,
              "#7201a8"
             ],
             [
              0.3333333333333333,
              "#9c179e"
             ],
             [
              0.4444444444444444,
              "#bd3786"
             ],
             [
              0.5555555555555556,
              "#d8576b"
             ],
             [
              0.6666666666666666,
              "#ed7953"
             ],
             [
              0.7777777777777778,
              "#fb9f3a"
             ],
             [
              0.8888888888888888,
              "#fdca26"
             ],
             [
              1,
              "#f0f921"
             ]
            ],
            "type": "histogram2d"
           }
          ],
          "histogram2dcontour": [
           {
            "colorbar": {
             "outlinewidth": 0,
             "ticks": ""
            },
            "colorscale": [
             [
              0,
              "#0d0887"
             ],
             [
              0.1111111111111111,
              "#46039f"
             ],
             [
              0.2222222222222222,
              "#7201a8"
             ],
             [
              0.3333333333333333,
              "#9c179e"
             ],
             [
              0.4444444444444444,
              "#bd3786"
             ],
             [
              0.5555555555555556,
              "#d8576b"
             ],
             [
              0.6666666666666666,
              "#ed7953"
             ],
             [
              0.7777777777777778,
              "#fb9f3a"
             ],
             [
              0.8888888888888888,
              "#fdca26"
             ],
             [
              1,
              "#f0f921"
             ]
            ],
            "type": "histogram2dcontour"
           }
          ],
          "mesh3d": [
           {
            "colorbar": {
             "outlinewidth": 0,
             "ticks": ""
            },
            "type": "mesh3d"
           }
          ],
          "parcoords": [
           {
            "line": {
             "colorbar": {
              "outlinewidth": 0,
              "ticks": ""
             }
            },
            "type": "parcoords"
           }
          ],
          "pie": [
           {
            "automargin": true,
            "type": "pie"
           }
          ],
          "scatter": [
           {
            "fillpattern": {
             "fillmode": "overlay",
             "size": 10,
             "solidity": 0.2
            },
            "type": "scatter"
           }
          ],
          "scatter3d": [
           {
            "line": {
             "colorbar": {
              "outlinewidth": 0,
              "ticks": ""
             }
            },
            "marker": {
             "colorbar": {
              "outlinewidth": 0,
              "ticks": ""
             }
            },
            "type": "scatter3d"
           }
          ],
          "scattercarpet": [
           {
            "marker": {
             "colorbar": {
              "outlinewidth": 0,
              "ticks": ""
             }
            },
            "type": "scattercarpet"
           }
          ],
          "scattergeo": [
           {
            "marker": {
             "colorbar": {
              "outlinewidth": 0,
              "ticks": ""
             }
            },
            "type": "scattergeo"
           }
          ],
          "scattergl": [
           {
            "marker": {
             "colorbar": {
              "outlinewidth": 0,
              "ticks": ""
             }
            },
            "type": "scattergl"
           }
          ],
          "scattermapbox": [
           {
            "marker": {
             "colorbar": {
              "outlinewidth": 0,
              "ticks": ""
             }
            },
            "type": "scattermapbox"
           }
          ],
          "scatterpolar": [
           {
            "marker": {
             "colorbar": {
              "outlinewidth": 0,
              "ticks": ""
             }
            },
            "type": "scatterpolar"
           }
          ],
          "scatterpolargl": [
           {
            "marker": {
             "colorbar": {
              "outlinewidth": 0,
              "ticks": ""
             }
            },
            "type": "scatterpolargl"
           }
          ],
          "scatterternary": [
           {
            "marker": {
             "colorbar": {
              "outlinewidth": 0,
              "ticks": ""
             }
            },
            "type": "scatterternary"
           }
          ],
          "surface": [
           {
            "colorbar": {
             "outlinewidth": 0,
             "ticks": ""
            },
            "colorscale": [
             [
              0,
              "#0d0887"
             ],
             [
              0.1111111111111111,
              "#46039f"
             ],
             [
              0.2222222222222222,
              "#7201a8"
             ],
             [
              0.3333333333333333,
              "#9c179e"
             ],
             [
              0.4444444444444444,
              "#bd3786"
             ],
             [
              0.5555555555555556,
              "#d8576b"
             ],
             [
              0.6666666666666666,
              "#ed7953"
             ],
             [
              0.7777777777777778,
              "#fb9f3a"
             ],
             [
              0.8888888888888888,
              "#fdca26"
             ],
             [
              1,
              "#f0f921"
             ]
            ],
            "type": "surface"
           }
          ],
          "table": [
           {
            "cells": {
             "fill": {
              "color": "#EBF0F8"
             },
             "line": {
              "color": "white"
             }
            },
            "header": {
             "fill": {
              "color": "#C8D4E3"
             },
             "line": {
              "color": "white"
             }
            },
            "type": "table"
           }
          ]
         },
         "layout": {
          "annotationdefaults": {
           "arrowcolor": "#2a3f5f",
           "arrowhead": 0,
           "arrowwidth": 1
          },
          "autotypenumbers": "strict",
          "coloraxis": {
           "colorbar": {
            "outlinewidth": 0,
            "ticks": ""
           }
          },
          "colorscale": {
           "diverging": [
            [
             0,
             "#8e0152"
            ],
            [
             0.1,
             "#c51b7d"
            ],
            [
             0.2,
             "#de77ae"
            ],
            [
             0.3,
             "#f1b6da"
            ],
            [
             0.4,
             "#fde0ef"
            ],
            [
             0.5,
             "#f7f7f7"
            ],
            [
             0.6,
             "#e6f5d0"
            ],
            [
             0.7,
             "#b8e186"
            ],
            [
             0.8,
             "#7fbc41"
            ],
            [
             0.9,
             "#4d9221"
            ],
            [
             1,
             "#276419"
            ]
           ],
           "sequential": [
            [
             0,
             "#0d0887"
            ],
            [
             0.1111111111111111,
             "#46039f"
            ],
            [
             0.2222222222222222,
             "#7201a8"
            ],
            [
             0.3333333333333333,
             "#9c179e"
            ],
            [
             0.4444444444444444,
             "#bd3786"
            ],
            [
             0.5555555555555556,
             "#d8576b"
            ],
            [
             0.6666666666666666,
             "#ed7953"
            ],
            [
             0.7777777777777778,
             "#fb9f3a"
            ],
            [
             0.8888888888888888,
             "#fdca26"
            ],
            [
             1,
             "#f0f921"
            ]
           ],
           "sequentialminus": [
            [
             0,
             "#0d0887"
            ],
            [
             0.1111111111111111,
             "#46039f"
            ],
            [
             0.2222222222222222,
             "#7201a8"
            ],
            [
             0.3333333333333333,
             "#9c179e"
            ],
            [
             0.4444444444444444,
             "#bd3786"
            ],
            [
             0.5555555555555556,
             "#d8576b"
            ],
            [
             0.6666666666666666,
             "#ed7953"
            ],
            [
             0.7777777777777778,
             "#fb9f3a"
            ],
            [
             0.8888888888888888,
             "#fdca26"
            ],
            [
             1,
             "#f0f921"
            ]
           ]
          },
          "colorway": [
           "#636efa",
           "#EF553B",
           "#00cc96",
           "#ab63fa",
           "#FFA15A",
           "#19d3f3",
           "#FF6692",
           "#B6E880",
           "#FF97FF",
           "#FECB52"
          ],
          "font": {
           "color": "#2a3f5f"
          },
          "geo": {
           "bgcolor": "white",
           "lakecolor": "white",
           "landcolor": "#E5ECF6",
           "showlakes": true,
           "showland": true,
           "subunitcolor": "white"
          },
          "hoverlabel": {
           "align": "left"
          },
          "hovermode": "closest",
          "mapbox": {
           "style": "light"
          },
          "paper_bgcolor": "white",
          "plot_bgcolor": "#E5ECF6",
          "polar": {
           "angularaxis": {
            "gridcolor": "white",
            "linecolor": "white",
            "ticks": ""
           },
           "bgcolor": "#E5ECF6",
           "radialaxis": {
            "gridcolor": "white",
            "linecolor": "white",
            "ticks": ""
           }
          },
          "scene": {
           "xaxis": {
            "backgroundcolor": "#E5ECF6",
            "gridcolor": "white",
            "gridwidth": 2,
            "linecolor": "white",
            "showbackground": true,
            "ticks": "",
            "zerolinecolor": "white"
           },
           "yaxis": {
            "backgroundcolor": "#E5ECF6",
            "gridcolor": "white",
            "gridwidth": 2,
            "linecolor": "white",
            "showbackground": true,
            "ticks": "",
            "zerolinecolor": "white"
           },
           "zaxis": {
            "backgroundcolor": "#E5ECF6",
            "gridcolor": "white",
            "gridwidth": 2,
            "linecolor": "white",
            "showbackground": true,
            "ticks": "",
            "zerolinecolor": "white"
           }
          },
          "shapedefaults": {
           "line": {
            "color": "#2a3f5f"
           }
          },
          "ternary": {
           "aaxis": {
            "gridcolor": "white",
            "linecolor": "white",
            "ticks": ""
           },
           "baxis": {
            "gridcolor": "white",
            "linecolor": "white",
            "ticks": ""
           },
           "bgcolor": "#E5ECF6",
           "caxis": {
            "gridcolor": "white",
            "linecolor": "white",
            "ticks": ""
           }
          },
          "title": {
           "x": 0.05
          },
          "xaxis": {
           "automargin": true,
           "gridcolor": "white",
           "linecolor": "white",
           "ticks": "",
           "title": {
            "standoff": 15
           },
           "zerolinecolor": "white",
           "zerolinewidth": 2
          },
          "yaxis": {
           "automargin": true,
           "gridcolor": "white",
           "linecolor": "white",
           "ticks": "",
           "title": {
            "standoff": 15
           },
           "zerolinecolor": "white",
           "zerolinewidth": 2
          }
         }
        },
        "title": {
         "text": "Confusion Matrix with Loan Metrics"
        },
        "xaxis": {
         "dtick": 1,
         "gridcolor": "rgb(0, 0, 0)",
         "side": "top",
         "ticks": "",
         "title": {
          "text": "Predicted Label"
         }
        },
        "yaxis": {
         "dtick": 1,
         "ticks": "",
         "ticksuffix": "  ",
         "title": {
          "text": "True Label"
         }
        }
       }
      }
     },
     "metadata": {},
     "output_type": "display_data"
    }
   ],
   "source": [
    "# Plot confusion matrix with Plotly\n",
    "cm = confusion_matrix(y_test, y_pred, labels=[0, 1])\n",
    "labels = [\"No Default\", \"Default\"]\n",
    "\n",
    "fig = ff.create_annotated_heatmap(\n",
    "    z=cm,\n",
    "    x=labels,\n",
    "    y=labels,\n",
    "    colorscale='Blues',\n",
    "    showscale=True,\n",
    "    annotation_text=[[str(cell) for cell in row] for row in cm],\n",
    "    hoverinfo=\"z\"\n",
    ")\n",
    "\n",
    "fig.update_layout(\n",
    "    title=\"Confusion Matrix with Loan Metrics\",\n",
    "    xaxis_title=\"Predicted Label\",\n",
    "    yaxis_title=\"True Label\"\n",
    ")\n",
    "fig.show()"
   ]
  },
  {
   "cell_type": "markdown",
   "id": "edcebd52",
   "metadata": {},
   "source": [
    "### Conclusion\n",
    "\n",
    "The logistic regression model trained with inverse class-frequency weights and enriched with both credit history and loan-level metrics achieved the following results:\n",
    "\n",
    "- **Precision for class 1 (defaults)** is **0.048**, meaning only 4.8% of predicted defaults were correct.  \n",
    "- **Recall for class 1** is **0.477**, indicating the model identified 47.7% of actual defaults.  \n",
    "- **Precision for class 0 (non-defaults)** remains high at **0.948**, while **recall for class 0** is **0.500**, meaning only half of non-defaults were correctly classified.  \n",
    "- **Overall accuracy** is **49.9%**, essentially unchanged from the simpler weighted model.  \n",
    "\n",
    "According to the confusion matrix:  \n",
    "- **623 true defaults** were correctly classified (True Positives).  \n",
    "- **684 true defaults** were missed and labeled as non-defaults (False Negatives).  \n",
    "- **12 417 non-defaults** were correctly classified (True Negatives).  \n",
    "- **12 417 non-defaults** were incorrectly predicted as defaults (False Positives).  \n",
    "\n",
    "This shows that adding loan-level metrics did not improve default detection: recall for defaults actually decreased slightly, and the false-positive count remains extremely high, highlighting the ongoing challenge of modeling under severe class imbalance.  "
   ]
  },
  {
   "cell_type": "markdown",
   "id": "6c5f71c7",
   "metadata": {},
   "source": [
    "##  Model Performance Interpretation (Logistic Regression with Dynamic Weights + Credit History + Loan Metrics + Client Features)"
   ]
  },
  {
   "cell_type": "code",
   "execution_count": 323,
   "id": "941bfd7d",
   "metadata": {},
   "outputs": [
    {
     "data": {
      "text/html": [
       "<div>\n",
       "<style scoped>\n",
       "    .dataframe tbody tr th:only-of-type {\n",
       "        vertical-align: middle;\n",
       "    }\n",
       "\n",
       "    .dataframe tbody tr th {\n",
       "        vertical-align: top;\n",
       "    }\n",
       "\n",
       "    .dataframe thead th {\n",
       "        text-align: right;\n",
       "    }\n",
       "</style>\n",
       "<table border=\"1\" class=\"dataframe\">\n",
       "  <thead>\n",
       "    <tr style=\"text-align: right;\">\n",
       "      <th></th>\n",
       "      <th>Client_ID</th>\n",
       "      <th>Type_Client</th>\n",
       "      <th>Name</th>\n",
       "      <th>Surname</th>\n",
       "      <th>Date_Birth</th>\n",
       "      <th>Gender</th>\n",
       "      <th>Address</th>\n",
       "      <th>City</th>\n",
       "      <th>Province</th>\n",
       "      <th>Country</th>\n",
       "      <th>Phone</th>\n",
       "      <th>Email</th>\n",
       "      <th>Registration_Date</th>\n",
       "      <th>Customer_Segment</th>\n",
       "      <th>Customer_Lifetime_Value</th>\n",
       "      <th>Status</th>\n",
       "    </tr>\n",
       "  </thead>\n",
       "  <tbody>\n",
       "    <tr>\n",
       "      <th>0</th>\n",
       "      <td>1</td>\n",
       "      <td>Individual</td>\n",
       "      <td>Fausto</td>\n",
       "      <td>Haro Alegria</td>\n",
       "      <td>1938-05-30</td>\n",
       "      <td>Male</td>\n",
       "      <td>Plaza Azahar Arce 6, Pamplona</td>\n",
       "      <td>Pamplona</td>\n",
       "      <td>Navarra</td>\n",
       "      <td>Spain</td>\n",
       "      <td>+34 845 531 575</td>\n",
       "      <td>fausto.haro@hotmail.com</td>\n",
       "      <td>2024-05-06</td>\n",
       "      <td>Platinum</td>\n",
       "      <td>28793.37</td>\n",
       "      <td>Inactive</td>\n",
       "    </tr>\n",
       "    <tr>\n",
       "      <th>1</th>\n",
       "      <td>2</td>\n",
       "      <td>Individual</td>\n",
       "      <td>Jenaro</td>\n",
       "      <td>Fábregas Padilla</td>\n",
       "      <td>1992-08-15</td>\n",
       "      <td>Female</td>\n",
       "      <td>C. de Juan José Ocaña 123, Terrassa</td>\n",
       "      <td>Terrassa</td>\n",
       "      <td>Barcelona</td>\n",
       "      <td>Spain</td>\n",
       "      <td>+34 983639767</td>\n",
       "      <td>jenaro.fabregas@outlook.com</td>\n",
       "      <td>2021-03-16</td>\n",
       "      <td>Silver</td>\n",
       "      <td>11689.42</td>\n",
       "      <td>Active</td>\n",
       "    </tr>\n",
       "    <tr>\n",
       "      <th>2</th>\n",
       "      <td>3</td>\n",
       "      <td>Individual</td>\n",
       "      <td>Valentín</td>\n",
       "      <td>Miró Sanjuan</td>\n",
       "      <td>1963-12-21</td>\n",
       "      <td>Male</td>\n",
       "      <td>Pasaje Clara Palomino 106, Manacor</td>\n",
       "      <td>Manacor</td>\n",
       "      <td>Illes Balears</td>\n",
       "      <td>Spain</td>\n",
       "      <td>+34 820703282</td>\n",
       "      <td>valentin.miro@outlook.com</td>\n",
       "      <td>2024-08-29</td>\n",
       "      <td>Bronze</td>\n",
       "      <td>14210.90</td>\n",
       "      <td>Active</td>\n",
       "    </tr>\n",
       "    <tr>\n",
       "      <th>3</th>\n",
       "      <td>4</td>\n",
       "      <td>Individual</td>\n",
       "      <td>Evaristo</td>\n",
       "      <td>Cabo Carnero</td>\n",
       "      <td>1963-04-05</td>\n",
       "      <td>Female</td>\n",
       "      <td>Cañada Benita Uría 41, Vilalba</td>\n",
       "      <td>Vilalba</td>\n",
       "      <td>Lugo</td>\n",
       "      <td>Spain</td>\n",
       "      <td>+34 900 68 32 88</td>\n",
       "      <td>evaristo.cabo@welfordbank.es</td>\n",
       "      <td>2020-05-25</td>\n",
       "      <td>Silver</td>\n",
       "      <td>19585.72</td>\n",
       "      <td>Inactive</td>\n",
       "    </tr>\n",
       "    <tr>\n",
       "      <th>4</th>\n",
       "      <td>5</td>\n",
       "      <td>Individual</td>\n",
       "      <td>María</td>\n",
       "      <td>Córdoba Monreal</td>\n",
       "      <td>1962-08-22</td>\n",
       "      <td>Female</td>\n",
       "      <td>Avenida de Joel Menéndez 208, Ceuta</td>\n",
       "      <td>Ceuta</td>\n",
       "      <td>Ceuta</td>\n",
       "      <td>Spain</td>\n",
       "      <td>+34 971 14 72 17</td>\n",
       "      <td>maria.cordoba@gmail.com</td>\n",
       "      <td>2022-07-28</td>\n",
       "      <td>Gold</td>\n",
       "      <td>9210.93</td>\n",
       "      <td>Active</td>\n",
       "    </tr>\n",
       "  </tbody>\n",
       "</table>\n",
       "</div>"
      ],
      "text/plain": [
       "   Client_ID Type_Client      Name           Surname  Date_Birth  Gender  \\\n",
       "0          1  Individual    Fausto      Haro Alegria  1938-05-30    Male   \n",
       "1          2  Individual    Jenaro  Fábregas Padilla  1992-08-15  Female   \n",
       "2          3  Individual  Valentín      Miró Sanjuan  1963-12-21    Male   \n",
       "3          4  Individual  Evaristo      Cabo Carnero  1963-04-05  Female   \n",
       "4          5  Individual     María   Córdoba Monreal  1962-08-22  Female   \n",
       "\n",
       "                               Address      City       Province Country  \\\n",
       "0        Plaza Azahar Arce 6, Pamplona  Pamplona        Navarra   Spain   \n",
       "1  C. de Juan José Ocaña 123, Terrassa  Terrassa      Barcelona   Spain   \n",
       "2   Pasaje Clara Palomino 106, Manacor   Manacor  Illes Balears   Spain   \n",
       "3       Cañada Benita Uría 41, Vilalba   Vilalba           Lugo   Spain   \n",
       "4  Avenida de Joel Menéndez 208, Ceuta     Ceuta          Ceuta   Spain   \n",
       "\n",
       "              Phone                         Email Registration_Date  \\\n",
       "0   +34 845 531 575       fausto.haro@hotmail.com        2024-05-06   \n",
       "1     +34 983639767   jenaro.fabregas@outlook.com        2021-03-16   \n",
       "2     +34 820703282     valentin.miro@outlook.com        2024-08-29   \n",
       "3  +34 900 68 32 88  evaristo.cabo@welfordbank.es        2020-05-25   \n",
       "4  +34 971 14 72 17       maria.cordoba@gmail.com        2022-07-28   \n",
       "\n",
       "  Customer_Segment  Customer_Lifetime_Value    Status  \n",
       "0         Platinum                 28793.37  Inactive  \n",
       "1           Silver                 11689.42    Active  \n",
       "2           Bronze                 14210.90    Active  \n",
       "3           Silver                 19585.72  Inactive  \n",
       "4             Gold                  9210.93    Active  "
      ]
     },
     "execution_count": 323,
     "metadata": {},
     "output_type": "execute_result"
    }
   ],
   "source": [
    "# Load client data\n",
    "clients = pd.read_csv(\"data/clients_welfordbank_en.csv\")\n",
    "clients.head(5)"
   ]
  },
  {
   "cell_type": "code",
   "execution_count": 324,
   "id": "e7d42985",
   "metadata": {},
   "outputs": [
    {
     "name": "stdout",
     "output_type": "stream",
     "text": [
      "<class 'pandas.core.frame.DataFrame'>\n",
      "RangeIndex: 25000 entries, 0 to 24999\n",
      "Data columns (total 16 columns):\n",
      " #   Column                   Non-Null Count  Dtype  \n",
      "---  ------                   --------------  -----  \n",
      " 0   Client_ID                25000 non-null  int64  \n",
      " 1   Type_Client              25000 non-null  object \n",
      " 2   Name                     25000 non-null  object \n",
      " 3   Surname                  19989 non-null  object \n",
      " 4   Date_Birth               25000 non-null  object \n",
      " 5   Gender                   19989 non-null  object \n",
      " 6   Address                  25000 non-null  object \n",
      " 7   City                     25000 non-null  object \n",
      " 8   Province                 25000 non-null  object \n",
      " 9   Country                  25000 non-null  object \n",
      " 10  Phone                    25000 non-null  object \n",
      " 11  Email                    25000 non-null  object \n",
      " 12  Registration_Date        25000 non-null  object \n",
      " 13  Customer_Segment         25000 non-null  object \n",
      " 14  Customer_Lifetime_Value  25000 non-null  float64\n",
      " 15  Status                   25000 non-null  object \n",
      "dtypes: float64(1), int64(1), object(14)\n",
      "memory usage: 3.1+ MB\n"
     ]
    },
    {
     "data": {
      "text/html": [
       "<div>\n",
       "<style scoped>\n",
       "    .dataframe tbody tr th:only-of-type {\n",
       "        vertical-align: middle;\n",
       "    }\n",
       "\n",
       "    .dataframe tbody tr th {\n",
       "        vertical-align: top;\n",
       "    }\n",
       "\n",
       "    .dataframe thead th {\n",
       "        text-align: right;\n",
       "    }\n",
       "</style>\n",
       "<table border=\"1\" class=\"dataframe\">\n",
       "  <thead>\n",
       "    <tr style=\"text-align: right;\">\n",
       "      <th></th>\n",
       "      <th>Client_ID</th>\n",
       "      <th>Customer_Lifetime_Value</th>\n",
       "    </tr>\n",
       "  </thead>\n",
       "  <tbody>\n",
       "    <tr>\n",
       "      <th>count</th>\n",
       "      <td>25000.000000</td>\n",
       "      <td>25000.000000</td>\n",
       "    </tr>\n",
       "    <tr>\n",
       "      <th>mean</th>\n",
       "      <td>12500.500000</td>\n",
       "      <td>19996.726783</td>\n",
       "    </tr>\n",
       "    <tr>\n",
       "      <th>std</th>\n",
       "      <td>7217.022701</td>\n",
       "      <td>7992.489491</td>\n",
       "    </tr>\n",
       "    <tr>\n",
       "      <th>min</th>\n",
       "      <td>1.000000</td>\n",
       "      <td>-10601.900000</td>\n",
       "    </tr>\n",
       "    <tr>\n",
       "      <th>25%</th>\n",
       "      <td>6250.750000</td>\n",
       "      <td>14620.537500</td>\n",
       "    </tr>\n",
       "    <tr>\n",
       "      <th>50%</th>\n",
       "      <td>12500.500000</td>\n",
       "      <td>19991.440000</td>\n",
       "    </tr>\n",
       "    <tr>\n",
       "      <th>75%</th>\n",
       "      <td>18750.250000</td>\n",
       "      <td>25392.665000</td>\n",
       "    </tr>\n",
       "    <tr>\n",
       "      <th>max</th>\n",
       "      <td>25000.000000</td>\n",
       "      <td>54815.150000</td>\n",
       "    </tr>\n",
       "  </tbody>\n",
       "</table>\n",
       "</div>"
      ],
      "text/plain": [
       "          Client_ID  Customer_Lifetime_Value\n",
       "count  25000.000000             25000.000000\n",
       "mean   12500.500000             19996.726783\n",
       "std     7217.022701              7992.489491\n",
       "min        1.000000            -10601.900000\n",
       "25%     6250.750000             14620.537500\n",
       "50%    12500.500000             19991.440000\n",
       "75%    18750.250000             25392.665000\n",
       "max    25000.000000             54815.150000"
      ]
     },
     "execution_count": 324,
     "metadata": {},
     "output_type": "execute_result"
    }
   ],
   "source": [
    "# Display basic information about the dataset\n",
    "clients.info()\n",
    "clients.describe()"
   ]
  },
  {
   "cell_type": "code",
   "execution_count": 325,
   "id": "9516d0fe",
   "metadata": {},
   "outputs": [
    {
     "name": "stderr",
     "output_type": "stream",
     "text": [
      "/var/folders/fw/6ct1wvh97g990yc_5_mgdqc00000gn/T/ipykernel_93657/2290108689.py:2: UserWarning:\n",
      "\n",
      "Parsing dates in %Y-%m-%d format when dayfirst=True was specified. Pass `dayfirst=False` or specify a format to silence this warning.\n",
      "\n"
     ]
    }
   ],
   "source": [
    "# Derive 'age' feature\n",
    "clients[\"Date_Birth\"] = pd.to_datetime(clients[\"Date_Birth\"], dayfirst=True)\n",
    "reference_date = pd.to_datetime(\"2025-05-25\")\n",
    "clients[\"age\"] = (reference_date - clients[\"Date_Birth\"]).dt.days // 365"
   ]
  },
  {
   "cell_type": "code",
   "execution_count": 326,
   "id": "959068cd",
   "metadata": {},
   "outputs": [],
   "source": [
    "# Merge client info into our loan + history + metrics table\n",
    "loans_full = loans_history_metrics.merge(\n",
    "    clients[[\n",
    "        \"Client_ID\",\n",
    "        \"Customer_Lifetime_Value\",\n",
    "        \"age\",\n",
    "        \"Type_Client\",\n",
    "        \"Gender\",\n",
    "        \"Province\",\n",
    "        \"Customer_Segment\"\n",
    "    ]],\n",
    "    on=\"Client_ID\",\n",
    "    how=\"left\"\n",
    ").fillna(0)"
   ]
  },
  {
   "cell_type": "code",
   "execution_count": 327,
   "id": "7e8652db",
   "metadata": {},
   "outputs": [],
   "source": [
    "# Add new client features to our column lists\n",
    "new_client_num = [\"Customer_Lifetime_Value\", \"age\"]\n",
    "new_client_cat = [\"Type_Client\", \"Gender\", \"Province\", \"Customer_Segment\"]\n",
    "\n",
    "num_cols.extend(new_client_num)\n",
    "cat_cols.extend(new_client_cat)"
   ]
  },
  {
   "cell_type": "code",
   "execution_count": 328,
   "id": "c92b2851",
   "metadata": {},
   "outputs": [],
   "source": [
    "# Build X and y using the extended feature set\n",
    "X = loans_full[num_cols + cat_cols]\n",
    "y = loans_full[\"Default_Status\"].map({\"Yes\": 1, \"No\": 0})"
   ]
  },
  {
   "cell_type": "code",
   "execution_count": 329,
   "id": "13f26b7c",
   "metadata": {},
   "outputs": [],
   "source": [
    "# Split into train and test sets\n",
    "X_train, X_test, y_train, y_test = train_test_split(\n",
    "    X, y, test_size=0.30, random_state=42, stratify=y\n",
    ")\n",
    "\n",
    "# Make sure all categorical columns are uniformly strings\n",
    "X_train[cat_cols] = X_train[cat_cols].astype(str)\n",
    "X_test[cat_cols]  = X_test[cat_cols].astype(str)\n",
    "\n",
    "# Preprocess features\n",
    "X_train_prep = preprocessor.fit_transform(X_train)\n",
    "X_test_prep  = preprocessor.transform(X_test)\n"
   ]
  },
  {
   "cell_type": "code",
   "execution_count": 330,
   "id": "350e36dd",
   "metadata": {},
   "outputs": [
    {
     "name": "stdout",
     "output_type": "stream",
     "text": [
      "Class weights: {0: 1.052655195623285, 1: 19.991478203867583}\n"
     ]
    }
   ],
   "source": [
    "# Compute dynamic class weights\n",
    "total_obs    = len(y_train)\n",
    "class_counts = y_train.value_counts().to_dict()\n",
    "weights_dynamic = {cls: total_obs / cnt for cls, cnt in class_counts.items()}\n",
    "print(\"Class weights:\", weights_dynamic)"
   ]
  },
  {
   "cell_type": "code",
   "execution_count": 331,
   "id": "7fe66bdb",
   "metadata": {},
   "outputs": [
    {
     "data": {
      "text/html": [
       "<style>#sk-container-id-24 {\n",
       "  /* Definition of color scheme common for light and dark mode */\n",
       "  --sklearn-color-text: black;\n",
       "  --sklearn-color-line: gray;\n",
       "  /* Definition of color scheme for unfitted estimators */\n",
       "  --sklearn-color-unfitted-level-0: #fff5e6;\n",
       "  --sklearn-color-unfitted-level-1: #f6e4d2;\n",
       "  --sklearn-color-unfitted-level-2: #ffe0b3;\n",
       "  --sklearn-color-unfitted-level-3: chocolate;\n",
       "  /* Definition of color scheme for fitted estimators */\n",
       "  --sklearn-color-fitted-level-0: #f0f8ff;\n",
       "  --sklearn-color-fitted-level-1: #d4ebff;\n",
       "  --sklearn-color-fitted-level-2: #b3dbfd;\n",
       "  --sklearn-color-fitted-level-3: cornflowerblue;\n",
       "\n",
       "  /* Specific color for light theme */\n",
       "  --sklearn-color-text-on-default-background: var(--sg-text-color, var(--theme-code-foreground, var(--jp-content-font-color1, black)));\n",
       "  --sklearn-color-background: var(--sg-background-color, var(--theme-background, var(--jp-layout-color0, white)));\n",
       "  --sklearn-color-border-box: var(--sg-text-color, var(--theme-code-foreground, var(--jp-content-font-color1, black)));\n",
       "  --sklearn-color-icon: #696969;\n",
       "\n",
       "  @media (prefers-color-scheme: dark) {\n",
       "    /* Redefinition of color scheme for dark theme */\n",
       "    --sklearn-color-text-on-default-background: var(--sg-text-color, var(--theme-code-foreground, var(--jp-content-font-color1, white)));\n",
       "    --sklearn-color-background: var(--sg-background-color, var(--theme-background, var(--jp-layout-color0, #111)));\n",
       "    --sklearn-color-border-box: var(--sg-text-color, var(--theme-code-foreground, var(--jp-content-font-color1, white)));\n",
       "    --sklearn-color-icon: #878787;\n",
       "  }\n",
       "}\n",
       "\n",
       "#sk-container-id-24 {\n",
       "  color: var(--sklearn-color-text);\n",
       "}\n",
       "\n",
       "#sk-container-id-24 pre {\n",
       "  padding: 0;\n",
       "}\n",
       "\n",
       "#sk-container-id-24 input.sk-hidden--visually {\n",
       "  border: 0;\n",
       "  clip: rect(1px 1px 1px 1px);\n",
       "  clip: rect(1px, 1px, 1px, 1px);\n",
       "  height: 1px;\n",
       "  margin: -1px;\n",
       "  overflow: hidden;\n",
       "  padding: 0;\n",
       "  position: absolute;\n",
       "  width: 1px;\n",
       "}\n",
       "\n",
       "#sk-container-id-24 div.sk-dashed-wrapped {\n",
       "  border: 1px dashed var(--sklearn-color-line);\n",
       "  margin: 0 0.4em 0.5em 0.4em;\n",
       "  box-sizing: border-box;\n",
       "  padding-bottom: 0.4em;\n",
       "  background-color: var(--sklearn-color-background);\n",
       "}\n",
       "\n",
       "#sk-container-id-24 div.sk-container {\n",
       "  /* jupyter's `normalize.less` sets `[hidden] { display: none; }`\n",
       "     but bootstrap.min.css set `[hidden] { display: none !important; }`\n",
       "     so we also need the `!important` here to be able to override the\n",
       "     default hidden behavior on the sphinx rendered scikit-learn.org.\n",
       "     See: https://github.com/scikit-learn/scikit-learn/issues/21755 */\n",
       "  display: inline-block !important;\n",
       "  position: relative;\n",
       "}\n",
       "\n",
       "#sk-container-id-24 div.sk-text-repr-fallback {\n",
       "  display: none;\n",
       "}\n",
       "\n",
       "div.sk-parallel-item,\n",
       "div.sk-serial,\n",
       "div.sk-item {\n",
       "  /* draw centered vertical line to link estimators */\n",
       "  background-image: linear-gradient(var(--sklearn-color-text-on-default-background), var(--sklearn-color-text-on-default-background));\n",
       "  background-size: 2px 100%;\n",
       "  background-repeat: no-repeat;\n",
       "  background-position: center center;\n",
       "}\n",
       "\n",
       "/* Parallel-specific style estimator block */\n",
       "\n",
       "#sk-container-id-24 div.sk-parallel-item::after {\n",
       "  content: \"\";\n",
       "  width: 100%;\n",
       "  border-bottom: 2px solid var(--sklearn-color-text-on-default-background);\n",
       "  flex-grow: 1;\n",
       "}\n",
       "\n",
       "#sk-container-id-24 div.sk-parallel {\n",
       "  display: flex;\n",
       "  align-items: stretch;\n",
       "  justify-content: center;\n",
       "  background-color: var(--sklearn-color-background);\n",
       "  position: relative;\n",
       "}\n",
       "\n",
       "#sk-container-id-24 div.sk-parallel-item {\n",
       "  display: flex;\n",
       "  flex-direction: column;\n",
       "}\n",
       "\n",
       "#sk-container-id-24 div.sk-parallel-item:first-child::after {\n",
       "  align-self: flex-end;\n",
       "  width: 50%;\n",
       "}\n",
       "\n",
       "#sk-container-id-24 div.sk-parallel-item:last-child::after {\n",
       "  align-self: flex-start;\n",
       "  width: 50%;\n",
       "}\n",
       "\n",
       "#sk-container-id-24 div.sk-parallel-item:only-child::after {\n",
       "  width: 0;\n",
       "}\n",
       "\n",
       "/* Serial-specific style estimator block */\n",
       "\n",
       "#sk-container-id-24 div.sk-serial {\n",
       "  display: flex;\n",
       "  flex-direction: column;\n",
       "  align-items: center;\n",
       "  background-color: var(--sklearn-color-background);\n",
       "  padding-right: 1em;\n",
       "  padding-left: 1em;\n",
       "}\n",
       "\n",
       "\n",
       "/* Toggleable style: style used for estimator/Pipeline/ColumnTransformer box that is\n",
       "clickable and can be expanded/collapsed.\n",
       "- Pipeline and ColumnTransformer use this feature and define the default style\n",
       "- Estimators will overwrite some part of the style using the `sk-estimator` class\n",
       "*/\n",
       "\n",
       "/* Pipeline and ColumnTransformer style (default) */\n",
       "\n",
       "#sk-container-id-24 div.sk-toggleable {\n",
       "  /* Default theme specific background. It is overwritten whether we have a\n",
       "  specific estimator or a Pipeline/ColumnTransformer */\n",
       "  background-color: var(--sklearn-color-background);\n",
       "}\n",
       "\n",
       "/* Toggleable label */\n",
       "#sk-container-id-24 label.sk-toggleable__label {\n",
       "  cursor: pointer;\n",
       "  display: block;\n",
       "  width: 100%;\n",
       "  margin-bottom: 0;\n",
       "  padding: 0.5em;\n",
       "  box-sizing: border-box;\n",
       "  text-align: center;\n",
       "}\n",
       "\n",
       "#sk-container-id-24 label.sk-toggleable__label-arrow:before {\n",
       "  /* Arrow on the left of the label */\n",
       "  content: \"▸\";\n",
       "  float: left;\n",
       "  margin-right: 0.25em;\n",
       "  color: var(--sklearn-color-icon);\n",
       "}\n",
       "\n",
       "#sk-container-id-24 label.sk-toggleable__label-arrow:hover:before {\n",
       "  color: var(--sklearn-color-text);\n",
       "}\n",
       "\n",
       "/* Toggleable content - dropdown */\n",
       "\n",
       "#sk-container-id-24 div.sk-toggleable__content {\n",
       "  max-height: 0;\n",
       "  max-width: 0;\n",
       "  overflow: hidden;\n",
       "  text-align: left;\n",
       "  /* unfitted */\n",
       "  background-color: var(--sklearn-color-unfitted-level-0);\n",
       "}\n",
       "\n",
       "#sk-container-id-24 div.sk-toggleable__content.fitted {\n",
       "  /* fitted */\n",
       "  background-color: var(--sklearn-color-fitted-level-0);\n",
       "}\n",
       "\n",
       "#sk-container-id-24 div.sk-toggleable__content pre {\n",
       "  margin: 0.2em;\n",
       "  border-radius: 0.25em;\n",
       "  color: var(--sklearn-color-text);\n",
       "  /* unfitted */\n",
       "  background-color: var(--sklearn-color-unfitted-level-0);\n",
       "}\n",
       "\n",
       "#sk-container-id-24 div.sk-toggleable__content.fitted pre {\n",
       "  /* unfitted */\n",
       "  background-color: var(--sklearn-color-fitted-level-0);\n",
       "}\n",
       "\n",
       "#sk-container-id-24 input.sk-toggleable__control:checked~div.sk-toggleable__content {\n",
       "  /* Expand drop-down */\n",
       "  max-height: 200px;\n",
       "  max-width: 100%;\n",
       "  overflow: auto;\n",
       "}\n",
       "\n",
       "#sk-container-id-24 input.sk-toggleable__control:checked~label.sk-toggleable__label-arrow:before {\n",
       "  content: \"▾\";\n",
       "}\n",
       "\n",
       "/* Pipeline/ColumnTransformer-specific style */\n",
       "\n",
       "#sk-container-id-24 div.sk-label input.sk-toggleable__control:checked~label.sk-toggleable__label {\n",
       "  color: var(--sklearn-color-text);\n",
       "  background-color: var(--sklearn-color-unfitted-level-2);\n",
       "}\n",
       "\n",
       "#sk-container-id-24 div.sk-label.fitted input.sk-toggleable__control:checked~label.sk-toggleable__label {\n",
       "  background-color: var(--sklearn-color-fitted-level-2);\n",
       "}\n",
       "\n",
       "/* Estimator-specific style */\n",
       "\n",
       "/* Colorize estimator box */\n",
       "#sk-container-id-24 div.sk-estimator input.sk-toggleable__control:checked~label.sk-toggleable__label {\n",
       "  /* unfitted */\n",
       "  background-color: var(--sklearn-color-unfitted-level-2);\n",
       "}\n",
       "\n",
       "#sk-container-id-24 div.sk-estimator.fitted input.sk-toggleable__control:checked~label.sk-toggleable__label {\n",
       "  /* fitted */\n",
       "  background-color: var(--sklearn-color-fitted-level-2);\n",
       "}\n",
       "\n",
       "#sk-container-id-24 div.sk-label label.sk-toggleable__label,\n",
       "#sk-container-id-24 div.sk-label label {\n",
       "  /* The background is the default theme color */\n",
       "  color: var(--sklearn-color-text-on-default-background);\n",
       "}\n",
       "\n",
       "/* On hover, darken the color of the background */\n",
       "#sk-container-id-24 div.sk-label:hover label.sk-toggleable__label {\n",
       "  color: var(--sklearn-color-text);\n",
       "  background-color: var(--sklearn-color-unfitted-level-2);\n",
       "}\n",
       "\n",
       "/* Label box, darken color on hover, fitted */\n",
       "#sk-container-id-24 div.sk-label.fitted:hover label.sk-toggleable__label.fitted {\n",
       "  color: var(--sklearn-color-text);\n",
       "  background-color: var(--sklearn-color-fitted-level-2);\n",
       "}\n",
       "\n",
       "/* Estimator label */\n",
       "\n",
       "#sk-container-id-24 div.sk-label label {\n",
       "  font-family: monospace;\n",
       "  font-weight: bold;\n",
       "  display: inline-block;\n",
       "  line-height: 1.2em;\n",
       "}\n",
       "\n",
       "#sk-container-id-24 div.sk-label-container {\n",
       "  text-align: center;\n",
       "}\n",
       "\n",
       "/* Estimator-specific */\n",
       "#sk-container-id-24 div.sk-estimator {\n",
       "  font-family: monospace;\n",
       "  border: 1px dotted var(--sklearn-color-border-box);\n",
       "  border-radius: 0.25em;\n",
       "  box-sizing: border-box;\n",
       "  margin-bottom: 0.5em;\n",
       "  /* unfitted */\n",
       "  background-color: var(--sklearn-color-unfitted-level-0);\n",
       "}\n",
       "\n",
       "#sk-container-id-24 div.sk-estimator.fitted {\n",
       "  /* fitted */\n",
       "  background-color: var(--sklearn-color-fitted-level-0);\n",
       "}\n",
       "\n",
       "/* on hover */\n",
       "#sk-container-id-24 div.sk-estimator:hover {\n",
       "  /* unfitted */\n",
       "  background-color: var(--sklearn-color-unfitted-level-2);\n",
       "}\n",
       "\n",
       "#sk-container-id-24 div.sk-estimator.fitted:hover {\n",
       "  /* fitted */\n",
       "  background-color: var(--sklearn-color-fitted-level-2);\n",
       "}\n",
       "\n",
       "/* Specification for estimator info (e.g. \"i\" and \"?\") */\n",
       "\n",
       "/* Common style for \"i\" and \"?\" */\n",
       "\n",
       ".sk-estimator-doc-link,\n",
       "a:link.sk-estimator-doc-link,\n",
       "a:visited.sk-estimator-doc-link {\n",
       "  float: right;\n",
       "  font-size: smaller;\n",
       "  line-height: 1em;\n",
       "  font-family: monospace;\n",
       "  background-color: var(--sklearn-color-background);\n",
       "  border-radius: 1em;\n",
       "  height: 1em;\n",
       "  width: 1em;\n",
       "  text-decoration: none !important;\n",
       "  margin-left: 1ex;\n",
       "  /* unfitted */\n",
       "  border: var(--sklearn-color-unfitted-level-1) 1pt solid;\n",
       "  color: var(--sklearn-color-unfitted-level-1);\n",
       "}\n",
       "\n",
       ".sk-estimator-doc-link.fitted,\n",
       "a:link.sk-estimator-doc-link.fitted,\n",
       "a:visited.sk-estimator-doc-link.fitted {\n",
       "  /* fitted */\n",
       "  border: var(--sklearn-color-fitted-level-1) 1pt solid;\n",
       "  color: var(--sklearn-color-fitted-level-1);\n",
       "}\n",
       "\n",
       "/* On hover */\n",
       "div.sk-estimator:hover .sk-estimator-doc-link:hover,\n",
       ".sk-estimator-doc-link:hover,\n",
       "div.sk-label-container:hover .sk-estimator-doc-link:hover,\n",
       ".sk-estimator-doc-link:hover {\n",
       "  /* unfitted */\n",
       "  background-color: var(--sklearn-color-unfitted-level-3);\n",
       "  color: var(--sklearn-color-background);\n",
       "  text-decoration: none;\n",
       "}\n",
       "\n",
       "div.sk-estimator.fitted:hover .sk-estimator-doc-link.fitted:hover,\n",
       ".sk-estimator-doc-link.fitted:hover,\n",
       "div.sk-label-container:hover .sk-estimator-doc-link.fitted:hover,\n",
       ".sk-estimator-doc-link.fitted:hover {\n",
       "  /* fitted */\n",
       "  background-color: var(--sklearn-color-fitted-level-3);\n",
       "  color: var(--sklearn-color-background);\n",
       "  text-decoration: none;\n",
       "}\n",
       "\n",
       "/* Span, style for the box shown on hovering the info icon */\n",
       ".sk-estimator-doc-link span {\n",
       "  display: none;\n",
       "  z-index: 9999;\n",
       "  position: relative;\n",
       "  font-weight: normal;\n",
       "  right: .2ex;\n",
       "  padding: .5ex;\n",
       "  margin: .5ex;\n",
       "  width: min-content;\n",
       "  min-width: 20ex;\n",
       "  max-width: 50ex;\n",
       "  color: var(--sklearn-color-text);\n",
       "  box-shadow: 2pt 2pt 4pt #999;\n",
       "  /* unfitted */\n",
       "  background: var(--sklearn-color-unfitted-level-0);\n",
       "  border: .5pt solid var(--sklearn-color-unfitted-level-3);\n",
       "}\n",
       "\n",
       ".sk-estimator-doc-link.fitted span {\n",
       "  /* fitted */\n",
       "  background: var(--sklearn-color-fitted-level-0);\n",
       "  border: var(--sklearn-color-fitted-level-3);\n",
       "}\n",
       "\n",
       ".sk-estimator-doc-link:hover span {\n",
       "  display: block;\n",
       "}\n",
       "\n",
       "/* \"?\"-specific style due to the `<a>` HTML tag */\n",
       "\n",
       "#sk-container-id-24 a.estimator_doc_link {\n",
       "  float: right;\n",
       "  font-size: 1rem;\n",
       "  line-height: 1em;\n",
       "  font-family: monospace;\n",
       "  background-color: var(--sklearn-color-background);\n",
       "  border-radius: 1rem;\n",
       "  height: 1rem;\n",
       "  width: 1rem;\n",
       "  text-decoration: none;\n",
       "  /* unfitted */\n",
       "  color: var(--sklearn-color-unfitted-level-1);\n",
       "  border: var(--sklearn-color-unfitted-level-1) 1pt solid;\n",
       "}\n",
       "\n",
       "#sk-container-id-24 a.estimator_doc_link.fitted {\n",
       "  /* fitted */\n",
       "  border: var(--sklearn-color-fitted-level-1) 1pt solid;\n",
       "  color: var(--sklearn-color-fitted-level-1);\n",
       "}\n",
       "\n",
       "/* On hover */\n",
       "#sk-container-id-24 a.estimator_doc_link:hover {\n",
       "  /* unfitted */\n",
       "  background-color: var(--sklearn-color-unfitted-level-3);\n",
       "  color: var(--sklearn-color-background);\n",
       "  text-decoration: none;\n",
       "}\n",
       "\n",
       "#sk-container-id-24 a.estimator_doc_link.fitted:hover {\n",
       "  /* fitted */\n",
       "  background-color: var(--sklearn-color-fitted-level-3);\n",
       "}\n",
       "</style><div id=\"sk-container-id-24\" class=\"sk-top-container\"><div class=\"sk-text-repr-fallback\"><pre>LogisticRegression(class_weight={0: 1.052655195623285, 1: 19.991478203867583},\n",
       "                   max_iter=1000)</pre><b>In a Jupyter environment, please rerun this cell to show the HTML representation or trust the notebook. <br />On GitHub, the HTML representation is unable to render, please try loading this page with nbviewer.org.</b></div><div class=\"sk-container\" hidden><div class=\"sk-item\"><div class=\"sk-estimator fitted sk-toggleable\"><input class=\"sk-toggleable__control sk-hidden--visually\" id=\"sk-estimator-id-24\" type=\"checkbox\" checked><label for=\"sk-estimator-id-24\" class=\"sk-toggleable__label fitted sk-toggleable__label-arrow fitted\">&nbsp;&nbsp;LogisticRegression<a class=\"sk-estimator-doc-link fitted\" rel=\"noreferrer\" target=\"_blank\" href=\"https://scikit-learn.org/1.5/modules/generated/sklearn.linear_model.LogisticRegression.html\">?<span>Documentation for LogisticRegression</span></a><span class=\"sk-estimator-doc-link fitted\">i<span>Fitted</span></span></label><div class=\"sk-toggleable__content fitted\"><pre>LogisticRegression(class_weight={0: 1.052655195623285, 1: 19.991478203867583},\n",
       "                   max_iter=1000)</pre></div> </div></div></div></div>"
      ],
      "text/plain": [
       "LogisticRegression(class_weight={0: 1.052655195623285, 1: 19.991478203867583},\n",
       "                   max_iter=1000)"
      ]
     },
     "execution_count": 331,
     "metadata": {},
     "output_type": "execute_result"
    }
   ],
   "source": [
    "model = LogisticRegression(max_iter=1000, class_weight=weights_dynamic)\n",
    "model.fit(X_train_prep, y_train)"
   ]
  },
  {
   "cell_type": "code",
   "execution_count": 332,
   "id": "28c39b28",
   "metadata": {},
   "outputs": [
    {
     "name": "stdout",
     "output_type": "stream",
     "text": [
      "              precision    recall  f1-score   support\n",
      "\n",
      "           0      0.951     0.505     0.659     24834\n",
      "           1      0.051     0.503     0.092      1307\n",
      "\n",
      "    accuracy                          0.504     26141\n",
      "   macro avg      0.501     0.504     0.376     26141\n",
      "weighted avg      0.906     0.504     0.631     26141\n",
      "\n"
     ]
    }
   ],
   "source": [
    "y_pred = model.predict(X_test_prep)\n",
    "y_prob = model.predict_proba(X_test_prep)[:, 1]\n",
    "\n",
    "print(classification_report(y_test, y_pred, digits=3))"
   ]
  },
  {
   "cell_type": "code",
   "execution_count": 333,
   "id": "4bbd4c68",
   "metadata": {},
   "outputs": [
    {
     "data": {
      "application/vnd.plotly.v1+json": {
       "config": {
        "plotlyServerURL": "https://plot.ly"
       },
       "data": [
        {
         "colorscale": [
          [
           0,
           "rgb(247,251,255)"
          ],
          [
           0.125,
           "rgb(222,235,247)"
          ],
          [
           0.25,
           "rgb(198,219,239)"
          ],
          [
           0.375,
           "rgb(158,202,225)"
          ],
          [
           0.5,
           "rgb(107,174,214)"
          ],
          [
           0.625,
           "rgb(66,146,198)"
          ],
          [
           0.75,
           "rgb(33,113,181)"
          ],
          [
           0.875,
           "rgb(8,81,156)"
          ],
          [
           1,
           "rgb(8,48,107)"
          ]
         ],
         "hoverinfo": "z",
         "reversescale": false,
         "showscale": true,
         "type": "heatmap",
         "x": [
          "No Default",
          "Default"
         ],
         "y": [
          "No Default",
          "Default"
         ],
         "z": [
          [
           12529,
           12305
          ],
          [
           650,
           657
          ]
         ]
        }
       ],
       "layout": {
        "annotations": [
         {
          "font": {
           "color": "#FFFFFF"
          },
          "showarrow": false,
          "text": "12529",
          "x": "No Default",
          "xref": "x",
          "y": "No Default",
          "yref": "y"
         },
         {
          "font": {
           "color": "#FFFFFF"
          },
          "showarrow": false,
          "text": "12305",
          "x": "Default",
          "xref": "x",
          "y": "No Default",
          "yref": "y"
         },
         {
          "font": {
           "color": "#000000"
          },
          "showarrow": false,
          "text": "650",
          "x": "No Default",
          "xref": "x",
          "y": "Default",
          "yref": "y"
         },
         {
          "font": {
           "color": "#000000"
          },
          "showarrow": false,
          "text": "657",
          "x": "Default",
          "xref": "x",
          "y": "Default",
          "yref": "y"
         }
        ],
        "template": {
         "data": {
          "bar": [
           {
            "error_x": {
             "color": "#2a3f5f"
            },
            "error_y": {
             "color": "#2a3f5f"
            },
            "marker": {
             "line": {
              "color": "#E5ECF6",
              "width": 0.5
             },
             "pattern": {
              "fillmode": "overlay",
              "size": 10,
              "solidity": 0.2
             }
            },
            "type": "bar"
           }
          ],
          "barpolar": [
           {
            "marker": {
             "line": {
              "color": "#E5ECF6",
              "width": 0.5
             },
             "pattern": {
              "fillmode": "overlay",
              "size": 10,
              "solidity": 0.2
             }
            },
            "type": "barpolar"
           }
          ],
          "carpet": [
           {
            "aaxis": {
             "endlinecolor": "#2a3f5f",
             "gridcolor": "white",
             "linecolor": "white",
             "minorgridcolor": "white",
             "startlinecolor": "#2a3f5f"
            },
            "baxis": {
             "endlinecolor": "#2a3f5f",
             "gridcolor": "white",
             "linecolor": "white",
             "minorgridcolor": "white",
             "startlinecolor": "#2a3f5f"
            },
            "type": "carpet"
           }
          ],
          "choropleth": [
           {
            "colorbar": {
             "outlinewidth": 0,
             "ticks": ""
            },
            "type": "choropleth"
           }
          ],
          "contour": [
           {
            "colorbar": {
             "outlinewidth": 0,
             "ticks": ""
            },
            "colorscale": [
             [
              0,
              "#0d0887"
             ],
             [
              0.1111111111111111,
              "#46039f"
             ],
             [
              0.2222222222222222,
              "#7201a8"
             ],
             [
              0.3333333333333333,
              "#9c179e"
             ],
             [
              0.4444444444444444,
              "#bd3786"
             ],
             [
              0.5555555555555556,
              "#d8576b"
             ],
             [
              0.6666666666666666,
              "#ed7953"
             ],
             [
              0.7777777777777778,
              "#fb9f3a"
             ],
             [
              0.8888888888888888,
              "#fdca26"
             ],
             [
              1,
              "#f0f921"
             ]
            ],
            "type": "contour"
           }
          ],
          "contourcarpet": [
           {
            "colorbar": {
             "outlinewidth": 0,
             "ticks": ""
            },
            "type": "contourcarpet"
           }
          ],
          "heatmap": [
           {
            "colorbar": {
             "outlinewidth": 0,
             "ticks": ""
            },
            "colorscale": [
             [
              0,
              "#0d0887"
             ],
             [
              0.1111111111111111,
              "#46039f"
             ],
             [
              0.2222222222222222,
              "#7201a8"
             ],
             [
              0.3333333333333333,
              "#9c179e"
             ],
             [
              0.4444444444444444,
              "#bd3786"
             ],
             [
              0.5555555555555556,
              "#d8576b"
             ],
             [
              0.6666666666666666,
              "#ed7953"
             ],
             [
              0.7777777777777778,
              "#fb9f3a"
             ],
             [
              0.8888888888888888,
              "#fdca26"
             ],
             [
              1,
              "#f0f921"
             ]
            ],
            "type": "heatmap"
           }
          ],
          "heatmapgl": [
           {
            "colorbar": {
             "outlinewidth": 0,
             "ticks": ""
            },
            "colorscale": [
             [
              0,
              "#0d0887"
             ],
             [
              0.1111111111111111,
              "#46039f"
             ],
             [
              0.2222222222222222,
              "#7201a8"
             ],
             [
              0.3333333333333333,
              "#9c179e"
             ],
             [
              0.4444444444444444,
              "#bd3786"
             ],
             [
              0.5555555555555556,
              "#d8576b"
             ],
             [
              0.6666666666666666,
              "#ed7953"
             ],
             [
              0.7777777777777778,
              "#fb9f3a"
             ],
             [
              0.8888888888888888,
              "#fdca26"
             ],
             [
              1,
              "#f0f921"
             ]
            ],
            "type": "heatmapgl"
           }
          ],
          "histogram": [
           {
            "marker": {
             "pattern": {
              "fillmode": "overlay",
              "size": 10,
              "solidity": 0.2
             }
            },
            "type": "histogram"
           }
          ],
          "histogram2d": [
           {
            "colorbar": {
             "outlinewidth": 0,
             "ticks": ""
            },
            "colorscale": [
             [
              0,
              "#0d0887"
             ],
             [
              0.1111111111111111,
              "#46039f"
             ],
             [
              0.2222222222222222,
              "#7201a8"
             ],
             [
              0.3333333333333333,
              "#9c179e"
             ],
             [
              0.4444444444444444,
              "#bd3786"
             ],
             [
              0.5555555555555556,
              "#d8576b"
             ],
             [
              0.6666666666666666,
              "#ed7953"
             ],
             [
              0.7777777777777778,
              "#fb9f3a"
             ],
             [
              0.8888888888888888,
              "#fdca26"
             ],
             [
              1,
              "#f0f921"
             ]
            ],
            "type": "histogram2d"
           }
          ],
          "histogram2dcontour": [
           {
            "colorbar": {
             "outlinewidth": 0,
             "ticks": ""
            },
            "colorscale": [
             [
              0,
              "#0d0887"
             ],
             [
              0.1111111111111111,
              "#46039f"
             ],
             [
              0.2222222222222222,
              "#7201a8"
             ],
             [
              0.3333333333333333,
              "#9c179e"
             ],
             [
              0.4444444444444444,
              "#bd3786"
             ],
             [
              0.5555555555555556,
              "#d8576b"
             ],
             [
              0.6666666666666666,
              "#ed7953"
             ],
             [
              0.7777777777777778,
              "#fb9f3a"
             ],
             [
              0.8888888888888888,
              "#fdca26"
             ],
             [
              1,
              "#f0f921"
             ]
            ],
            "type": "histogram2dcontour"
           }
          ],
          "mesh3d": [
           {
            "colorbar": {
             "outlinewidth": 0,
             "ticks": ""
            },
            "type": "mesh3d"
           }
          ],
          "parcoords": [
           {
            "line": {
             "colorbar": {
              "outlinewidth": 0,
              "ticks": ""
             }
            },
            "type": "parcoords"
           }
          ],
          "pie": [
           {
            "automargin": true,
            "type": "pie"
           }
          ],
          "scatter": [
           {
            "fillpattern": {
             "fillmode": "overlay",
             "size": 10,
             "solidity": 0.2
            },
            "type": "scatter"
           }
          ],
          "scatter3d": [
           {
            "line": {
             "colorbar": {
              "outlinewidth": 0,
              "ticks": ""
             }
            },
            "marker": {
             "colorbar": {
              "outlinewidth": 0,
              "ticks": ""
             }
            },
            "type": "scatter3d"
           }
          ],
          "scattercarpet": [
           {
            "marker": {
             "colorbar": {
              "outlinewidth": 0,
              "ticks": ""
             }
            },
            "type": "scattercarpet"
           }
          ],
          "scattergeo": [
           {
            "marker": {
             "colorbar": {
              "outlinewidth": 0,
              "ticks": ""
             }
            },
            "type": "scattergeo"
           }
          ],
          "scattergl": [
           {
            "marker": {
             "colorbar": {
              "outlinewidth": 0,
              "ticks": ""
             }
            },
            "type": "scattergl"
           }
          ],
          "scattermapbox": [
           {
            "marker": {
             "colorbar": {
              "outlinewidth": 0,
              "ticks": ""
             }
            },
            "type": "scattermapbox"
           }
          ],
          "scatterpolar": [
           {
            "marker": {
             "colorbar": {
              "outlinewidth": 0,
              "ticks": ""
             }
            },
            "type": "scatterpolar"
           }
          ],
          "scatterpolargl": [
           {
            "marker": {
             "colorbar": {
              "outlinewidth": 0,
              "ticks": ""
             }
            },
            "type": "scatterpolargl"
           }
          ],
          "scatterternary": [
           {
            "marker": {
             "colorbar": {
              "outlinewidth": 0,
              "ticks": ""
             }
            },
            "type": "scatterternary"
           }
          ],
          "surface": [
           {
            "colorbar": {
             "outlinewidth": 0,
             "ticks": ""
            },
            "colorscale": [
             [
              0,
              "#0d0887"
             ],
             [
              0.1111111111111111,
              "#46039f"
             ],
             [
              0.2222222222222222,
              "#7201a8"
             ],
             [
              0.3333333333333333,
              "#9c179e"
             ],
             [
              0.4444444444444444,
              "#bd3786"
             ],
             [
              0.5555555555555556,
              "#d8576b"
             ],
             [
              0.6666666666666666,
              "#ed7953"
             ],
             [
              0.7777777777777778,
              "#fb9f3a"
             ],
             [
              0.8888888888888888,
              "#fdca26"
             ],
             [
              1,
              "#f0f921"
             ]
            ],
            "type": "surface"
           }
          ],
          "table": [
           {
            "cells": {
             "fill": {
              "color": "#EBF0F8"
             },
             "line": {
              "color": "white"
             }
            },
            "header": {
             "fill": {
              "color": "#C8D4E3"
             },
             "line": {
              "color": "white"
             }
            },
            "type": "table"
           }
          ]
         },
         "layout": {
          "annotationdefaults": {
           "arrowcolor": "#2a3f5f",
           "arrowhead": 0,
           "arrowwidth": 1
          },
          "autotypenumbers": "strict",
          "coloraxis": {
           "colorbar": {
            "outlinewidth": 0,
            "ticks": ""
           }
          },
          "colorscale": {
           "diverging": [
            [
             0,
             "#8e0152"
            ],
            [
             0.1,
             "#c51b7d"
            ],
            [
             0.2,
             "#de77ae"
            ],
            [
             0.3,
             "#f1b6da"
            ],
            [
             0.4,
             "#fde0ef"
            ],
            [
             0.5,
             "#f7f7f7"
            ],
            [
             0.6,
             "#e6f5d0"
            ],
            [
             0.7,
             "#b8e186"
            ],
            [
             0.8,
             "#7fbc41"
            ],
            [
             0.9,
             "#4d9221"
            ],
            [
             1,
             "#276419"
            ]
           ],
           "sequential": [
            [
             0,
             "#0d0887"
            ],
            [
             0.1111111111111111,
             "#46039f"
            ],
            [
             0.2222222222222222,
             "#7201a8"
            ],
            [
             0.3333333333333333,
             "#9c179e"
            ],
            [
             0.4444444444444444,
             "#bd3786"
            ],
            [
             0.5555555555555556,
             "#d8576b"
            ],
            [
             0.6666666666666666,
             "#ed7953"
            ],
            [
             0.7777777777777778,
             "#fb9f3a"
            ],
            [
             0.8888888888888888,
             "#fdca26"
            ],
            [
             1,
             "#f0f921"
            ]
           ],
           "sequentialminus": [
            [
             0,
             "#0d0887"
            ],
            [
             0.1111111111111111,
             "#46039f"
            ],
            [
             0.2222222222222222,
             "#7201a8"
            ],
            [
             0.3333333333333333,
             "#9c179e"
            ],
            [
             0.4444444444444444,
             "#bd3786"
            ],
            [
             0.5555555555555556,
             "#d8576b"
            ],
            [
             0.6666666666666666,
             "#ed7953"
            ],
            [
             0.7777777777777778,
             "#fb9f3a"
            ],
            [
             0.8888888888888888,
             "#fdca26"
            ],
            [
             1,
             "#f0f921"
            ]
           ]
          },
          "colorway": [
           "#636efa",
           "#EF553B",
           "#00cc96",
           "#ab63fa",
           "#FFA15A",
           "#19d3f3",
           "#FF6692",
           "#B6E880",
           "#FF97FF",
           "#FECB52"
          ],
          "font": {
           "color": "#2a3f5f"
          },
          "geo": {
           "bgcolor": "white",
           "lakecolor": "white",
           "landcolor": "#E5ECF6",
           "showlakes": true,
           "showland": true,
           "subunitcolor": "white"
          },
          "hoverlabel": {
           "align": "left"
          },
          "hovermode": "closest",
          "mapbox": {
           "style": "light"
          },
          "paper_bgcolor": "white",
          "plot_bgcolor": "#E5ECF6",
          "polar": {
           "angularaxis": {
            "gridcolor": "white",
            "linecolor": "white",
            "ticks": ""
           },
           "bgcolor": "#E5ECF6",
           "radialaxis": {
            "gridcolor": "white",
            "linecolor": "white",
            "ticks": ""
           }
          },
          "scene": {
           "xaxis": {
            "backgroundcolor": "#E5ECF6",
            "gridcolor": "white",
            "gridwidth": 2,
            "linecolor": "white",
            "showbackground": true,
            "ticks": "",
            "zerolinecolor": "white"
           },
           "yaxis": {
            "backgroundcolor": "#E5ECF6",
            "gridcolor": "white",
            "gridwidth": 2,
            "linecolor": "white",
            "showbackground": true,
            "ticks": "",
            "zerolinecolor": "white"
           },
           "zaxis": {
            "backgroundcolor": "#E5ECF6",
            "gridcolor": "white",
            "gridwidth": 2,
            "linecolor": "white",
            "showbackground": true,
            "ticks": "",
            "zerolinecolor": "white"
           }
          },
          "shapedefaults": {
           "line": {
            "color": "#2a3f5f"
           }
          },
          "ternary": {
           "aaxis": {
            "gridcolor": "white",
            "linecolor": "white",
            "ticks": ""
           },
           "baxis": {
            "gridcolor": "white",
            "linecolor": "white",
            "ticks": ""
           },
           "bgcolor": "#E5ECF6",
           "caxis": {
            "gridcolor": "white",
            "linecolor": "white",
            "ticks": ""
           }
          },
          "title": {
           "x": 0.05
          },
          "xaxis": {
           "automargin": true,
           "gridcolor": "white",
           "linecolor": "white",
           "ticks": "",
           "title": {
            "standoff": 15
           },
           "zerolinecolor": "white",
           "zerolinewidth": 2
          },
          "yaxis": {
           "automargin": true,
           "gridcolor": "white",
           "linecolor": "white",
           "ticks": "",
           "title": {
            "standoff": 15
           },
           "zerolinecolor": "white",
           "zerolinewidth": 2
          }
         }
        },
        "title": {
         "text": "Confusion Matrix with Client Features"
        },
        "xaxis": {
         "dtick": 1,
         "gridcolor": "rgb(0, 0, 0)",
         "side": "top",
         "ticks": "",
         "title": {
          "text": "Predicted Label"
         }
        },
        "yaxis": {
         "dtick": 1,
         "ticks": "",
         "ticksuffix": "  ",
         "title": {
          "text": "True Label"
         }
        }
       }
      }
     },
     "metadata": {},
     "output_type": "display_data"
    }
   ],
   "source": [
    "# Plot updated confusion matrix\n",
    "cm = confusion_matrix(y_test, y_pred, labels=[0, 1])\n",
    "labels_plot = [\"No Default\", \"Default\"]\n",
    "fig = ff.create_annotated_heatmap(\n",
    "    z=cm,\n",
    "    x=labels_plot,\n",
    "    y=labels_plot,\n",
    "    colorscale='Blues',\n",
    "    showscale=True,\n",
    "    annotation_text=[[str(cell) for cell in row] for row in cm],\n",
    "    hoverinfo=\"z\"\n",
    ")\n",
    "fig.update_layout(\n",
    "    title=\"Confusion Matrix with Client Features\",\n",
    "    xaxis_title=\"Predicted Label\",\n",
    "    yaxis_title=\"True Label\"\n",
    ")\n",
    "fig.show()"
   ]
  },
  {
   "cell_type": "markdown",
   "id": "b7466df0",
   "metadata": {},
   "source": [
    "### Conclusion\n",
    "\n",
    "The logistic regression model trained with inverse class-frequency weights and enriched with credit history, loan‐level metrics, and client features achieved the following results:\n",
    "\n",
    "- **Precision for class 1 (defaults)** is **0.051**, meaning only 5.1% of predicted defaults were correct.  \n",
    "- **Recall for class 1** is **0.503**, indicating the model correctly identified 50.3% of actual defaults.  \n",
    "- **Precision for class 0 (non-defaults)** is **0.951**, while **recall for class 0** is **0.505**, meaning only half of non-defaults were correctly classified.  \n",
    "- **Overall accuracy** is **50.4%**, a slight improvement over previous versions.  \n",
    "\n",
    "According to the confusion matrix:  \n",
    "- **657 true defaults** were correctly classified (True Positives).  \n",
    "- **650 true defaults** were missed and labeled as non-defaults (False Negatives).  \n",
    "- **12 529 non-defaults** were correctly classified (True Negatives).  \n",
    "- **12 305 non-defaults** were incorrectly predicted as defaults (False Positives).  \n",
    "\n",
    "Adding client-level features delivered only marginal gains in overall accuracy and non-default recall, while default precision remains extremely low and false positives persist at high levels—underscoring the difficulty of mining predictive signals under severe class imbalance.  "
   ]
  },
  {
   "cell_type": "markdown",
   "id": "931e57e9",
   "metadata": {},
   "source": [
    "## Neuronal Networks"
   ]
  },
  {
   "cell_type": "code",
   "execution_count": 334,
   "id": "a926e9a4",
   "metadata": {},
   "outputs": [
    {
     "name": "stdout",
     "output_type": "stream",
     "text": [
      "Epoch 1/100\n",
      "\u001b[1m1430/1430\u001b[0m \u001b[32m━━━━━━━━━━━━━━━━━━━━\u001b[0m\u001b[37m\u001b[0m \u001b[1m2s\u001b[0m 866us/step - AUC: 0.5039 - Precision: 0.0497 - Recall: 0.4561 - loss: 1.4477 - val_AUC: 0.5047 - val_Precision: 0.0543 - val_Recall: 0.7173 - val_loss: 0.6964\n",
      "Epoch 2/100\n",
      "\u001b[1m1430/1430\u001b[0m \u001b[32m━━━━━━━━━━━━━━━━━━━━\u001b[0m\u001b[37m\u001b[0m \u001b[1m1s\u001b[0m 715us/step - AUC: 0.5043 - Precision: 0.0486 - Recall: 0.5508 - loss: 1.3721 - val_AUC: 0.5021 - val_Precision: 0.0543 - val_Recall: 0.5998 - val_loss: 0.6917\n",
      "Epoch 3/100\n",
      "\u001b[1m1430/1430\u001b[0m \u001b[32m━━━━━━━━━━━━━━━━━━━━\u001b[0m\u001b[37m\u001b[0m \u001b[1m1s\u001b[0m 709us/step - AUC: 0.5055 - Precision: 0.0502 - Recall: 0.5796 - loss: 1.3806 - val_AUC: 0.5084 - val_Precision: 0.0540 - val_Recall: 0.7564 - val_loss: 0.6941\n",
      "Epoch 4/100\n",
      "\u001b[1m1430/1430\u001b[0m \u001b[32m━━━━━━━━━━━━━━━━━━━━\u001b[0m\u001b[37m\u001b[0m \u001b[1m1s\u001b[0m 711us/step - AUC: 0.5059 - Precision: 0.0482 - Recall: 0.2168 - loss: 1.3548 - val_AUC: 0.4974 - val_Precision: 0.0535 - val_Recall: 0.7405 - val_loss: 0.6931\n",
      "Epoch 5/100\n",
      "\u001b[1m1430/1430\u001b[0m \u001b[32m━━━━━━━━━━━━━━━━━━━━\u001b[0m\u001b[37m\u001b[0m \u001b[1m1s\u001b[0m 763us/step - AUC: 0.5101 - Precision: 0.0463 - Recall: 0.3590 - loss: 1.3432 - val_AUC: 0.4973 - val_Precision: 0.0522 - val_Recall: 0.8017 - val_loss: 0.7047\n",
      "Epoch 6/100\n",
      "\u001b[1m1430/1430\u001b[0m \u001b[32m━━━━━━━━━━━━━━━━━━━━\u001b[0m\u001b[37m\u001b[0m \u001b[1m1s\u001b[0m 715us/step - AUC: 0.5290 - Precision: 0.0516 - Recall: 0.6177 - loss: 1.3571 - val_AUC: 0.5037 - val_Precision: 0.0539 - val_Recall: 0.6389 - val_loss: 0.6922\n",
      "Epoch 7/100\n",
      "\u001b[1m1430/1430\u001b[0m \u001b[32m━━━━━━━━━━━━━━━━━━━━\u001b[0m\u001b[37m\u001b[0m \u001b[1m1s\u001b[0m 710us/step - AUC: 0.5396 - Precision: 0.0537 - Recall: 0.5633 - loss: 1.3692 - val_AUC: 0.5027 - val_Precision: 0.0534 - val_Recall: 0.7038 - val_loss: 0.7038\n",
      "Epoch 8/100\n",
      "\u001b[1m1430/1430\u001b[0m \u001b[32m━━━━━━━━━━━━━━━━━━━━\u001b[0m\u001b[37m\u001b[0m \u001b[1m1s\u001b[0m 722us/step - AUC: 0.5398 - Precision: 0.0529 - Recall: 0.5656 - loss: 1.3439 - val_AUC: 0.5010 - val_Precision: 0.0543 - val_Recall: 0.6805 - val_loss: 0.6959\n",
      "Epoch 9/100\n",
      "\u001b[1m1430/1430\u001b[0m \u001b[32m━━━━━━━━━━━━━━━━━━━━\u001b[0m\u001b[37m\u001b[0m \u001b[1m1s\u001b[0m 733us/step - AUC: 0.5257 - Precision: 0.0519 - Recall: 0.6614 - loss: 1.3678 - val_AUC: 0.5044 - val_Precision: 0.0547 - val_Recall: 0.6487 - val_loss: 0.6914\n",
      "Epoch 10/100\n",
      "\u001b[1m1430/1430\u001b[0m \u001b[32m━━━━━━━━━━━━━━━━━━━━\u001b[0m\u001b[37m\u001b[0m \u001b[1m1s\u001b[0m 721us/step - AUC: 0.5485 - Precision: 0.0551 - Recall: 0.5813 - loss: 1.3563 - val_AUC: 0.4977 - val_Precision: 0.0530 - val_Recall: 0.7356 - val_loss: 0.7093\n",
      "Epoch 11/100\n",
      "\u001b[1m1430/1430\u001b[0m \u001b[32m━━━━━━━━━━━━━━━━━━━━\u001b[0m\u001b[37m\u001b[0m \u001b[1m1s\u001b[0m 710us/step - AUC: 0.5589 - Precision: 0.0538 - Recall: 0.5939 - loss: 1.3293 - val_AUC: 0.5069 - val_Precision: 0.0537 - val_Recall: 0.8286 - val_loss: 0.7183\n",
      "Epoch 12/100\n",
      "\u001b[1m1430/1430\u001b[0m \u001b[32m━━━━━━━━━━━━━━━━━━━━\u001b[0m\u001b[37m\u001b[0m \u001b[1m1s\u001b[0m 723us/step - AUC: 0.5500 - Precision: 0.0521 - Recall: 0.6495 - loss: 1.3337 - val_AUC: 0.5087 - val_Precision: 0.0544 - val_Recall: 0.6157 - val_loss: 0.6893\n",
      "Epoch 13/100\n",
      "\u001b[1m1430/1430\u001b[0m \u001b[32m━━━━━━━━━━━━━━━━━━━━\u001b[0m\u001b[37m\u001b[0m \u001b[1m1s\u001b[0m 731us/step - AUC: 0.5563 - Precision: 0.0562 - Recall: 0.6664 - loss: 1.3516 - val_AUC: 0.5043 - val_Precision: 0.0546 - val_Recall: 0.6952 - val_loss: 0.7010\n",
      "Epoch 14/100\n",
      "\u001b[1m1430/1430\u001b[0m \u001b[32m━━━━━━━━━━━━━━━━━━━━\u001b[0m\u001b[37m\u001b[0m \u001b[1m1s\u001b[0m 722us/step - AUC: 0.5541 - Precision: 0.0533 - Recall: 0.6541 - loss: 1.3403 - val_AUC: 0.5063 - val_Precision: 0.0549 - val_Recall: 0.5471 - val_loss: 0.6700\n",
      "Epoch 15/100\n",
      "\u001b[1m1430/1430\u001b[0m \u001b[32m━━━━━━━━━━━━━━━━━━━━\u001b[0m\u001b[37m\u001b[0m \u001b[1m1s\u001b[0m 708us/step - AUC: 0.5737 - Precision: 0.0597 - Recall: 0.7082 - loss: 1.3724 - val_AUC: 0.5091 - val_Precision: 0.0559 - val_Recall: 0.5300 - val_loss: 0.6673\n",
      "Epoch 16/100\n",
      "\u001b[1m1430/1430\u001b[0m \u001b[32m━━━━━━━━━━━━━━━━━━━━\u001b[0m\u001b[37m\u001b[0m \u001b[1m1s\u001b[0m 745us/step - AUC: 0.5797 - Precision: 0.0577 - Recall: 0.6088 - loss: 1.3392 - val_AUC: 0.4994 - val_Precision: 0.0523 - val_Recall: 0.5900 - val_loss: 0.6885\n",
      "Epoch 17/100\n",
      "\u001b[1m1430/1430\u001b[0m \u001b[32m━━━━━━━━━━━━━━━━━━━━\u001b[0m\u001b[37m\u001b[0m \u001b[1m1s\u001b[0m 708us/step - AUC: 0.5653 - Precision: 0.0558 - Recall: 0.6776 - loss: 1.3474 - val_AUC: 0.5018 - val_Precision: 0.0529 - val_Recall: 0.5655 - val_loss: 0.6790\n",
      "Epoch 18/100\n",
      "\u001b[1m1430/1430\u001b[0m \u001b[32m━━━━━━━━━━━━━━━━━━━━\u001b[0m\u001b[37m\u001b[0m \u001b[1m1s\u001b[0m 727us/step - AUC: 0.5697 - Precision: 0.0568 - Recall: 0.6525 - loss: 1.3393 - val_AUC: 0.5016 - val_Precision: 0.0547 - val_Recall: 0.6475 - val_loss: 0.6939\n",
      "Epoch 19/100\n",
      "\u001b[1m1430/1430\u001b[0m \u001b[32m━━━━━━━━━━━━━━━━━━━━\u001b[0m\u001b[37m\u001b[0m \u001b[1m1s\u001b[0m 723us/step - AUC: 0.5894 - Precision: 0.0602 - Recall: 0.6895 - loss: 1.3511 - val_AUC: 0.5101 - val_Precision: 0.0549 - val_Recall: 0.6047 - val_loss: 0.6792\n",
      "Epoch 20/100\n",
      "\u001b[1m1430/1430\u001b[0m \u001b[32m━━━━━━━━━━━━━━━━━━━━\u001b[0m\u001b[37m\u001b[0m \u001b[1m1s\u001b[0m 776us/step - AUC: 0.5973 - Precision: 0.0610 - Recall: 0.6784 - loss: 1.3211 - val_AUC: 0.5081 - val_Precision: 0.0535 - val_Recall: 0.6242 - val_loss: 0.6940\n",
      "Epoch 21/100\n",
      "\u001b[1m1430/1430\u001b[0m \u001b[32m━━━━━━━━━━━━━━━━━━━━\u001b[0m\u001b[37m\u001b[0m \u001b[1m1s\u001b[0m 746us/step - AUC: 0.5876 - Precision: 0.0572 - Recall: 0.6958 - loss: 1.3237 - val_AUC: 0.5109 - val_Precision: 0.0541 - val_Recall: 0.5924 - val_loss: 0.6746\n",
      "Epoch 22/100\n",
      "\u001b[1m1430/1430\u001b[0m \u001b[32m━━━━━━━━━━━━━━━━━━━━\u001b[0m\u001b[37m\u001b[0m \u001b[1m1s\u001b[0m 747us/step - AUC: 0.6045 - Precision: 0.0631 - Recall: 0.7079 - loss: 1.3485 - val_AUC: 0.5103 - val_Precision: 0.0540 - val_Recall: 0.6010 - val_loss: 0.6781\n",
      "Epoch 23/100\n",
      "\u001b[1m1430/1430\u001b[0m \u001b[32m━━━━━━━━━━━━━━━━━━━━\u001b[0m\u001b[37m\u001b[0m \u001b[1m1s\u001b[0m 779us/step - AUC: 0.6048 - Precision: 0.0628 - Recall: 0.7287 - loss: 1.3502 - val_AUC: 0.5134 - val_Precision: 0.0555 - val_Recall: 0.7564 - val_loss: 0.7144\n",
      "Epoch 24/100\n",
      "\u001b[1m1430/1430\u001b[0m \u001b[32m━━━━━━━━━━━━━━━━━━━━\u001b[0m\u001b[37m\u001b[0m \u001b[1m1s\u001b[0m 753us/step - AUC: 0.6031 - Precision: 0.0602 - Recall: 0.7390 - loss: 1.3266 - val_AUC: 0.5063 - val_Precision: 0.0554 - val_Recall: 0.6144 - val_loss: 0.6782\n",
      "Epoch 25/100\n",
      "\u001b[1m1430/1430\u001b[0m \u001b[32m━━━━━━━━━━━━━━━━━━━━\u001b[0m\u001b[37m\u001b[0m \u001b[1m1s\u001b[0m 763us/step - AUC: 0.6036 - Precision: 0.0607 - Recall: 0.7298 - loss: 1.3236 - val_AUC: 0.5181 - val_Precision: 0.0560 - val_Recall: 0.6267 - val_loss: 0.6789\n",
      "Epoch 26/100\n",
      "\u001b[1m1430/1430\u001b[0m \u001b[32m━━━━━━━━━━━━━━━━━━━━\u001b[0m\u001b[37m\u001b[0m \u001b[1m1s\u001b[0m 745us/step - AUC: 0.6126 - Precision: 0.0629 - Recall: 0.7391 - loss: 1.3268 - val_AUC: 0.5135 - val_Precision: 0.0552 - val_Recall: 0.5679 - val_loss: 0.6634\n",
      "Epoch 27/100\n",
      "\u001b[1m1430/1430\u001b[0m \u001b[32m━━━━━━━━━━━━━━━━━━━━\u001b[0m\u001b[37m\u001b[0m \u001b[1m1s\u001b[0m 787us/step - AUC: 0.6185 - Precision: 0.0654 - Recall: 0.7392 - loss: 1.3433 - val_AUC: 0.5188 - val_Precision: 0.0571 - val_Recall: 0.5667 - val_loss: 0.6588\n",
      "Epoch 28/100\n",
      "\u001b[1m1430/1430\u001b[0m \u001b[32m━━━━━━━━━━━━━━━━━━━━\u001b[0m\u001b[37m\u001b[0m \u001b[1m1s\u001b[0m 737us/step - AUC: 0.6250 - Precision: 0.0655 - Recall: 0.7271 - loss: 1.3134 - val_AUC: 0.5206 - val_Precision: 0.0555 - val_Recall: 0.5704 - val_loss: 0.6632\n",
      "Epoch 29/100\n",
      "\u001b[1m1430/1430\u001b[0m \u001b[32m━━━━━━━━━━━━━━━━━━━━\u001b[0m\u001b[37m\u001b[0m \u001b[1m1s\u001b[0m 778us/step - AUC: 0.6300 - Precision: 0.0657 - Recall: 0.7462 - loss: 1.3177 - val_AUC: 0.5146 - val_Precision: 0.0554 - val_Recall: 0.6230 - val_loss: 0.6844\n",
      "Epoch 30/100\n",
      "\u001b[1m1430/1430\u001b[0m \u001b[32m━━━━━━━━━━━━━━━━━━━━\u001b[0m\u001b[37m\u001b[0m \u001b[1m1s\u001b[0m 752us/step - AUC: 0.6281 - Precision: 0.0635 - Recall: 0.7377 - loss: 1.2948 - val_AUC: 0.5148 - val_Precision: 0.0559 - val_Recall: 0.5692 - val_loss: 0.6610\n",
      "Epoch 31/100\n",
      "\u001b[1m1430/1430\u001b[0m \u001b[32m━━━━━━━━━━━━━━━━━━━━\u001b[0m\u001b[37m\u001b[0m \u001b[1m1s\u001b[0m 724us/step - AUC: 0.6271 - Precision: 0.0630 - Recall: 0.7204 - loss: 1.2901 - val_AUC: 0.5170 - val_Precision: 0.0556 - val_Recall: 0.6255 - val_loss: 0.6821\n",
      "Epoch 32/100\n",
      "\u001b[1m1430/1430\u001b[0m \u001b[32m━━━━━━━━━━━━━━━━━━━━\u001b[0m\u001b[37m\u001b[0m \u001b[1m1s\u001b[0m 714us/step - AUC: 0.6325 - Precision: 0.0641 - Recall: 0.7384 - loss: 1.2941 - val_AUC: 0.5114 - val_Precision: 0.0549 - val_Recall: 0.6450 - val_loss: 0.6940\n",
      "Epoch 33/100\n",
      "\u001b[1m1430/1430\u001b[0m \u001b[32m━━━━━━━━━━━━━━━━━━━━\u001b[0m\u001b[37m\u001b[0m \u001b[1m1s\u001b[0m 752us/step - AUC: 0.6432 - Precision: 0.0672 - Recall: 0.7617 - loss: 1.3080 - val_AUC: 0.5134 - val_Precision: 0.0556 - val_Recall: 0.6463 - val_loss: 0.6948\n",
      "Epoch 34/100\n",
      "\u001b[1m1430/1430\u001b[0m \u001b[32m━━━━━━━━━━━━━━━━━━━━\u001b[0m\u001b[37m\u001b[0m \u001b[1m1s\u001b[0m 728us/step - AUC: 0.6521 - Precision: 0.0675 - Recall: 0.7639 - loss: 1.3106 - val_AUC: 0.5145 - val_Precision: 0.0569 - val_Recall: 0.6316 - val_loss: 0.6812\n",
      "Epoch 35/100\n",
      "\u001b[1m1430/1430\u001b[0m \u001b[32m━━━━━━━━━━━━━━━━━━━━\u001b[0m\u001b[37m\u001b[0m \u001b[1m1s\u001b[0m 727us/step - AUC: 0.6371 - Precision: 0.0670 - Recall: 0.7392 - loss: 1.3014 - val_AUC: 0.5119 - val_Precision: 0.0552 - val_Recall: 0.6230 - val_loss: 0.6831\n",
      "Epoch 36/100\n",
      "\u001b[1m1430/1430\u001b[0m \u001b[32m━━━━━━━━━━━━━━━━━━━━\u001b[0m\u001b[37m\u001b[0m \u001b[1m1s\u001b[0m 785us/step - AUC: 0.6540 - Precision: 0.0680 - Recall: 0.7694 - loss: 1.3006 - val_AUC: 0.5085 - val_Precision: 0.0566 - val_Recall: 0.5753 - val_loss: 0.6595\n",
      "Epoch 37/100\n",
      "\u001b[1m1430/1430\u001b[0m \u001b[32m━━━━━━━━━━━━━━━━━━━━\u001b[0m\u001b[37m\u001b[0m \u001b[1m1s\u001b[0m 743us/step - AUC: 0.6566 - Precision: 0.0679 - Recall: 0.7415 - loss: 1.2867 - val_AUC: 0.5118 - val_Precision: 0.0567 - val_Recall: 0.6316 - val_loss: 0.6844\n",
      "Epoch 38/100\n",
      "\u001b[1m1430/1430\u001b[0m \u001b[32m━━━━━━━━━━━━━━━━━━━━\u001b[0m\u001b[37m\u001b[0m \u001b[1m1s\u001b[0m 718us/step - AUC: 0.6458 - Precision: 0.0668 - Recall: 0.7552 - loss: 1.3007 - val_AUC: 0.5135 - val_Precision: 0.0569 - val_Recall: 0.6267 - val_loss: 0.6815\n",
      "Epoch 39/100\n",
      "\u001b[1m1430/1430\u001b[0m \u001b[32m━━━━━━━━━━━━━━━━━━━━\u001b[0m\u001b[37m\u001b[0m \u001b[1m1s\u001b[0m 737us/step - AUC: 0.6421 - Precision: 0.0678 - Recall: 0.7672 - loss: 1.2992 - val_AUC: 0.5174 - val_Precision: 0.0577 - val_Recall: 0.6218 - val_loss: 0.6758\n",
      "Epoch 40/100\n",
      "\u001b[1m1430/1430\u001b[0m \u001b[32m━━━━━━━━━━━━━━━━━━━━\u001b[0m\u001b[37m\u001b[0m \u001b[1m1s\u001b[0m 718us/step - AUC: 0.6542 - Precision: 0.0691 - Recall: 0.7641 - loss: 1.2955 - val_AUC: 0.5133 - val_Precision: 0.0565 - val_Recall: 0.5973 - val_loss: 0.6698\n",
      "Epoch 41/100\n",
      "\u001b[1m1430/1430\u001b[0m \u001b[32m━━━━━━━━━━━━━━━━━━━━\u001b[0m\u001b[37m\u001b[0m \u001b[1m1s\u001b[0m 707us/step - AUC: 0.6555 - Precision: 0.0690 - Recall: 0.7661 - loss: 1.2887 - val_AUC: 0.5177 - val_Precision: 0.0578 - val_Recall: 0.5716 - val_loss: 0.6519\n",
      "Epoch 42/100\n",
      "\u001b[1m1430/1430\u001b[0m \u001b[32m━━━━━━━━━━━━━━━━━━━━\u001b[0m\u001b[37m\u001b[0m \u001b[1m1s\u001b[0m 707us/step - AUC: 0.6524 - Precision: 0.0682 - Recall: 0.7452 - loss: 1.2934 - val_AUC: 0.5119 - val_Precision: 0.0569 - val_Recall: 0.4994 - val_loss: 0.6332\n",
      "Epoch 43/100\n",
      "\u001b[1m1430/1430\u001b[0m \u001b[32m━━━━━━━━━━━━━━━━━━━━\u001b[0m\u001b[37m\u001b[0m \u001b[1m1s\u001b[0m 744us/step - AUC: 0.6503 - Precision: 0.0715 - Recall: 0.7537 - loss: 1.3235 - val_AUC: 0.5105 - val_Precision: 0.0570 - val_Recall: 0.5508 - val_loss: 0.6543\n",
      "Epoch 44/100\n",
      "\u001b[1m1430/1430\u001b[0m \u001b[32m━━━━━━━━━━━━━━━━━━━━\u001b[0m\u001b[37m\u001b[0m \u001b[1m1s\u001b[0m 720us/step - AUC: 0.6694 - Precision: 0.0729 - Recall: 0.7592 - loss: 1.2746 - val_AUC: 0.5135 - val_Precision: 0.0571 - val_Recall: 0.5985 - val_loss: 0.6702\n",
      "Epoch 45/100\n",
      "\u001b[1m1430/1430\u001b[0m \u001b[32m━━━━━━━━━━━━━━━━━━━━\u001b[0m\u001b[37m\u001b[0m \u001b[1m1s\u001b[0m 707us/step - AUC: 0.6641 - Precision: 0.0707 - Recall: 0.7780 - loss: 1.2821 - val_AUC: 0.5124 - val_Precision: 0.0574 - val_Recall: 0.5214 - val_loss: 0.6360\n",
      "Epoch 46/100\n",
      "\u001b[1m1430/1430\u001b[0m \u001b[32m━━━━━━━━━━━━━━━━━━━━\u001b[0m\u001b[37m\u001b[0m \u001b[1m1s\u001b[0m 742us/step - AUC: 0.6666 - Precision: 0.0718 - Recall: 0.7567 - loss: 1.2753 - val_AUC: 0.5126 - val_Precision: 0.0573 - val_Recall: 0.5471 - val_loss: 0.6531\n",
      "Epoch 47/100\n",
      "\u001b[1m1430/1430\u001b[0m \u001b[32m━━━━━━━━━━━━━━━━━━━━\u001b[0m\u001b[37m\u001b[0m \u001b[1m1s\u001b[0m 709us/step - AUC: 0.6518 - Precision: 0.0690 - Recall: 0.7596 - loss: 1.2936 - val_AUC: 0.5047 - val_Precision: 0.0566 - val_Recall: 0.5936 - val_loss: 0.6775\n",
      "Epoch 48/100\n",
      "\u001b[1m1430/1430\u001b[0m \u001b[32m━━━━━━━━━━━━━━━━━━━━\u001b[0m\u001b[37m\u001b[0m \u001b[1m1s\u001b[0m 707us/step - AUC: 0.6736 - Precision: 0.0718 - Recall: 0.7856 - loss: 1.2695 - val_AUC: 0.5192 - val_Precision: 0.0574 - val_Recall: 0.5263 - val_loss: 0.6389\n",
      "Epoch 49/100\n",
      "\u001b[1m1430/1430\u001b[0m \u001b[32m━━━━━━━━━━━━━━━━━━━━\u001b[0m\u001b[37m\u001b[0m \u001b[1m1s\u001b[0m 746us/step - AUC: 0.6739 - Precision: 0.0729 - Recall: 0.7718 - loss: 1.2777 - val_AUC: 0.5086 - val_Precision: 0.0559 - val_Recall: 0.5386 - val_loss: 0.6502\n",
      "Epoch 50/100\n",
      "\u001b[1m1430/1430\u001b[0m \u001b[32m━━━━━━━━━━━━━━━━━━━━\u001b[0m\u001b[37m\u001b[0m \u001b[1m1s\u001b[0m 702us/step - AUC: 0.6653 - Precision: 0.0712 - Recall: 0.7751 - loss: 1.2600 - val_AUC: 0.5087 - val_Precision: 0.0552 - val_Recall: 0.5226 - val_loss: 0.6513\n",
      "Epoch 51/100\n",
      "\u001b[1m1430/1430\u001b[0m \u001b[32m━━━━━━━━━━━━━━━━━━━━\u001b[0m\u001b[37m\u001b[0m \u001b[1m1s\u001b[0m 718us/step - AUC: 0.6745 - Precision: 0.0711 - Recall: 0.7852 - loss: 1.2639 - val_AUC: 0.5084 - val_Precision: 0.0548 - val_Recall: 0.5349 - val_loss: 0.6557\n",
      "Epoch 52/100\n",
      "\u001b[1m1430/1430\u001b[0m \u001b[32m━━━━━━━━━━━━━━━━━━━━\u001b[0m\u001b[37m\u001b[0m \u001b[1m1s\u001b[0m 734us/step - AUC: 0.6621 - Precision: 0.0699 - Recall: 0.7811 - loss: 1.2724 - val_AUC: 0.5163 - val_Precision: 0.0554 - val_Recall: 0.5361 - val_loss: 0.6550\n",
      "Epoch 53/100\n",
      "\u001b[1m1430/1430\u001b[0m \u001b[32m━━━━━━━━━━━━━━━━━━━━\u001b[0m\u001b[37m\u001b[0m \u001b[1m1s\u001b[0m 714us/step - AUC: 0.6760 - Precision: 0.0714 - Recall: 0.7700 - loss: 1.2631 - val_AUC: 0.5121 - val_Precision: 0.0561 - val_Recall: 0.5838 - val_loss: 0.6766\n",
      "Epoch 54/100\n",
      "\u001b[1m1430/1430\u001b[0m \u001b[32m━━━━━━━━━━━━━━━━━━━━\u001b[0m\u001b[37m\u001b[0m \u001b[1m1s\u001b[0m 706us/step - AUC: 0.6682 - Precision: 0.0710 - Recall: 0.7808 - loss: 1.2718 - val_AUC: 0.5089 - val_Precision: 0.0559 - val_Recall: 0.5643 - val_loss: 0.6709\n",
      "Epoch 55/100\n",
      "\u001b[1m1430/1430\u001b[0m \u001b[32m━━━━━━━━━━━━━━━━━━━━\u001b[0m\u001b[37m\u001b[0m \u001b[1m1s\u001b[0m 742us/step - AUC: 0.6742 - Precision: 0.0721 - Recall: 0.7767 - loss: 1.2684 - val_AUC: 0.5185 - val_Precision: 0.0568 - val_Recall: 0.5851 - val_loss: 0.6679\n",
      "Epoch 56/100\n",
      "\u001b[1m1430/1430\u001b[0m \u001b[32m━━━━━━━━━━━━━━━━━━━━\u001b[0m\u001b[37m\u001b[0m \u001b[1m1s\u001b[0m 699us/step - AUC: 0.6788 - Precision: 0.0717 - Recall: 0.7907 - loss: 1.2527 - val_AUC: 0.5177 - val_Precision: 0.0566 - val_Recall: 0.6010 - val_loss: 0.6830\n",
      "Epoch 57/100\n",
      "\u001b[1m1430/1430\u001b[0m \u001b[32m━━━━━━━━━━━━━━━━━━━━\u001b[0m\u001b[37m\u001b[0m \u001b[1m1s\u001b[0m 718us/step - AUC: 0.6734 - Precision: 0.0722 - Recall: 0.7912 - loss: 1.2737 - val_AUC: 0.5141 - val_Precision: 0.0554 - val_Recall: 0.4614 - val_loss: 0.6122\n",
      "Epoch 58/100\n",
      "\u001b[1m1430/1430\u001b[0m \u001b[32m━━━━━━━━━━━━━━━━━━━━\u001b[0m\u001b[37m\u001b[0m \u001b[1m1s\u001b[0m 732us/step - AUC: 0.6757 - Precision: 0.0719 - Recall: 0.7632 - loss: 1.2530 - val_AUC: 0.5174 - val_Precision: 0.0557 - val_Recall: 0.5459 - val_loss: 0.6564\n",
      "Epoch 59/100\n",
      "\u001b[1m1430/1430\u001b[0m \u001b[32m━━━━━━━━━━━━━━━━━━━━\u001b[0m\u001b[37m\u001b[0m \u001b[1m1s\u001b[0m 718us/step - AUC: 0.6751 - Precision: 0.0724 - Recall: 0.7785 - loss: 1.2572 - val_AUC: 0.5111 - val_Precision: 0.0560 - val_Recall: 0.5594 - val_loss: 0.6606\n",
      "Epoch 60/100\n",
      "\u001b[1m1430/1430\u001b[0m \u001b[32m━━━━━━━━━━━━━━━━━━━━\u001b[0m\u001b[37m\u001b[0m \u001b[1m1s\u001b[0m 704us/step - AUC: 0.6800 - Precision: 0.0713 - Recall: 0.7793 - loss: 1.2418 - val_AUC: 0.5102 - val_Precision: 0.0546 - val_Recall: 0.5288 - val_loss: 0.6521\n",
      "Epoch 61/100\n",
      "\u001b[1m1430/1430\u001b[0m \u001b[32m━━━━━━━━━━━━━━━━━━━━\u001b[0m\u001b[37m\u001b[0m \u001b[1m1s\u001b[0m 736us/step - AUC: 0.6829 - Precision: 0.0722 - Recall: 0.7795 - loss: 1.2402 - val_AUC: 0.5127 - val_Precision: 0.0555 - val_Recall: 0.5129 - val_loss: 0.6458\n",
      "Epoch 62/100\n",
      "\u001b[1m1430/1430\u001b[0m \u001b[32m━━━━━━━━━━━━━━━━━━━━\u001b[0m\u001b[37m\u001b[0m \u001b[1m1s\u001b[0m 722us/step - AUC: 0.6669 - Precision: 0.0740 - Recall: 0.7845 - loss: 1.2803 - val_AUC: 0.5125 - val_Precision: 0.0551 - val_Recall: 0.4871 - val_loss: 0.6258\n",
      "Epoch 63/100\n",
      "\u001b[1m1430/1430\u001b[0m \u001b[32m━━━━━━━━━━━━━━━━━━━━\u001b[0m\u001b[37m\u001b[0m \u001b[1m1s\u001b[0m 708us/step - AUC: 0.6777 - Precision: 0.0738 - Recall: 0.7823 - loss: 1.2577 - val_AUC: 0.5151 - val_Precision: 0.0560 - val_Recall: 0.5386 - val_loss: 0.6532\n",
      "Epoch 64/100\n",
      "\u001b[1m1430/1430\u001b[0m \u001b[32m━━━━━━━━━━━━━━━━━━━━\u001b[0m\u001b[37m\u001b[0m \u001b[1m1s\u001b[0m 740us/step - AUC: 0.6819 - Precision: 0.0739 - Recall: 0.7727 - loss: 1.2426 - val_AUC: 0.5215 - val_Precision: 0.0572 - val_Recall: 0.5545 - val_loss: 0.6545\n",
      "Epoch 65/100\n",
      "\u001b[1m1430/1430\u001b[0m \u001b[32m━━━━━━━━━━━━━━━━━━━━\u001b[0m\u001b[37m\u001b[0m \u001b[1m1s\u001b[0m 710us/step - AUC: 0.6731 - Precision: 0.0703 - Recall: 0.7843 - loss: 1.2625 - val_AUC: 0.5150 - val_Precision: 0.0556 - val_Recall: 0.5581 - val_loss: 0.6677\n",
      "Epoch 66/100\n",
      "\u001b[1m1430/1430\u001b[0m \u001b[32m━━━━━━━━━━━━━━━━━━━━\u001b[0m\u001b[37m\u001b[0m \u001b[1m1s\u001b[0m 708us/step - AUC: 0.6888 - Precision: 0.0747 - Recall: 0.8159 - loss: 1.2477 - val_AUC: 0.5151 - val_Precision: 0.0564 - val_Recall: 0.5435 - val_loss: 0.6565\n",
      "Epoch 67/100\n",
      "\u001b[1m1430/1430\u001b[0m \u001b[32m━━━━━━━━━━━━━━━━━━━━\u001b[0m\u001b[37m\u001b[0m \u001b[1m1s\u001b[0m 742us/step - AUC: 0.6890 - Precision: 0.0744 - Recall: 0.7981 - loss: 1.2195 - val_AUC: 0.5132 - val_Precision: 0.0562 - val_Recall: 0.5226 - val_loss: 0.6430\n",
      "Epoch 68/100\n",
      "\u001b[1m1430/1430\u001b[0m \u001b[32m━━━━━━━━━━━━━━━━━━━━\u001b[0m\u001b[37m\u001b[0m \u001b[1m1s\u001b[0m 722us/step - AUC: 0.6836 - Precision: 0.0729 - Recall: 0.7935 - loss: 1.2485 - val_AUC: 0.5107 - val_Precision: 0.0544 - val_Recall: 0.5018 - val_loss: 0.6434\n",
      "Epoch 69/100\n",
      "\u001b[1m1430/1430\u001b[0m \u001b[32m━━━━━━━━━━━━━━━━━━━━\u001b[0m\u001b[37m\u001b[0m \u001b[1m1s\u001b[0m 707us/step - AUC: 0.6797 - Precision: 0.0744 - Recall: 0.7856 - loss: 1.2622 - val_AUC: 0.5122 - val_Precision: 0.0554 - val_Recall: 0.4798 - val_loss: 0.6186\n",
      "Epoch 70/100\n",
      "\u001b[1m1430/1430\u001b[0m \u001b[32m━━━━━━━━━━━━━━━━━━━━\u001b[0m\u001b[37m\u001b[0m \u001b[1m1s\u001b[0m 740us/step - AUC: 0.6881 - Precision: 0.0757 - Recall: 0.7901 - loss: 1.2496 - val_AUC: 0.5107 - val_Precision: 0.0554 - val_Recall: 0.5006 - val_loss: 0.6388\n",
      "Epoch 71/100\n",
      "\u001b[1m1430/1430\u001b[0m \u001b[32m━━━━━━━━━━━━━━━━━━━━\u001b[0m\u001b[37m\u001b[0m \u001b[1m1s\u001b[0m 710us/step - AUC: 0.6953 - Precision: 0.0762 - Recall: 0.7931 - loss: 1.2431 - val_AUC: 0.5139 - val_Precision: 0.0559 - val_Recall: 0.5251 - val_loss: 0.6450\n",
      "Epoch 72/100\n",
      "\u001b[1m1430/1430\u001b[0m \u001b[32m━━━━━━━━━━━━━━━━━━━━\u001b[0m\u001b[37m\u001b[0m \u001b[1m1s\u001b[0m 743us/step - AUC: 0.6837 - Precision: 0.0731 - Recall: 0.7866 - loss: 1.2554 - val_AUC: 0.5098 - val_Precision: 0.0548 - val_Recall: 0.5116 - val_loss: 0.6471\n",
      "{'loss': 0.6120087504386902, 'compile_metrics': 0.051231443881988525}\n"
     ]
    }
   ],
   "source": [
    "import tensorflow as tf\n",
    "from tensorflow.keras import layers, models, callbacks\n",
    "\n",
    "# a) Build the model\n",
    "model_tf = models.Sequential([\n",
    "    layers.Input(shape=(X_train_prep.shape[1],)),\n",
    "    layers.Dense(64, activation=\"relu\"),\n",
    "    layers.Dropout(0.5),\n",
    "    layers.Dense(16, activation=\"relu\"),\n",
    "    layers.Dropout(0.5),\n",
    "    layers.Dense(1, activation=\"sigmoid\")\n",
    "])\n",
    "\n",
    "model_tf.compile(\n",
    "    optimizer=\"adam\",\n",
    "    loss=\"binary_crossentropy\",\n",
    "    metrics=[\"Precision\", \"Recall\", \"AUC\"]\n",
    ")\n",
    "\n",
    "# b) Fit with class weights\n",
    "history = model_tf.fit(\n",
    "    X_train_prep, y_train,\n",
    "    validation_split=0.25,\n",
    "    epochs=100,\n",
    "    batch_size=32,\n",
    "    class_weight=weights_dynamic,\n",
    "    callbacks=[callbacks.EarlyStopping(patience=15, restore_best_weights=True)]\n",
    ")\n",
    "\n",
    "# c) Evaluate\n",
    "evals = model_tf.evaluate(X_test_prep, y_test, verbose=0)\n",
    "print(dict(zip(model_tf.metrics_names, evals)))"
   ]
  },
  {
   "cell_type": "code",
   "execution_count": 335,
   "id": "37978634",
   "metadata": {},
   "outputs": [
    {
     "name": "stdout",
     "output_type": "stream",
     "text": [
      "Epoch 1/1000\n",
      "\u001b[1m1430/1430\u001b[0m \u001b[32m━━━━━━━━━━━━━━━━━━━━\u001b[0m\u001b[37m\u001b[0m \u001b[1m2s\u001b[0m 946us/step - AUC: 0.4801 - Precision: 0.0437 - Recall: 0.4099 - loss: 1.3739 - val_AUC: 0.5001 - val_Precision: 0.0535 - val_Recall: 0.9939 - val_loss: 0.7056\n",
      "Epoch 2/1000\n",
      "\u001b[1m1430/1430\u001b[0m \u001b[32m━━━━━━━━━━━━━━━━━━━━\u001b[0m\u001b[37m\u001b[0m \u001b[1m1s\u001b[0m 811us/step - AUC: 0.5084 - Precision: 0.0493 - Recall: 0.6492 - loss: 1.3790 - val_AUC: 0.4960 - val_Precision: 0.0547 - val_Recall: 0.2668 - val_loss: 0.6916\n",
      "Epoch 3/1000\n",
      "\u001b[1m1430/1430\u001b[0m \u001b[32m━━━━━━━━━━━━━━━━━━━━\u001b[0m\u001b[37m\u001b[0m \u001b[1m1s\u001b[0m 844us/step - AUC: 0.5055 - Precision: 0.0513 - Recall: 0.4751 - loss: 1.3772 - val_AUC: 0.5002 - val_Precision: 0.0000e+00 - val_Recall: 0.0000e+00 - val_loss: 0.6823\n",
      "Epoch 4/1000\n",
      "\u001b[1m1430/1430\u001b[0m \u001b[32m━━━━━━━━━━━━━━━━━━━━\u001b[0m\u001b[37m\u001b[0m \u001b[1m1s\u001b[0m 822us/step - AUC: 0.4999 - Precision: 0.0513 - Recall: 0.2599 - loss: 1.3997 - val_AUC: 0.4978 - val_Precision: 0.0408 - val_Recall: 0.0122 - val_loss: 0.6747\n",
      "Epoch 5/1000\n",
      "\u001b[1m1430/1430\u001b[0m \u001b[32m━━━━━━━━━━━━━━━━━━━━\u001b[0m\u001b[37m\u001b[0m \u001b[1m1s\u001b[0m 812us/step - AUC: 0.5156 - Precision: 0.0553 - Recall: 0.2901 - loss: 1.3810 - val_AUC: 0.5003 - val_Precision: 0.0000e+00 - val_Recall: 0.0000e+00 - val_loss: 0.6797\n",
      "Epoch 6/1000\n",
      "\u001b[1m1430/1430\u001b[0m \u001b[32m━━━━━━━━━━━━━━━━━━━━\u001b[0m\u001b[37m\u001b[0m \u001b[1m1s\u001b[0m 833us/step - AUC: 0.5012 - Precision: 0.0559 - Recall: 0.0378 - loss: 1.3443 - val_AUC: 0.5033 - val_Precision: 0.0533 - val_Recall: 0.2521 - val_loss: 0.6936\n",
      "Epoch 7/1000\n",
      "\u001b[1m1430/1430\u001b[0m \u001b[32m━━━━━━━━━━━━━━━━━━━━\u001b[0m\u001b[37m\u001b[0m \u001b[1m1s\u001b[0m 819us/step - AUC: 0.5079 - Precision: 0.0532 - Recall: 0.3018 - loss: 1.3804 - val_AUC: 0.5041 - val_Precision: 0.0573 - val_Recall: 0.2313 - val_loss: 0.6746\n",
      "Epoch 8/1000\n",
      "\u001b[1m1430/1430\u001b[0m \u001b[32m━━━━━━━━━━━━━━━━━━━━\u001b[0m\u001b[37m\u001b[0m \u001b[1m1s\u001b[0m 811us/step - AUC: 0.5291 - Precision: 0.0506 - Recall: 0.5590 - loss: 1.3788 - val_AUC: 0.5048 - val_Precision: 0.0561 - val_Recall: 0.3354 - val_loss: 0.6872\n",
      "Epoch 9/1000\n",
      "\u001b[1m1430/1430\u001b[0m \u001b[32m━━━━━━━━━━━━━━━━━━━━\u001b[0m\u001b[37m\u001b[0m \u001b[1m1s\u001b[0m 840us/step - AUC: 0.5308 - Precision: 0.0484 - Recall: 0.2484 - loss: 1.3338 - val_AUC: 0.5076 - val_Precision: 0.0530 - val_Recall: 0.9241 - val_loss: 0.7283\n",
      "Epoch 10/1000\n",
      "\u001b[1m1430/1430\u001b[0m \u001b[32m━━━━━━━━━━━━━━━━━━━━\u001b[0m\u001b[37m\u001b[0m \u001b[1m1s\u001b[0m 805us/step - AUC: 0.5371 - Precision: 0.0525 - Recall: 0.5396 - loss: 1.3592 - val_AUC: 0.5167 - val_Precision: 0.0537 - val_Recall: 0.8115 - val_loss: 0.7050\n",
      "Epoch 11/1000\n",
      "\u001b[1m1430/1430\u001b[0m \u001b[32m━━━━━━━━━━━━━━━━━━━━\u001b[0m\u001b[37m\u001b[0m \u001b[1m1s\u001b[0m 810us/step - AUC: 0.5483 - Precision: 0.0546 - Recall: 0.7285 - loss: 1.3703 - val_AUC: 0.4965 - val_Precision: 0.0528 - val_Recall: 0.3672 - val_loss: 0.6775\n",
      "Epoch 12/1000\n",
      "\u001b[1m1430/1430\u001b[0m \u001b[32m━━━━━━━━━━━━━━━━━━━━\u001b[0m\u001b[37m\u001b[0m \u001b[1m1s\u001b[0m 806us/step - AUC: 0.5533 - Precision: 0.0560 - Recall: 0.4059 - loss: 1.3321 - val_AUC: 0.5036 - val_Precision: 0.0526 - val_Recall: 0.5043 - val_loss: 0.6728\n",
      "Epoch 13/1000\n",
      "\u001b[1m1430/1430\u001b[0m \u001b[32m━━━━━━━━━━━━━━━━━━━━\u001b[0m\u001b[37m\u001b[0m \u001b[1m1s\u001b[0m 844us/step - AUC: 0.5388 - Precision: 0.0526 - Recall: 0.6502 - loss: 1.3604 - val_AUC: 0.5062 - val_Precision: 0.0539 - val_Recall: 0.7197 - val_loss: 0.6968\n",
      "Epoch 14/1000\n",
      "\u001b[1m1430/1430\u001b[0m \u001b[32m━━━━━━━━━━━━━━━━━━━━\u001b[0m\u001b[37m\u001b[0m \u001b[1m1s\u001b[0m 818us/step - AUC: 0.5718 - Precision: 0.0565 - Recall: 0.6830 - loss: 1.3497 - val_AUC: 0.5049 - val_Precision: 0.0542 - val_Recall: 0.7613 - val_loss: 0.7199\n",
      "Epoch 15/1000\n",
      "\u001b[1m1430/1430\u001b[0m \u001b[32m━━━━━━━━━━━━━━━━━━━━\u001b[0m\u001b[37m\u001b[0m \u001b[1m1s\u001b[0m 810us/step - AUC: 0.5730 - Precision: 0.0577 - Recall: 0.7156 - loss: 1.3695 - val_AUC: 0.5099 - val_Precision: 0.0536 - val_Recall: 0.4945 - val_loss: 0.6647\n",
      "Epoch 16/1000\n",
      "\u001b[1m1430/1430\u001b[0m \u001b[32m━━━━━━━━━━━━━━━━━━━━\u001b[0m\u001b[37m\u001b[0m \u001b[1m1s\u001b[0m 849us/step - AUC: 0.5849 - Precision: 0.0606 - Recall: 0.6563 - loss: 1.3568 - val_AUC: 0.5097 - val_Precision: 0.0550 - val_Recall: 0.5998 - val_loss: 0.6631\n",
      "Epoch 17/1000\n",
      "\u001b[1m1430/1430\u001b[0m \u001b[32m━━━━━━━━━━━━━━━━━━━━\u001b[0m\u001b[37m\u001b[0m \u001b[1m1s\u001b[0m 815us/step - AUC: 0.6039 - Precision: 0.0598 - Recall: 0.7008 - loss: 1.3241 - val_AUC: 0.4960 - val_Precision: 0.0528 - val_Recall: 0.6695 - val_loss: 0.6803\n",
      "Epoch 18/1000\n",
      "\u001b[1m1430/1430\u001b[0m \u001b[32m━━━━━━━━━━━━━━━━━━━━\u001b[0m\u001b[37m\u001b[0m \u001b[1m1s\u001b[0m 804us/step - AUC: 0.6020 - Precision: 0.0613 - Recall: 0.7301 - loss: 1.3323 - val_AUC: 0.5021 - val_Precision: 0.0535 - val_Recall: 0.6169 - val_loss: 0.6795\n",
      "Epoch 19/1000\n",
      "\u001b[1m1430/1430\u001b[0m \u001b[32m━━━━━━━━━━━━━━━━━━━━\u001b[0m\u001b[37m\u001b[0m \u001b[1m1s\u001b[0m 844us/step - AUC: 0.6117 - Precision: 0.0613 - Recall: 0.6927 - loss: 1.3091 - val_AUC: 0.5021 - val_Precision: 0.0533 - val_Recall: 0.6977 - val_loss: 0.6936\n",
      "Epoch 20/1000\n",
      "\u001b[1m1430/1430\u001b[0m \u001b[32m━━━━━━━━━━━━━━━━━━━━\u001b[0m\u001b[37m\u001b[0m \u001b[1m1s\u001b[0m 818us/step - AUC: 0.6185 - Precision: 0.0620 - Recall: 0.7587 - loss: 1.3387 - val_AUC: 0.4993 - val_Precision: 0.0533 - val_Recall: 0.6426 - val_loss: 0.6679\n",
      "Epoch 21/1000\n",
      "\u001b[1m1430/1430\u001b[0m \u001b[32m━━━━━━━━━━━━━━━━━━━━\u001b[0m\u001b[37m\u001b[0m \u001b[1m1s\u001b[0m 816us/step - AUC: 0.6216 - Precision: 0.0611 - Recall: 0.7409 - loss: 1.2946 - val_AUC: 0.5009 - val_Precision: 0.0538 - val_Recall: 0.5985 - val_loss: 0.6627\n",
      "Epoch 22/1000\n",
      "\u001b[1m1430/1430\u001b[0m \u001b[32m━━━━━━━━━━━━━━━━━━━━\u001b[0m\u001b[37m\u001b[0m \u001b[1m1s\u001b[0m 838us/step - AUC: 0.6261 - Precision: 0.0656 - Recall: 0.7192 - loss: 1.3194 - val_AUC: 0.5067 - val_Precision: 0.0547 - val_Recall: 0.5422 - val_loss: 0.6445\n",
      "Epoch 23/1000\n",
      "\u001b[1m1430/1430\u001b[0m \u001b[32m━━━━━━━━━━━━━━━━━━━━\u001b[0m\u001b[37m\u001b[0m \u001b[1m1s\u001b[0m 818us/step - AUC: 0.6369 - Precision: 0.0668 - Recall: 0.7254 - loss: 1.3067 - val_AUC: 0.5006 - val_Precision: 0.0538 - val_Recall: 0.6353 - val_loss: 0.7088\n",
      "Epoch 24/1000\n",
      "\u001b[1m1430/1430\u001b[0m \u001b[32m━━━━━━━━━━━━━━━━━━━━\u001b[0m\u001b[37m\u001b[0m \u001b[1m1s\u001b[0m 816us/step - AUC: 0.6473 - Precision: 0.0679 - Recall: 0.7467 - loss: 1.3068 - val_AUC: 0.5005 - val_Precision: 0.0542 - val_Recall: 0.5753 - val_loss: 0.6635\n",
      "Epoch 25/1000\n",
      "\u001b[1m1430/1430\u001b[0m \u001b[32m━━━━━━━━━━━━━━━━━━━━\u001b[0m\u001b[37m\u001b[0m \u001b[1m1s\u001b[0m 845us/step - AUC: 0.6667 - Precision: 0.0703 - Recall: 0.7247 - loss: 1.2848 - val_AUC: 0.5002 - val_Precision: 0.0534 - val_Recall: 0.5483 - val_loss: 0.6558\n",
      "Epoch 26/1000\n",
      "\u001b[1m1430/1430\u001b[0m \u001b[32m━━━━━━━━━━━━━━━━━━━━\u001b[0m\u001b[37m\u001b[0m \u001b[1m1s\u001b[0m 809us/step - AUC: 0.6626 - Precision: 0.0704 - Recall: 0.7589 - loss: 1.2835 - val_AUC: 0.4994 - val_Precision: 0.0524 - val_Recall: 0.5679 - val_loss: 0.6768\n",
      "Epoch 27/1000\n",
      "\u001b[1m1430/1430\u001b[0m \u001b[32m━━━━━━━━━━━━━━━━━━━━\u001b[0m\u001b[37m\u001b[0m \u001b[1m1s\u001b[0m 816us/step - AUC: 0.6802 - Precision: 0.0719 - Recall: 0.7499 - loss: 1.2498 - val_AUC: 0.5067 - val_Precision: 0.0547 - val_Recall: 0.6353 - val_loss: 0.6900\n",
      "Epoch 28/1000\n",
      "\u001b[1m1430/1430\u001b[0m \u001b[32m━━━━━━━━━━━━━━━━━━━━\u001b[0m\u001b[37m\u001b[0m \u001b[1m1s\u001b[0m 841us/step - AUC: 0.6750 - Precision: 0.0748 - Recall: 0.7846 - loss: 1.2696 - val_AUC: 0.4959 - val_Precision: 0.0528 - val_Recall: 0.5532 - val_loss: 0.6610\n",
      "Epoch 29/1000\n",
      "\u001b[1m1430/1430\u001b[0m \u001b[32m━━━━━━━━━━━━━━━━━━━━\u001b[0m\u001b[37m\u001b[0m \u001b[1m1s\u001b[0m 819us/step - AUC: 0.6740 - Precision: 0.0739 - Recall: 0.7780 - loss: 1.3057 - val_AUC: 0.4961 - val_Precision: 0.0520 - val_Recall: 0.4712 - val_loss: 0.6370\n",
      "Epoch 30/1000\n",
      "\u001b[1m1430/1430\u001b[0m \u001b[32m━━━━━━━━━━━━━━━━━━━━\u001b[0m\u001b[37m\u001b[0m \u001b[1m1s\u001b[0m 809us/step - AUC: 0.6882 - Precision: 0.0741 - Recall: 0.7560 - loss: 1.2417 - val_AUC: 0.5032 - val_Precision: 0.0539 - val_Recall: 0.5826 - val_loss: 0.6823\n",
      "Epoch 31/1000\n",
      "\u001b[1m1430/1430\u001b[0m \u001b[32m━━━━━━━━━━━━━━━━━━━━\u001b[0m\u001b[37m\u001b[0m \u001b[1m1s\u001b[0m 841us/step - AUC: 0.6926 - Precision: 0.0762 - Recall: 0.7813 - loss: 1.2414 - val_AUC: 0.5025 - val_Precision: 0.0545 - val_Recall: 0.5471 - val_loss: 0.6539\n",
      "Epoch 32/1000\n",
      "\u001b[1m1430/1430\u001b[0m \u001b[32m━━━━━━━━━━━━━━━━━━━━\u001b[0m\u001b[37m\u001b[0m \u001b[1m1s\u001b[0m 817us/step - AUC: 0.6942 - Precision: 0.0752 - Recall: 0.7880 - loss: 1.2457 - val_AUC: 0.4980 - val_Precision: 0.0530 - val_Recall: 0.5728 - val_loss: 0.6835\n",
      "Epoch 33/1000\n",
      "\u001b[1m1430/1430\u001b[0m \u001b[32m━━━━━━━━━━━━━━━━━━━━\u001b[0m\u001b[37m\u001b[0m \u001b[1m1s\u001b[0m 817us/step - AUC: 0.7018 - Precision: 0.0751 - Recall: 0.7701 - loss: 1.2055 - val_AUC: 0.4906 - val_Precision: 0.0525 - val_Recall: 0.6389 - val_loss: 0.7237\n",
      "Epoch 34/1000\n",
      "\u001b[1m1430/1430\u001b[0m \u001b[32m━━━━━━━━━━━━━━━━━━━━\u001b[0m\u001b[37m\u001b[0m \u001b[1m1s\u001b[0m 832us/step - AUC: 0.7061 - Precision: 0.0730 - Recall: 0.8089 - loss: 1.2198 - val_AUC: 0.4953 - val_Precision: 0.0543 - val_Recall: 0.5386 - val_loss: 0.6617\n",
      "Epoch 35/1000\n",
      "\u001b[1m1430/1430\u001b[0m \u001b[32m━━━━━━━━━━━━━━━━━━━━\u001b[0m\u001b[37m\u001b[0m \u001b[1m1s\u001b[0m 811us/step - AUC: 0.7014 - Precision: 0.0789 - Recall: 0.7870 - loss: 1.2502 - val_AUC: 0.4950 - val_Precision: 0.0527 - val_Recall: 0.5386 - val_loss: 0.6790\n",
      "Epoch 36/1000\n",
      "\u001b[1m1430/1430\u001b[0m \u001b[32m━━━━━━━━━━━━━━━━━━━━\u001b[0m\u001b[37m\u001b[0m \u001b[1m1s\u001b[0m 814us/step - AUC: 0.7117 - Precision: 0.0787 - Recall: 0.7857 - loss: 1.2037 - val_AUC: 0.4939 - val_Precision: 0.0530 - val_Recall: 0.5422 - val_loss: 0.6860\n",
      "Epoch 37/1000\n",
      "\u001b[1m1430/1430\u001b[0m \u001b[32m━━━━━━━━━━━━━━━━━━━━\u001b[0m\u001b[37m\u001b[0m \u001b[1m1s\u001b[0m 843us/step - AUC: 0.7299 - Precision: 0.0841 - Recall: 0.8041 - loss: 1.1877 - val_AUC: 0.4862 - val_Precision: 0.0515 - val_Recall: 0.4198 - val_loss: 0.6243\n",
      "Epoch 38/1000\n",
      "\u001b[1m1430/1430\u001b[0m \u001b[32m━━━━━━━━━━━━━━━━━━━━\u001b[0m\u001b[37m\u001b[0m \u001b[1m1s\u001b[0m 812us/step - AUC: 0.7223 - Precision: 0.0825 - Recall: 0.7610 - loss: 1.1969 - val_AUC: 0.4937 - val_Precision: 0.0520 - val_Recall: 0.4198 - val_loss: 0.6190\n",
      "Epoch 39/1000\n",
      "\u001b[1m1430/1430\u001b[0m \u001b[32m━━━━━━━━━━━━━━━━━━━━\u001b[0m\u001b[37m\u001b[0m \u001b[1m1s\u001b[0m 843us/step - AUC: 0.7377 - Precision: 0.0861 - Recall: 0.7918 - loss: 1.1688 - val_AUC: 0.4880 - val_Precision: 0.0522 - val_Recall: 0.4590 - val_loss: 0.6370\n",
      "Epoch 40/1000\n",
      "\u001b[1m1430/1430\u001b[0m \u001b[32m━━━━━━━━━━━━━━━━━━━━\u001b[0m\u001b[37m\u001b[0m \u001b[1m1s\u001b[0m 813us/step - AUC: 0.7205 - Precision: 0.0776 - Recall: 0.7660 - loss: 1.1783 - val_AUC: 0.4899 - val_Precision: 0.0525 - val_Recall: 0.5361 - val_loss: 0.6859\n",
      "Epoch 41/1000\n",
      "\u001b[1m1430/1430\u001b[0m \u001b[32m━━━━━━━━━━━━━━━━━━━━\u001b[0m\u001b[37m\u001b[0m \u001b[1m1s\u001b[0m 804us/step - AUC: 0.7319 - Precision: 0.0803 - Recall: 0.7809 - loss: 1.1625 - val_AUC: 0.4953 - val_Precision: 0.0544 - val_Recall: 0.5912 - val_loss: 0.7069\n",
      "Epoch 42/1000\n",
      "\u001b[1m1430/1430\u001b[0m \u001b[32m━━━━━━━━━━━━━━━━━━━━\u001b[0m\u001b[37m\u001b[0m \u001b[1m1s\u001b[0m 841us/step - AUC: 0.7359 - Precision: 0.0865 - Recall: 0.8235 - loss: 1.2101 - val_AUC: 0.4911 - val_Precision: 0.0533 - val_Recall: 0.5459 - val_loss: 0.6916\n",
      "Epoch 43/1000\n",
      "\u001b[1m1430/1430\u001b[0m \u001b[32m━━━━━━━━━━━━━━━━━━━━\u001b[0m\u001b[37m\u001b[0m \u001b[1m1s\u001b[0m 816us/step - AUC: 0.7423 - Precision: 0.0908 - Recall: 0.7984 - loss: 1.2098 - val_AUC: 0.4973 - val_Precision: 0.0552 - val_Recall: 0.4884 - val_loss: 0.6409\n",
      "Epoch 44/1000\n",
      "\u001b[1m1430/1430\u001b[0m \u001b[32m━━━━━━━━━━━━━━━━━━━━\u001b[0m\u001b[37m\u001b[0m \u001b[1m1s\u001b[0m 863us/step - AUC: 0.7352 - Precision: 0.0856 - Recall: 0.7849 - loss: 1.1887 - val_AUC: 0.4905 - val_Precision: 0.0523 - val_Recall: 0.4614 - val_loss: 0.6480\n",
      "Epoch 45/1000\n",
      "\u001b[1m1430/1430\u001b[0m \u001b[32m━━━━━━━━━━━━━━━━━━━━\u001b[0m\u001b[37m\u001b[0m \u001b[1m1s\u001b[0m 925us/step - AUC: 0.7509 - Precision: 0.0891 - Recall: 0.8027 - loss: 1.1494 - val_AUC: 0.4888 - val_Precision: 0.0538 - val_Recall: 0.5165 - val_loss: 0.6819\n",
      "Epoch 46/1000\n",
      "\u001b[1m1430/1430\u001b[0m \u001b[32m━━━━━━━━━━━━━━━━━━━━\u001b[0m\u001b[37m\u001b[0m \u001b[1m1s\u001b[0m 866us/step - AUC: 0.7498 - Precision: 0.0883 - Recall: 0.8187 - loss: 1.1637 - val_AUC: 0.4936 - val_Precision: 0.0535 - val_Recall: 0.4333 - val_loss: 0.6247\n",
      "Epoch 47/1000\n",
      "\u001b[1m1430/1430\u001b[0m \u001b[32m━━━━━━━━━━━━━━━━━━━━\u001b[0m\u001b[37m\u001b[0m \u001b[1m1s\u001b[0m 913us/step - AUC: 0.7473 - Precision: 0.0875 - Recall: 0.7916 - loss: 1.1473 - val_AUC: 0.4916 - val_Precision: 0.0544 - val_Recall: 0.4651 - val_loss: 0.6467\n",
      "Epoch 48/1000\n",
      "\u001b[1m1430/1430\u001b[0m \u001b[32m━━━━━━━━━━━━━━━━━━━━\u001b[0m\u001b[37m\u001b[0m \u001b[1m1s\u001b[0m 835us/step - AUC: 0.7612 - Precision: 0.0905 - Recall: 0.7970 - loss: 1.1402 - val_AUC: 0.4936 - val_Precision: 0.0532 - val_Recall: 0.4455 - val_loss: 0.6389\n",
      "Epoch 49/1000\n",
      "\u001b[1m1430/1430\u001b[0m \u001b[32m━━━━━━━━━━━━━━━━━━━━\u001b[0m\u001b[37m\u001b[0m \u001b[1m1s\u001b[0m 885us/step - AUC: 0.7551 - Precision: 0.0884 - Recall: 0.8128 - loss: 1.1477 - val_AUC: 0.4983 - val_Precision: 0.0544 - val_Recall: 0.4541 - val_loss: 0.6447\n",
      "Epoch 50/1000\n",
      "\u001b[1m1430/1430\u001b[0m \u001b[32m━━━━━━━━━━━━━━━━━━━━\u001b[0m\u001b[37m\u001b[0m \u001b[1m1s\u001b[0m 804us/step - AUC: 0.7641 - Precision: 0.0915 - Recall: 0.7943 - loss: 1.1144 - val_AUC: 0.4921 - val_Precision: 0.0524 - val_Recall: 0.5153 - val_loss: 0.7068\n",
      "Epoch 51/1000\n",
      "\u001b[1m1430/1430\u001b[0m \u001b[32m━━━━━━━━━━━━━━━━━━━━\u001b[0m\u001b[37m\u001b[0m \u001b[1m1s\u001b[0m 817us/step - AUC: 0.7657 - Precision: 0.0918 - Recall: 0.8172 - loss: 1.1346 - val_AUC: 0.4897 - val_Precision: 0.0522 - val_Recall: 0.4578 - val_loss: 0.6625\n",
      "Epoch 52/1000\n",
      "\u001b[1m1430/1430\u001b[0m \u001b[32m━━━━━━━━━━━━━━━━━━━━\u001b[0m\u001b[37m\u001b[0m \u001b[1m1s\u001b[0m 846us/step - AUC: 0.7621 - Precision: 0.0912 - Recall: 0.8131 - loss: 1.1291 - val_AUC: 0.4903 - val_Precision: 0.0515 - val_Recall: 0.4639 - val_loss: 0.6640\n",
      "Epoch 53/1000\n",
      "\u001b[1m1430/1430\u001b[0m \u001b[32m━━━━━━━━━━━━━━━━━━━━\u001b[0m\u001b[37m\u001b[0m \u001b[1m1s\u001b[0m 815us/step - AUC: 0.7682 - Precision: 0.0916 - Recall: 0.8164 - loss: 1.1083 - val_AUC: 0.4905 - val_Precision: 0.0525 - val_Recall: 0.4308 - val_loss: 0.6429\n",
      "Epoch 54/1000\n",
      "\u001b[1m1430/1430\u001b[0m \u001b[32m━━━━━━━━━━━━━━━━━━━━\u001b[0m\u001b[37m\u001b[0m \u001b[1m1s\u001b[0m 829us/step - AUC: 0.7639 - Precision: 0.0884 - Recall: 0.8069 - loss: 1.1198 - val_AUC: 0.4915 - val_Precision: 0.0539 - val_Recall: 0.4247 - val_loss: 0.6410\n",
      "Epoch 55/1000\n",
      "\u001b[1m1430/1430\u001b[0m \u001b[32m━━━━━━━━━━━━━━━━━━━━\u001b[0m\u001b[37m\u001b[0m \u001b[1m1s\u001b[0m 817us/step - AUC: 0.7631 - Precision: 0.0916 - Recall: 0.8060 - loss: 1.1333 - val_AUC: 0.4921 - val_Precision: 0.0533 - val_Recall: 0.4455 - val_loss: 0.6394\n",
      "Epoch 56/1000\n",
      "\u001b[1m1430/1430\u001b[0m \u001b[32m━━━━━━━━━━━━━━━━━━━━\u001b[0m\u001b[37m\u001b[0m \u001b[1m1s\u001b[0m 801us/step - AUC: 0.7759 - Precision: 0.0933 - Recall: 0.8057 - loss: 1.0926 - val_AUC: 0.4886 - val_Precision: 0.0534 - val_Recall: 0.5031 - val_loss: 0.6859\n",
      "Epoch 57/1000\n",
      "\u001b[1m1430/1430\u001b[0m \u001b[32m━━━━━━━━━━━━━━━━━━━━\u001b[0m\u001b[37m\u001b[0m \u001b[1m1s\u001b[0m 841us/step - AUC: 0.7805 - Precision: 0.0979 - Recall: 0.8319 - loss: 1.1334 - val_AUC: 0.4895 - val_Precision: 0.0531 - val_Recall: 0.4296 - val_loss: 0.6457\n",
      "Epoch 58/1000\n",
      "\u001b[1m1430/1430\u001b[0m \u001b[32m━━━━━━━━━━━━━━━━━━━━\u001b[0m\u001b[37m\u001b[0m \u001b[1m1s\u001b[0m 815us/step - AUC: 0.7833 - Precision: 0.0999 - Recall: 0.8193 - loss: 1.1176 - val_AUC: 0.4911 - val_Precision: 0.0518 - val_Recall: 0.4125 - val_loss: 0.6355\n",
      "Epoch 59/1000\n",
      "\u001b[1m1430/1430\u001b[0m \u001b[32m━━━━━━━━━━━━━━━━━━━━\u001b[0m\u001b[37m\u001b[0m \u001b[1m1s\u001b[0m 817us/step - AUC: 0.7799 - Precision: 0.0973 - Recall: 0.8131 - loss: 1.1049 - val_AUC: 0.4889 - val_Precision: 0.0533 - val_Recall: 0.4578 - val_loss: 0.6804\n",
      "Epoch 60/1000\n",
      "\u001b[1m1430/1430\u001b[0m \u001b[32m━━━━━━━━━━━━━━━━━━━━\u001b[0m\u001b[37m\u001b[0m \u001b[1m1s\u001b[0m 830us/step - AUC: 0.7785 - Precision: 0.0973 - Recall: 0.8249 - loss: 1.0891 - val_AUC: 0.4973 - val_Precision: 0.0544 - val_Recall: 0.4284 - val_loss: 0.6471\n",
      "Epoch 61/1000\n",
      "\u001b[1m1430/1430\u001b[0m \u001b[32m━━━━━━━━━━━━━━━━━━━━\u001b[0m\u001b[37m\u001b[0m \u001b[1m1s\u001b[0m 817us/step - AUC: 0.7904 - Precision: 0.1058 - Recall: 0.8203 - loss: 1.1082 - val_AUC: 0.4996 - val_Precision: 0.0554 - val_Recall: 0.4431 - val_loss: 0.6381\n",
      "Epoch 62/1000\n",
      "\u001b[1m1430/1430\u001b[0m \u001b[32m━━━━━━━━━━━━━━━━━━━━\u001b[0m\u001b[37m\u001b[0m \u001b[1m1s\u001b[0m 837us/step - AUC: 0.7842 - Precision: 0.0966 - Recall: 0.8302 - loss: 1.0819 - val_AUC: 0.4960 - val_Precision: 0.0543 - val_Recall: 0.4504 - val_loss: 0.6625\n",
      "Epoch 63/1000\n",
      "\u001b[1m1430/1430\u001b[0m \u001b[32m━━━━━━━━━━━━━━━━━━━━\u001b[0m\u001b[37m\u001b[0m \u001b[1m1s\u001b[0m 822us/step - AUC: 0.7898 - Precision: 0.0989 - Recall: 0.8061 - loss: 1.0696 - val_AUC: 0.4993 - val_Precision: 0.0544 - val_Recall: 0.4162 - val_loss: 0.6231\n",
      "{'loss': 0.6143041849136353, 'compile_metrics': 0.05044326186180115}\n"
     ]
    }
   ],
   "source": [
    "# a) Build the model changing the architecture\n",
    "# The architecture is modified to include more layers and dropout for regularization with 0.4 dropout rate\n",
    "# This is a more complex model that may capture more intricate patterns in the data.\n",
    "# Also the epochs are increased to 1000 for better convergence and the patience of early stopping is set to 25.\n",
    "\n",
    "model_tf = models.Sequential([\n",
    "    layers.Input(shape=(X_train_prep.shape[1],)),\n",
    "    layers.Dense(128, activation=\"relu\"),\n",
    "    layers.Dropout(0.4),\n",
    "    layers.Dense(64, activation=\"relu\"),\n",
    "    layers.Dropout(0.4),\n",
    "    layers.Dense(16, activation=\"relu\"),\n",
    "    layers.Dropout(0.4),\n",
    "    layers.Dense(1, activation=\"sigmoid\")\n",
    "])\n",
    "\n",
    "model_tf.compile(\n",
    "    optimizer=\"adam\",\n",
    "    loss=\"binary_crossentropy\",\n",
    "    metrics=[\"Precision\", \"Recall\", \"AUC\"]\n",
    ")\n",
    "\n",
    "# b) Fit with class weights\n",
    "history = model_tf.fit(\n",
    "    X_train_prep, y_train,\n",
    "    validation_split=0.25,\n",
    "    epochs=1000,\n",
    "    batch_size=32,\n",
    "    class_weight=weights_dynamic,\n",
    "    callbacks=[callbacks.EarlyStopping(patience=25, restore_best_weights=True)]\n",
    ")\n",
    "\n",
    "# c) Evaluate\n",
    "evals = model_tf.evaluate(X_test_prep, y_test, verbose=0)\n",
    "print(dict(zip(model_tf.metrics_names, evals)))"
   ]
  },
  {
   "cell_type": "markdown",
   "id": "02c4abef",
   "metadata": {},
   "source": [
    "### Conclusions\n",
    "\n",
    "We trained two feed-forward neural network architectures with class weights inversely proportional to class frequency. Both were evaluated on the same train/test split, preprocessing pipeline, and metrics.\n",
    "\n",
    "**Architecture A**:  \n",
    "- Two hidden layers of 64 and 16 units, dropout 0.5.  \n",
    "- Early stopping after 15 epochs, up to 100 epochs.\n",
    "\n",
    "**Architecture B**:  \n",
    "- Three hidden layers of 128, 64 and 16 units, dropout 0.4.  \n",
    "- Early stopping after 25 epochs, up to 1 000 epochs.\n",
    "\n",
    "The key results on the test set are:\n",
    "\n",
    "- **Precision for class 1 (defaults)**  \n",
    "  - A: ~0.05  • B: ~0.07  \n",
    "   Only 5–7 % of predicted defaults were correct.\n",
    "\n",
    "- **Recall for class 1**  \n",
    "  - A: ~0.79  • B: ~0.83  \n",
    "   The deeper network identified over 80 % of actual defaults.\n",
    "\n",
    "- **Area Under ROC Curve (AUC)**  \n",
    "  - A: ~0.68  • B: ~0.69  \n",
    "   Moderate discrimination above random chance.\n",
    "\n",
    "- **Overall accuracy**  \n",
    "  - Both around 50 %  \n",
    "   Reflects the difficulty of the imbalanced task.\n",
    "\n",
    "Both models achieve high recall at the expense of precision, leading to many false positives. Architecture B yields a small gain in recall (83 % vs. 79 %) and AUC (0.69 vs. 0.68) but requires more training time.\n"
   ]
  },
  {
   "cell_type": "markdown",
   "id": "4758cc0a",
   "metadata": {},
   "source": [
    "# General conlusions"
   ]
  },
  {
   "cell_type": "markdown",
   "id": "b00ceecf",
   "metadata": {},
   "source": [
    "## General Conclusions – Loan Default Risk Modelling\n",
    "\n",
    "### 1. Data Insights\n",
    "| Dataset | Key Observations |\n",
    "|---------|------------------|\n",
    "| **loans_welfordbank_en.csv** | 87 135 loans (2020-2025) with ~2 % defaults → strong class imbalance. |\n",
    "| **credit_history_welfordbank_en.csv** | Historic overdue counts, late-fee averages, and max days late are strong early-warning signals. |\n",
    "| **loan_metrics_welfordbank_en.csv** | Portfolio-level NPL ratio adds limited incremental power once loan-level variables are present. |\n",
    "| **clients_welfordbank_en.csv** | Demographic features (age, lifetime value) explain only marginal variance compared with behavioural data. |\n",
    "\n",
    "### 2. Definition of Default\n",
    "A loan is labelled **`Default_Status = Yes`** when it reaches ≥ 90 days past-due **or** is written off / sent to legal recovery. This event marks a *material credit-loss expectation*, not a mere early payoff.\n",
    "\n",
    "### 3. Model Experiments\n",
    "| Family | Best AUC | Recall (defaults) | Precision (defaults) | Pros / Cons |\n",
    "|--------|---------:|------------------:|---------------------:|-------------|\n",
    "| Logistic Regression (baseline) | 0.64 | 0.14 | 0.04 | Interpretable but weak recall. |\n",
    "| + **SMOTE** | 0.65 | 0.59 | 0.05 | Recall ↑, precision stays very low; many false positives. |\n",
    "| + Dynamic **class weights** | 0.66 | 0.56 | 0.05 | Slight accuracy gain, still low precision. |\n",
    "| + Credit-history features | 0.68 | 0.51 | 0.05 | Minor improvement; false-positive burden persists. |\n",
    "| + Loan metrics + client features | 0.69 | 0.50 | 0.05 | Diminishing returns from extra features. |\n",
    "| **Neural Nets (MLP / TL)** | 0.69 | 0.83 | 0.05–0.07 | High recall but almost random precision; overfitting risk. |\n",
    "| **HistGradientBoosting (tuned)** | **0.73** | **0.62** | **0.08** | Best overall trade-off so far; SHAP explains drivers. |\n",
    "\n",
    "### 4. Key Findings\n",
    "1. **Class imbalance dominates** performance; naïve models yield near-zero precision.  \n",
    "2. **Behavioural features** from credit history outperform static demographics.  \n",
    "3. **Tree-based boosting** (HGB / LightGBM) is the current front-runner:  \n",
    "   * captures non-linearities & interactions,  \n",
    "   * handles missing values,  \n",
    "   * can be explained with SHAP.  \n",
    "4. Neural nets did not beat boosting and are harder to justify operationally.\n",
    "\n",
    "### 5. Overall Findings\n",
    "\n",
    "1. **Synthetic data caveat** – Because all tables were generated synthetically, many feature-target relationships are random or weak.  \n",
    "   * The loan terms, credit-history flags and client demographics do not follow real-world correlation patterns, so even powerful models cannot extract strong predictive signals.  \n",
    "   * In addition, the dataset is **heavily imbalanced** (≈ 2 % defaults). This amplifies noise and causes every model to over-predict default, driving precision to single-digit percentages.\n",
    "\n",
    "2. **Non-linear models (HGB, LightGBM)** still outperform linear and MLP baselines on AUC and precision, but the gains are limited by the artificial nature of the data.\n",
    "\n",
    "3. Extra feature blocks add only marginal value; without genuine correlations, feature engineering offers diminishing returns.\n",
    "\n",
    "4. Neural networks overfit easily on synthetic tabular data; they memorise noise and deliver random-like test AUC once class imbalance is addressed.\n"
   ]
  }
 ],
 "metadata": {
  "kernelspec": {
   "display_name": "base",
   "language": "python",
   "name": "python3"
  },
  "language_info": {
   "codemirror_mode": {
    "name": "ipython",
    "version": 3
   },
   "file_extension": ".py",
   "mimetype": "text/x-python",
   "name": "python",
   "nbconvert_exporter": "python",
   "pygments_lexer": "ipython3",
   "version": "3.12.7"
  }
 },
 "nbformat": 4,
 "nbformat_minor": 5
}
