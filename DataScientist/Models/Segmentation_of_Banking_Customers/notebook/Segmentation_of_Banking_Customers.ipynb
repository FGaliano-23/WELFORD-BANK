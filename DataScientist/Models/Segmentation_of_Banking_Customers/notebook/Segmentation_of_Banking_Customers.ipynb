{
 "cells": [
  {
   "cell_type": "markdown",
   "id": "f96709ea",
   "metadata": {},
   "source": [
    "# SEGMENTATION OF BANKING CUSTOMERS"
   ]
  },
  {
   "cell_type": "markdown",
   "id": "16f34eaf",
   "metadata": {},
   "source": [
    "## Librery imports"
   ]
  },
  {
   "cell_type": "code",
   "execution_count": 64,
   "id": "5f10528e",
   "metadata": {},
   "outputs": [],
   "source": [
    "# Entorno y Dependencias\n",
    "\n",
    "import pandas as pd\n",
    "import numpy as np\n",
    "import matplotlib.pyplot as plt\n",
    "\n",
    "from sklearn.preprocessing import StandardScaler\n",
    "from sklearn.cluster import KMeans\n",
    "from sklearn.metrics import silhouette_score\n",
    "\n",
    "# Configuración opcional de visualización\n",
    "%matplotlib inline"
   ]
  },
  {
   "cell_type": "markdown",
   "id": "c8411b0d",
   "metadata": {},
   "source": [
    "## Load the data"
   ]
  },
  {
   "cell_type": "code",
   "execution_count": null,
   "id": "34569fa3",
   "metadata": {},
   "outputs": [
    {
     "name": "stdout",
     "output_type": "stream",
     "text": [
      "Clients: (25000, 16)\n",
      "Accounts: (33775, 14)\n",
      "Transactions: (1858361, 18)\n",
      "Cards: (33718, 14)\n"
     ]
    }
   ],
   "source": [
    "#Csv files read\n",
    "clients = pd.read_csv(\"../data/clients_welfordbank_en.csv\", parse_dates=[\"Date_Birth\", \"Registration_Date\"]) #Esto es para asegurarnos de que las fechas se interpreten correctamente\n",
    "accounts = pd.read_csv(\"../data/accounts_welfordbank_en.csv\")\n",
    "transactions = pd.read_csv(\"../data/transactions_welfordbank_en.csv\", parse_dates=[\"Transaction_Date\"])\n",
    "cards = pd.read_csv(\"../data/cards_welfordbank_en.csv\")\n",
    "\n",
    "#Tables size\n",
    "print(\"Clients:\", clients.shape)\n",
    "print(\"Accounts:\", accounts.shape)\n",
    "print(\"Transactions:\", transactions.shape)\n",
    "print(\"Cards:\", cards.shape)"
   ]
  },
  {
   "cell_type": "markdown",
   "id": "336f4538",
   "metadata": {},
   "source": [
    "## Dataframes organization and merge"
   ]
  },
  {
   "cell_type": "markdown",
   "id": "b9e64407",
   "metadata": {},
   "source": [
    "We normalize the column names and keep the DataFrames with only the necessary data from each table, then merge them all into a single one.\n"
   ]
  },
  {
   "cell_type": "code",
   "execution_count": null,
   "id": "4eb1f139",
   "metadata": {},
   "outputs": [],
   "source": [
    "#Name normalization to facilitate future joins\n",
    "\n",
    "clients.rename(columns={'Client_ID': 'client_id',\n",
    "                        'Gender': 'gender',\n",
    "                        'Country': 'country',\n",
    "                        'City': 'city',\n",
    "                        'Date_Birth': 'date_birth',\n",
    "                        'Customer_Lifetime_Value': 'clv'}, inplace=True)\n",
    "\n",
    "accounts.rename(columns={'Client_ID': 'client_id',\n",
    "                         'Account_ID': 'account_id',\n",
    "                         'Account_Type': 'account_type',\n",
    "                         'Balance': 'current_balance'}, inplace=True)\n",
    "\n",
    "transactions.rename(columns={'Client_ID': 'client_id',\n",
    "                             'Transaction_ID': 'transaction_id',\n",
    "                             'Account_ID': 'account_id',\n",
    "                             'Transaction_Date': 'date',\n",
    "                             'Amount': 'amount'}, inplace=True)\n",
    "\n",
    "cards.rename(columns={'Client_ID': 'client_id',\n",
    "                      'Card_ID': 'card_id',\n",
    "                      'Credit_Limit': 'credit_limit',\n",
    "                      'Available_Balance': 'available_balance'}, inplace=True)\n"
   ]
  },
  {
   "cell_type": "markdown",
   "id": "b6ffd5d6",
   "metadata": {},
   "source": [
    "### Clients metrics"
   ]
  },
  {
   "cell_type": "code",
   "execution_count": null,
   "id": "6003e7fb",
   "metadata": {},
   "outputs": [
    {
     "name": "stdout",
     "output_type": "stream",
     "text": [
      "   client_id  age  gender country      city       clv\n",
      "0          1   87    Male   Spain  Pamplona  28793.37\n",
      "1          2   32  Female   Spain  Terrassa  11689.42\n",
      "2          3   61    Male   Spain   Manacor  14210.90\n",
      "3          4   62  Female   Spain   Vilalba  19585.72\n",
      "4          5   62  Female   Spain     Ceuta   9210.93\n"
     ]
    }
   ],
   "source": [
    "today = pd.Timestamp('today')\n",
    "\n",
    "clients['age'] = (today - clients['date_birth']).dt.days // 365 #To calculate age in years\n",
    "\n",
    "clients_df = clients[['client_id', 'age', 'gender', 'country', 'city', 'clv']] #Save the relevant columns in a new DataFrame\n",
    "\n",
    "print(clients_df.head())\n"
   ]
  },
  {
   "cell_type": "markdown",
   "id": "df2cb73b",
   "metadata": {},
   "source": [
    "### Accounts metrics"
   ]
  },
  {
   "cell_type": "code",
   "execution_count": null,
   "id": "fe652fb4",
   "metadata": {},
   "outputs": [
    {
     "name": "stdout",
     "output_type": "stream",
     "text": [
      "   client_id  num_accounts  avg_balance  num_account_types\n",
      "0          1             1     26550.58                  1\n",
      "1          2             1     90755.89                  1\n",
      "2          3             2    103227.57                  2\n",
      "3          4             1    130496.18                  1\n",
      "4          5             2     92951.96                  2\n"
     ]
    }
   ],
   "source": [
    "account_df = (\n",
    "    accounts\n",
    "      .groupby('client_id')\n",
    "      .agg(num_accounts = ('account_id', 'count'),\n",
    "           avg_balance = ('current_balance', 'mean'),\n",
    "           num_account_types = ('account_type', 'nunique'))\n",
    "      .reset_index()\n",
    ")\n",
    "\n",
    "print(account_df.head())\n"
   ]
  },
  {
   "cell_type": "markdown",
   "id": "4ce32346",
   "metadata": {},
   "source": [
    "### Transaccions metrics"
   ]
  },
  {
   "cell_type": "code",
   "execution_count": null,
   "id": "aeb0e54c",
   "metadata": {},
   "outputs": [
    {
     "name": "stdout",
     "output_type": "stream",
     "text": [
      "   client_id  total_txn_count  avg_txn_amount  txn_amount_std  total_deposits  \\\n",
      "0          1               18     4488.121111     3952.966488        80786.18   \n",
      "1          2               90     4123.119444     3491.629566       371080.75   \n",
      "2          3              159     4147.546792     3790.299080       659459.94   \n",
      "3          4               69     3317.845072     3566.644900       228931.31   \n",
      "4          5              120     4191.550000     3808.285769       502986.00   \n",
      "\n",
      "   total_withdrawals  \n",
      "0                0.0  \n",
      "1                0.0  \n",
      "2                0.0  \n",
      "3                0.0  \n",
      "4                0.0  \n"
     ]
    }
   ],
   "source": [
    "trans_df = (\n",
    "    transactions\n",
    "      .groupby('client_id')\n",
    "      .agg(total_txn_count   = ('transaction_id', 'count'),\n",
    "           avg_txn_amount    = ('amount', 'mean'),\n",
    "           txn_amount_std    = ('amount', 'std'),\n",
    "           total_deposits    = ('amount', lambda x: x[x > 0].sum()),\n",
    "           total_withdrawals = ('amount', lambda x: x[x < 0].sum()))\n",
    "      .reset_index()\n",
    ")\n",
    "\n",
    "print(trans_df.head())"
   ]
  },
  {
   "cell_type": "markdown",
   "id": "c52bfe3f",
   "metadata": {},
   "source": [
    "### Cards metrics"
   ]
  },
  {
   "cell_type": "code",
   "execution_count": null,
   "id": "199be5b0",
   "metadata": {},
   "outputs": [
    {
     "name": "stdout",
     "output_type": "stream",
     "text": [
      "   client_id  num_cards  avg_credit_limit  avg_available_balance  \\\n",
      "0          1          1          0.000000               0.000000   \n",
      "1          2          1          0.000000               0.000000   \n",
      "2          3          2       3765.600000            1532.375000   \n",
      "3          4          1       4694.130000            4694.130000   \n",
      "4          5          3       1440.726667            1440.726667   \n",
      "\n",
      "   total_credit_limit  total_available_balance  credit_utilization  \n",
      "0                0.00                     0.00                 NaN  \n",
      "1                0.00                     0.00                 NaN  \n",
      "2             7531.20                  3064.75             0.59306  \n",
      "3             4694.13                  4694.13             0.00000  \n",
      "4             4322.18                  4322.18             0.00000  \n"
     ]
    }
   ],
   "source": [
    "card_df = (\n",
    "    cards\n",
    "      .groupby('client_id')\n",
    "      .agg(\n",
    "          num_cards             = ('card_id', 'count'),\n",
    "          avg_credit_limit      = ('credit_limit', 'mean'),\n",
    "          avg_available_balance = ('available_balance', 'mean'),\n",
    "          total_credit_limit    = ('credit_limit', 'sum'),\n",
    "          total_available_balance = ('available_balance', 'sum')\n",
    "      )\n",
    "      .reset_index()\n",
    ")\n",
    "\n",
    "#Derivated metric: credit utilization (0-1)\n",
    "card_df['credit_utilization'] = 1 - (\n",
    "    card_df['total_available_balance'] / card_df['total_credit_limit'].replace(0, np.nan)\n",
    ")\n",
    "\n",
    "print(card_df.head())"
   ]
  },
  {
   "cell_type": "markdown",
   "id": "803c249a",
   "metadata": {},
   "source": [
    "### Merge all the df"
   ]
  },
  {
   "cell_type": "code",
   "execution_count": null,
   "id": "e34a8b79",
   "metadata": {},
   "outputs": [
    {
     "name": "stdout",
     "output_type": "stream",
     "text": [
      "   client_id  age  gender country      city       clv  num_accounts  \\\n",
      "0          1   87    Male   Spain  Pamplona  28793.37             1   \n",
      "1          2   32  Female   Spain  Terrassa  11689.42             1   \n",
      "2          3   61    Male   Spain   Manacor  14210.90             2   \n",
      "3          4   62  Female   Spain   Vilalba  19585.72             1   \n",
      "4          5   62  Female   Spain     Ceuta   9210.93             2   \n",
      "\n",
      "   avg_balance  num_account_types  total_txn_count  avg_txn_amount  \\\n",
      "0     26550.58                  1               18     4488.121111   \n",
      "1     90755.89                  1               90     4123.119444   \n",
      "2    103227.57                  2              159     4147.546792   \n",
      "3    130496.18                  1               69     3317.845072   \n",
      "4     92951.96                  2              120     4191.550000   \n",
      "\n",
      "   txn_amount_std  total_deposits  total_withdrawals  num_cards  \\\n",
      "0     3952.966488        80786.18                0.0        1.0   \n",
      "1     3491.629566       371080.75                0.0        1.0   \n",
      "2     3790.299080       659459.94                0.0        2.0   \n",
      "3     3566.644900       228931.31                0.0        1.0   \n",
      "4     3808.285769       502986.00                0.0        3.0   \n",
      "\n",
      "   avg_credit_limit  avg_available_balance  total_credit_limit  \\\n",
      "0          0.000000               0.000000                0.00   \n",
      "1          0.000000               0.000000                0.00   \n",
      "2       3765.600000            1532.375000             7531.20   \n",
      "3       4694.130000            4694.130000             4694.13   \n",
      "4       1440.726667            1440.726667             4322.18   \n",
      "\n",
      "   total_available_balance  credit_utilization  \n",
      "0                     0.00             0.00000  \n",
      "1                     0.00             0.00000  \n",
      "2                  3064.75             0.59306  \n",
      "3                  4694.13             0.00000  \n",
      "4                  4322.18             0.00000  \n",
      "Shape: (25000, 20)\n"
     ]
    }
   ],
   "source": [
    "#Merge the dataframes on 'client_id'\n",
    "data = (clients_df\n",
    "            .merge(account_df, on='client_id', how='left')\n",
    "            .merge(trans_df , on='client_id', how='left')\n",
    "            .merge(card_df, on='client_id', how='left'))\n",
    "\n",
    "#Refill Na values in numeric columns with 0\n",
    "num_cols = data.select_dtypes(include='number').columns.drop('client_id')\n",
    "data[num_cols] = data[num_cols].fillna(0)\n",
    "\n",
    "print(data.head())\n",
    "print(\"Shape:\", data.shape)\n"
   ]
  },
  {
   "cell_type": "markdown",
   "id": "59e5935a",
   "metadata": {},
   "source": [
    "## Pre-processing before K-Means"
   ]
  },
  {
   "cell_type": "markdown",
   "id": "44893a33",
   "metadata": {},
   "source": [
    "### Selection of Numerical and Categorical Columns"
   ]
  },
  {
   "cell_type": "code",
   "execution_count": 60,
   "id": "213eb154",
   "metadata": {},
   "outputs": [
    {
     "name": "stdout",
     "output_type": "stream",
     "text": [
      "Unique categories:\n",
      "gender: 2\n",
      "country: 1\n",
      "city: 134\n"
     ]
    }
   ],
   "source": [
    "# `data` is the full DataFrame obtained by merging all the relevant information.\n",
    "\n",
    "# • num_cols:   here the numeric variables we want to standardize.\n",
    "# • cat_cols:   here the categorical variables we want to keep.\n",
    "\n",
    "num_cols = [\n",
    "    'age', 'clv',                        \n",
    "    'num_accounts', 'avg_balance', 'num_account_types',\n",
    "    'total_txn_count', 'avg_txn_amount', 'txn_amount_std',\n",
    "    'total_deposits', 'total_withdrawals',\n",
    "    'num_cards', 'avg_credit_limit',\n",
    "    'avg_available_balance', 'credit_utilization'\n",
    "]\n",
    "\n",
    "#Analyze how many unique categories each variable has\n",
    "print(\"Unique categories:\")\n",
    "for col in ['gender', 'country', 'city']:\n",
    "    print(f\"{col}: {data[col].nunique()}\")"
   ]
  },
  {
   "cell_type": "code",
   "execution_count": 61,
   "id": "564f7b46",
   "metadata": {},
   "outputs": [],
   "source": [
    "#Decision on categorical variables:\n",
    "#   • gender   → definitely include (2 categories)\n",
    "#   • country  → ignore if is only Spain, not relevant for clustering\n",
    "#   • city     → have too many categories, skip for K-Means\n",
    "cat_cols = ['gender'] "
   ]
  },
  {
   "cell_type": "markdown",
   "id": "cbae2ae3",
   "metadata": {},
   "source": [
    "### One-Hot Encoding of Categorical Columns"
   ]
  },
  {
   "cell_type": "code",
   "execution_count": 62,
   "id": "237d8083",
   "metadata": {},
   "outputs": [
    {
     "name": "stdout",
     "output_type": "stream",
     "text": [
      "Shape with dummies: (25000, 15)\n",
      "First rows:\n",
      "    age       clv  num_accounts  avg_balance  num_account_types  \\\n",
      "0   87  28793.37             1     26550.58                  1   \n",
      "1   32  11689.42             1     90755.89                  1   \n",
      "2   61  14210.90             2    103227.57                  2   \n",
      "3   62  19585.72             1    130496.18                  1   \n",
      "4   62   9210.93             2     92951.96                  2   \n",
      "\n",
      "   total_txn_count  avg_txn_amount  txn_amount_std  total_deposits  \\\n",
      "0               18     4488.121111     3952.966488        80786.18   \n",
      "1               90     4123.119444     3491.629566       371080.75   \n",
      "2              159     4147.546792     3790.299080       659459.94   \n",
      "3               69     3317.845072     3566.644900       228931.31   \n",
      "4              120     4191.550000     3808.285769       502986.00   \n",
      "\n",
      "   total_withdrawals  num_cards  avg_credit_limit  avg_available_balance  \\\n",
      "0                0.0        1.0          0.000000               0.000000   \n",
      "1                0.0        1.0          0.000000               0.000000   \n",
      "2                0.0        2.0       3765.600000            1532.375000   \n",
      "3                0.0        1.0       4694.130000            4694.130000   \n",
      "4                0.0        3.0       1440.726667            1440.726667   \n",
      "\n",
      "   credit_utilization  gender_Male  \n",
      "0             0.00000         True  \n",
      "1             0.00000        False  \n",
      "2             0.59306         True  \n",
      "3             0.00000        False  \n",
      "4             0.00000        False  \n"
     ]
    }
   ],
   "source": [
    "#get_dummies creates 0/1 columnsfor one-hot. drop_first=True avoids multicollinearity.\n",
    "dummies = pd.get_dummies(data[cat_cols], drop_first=True)\n",
    "\n",
    "#Concatenate the numeric columns with the dummies\n",
    "X = pd.concat([data[num_cols], dummies], axis=1)\n",
    "\n",
    "#Store the names of the columns for later use\n",
    "data_names = X.columns.tolist()\n",
    "\n",
    "#Add the dummies to the original data for reference\n",
    "data = pd.concat([data, dummies], axis=1)\n",
    "\n",
    "print(\"Shape with dummies:\", X.shape)\n",
    "print(\"First rows:\\n\", X.head())\n"
   ]
  },
  {
   "cell_type": "markdown",
   "id": "bf314184",
   "metadata": {},
   "source": [
    "### Scaling Numerical Variables"
   ]
  },
  {
   "cell_type": "code",
   "execution_count": 63,
   "id": "1ddbfb8f",
   "metadata": {},
   "outputs": [
    {
     "name": "stdout",
     "output_type": "stream",
     "text": [
      "Mean and standard deviation after scaling (≈0 and 1):\n",
      "      age  clv  num_accounts  avg_balance  num_account_types  total_txn_count  \\\n",
      "mean -0.0  0.0           0.0         -0.0               -0.0             -0.0   \n",
      "std   1.0  1.0           1.0          1.0                1.0              1.0   \n",
      "\n",
      "      avg_txn_amount  txn_amount_std  total_deposits  total_withdrawals  \\\n",
      "mean             0.0             0.0            -0.0                0.0   \n",
      "std              1.0             1.0             1.0                0.0   \n",
      "\n",
      "      num_cards  avg_credit_limit  avg_available_balance  credit_utilization  \\\n",
      "mean        0.0               0.0                    0.0                -0.0   \n",
      "std         1.0               1.0                    1.0                 1.0   \n",
      "\n",
      "      gender_Male  \n",
      "mean         -0.0  \n",
      "std           1.0  \n"
     ]
    }
   ],
   "source": [
    "scaler = StandardScaler()\n",
    "X_scaled = scaler.fit_transform(X)    #The normalized data is now in X_scaled\n",
    "\n",
    "#Convert back to DataFrame for inspection\n",
    "X_scaled_df = pd.DataFrame(X_scaled, columns=data_names, index=data['client_id'])\n",
    "print(\"Mean and standard deviation after scaling (≈0 and 1):\")\n",
    "print(pd.DataFrame(X_scaled, columns=data_names).agg(['mean', 'std']).round(2).head())\n"
   ]
  },
  {
   "cell_type": "markdown",
   "id": "16121252",
   "metadata": {},
   "source": [
    "We can see that the scaling was successful.\n"
   ]
  },
  {
   "cell_type": "markdown",
   "id": "f0e57a72",
   "metadata": {},
   "source": [
    "## K value selection (Elbow and Siluette)"
   ]
  },
  {
   "cell_type": "markdown",
   "id": "bd65d24c",
   "metadata": {},
   "source": [
    "### Elbow Method (Inertia / SSE)"
   ]
  },
  {
   "cell_type": "code",
   "execution_count": null,
   "id": "7078b96f",
   "metadata": {},
   "outputs": [
    {
     "data": {
      "image/png": "[encoded data removed]",
      "text/plain": [
       "<Figure size 640x480 with 1 Axes>"
      ]
     },
     "metadata": {},
     "output_type": "display_data"
    }
   ],
   "source": [
    "inertias = []\n",
    "K_range  = range(2, 11)          #Testing from 2 to 10 clusters\n",
    "for k in K_range:\n",
    "    km = KMeans(n_clusters=k, random_state=42, n_init='auto')\n",
    "    km.fit(X_scaled)\n",
    "    inertias.append(km.inertia_)\n",
    "\n",
    "#Plotting the elbow method\n",
    "plt.figure()\n",
    "plt.plot(K_range, inertias, marker='o')\n",
    "plt.title(\"Elbow Method – SSE vs. k\")\n",
    "plt.xlabel(\"k (number of clusters)\")\n",
    "plt.ylabel(\"SSE / Inertia\")\n",
    "plt.show()"
   ]
  },
  {
   "cell_type": "markdown",
   "id": "921ceef9",
   "metadata": {},
   "source": [
    "Vemos que a partir de 4 clusters se aplana demasiado y eso significa que añadir mas clusters no nos va a reducir la SSE, no cogeremos mas de 4, pero vamos a hacer siluette para elejir el valor mas optimo 2, 3 o 4"
   ]
  },
  {
   "cell_type": "markdown",
   "id": "ea320439",
   "metadata": {},
   "source": [
    "### Silhouette Score"
   ]
  },
  {
   "cell_type": "code",
   "execution_count": null,
   "id": "7f10603b",
   "metadata": {},
   "outputs": [
    {
     "data": {
      "image/png": "[encoded data removed]",
      "text/plain": [
       "<Figure size 640x480 with 1 Axes>"
      ]
     },
     "metadata": {},
     "output_type": "display_data"
    },
    {
     "name": "stdout",
     "output_type": "stream",
     "text": [
      "    k  silhouette\n",
      "0   2    0.224566\n",
      "1   3    0.198020\n",
      "2   4    0.130003\n",
      "3   5    0.113846\n",
      "4   6    0.124178\n",
      "5   7    0.119000\n",
      "6   8    0.122291\n",
      "7   9    0.118516\n",
      "8  10    0.114497\n"
     ]
    }
   ],
   "source": [
    "#Computing silhouette scores for each k\n",
    "silh_scores = []\n",
    "for k in K_range:\n",
    "    km = KMeans(n_clusters=k, random_state=42, n_init='auto')\n",
    "    labels = km.fit_predict(X_scaled)\n",
    "    score = silhouette_score(X_scaled, labels)\n",
    "    silh_scores.append(score)\n",
    "\n",
    "#Plotting silhouette scores\n",
    "plt.figure()\n",
    "plt.plot(K_range, silh_scores, marker='o')\n",
    "plt.title(\"Silhouette Score vs. k\")\n",
    "plt.xlabel(\"k\")\n",
    "plt.ylabel(\"Silhouette\")\n",
    "plt.show()\n",
    "\n",
    "print(pd.DataFrame({'k': K_range, 'silhouette': silh_scores}))"
   ]
  },
  {
   "cell_type": "markdown",
   "id": "6f603182",
   "metadata": {},
   "source": [
    "The maximum silhouette score is at **k = 2** (≈ 0.22), with the second highest at **k = 3** (≈ 0.20). After that, the score drops below 0.15, indicating overlapping clusters.\n",
    "\n",
    "I choose **k = 2** and **k = 3** because the elbow method suggests selecting 2, 3, or 4 clusters, and the silhouette score points to 2 or 3. I'll try **k = 2** first, and then test **k = 3** to see if it improves the results.\n"
   ]
  },
  {
   "cell_type": "markdown",
   "id": "71a6a3e4",
   "metadata": {},
   "source": [
    "## K-Means"
   ]
  },
  {
   "cell_type": "markdown",
   "id": "339dd4a8",
   "metadata": {},
   "source": [
    "### k=2"
   ]
  },
  {
   "cell_type": "code",
   "execution_count": null,
   "id": "ab07500d",
   "metadata": {},
   "outputs": [
    {
     "data": {
      "text/html": [
       "<div>\n",
       "<style scoped>\n",
       "    .dataframe tbody tr th:only-of-type {\n",
       "        vertical-align: middle;\n",
       "    }\n",
       "\n",
       "    .dataframe tbody tr th {\n",
       "        vertical-align: top;\n",
       "    }\n",
       "\n",
       "    .dataframe thead th {\n",
       "        text-align: right;\n",
       "    }\n",
       "</style>\n",
       "<table border=\"1\" class=\"dataframe\">\n",
       "  <thead>\n",
       "    <tr style=\"text-align: right;\">\n",
       "      <th></th>\n",
       "      <th>n_customers</th>\n",
       "      <th>age_mean</th>\n",
       "      <th>clv_mean</th>\n",
       "      <th>num_accounts_mean</th>\n",
       "      <th>txn_count_mean</th>\n",
       "      <th>credit_util_mean</th>\n",
       "      <th>pct_female</th>\n",
       "    </tr>\n",
       "    <tr>\n",
       "      <th>cluster</th>\n",
       "      <th></th>\n",
       "      <th></th>\n",
       "      <th></th>\n",
       "      <th></th>\n",
       "      <th></th>\n",
       "      <th></th>\n",
       "      <th></th>\n",
       "    </tr>\n",
       "  </thead>\n",
       "  <tbody>\n",
       "    <tr>\n",
       "      <th>0</th>\n",
       "      <td>6839</td>\n",
       "      <td>53.05</td>\n",
       "      <td>19908.91</td>\n",
       "      <td>2.18</td>\n",
       "      <td>125.10</td>\n",
       "      <td>0.17</td>\n",
       "      <td>0.6</td>\n",
       "    </tr>\n",
       "    <tr>\n",
       "      <th>1</th>\n",
       "      <td>18161</td>\n",
       "      <td>52.80</td>\n",
       "      <td>20029.80</td>\n",
       "      <td>1.04</td>\n",
       "      <td>55.22</td>\n",
       "      <td>0.09</td>\n",
       "      <td>0.6</td>\n",
       "    </tr>\n",
       "  </tbody>\n",
       "</table>\n",
       "</div>"
      ],
      "text/plain": [
       "         n_customers  age_mean  clv_mean  num_accounts_mean  txn_count_mean  \\\n",
       "cluster                                                                       \n",
       "0               6839     53.05  19908.91               2.18          125.10   \n",
       "1              18161     52.80  20029.80               1.04           55.22   \n",
       "\n",
       "         credit_util_mean  pct_female  \n",
       "cluster                                \n",
       "0                    0.17         0.6  \n",
       "1                    0.09         0.6  "
      ]
     },
     "metadata": {},
     "output_type": "display_data"
    }
   ],
   "source": [
    "best_k = 2   # k value seleccion \n",
    "\n",
    "#Kmeans clustering         \n",
    "kmeans = KMeans(n_clusters=best_k, random_state=12, n_init='auto')\n",
    "data['cluster'] = kmeans.fit_predict(X_scaled)\n",
    "\n",
    "#Numeric summary of the clusters\n",
    "summary = (\n",
    "    data\n",
    "      .groupby('cluster')\n",
    "      .agg(\n",
    "          n_customers             = ('client_id', 'count'),\n",
    "          age_mean                = ('age', 'mean'),\n",
    "          clv_mean                = ('clv', 'mean'),\n",
    "          num_accounts_mean       = ('num_accounts', 'mean'),\n",
    "          txn_count_mean          = ('total_txn_count', 'mean'),\n",
    "          credit_util_mean        = ('credit_utilization', 'mean'),\n",
    "          pct_female              = ('gender_Male', lambda x: 1 - x.mean())  \n",
    "      )\n",
    "      .round(2)\n",
    ")\n",
    "display(summary)"
   ]
  },
  {
   "cell_type": "markdown",
   "id": "d30d6819",
   "metadata": {},
   "source": [
    "### k=3"
   ]
  },
  {
   "cell_type": "code",
   "execution_count": null,
   "id": "e8727a80",
   "metadata": {},
   "outputs": [
    {
     "data": {
      "text/html": [
       "<div>\n",
       "<style scoped>\n",
       "    .dataframe tbody tr th:only-of-type {\n",
       "        vertical-align: middle;\n",
       "    }\n",
       "\n",
       "    .dataframe tbody tr th {\n",
       "        vertical-align: top;\n",
       "    }\n",
       "\n",
       "    .dataframe thead th {\n",
       "        text-align: right;\n",
       "    }\n",
       "</style>\n",
       "<table border=\"1\" class=\"dataframe\">\n",
       "  <thead>\n",
       "    <tr style=\"text-align: right;\">\n",
       "      <th></th>\n",
       "      <th>n_customers</th>\n",
       "      <th>age_mean</th>\n",
       "      <th>clv_mean</th>\n",
       "      <th>num_accounts_mean</th>\n",
       "      <th>txn_count_mean</th>\n",
       "      <th>credit_util_mean</th>\n",
       "      <th>pct_female</th>\n",
       "    </tr>\n",
       "    <tr>\n",
       "      <th>cluster</th>\n",
       "      <th></th>\n",
       "      <th></th>\n",
       "      <th></th>\n",
       "      <th></th>\n",
       "      <th></th>\n",
       "      <th></th>\n",
       "      <th></th>\n",
       "    </tr>\n",
       "  </thead>\n",
       "  <tbody>\n",
       "    <tr>\n",
       "      <th>0</th>\n",
       "      <td>12930</td>\n",
       "      <td>52.85</td>\n",
       "      <td>20045.26</td>\n",
       "      <td>1.04</td>\n",
       "      <td>55.52</td>\n",
       "      <td>0.01</td>\n",
       "      <td>0.61</td>\n",
       "    </tr>\n",
       "    <tr>\n",
       "      <th>1</th>\n",
       "      <td>5718</td>\n",
       "      <td>52.68</td>\n",
       "      <td>20015.02</td>\n",
       "      <td>1.11</td>\n",
       "      <td>57.34</td>\n",
       "      <td>0.29</td>\n",
       "      <td>0.59</td>\n",
       "    </tr>\n",
       "    <tr>\n",
       "      <th>2</th>\n",
       "      <td>6352</td>\n",
       "      <td>53.09</td>\n",
       "      <td>19881.46</td>\n",
       "      <td>2.20</td>\n",
       "      <td>127.94</td>\n",
       "      <td>0.16</td>\n",
       "      <td>0.60</td>\n",
       "    </tr>\n",
       "  </tbody>\n",
       "</table>\n",
       "</div>"
      ],
      "text/plain": [
       "         n_customers  age_mean  clv_mean  num_accounts_mean  txn_count_mean  \\\n",
       "cluster                                                                       \n",
       "0              12930     52.85  20045.26               1.04           55.52   \n",
       "1               5718     52.68  20015.02               1.11           57.34   \n",
       "2               6352     53.09  19881.46               2.20          127.94   \n",
       "\n",
       "         credit_util_mean  pct_female  \n",
       "cluster                                \n",
       "0                    0.01        0.61  \n",
       "1                    0.29        0.59  \n",
       "2                    0.16        0.60  "
      ]
     },
     "metadata": {},
     "output_type": "display_data"
    }
   ],
   "source": [
    "best_k = 3     # k value seleccion\n",
    "\n",
    "#Kmeans clustering  \n",
    "kmeans2 = KMeans(n_clusters=best_k, random_state=12, n_init='auto')\n",
    "data['cluster'] = kmeans2.fit_predict(X_scaled)\n",
    "\n",
    "#Numeric summary of the clusters\n",
    "summary2 = (\n",
    "    data\n",
    "      .groupby('cluster')\n",
    "      .agg(\n",
    "          n_customers             = ('client_id', 'count'),\n",
    "          age_mean                = ('age', 'mean'),\n",
    "          clv_mean                = ('clv', 'mean'),\n",
    "          num_accounts_mean       = ('num_accounts', 'mean'),\n",
    "          txn_count_mean          = ('total_txn_count', 'mean'),\n",
    "          credit_util_mean        = ('credit_utilization', 'mean'),\n",
    "          pct_female              = ('gender_Male', lambda x: 1 - x.mean())  \n",
    "      )\n",
    "      .round(2)\n",
    ")\n",
    "display(summary2)"
   ]
  },
  {
   "cell_type": "markdown",
   "id": "5e8aceeb",
   "metadata": {},
   "source": [
    "### First conclusions"
   ]
  },
  {
   "cell_type": "markdown",
   "id": "0ba08a92",
   "metadata": {},
   "source": [
    "**k = 2**: essentially separates **\"active clients with more products\"** from **\"less active clients\"**.\n",
    "\n",
    "**k = 3**: further distinguishes those who heavily use their credit line (**cluster 1**); it leaves one **multi-product, highly active cluster** (**cluster 2**) and one **low-activity cluster** (**cluster 0**).\n",
    "\n",
    "We select the **k=3**, because we need **more than 2 only groups**."
   ]
  },
  {
   "cell_type": "markdown",
   "id": "6efc65a4",
   "metadata": {},
   "source": [
    "### Test with k=4"
   ]
  },
  {
   "cell_type": "markdown",
   "id": "f1ec80bc",
   "metadata": {},
   "source": [
    "I try with k=4 to have more groups to recomend diferent products."
   ]
  },
  {
   "cell_type": "code",
   "execution_count": null,
   "id": "7e0c8fc0",
   "metadata": {},
   "outputs": [
    {
     "data": {
      "text/html": [
       "<div>\n",
       "<style scoped>\n",
       "    .dataframe tbody tr th:only-of-type {\n",
       "        vertical-align: middle;\n",
       "    }\n",
       "\n",
       "    .dataframe tbody tr th {\n",
       "        vertical-align: top;\n",
       "    }\n",
       "\n",
       "    .dataframe thead th {\n",
       "        text-align: right;\n",
       "    }\n",
       "</style>\n",
       "<table border=\"1\" class=\"dataframe\">\n",
       "  <thead>\n",
       "    <tr style=\"text-align: right;\">\n",
       "      <th></th>\n",
       "      <th>n_customers</th>\n",
       "      <th>age_mean</th>\n",
       "      <th>clv_mean</th>\n",
       "      <th>num_accounts_mean</th>\n",
       "      <th>txn_count_mean</th>\n",
       "      <th>credit_util_mean</th>\n",
       "      <th>pct_female</th>\n",
       "    </tr>\n",
       "    <tr>\n",
       "      <th>cluster</th>\n",
       "      <th></th>\n",
       "      <th></th>\n",
       "      <th></th>\n",
       "      <th></th>\n",
       "      <th></th>\n",
       "      <th></th>\n",
       "      <th></th>\n",
       "    </tr>\n",
       "  </thead>\n",
       "  <tbody>\n",
       "    <tr>\n",
       "      <th>0</th>\n",
       "      <td>8116</td>\n",
       "      <td>52.41</td>\n",
       "      <td>19906.31</td>\n",
       "      <td>1.05</td>\n",
       "      <td>58.14</td>\n",
       "      <td>0.02</td>\n",
       "      <td>0.60</td>\n",
       "    </tr>\n",
       "    <tr>\n",
       "      <th>1</th>\n",
       "      <td>5046</td>\n",
       "      <td>52.57</td>\n",
       "      <td>20135.94</td>\n",
       "      <td>1.12</td>\n",
       "      <td>59.76</td>\n",
       "      <td>0.28</td>\n",
       "      <td>0.60</td>\n",
       "    </tr>\n",
       "    <tr>\n",
       "      <th>2</th>\n",
       "      <td>6249</td>\n",
       "      <td>53.07</td>\n",
       "      <td>19888.34</td>\n",
       "      <td>2.20</td>\n",
       "      <td>128.57</td>\n",
       "      <td>0.17</td>\n",
       "      <td>0.60</td>\n",
       "    </tr>\n",
       "    <tr>\n",
       "      <th>3</th>\n",
       "      <td>5589</td>\n",
       "      <td>53.59</td>\n",
       "      <td>20123.51</td>\n",
       "      <td>1.05</td>\n",
       "      <td>50.36</td>\n",
       "      <td>0.04</td>\n",
       "      <td>0.61</td>\n",
       "    </tr>\n",
       "  </tbody>\n",
       "</table>\n",
       "</div>"
      ],
      "text/plain": [
       "         n_customers  age_mean  clv_mean  num_accounts_mean  txn_count_mean  \\\n",
       "cluster                                                                       \n",
       "0               8116     52.41  19906.31               1.05           58.14   \n",
       "1               5046     52.57  20135.94               1.12           59.76   \n",
       "2               6249     53.07  19888.34               2.20          128.57   \n",
       "3               5589     53.59  20123.51               1.05           50.36   \n",
       "\n",
       "         credit_util_mean  pct_female  \n",
       "cluster                                \n",
       "0                    0.02        0.60  \n",
       "1                    0.28        0.60  \n",
       "2                    0.17        0.60  \n",
       "3                    0.04        0.61  "
      ]
     },
     "metadata": {},
     "output_type": "display_data"
    }
   ],
   "source": [
    "best_k = 4        # k value seleccion\n",
    "\n",
    "#Kmeans clustering   \n",
    "kmeans3 = KMeans(n_clusters=best_k, random_state=12, n_init='auto')\n",
    "data['cluster'] = kmeans3.fit_predict(X_scaled)\n",
    "\n",
    "# Numeric summary of the clusters\n",
    "summary3 = (\n",
    "    data\n",
    "      .groupby('cluster')\n",
    "      .agg(\n",
    "          n_customers             = ('client_id', 'count'),\n",
    "          age_mean                = ('age', 'mean'),\n",
    "          clv_mean                = ('clv', 'mean'),\n",
    "          num_accounts_mean       = ('num_accounts', 'mean'),\n",
    "          txn_count_mean          = ('total_txn_count', 'mean'),\n",
    "          credit_util_mean        = ('credit_utilization', 'mean'),\n",
    "          pct_female              = ('gender_Male', lambda x: 1 - x.mean())  \n",
    "      )\n",
    "      .round(2)\n",
    ")\n",
    "display(summary3)"
   ]
  },
  {
   "cell_type": "markdown",
   "id": "fb7227ff",
   "metadata": {},
   "source": [
    "### Final conclusions"
   ]
  },
  {
   "cell_type": "markdown",
   "id": "f000f6aa",
   "metadata": {},
   "source": [
    "This model is more useful for **marketing purposes**, but if we want to be more specific, we should avoid using more than **3 clusters**. \n",
    "\n",
    "Since the bank’s goal is to use this model for **product recommendations**, and we want to **avoid bothering clients** who are not part of the product's target group, we decide to go with **3 clusters**, the middle point.\n"
   ]
  },
  {
   "cell_type": "markdown",
   "id": "ab8a1386",
   "metadata": {},
   "source": [
    "### How to Act on Each Segment (`k = 3`)\n",
    "\n",
    "| Segment                                 | Key Findings                                                                       | Product / Offer Strategy                                                                                                                                                |\n",
    "| --------------------------------------- | ---------------------------------------------------------------------------------- | ----------------------------------------------------------------------------------------------------------------------------------------------------------------------- |\n",
    "| **Low-Engage**<br>(cluster 0)           | - 1 account<br>- 55 tx/year<br>- Credit utilization ≈ 0 %                          | **Activation & basic cross-sell**<br>• No-fee debit/credit card offers<br>• Cash-back on the first 3 purchases<br>• Digital-banking reminders                           |\n",
    "| **High-Credit-Use**<br>(cluster 1)      | - 1 account<br>- Credit utilization ≈ 29 %<br>- CLV near average                   | **Financing & risk-controlled products**<br>• Responsible credit-limit increase<br>• Pre-approved personal loans<br>• Financial-health alerts (avoid over-indebtedness) |\n",
    "| **Multi-Product-Active**<br>(cluster 2) | - ≥ 2 accounts<br>- 128 tx/year<br>- Credit utilization ≈ 17 %<br>- Core customers | **Premium / wealth up-sell**<br>• Interest-bearing or investment accounts<br>• Insurance and pension planning<br>• Loyalty perks (VIP cash-back, dedicated advisor)     |\n",
    "\n",
    "> **tx/year** = transactions per year.\n"
   ]
  }
 ],
 "metadata": {
  "kernelspec": {
   "display_name": "base",
   "language": "python",
   "name": "python3"
  },
  "language_info": {
   "codemirror_mode": {
    "name": "ipython",
    "version": 3
   },
   "file_extension": ".py",
   "mimetype": "text/x-python",
   "name": "python",
   "nbconvert_exporter": "python",
   "pygments_lexer": "ipython3",
   "version": "3.11.7"
  }
 },
 "nbformat": 4,
 "nbformat_minor": 5
}
